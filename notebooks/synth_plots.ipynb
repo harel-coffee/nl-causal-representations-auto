{
 "cells": [
  {
   "cell_type": "code",
   "execution_count": 1,
   "metadata": {
    "pycharm": {
     "name": "#%%\n"
    }
   },
   "outputs": [],
   "source": [
    "# imports\n",
    "from tueplots import bundles\n",
    "import wandb\n",
    "import pandas as pd\n",
    "import numpy as np\n",
    "import matplotlib.pyplot as plt\n",
    "from matplotlib.ticker import MultipleLocator, FormatStrFormatter\n",
    "from tueplots  import figsizes\n",
    "\n",
    "import sys\n",
    "\n",
    "%load_ext autoreload\n",
    "%autoreload 2\n",
    "\n",
    "sys.path.insert(0, '.')"
   ]
  },
  {
   "cell_type": "code",
   "execution_count": 15,
   "outputs": [],
   "source": [
    "from analysis import sweep2df, format_violin, RED, BLUE\n",
    "from care_nl_ica.models.sinkhorn import learn_permutation"
   ],
   "metadata": {
    "collapsed": false,
    "pycharm": {
     "name": "#%%\n"
    }
   }
  },
  {
   "cell_type": "code",
   "execution_count": 3,
   "outputs": [
    {
     "name": "stderr",
     "output_type": "stream",
     "text": [
      "/Library/Developer/CommandLineTools/Library/Frameworks/Python3.framework/Versions/3.8/lib/python3.8/_collections_abc.py:834: MatplotlibDeprecationWarning: Support for setting the 'text.latex.preamble' or 'pgf.preamble' rcParam to a list of strings is deprecated since 3.3 and will be removed two minor releases later; set it to a single string instead.\n",
      "  self[key] = other[key]\n"
     ]
    }
   ],
   "source": [
    "plt.rcParams.update(bundles.neurips2022(usetex=True))\n",
    "plt.rcParams.update({\n",
    "    'text.latex.preamble': [r'\\usepackage{amsfonts}', # mathbb\n",
    "                            r'\\usepackage{amsmath}'] # boldsymbol\n",
    "})"
   ],
   "metadata": {
    "collapsed": false,
    "pycharm": {
     "name": "#%%\n"
    }
   }
  },
  {
   "cell_type": "code",
   "execution_count": 41,
   "metadata": {
    "pycharm": {
     "name": "#%%\n"
    }
   },
   "outputs": [],
   "source": [
    "# Constants\n",
    "ENTITY = \"causal-representation-learning\"\n",
    "PROJECT = \"nl-causal-representations\"\n",
    "\n",
    "# W&B API\n",
    "api = wandb.Api(timeout=200)\n",
    "runs = api.runs(ENTITY + \"/\" + PROJECT)"
   ]
  },
  {
   "cell_type": "markdown",
   "source": [
    "# Data loading"
   ],
   "metadata": {
    "collapsed": false,
    "pycharm": {
     "name": "#%% md\n"
    }
   }
  },
  {
   "cell_type": "code",
   "execution_count": 33,
   "outputs": [
    {
     "data": {
      "text/plain": "array([[ 1.93882871,  1.40007854,  1.50939941, -1.52444494,  0.01124954,\n         0.00467368,  1.57117176,  1.79014182, -0.01026418]])"
     },
     "execution_count": 33,
     "metadata": {},
     "output_type": "execute_result"
    }
   ],
   "source": [
    "\n",
    "SWEEP_ID = \"vfv1je0d\"\n",
    "sweep = api.sweep(f\"{ENTITY}/{PROJECT}/{SWEEP_ID}\")\n",
    "sweep.runs[59].logged_artifacts()[0].get(\"dep_mat_table\").get_column(\"dep_mat\", \"numpy\")#.use_artifact(\"dep_mat_table\")\n",
    "# artifact = run.use_artifact('causal-representation-learning/experiment/run-iczvn8od-dep_mat_table:v0', type='run_table')\n",
    "# artifact.get(\"dep_mat_table\")"
   ],
   "metadata": {
    "collapsed": false,
    "pycharm": {
     "name": "#%%\n"
    }
   }
  },
  {
   "cell_type": "code",
   "execution_count": 11,
   "metadata": {
    "pycharm": {
     "name": "#%%\n"
    }
   },
   "outputs": [
    {
     "name": "stdout",
     "output_type": "stream",
     "text": [
      "Loading sweep with SWEEP_ID='gz1yqsuk'\n",
      "Loading sweep with SWEEP_ID='5gzpzb23'\n"
     ]
    }
   ],
   "source": [
    "SWEEP_ID = \"gz1yqsuk\"\n",
    "sweep = api.sweep(f\"{ENTITY}/{PROJECT}/{SWEEP_ID}\")\n",
    "filename = f\"sem_sweep_{SWEEP_ID}\"\n",
    "print(f\"Loading sweep with {SWEEP_ID=}\")\n",
    "df1, (true_unmix_jacobians1, est_unmix_jacobians1, permute_indices1) = sweep2df(sweep.runs, filename, save=True, load=True)\n",
    "\n",
    "SWEEP_ID = \"5gzpzb23\"\n",
    "sweep = api.sweep(f\"{ENTITY}/{PROJECT}/{SWEEP_ID}\")\n",
    "filename = f\"sem_sweep_{SWEEP_ID}\"\n",
    "print(f\"Loading sweep with {SWEEP_ID=}\")\n",
    "df2, (true_unmix_jacobians2, est_unmix_jacobians2, permute_indices2) = sweep2df(sweep.runs, filename, save=True, load=True)\n",
    "\n",
    "df = df1.append(df2)\n",
    "true_unmix_jacobians = true_unmix_jacobians1 +true_unmix_jacobians2\n",
    "est_unmix_jacobians = est_unmix_jacobians1+est_unmix_jacobians2\n",
    "permute_indices = permute_indices1+permute_indices2"
   ]
  },
  {
   "cell_type": "markdown",
   "source": [
    "## 3D SEM"
   ],
   "metadata": {
    "collapsed": false,
    "pycharm": {
     "name": "#%% md\n"
    }
   }
  },
  {
   "cell_type": "code",
   "execution_count": 42,
   "outputs": [
    {
     "name": "stdout",
     "output_type": "stream",
     "text": [
      "Loading sweep with SWEEP_ID='vfv1je0d'\n",
      "False\n"
     ]
    }
   ],
   "source": [
    "\n",
    "SWEEP_ID = \"vfv1je0d\" #\"nz4r5d8a\"\n",
    "sweep = api.sweep(f\"{ENTITY}/{PROJECT}/{SWEEP_ID}\")\n",
    "filename = f\"sem_3d_sweep_{SWEEP_ID}\"\n",
    "df3d, (true_unmix_jacobians3d, est_unmix_jacobians3d, permute_indices3d) = sweep2df(sweep.runs, filename, save=True, load=False)"
   ],
   "metadata": {
    "collapsed": false,
    "pycharm": {
     "name": "#%%\n"
    }
   }
  },
  {
   "cell_type": "markdown",
   "source": [
    "## 5D SEM"
   ],
   "metadata": {
    "collapsed": false,
    "pycharm": {
     "name": "#%% md\n"
    }
   }
  },
  {
   "cell_type": "markdown",
   "source": [
    "## 8D SEM"
   ],
   "metadata": {
    "collapsed": false,
    "pycharm": {
     "name": "#%% md\n"
    }
   }
  },
  {
   "cell_type": "markdown",
   "source": [
    "## 10D SEM"
   ],
   "metadata": {
    "collapsed": false,
    "pycharm": {
     "name": "#%% md\n"
    }
   }
  },
  {
   "cell_type": "markdown",
   "source": [
    "## MLP from Monti et al."
   ],
   "metadata": {
    "collapsed": false,
    "pycharm": {
     "name": "#%% md\n"
    }
   }
  },
  {
   "cell_type": "code",
   "execution_count": 45,
   "outputs": [
    {
     "name": "stderr",
     "output_type": "stream",
     "text": [
      "/Users/patrik.reizinger/Documents/GitHub/nl-causal-representations/venv/lib/python3.8/site-packages/numpy/core/_asarray.py:136: VisibleDeprecationWarning: Creating an ndarray from ragged nested sequences (which is a list-or-tuple of lists-or-tuples-or ndarrays with different lengths or shapes) is deprecated. If you meant to do this, you must specify 'dtype=object' when creating the ndarray\n",
      "  return array(a, dtype, copy=False, order=order, subok=True)\n"
     ]
    }
   ],
   "source": [
    "SWEEP_ID = \"fhaza97x\"\n",
    "sweep = api.sweep(f\"{ENTITY}/{PROJECT}/{SWEEP_ID}\")\n",
    "filename = f\"monti_sweep_{SWEEP_ID}\"\n",
    "df_monti, (true_unmix_jacobians_monti, est_unmix_jacobians_monti, permute_indices_monti) = sweep2df(sweep.runs, filename, save=True, load=True)"
   ],
   "metadata": {
    "collapsed": false,
    "pycharm": {
     "name": "#%%\n"
    }
   }
  },
  {
   "cell_type": "markdown",
   "source": [
    "# Pre-processing"
   ],
   "metadata": {
    "collapsed": false,
    "pycharm": {
     "name": "#%% md\n"
    }
   }
  },
  {
   "cell_type": "code",
   "execution_count": 70,
   "outputs": [],
   "source": [
    "def learning_stats(df, true_unmix_jacobians, est_unmix_jacobians, permute_indices):\n",
    "    for dim in df.dim.unique():\n",
    "        for nl in [False, True]:\n",
    "            success = []\n",
    "            for (nl_sem, j_gt, j_est, permute) in zip(df.nonlin_sem, true_unmix_jacobians, est_unmix_jacobians, permute_indices):\n",
    "                if j_gt.shape[0] == dim and nl_sem is nl:\n",
    "                    success.append(learn_permutation(j_gt, j_est, permute, triu_weigth=20., tril_weight=10.,diag_weight=6., num_steps=5000, lr=1e-4, verbose=True,drop_smallest=True, threshold=None, binary=True))\n",
    "\n",
    "            mcc = df.mcc[df.dim ==dim]\n",
    "            print(\"----------------------------------\")\n",
    "            print(\"----------------------------------\")\n",
    "            print(f\"{dim=} ({'linear' if nl is False else 'nonlinear'})\\tMCC={mcc.mean():.3f}+{mcc.std():.3f}\\tAcc:{np.array(success).mean()}\\t [{len(mcc)} items]\")\n",
    "            print(\"----------------------------------\")\n",
    "            print(\"----------------------------------\")"
   ],
   "metadata": {
    "collapsed": false,
    "pycharm": {
     "name": "#%%\n"
    }
   }
  },
  {
   "cell_type": "markdown",
   "source": [
    "## 3D SEM"
   ],
   "metadata": {
    "collapsed": false,
    "pycharm": {
     "name": "#%% md\n"
    }
   }
  },
  {
   "cell_type": "code",
   "execution_count": 71,
   "outputs": [
    {
     "name": "stdout",
     "output_type": "stream",
     "text": [
      "Correct order identified\n",
      "Correct order identified\n",
      "Correct order identified\n",
      "Correct order identified\n",
      "Correct order identified\n",
      "Correct order identified\n",
      "Correct order identified\n",
      "Correct order identified\n",
      "Correct order identified\n",
      "Correct order identified\n",
      "Correct order identified\n",
      "----------------------------------\n",
      "----------------------------------\n",
      "dim=3 (linear)\tMCC=1.000+0.000\tAcc:1.0\t [21 items]\n",
      "----------------------------------\n",
      "----------------------------------\n",
      "Correct order identified\n",
      "Correct order identified\n",
      "Correct order identified\n",
      "Correct order identified\n",
      "Correct order identified\n",
      "Correct order identified\n",
      "Correct order identified\n",
      "Correct order identified\n",
      "Correct order identified\n",
      "Correct order identified\n",
      "----------------------------------\n",
      "----------------------------------\n",
      "dim=3 (nonlinear)\tMCC=1.000+0.000\tAcc:1.0\t [21 items]\n",
      "----------------------------------\n",
      "----------------------------------\n"
     ]
    }
   ],
   "source": [
    "learning_stats(df3d, true_unmix_jacobians3d, est_unmix_jacobians3d, permute_indices3d)"
   ],
   "metadata": {
    "collapsed": false,
    "pycharm": {
     "name": "#%%\n"
    }
   }
  },
  {
   "cell_type": "markdown",
   "source": [
    "## 5D SEM"
   ],
   "metadata": {
    "collapsed": false,
    "pycharm": {
     "name": "#%% md\n"
    }
   }
  },
  {
   "cell_type": "code",
   "execution_count": null,
   "outputs": [],
   "source": [],
   "metadata": {
    "collapsed": false,
    "pycharm": {
     "name": "#%%\n"
    }
   }
  },
  {
   "cell_type": "markdown",
   "source": [
    "## 8D SEM"
   ],
   "metadata": {
    "collapsed": false,
    "pycharm": {
     "name": "#%% md\n"
    }
   }
  },
  {
   "cell_type": "code",
   "execution_count": null,
   "outputs": [],
   "source": [],
   "metadata": {
    "collapsed": false,
    "pycharm": {
     "name": "#%%\n"
    }
   }
  },
  {
   "cell_type": "markdown",
   "source": [
    "## 10D SEM"
   ],
   "metadata": {
    "collapsed": false,
    "pycharm": {
     "name": "#%% md\n"
    }
   }
  },
  {
   "cell_type": "code",
   "execution_count": null,
   "outputs": [],
   "source": [],
   "metadata": {
    "collapsed": false,
    "pycharm": {
     "name": "#%%\n"
    }
   }
  },
  {
   "cell_type": "markdown",
   "source": [
    "## MLP from Monti et al."
   ],
   "metadata": {
    "collapsed": false,
    "pycharm": {
     "name": "#%% md\n"
    }
   }
  },
  {
   "cell_type": "code",
   "execution_count": 48,
   "outputs": [
    {
     "name": "stdout",
     "output_type": "stream",
     "text": [
      "Correct order identified\n",
      "Correct order identified\n",
      "Correct order identified\n",
      "----------------------------------\n",
      "true_jac=array([[ 1.66666043,  0.        ,  0.        ],\n",
      "       [-0.2903353 , -1.04302919,  0.        ],\n",
      "       [ 2.087991  , -0.02195095, -1.60597241]])\n",
      "est_jac=tensor([[1., 0., 1.],\n",
      "        [1., 0., 1.],\n",
      "        [1., 1., 0.]])\n",
      "tensor([[1.0000e+00, 6.2162e-01, 9.6443e-08],\n",
      "        [1.0000e+00, 6.2162e-01, 6.0967e-08],\n",
      "        [3.0553e-01, 1.0000e+00, 1.0000e+00]])\n",
      "S_DAG=tensor([[3.0553e-01, 6.2162e-01, 5.9031e-08],\n",
      "        [1.0938e-18, 3.7838e-01, 1.0000e+00],\n",
      "        [6.9447e-01, 4.1471e-09, 3.7430e-10]])\n",
      "S_ICA=tensor([[5.0000e-01, 5.0000e-01, 3.7038e-08],\n",
      "        [5.0000e-01, 5.0000e-01, 1.5619e-09],\n",
      "        [3.0206e-08, 3.0206e-08, 1.0000e+00]])\n",
      "----------------------------------\n",
      "----------------------------------\n",
      "Success ratio:0.75\n",
      "----------------------------------\n",
      "----------------------------------\n"
     ]
    }
   ],
   "source": [
    "success = []\n",
    "for (mcc, j_gt, j_est, permute) in zip(df_monti.mcc, true_unmix_jacobians_monti, est_unmix_jacobians_monti, permute_indices_monti):\n",
    "    if mcc > .95:\n",
    "        success.append(learn_permutation(j_gt, j_est, permute, triu_weigth=20., tril_weight=10.,diag_weight=6., num_steps=5000, lr=1e-4, verbose=True, drop_smallest=True, threshold=None,binary=True))\n",
    "\n",
    "print(\"----------------------------------\")\n",
    "print(\"----------------------------------\")\n",
    "print(f\"Success ratio:{np.array(success).mean()}\")\n",
    "print(\"----------------------------------\")\n",
    "print(\"----------------------------------\")"
   ],
   "metadata": {
    "collapsed": false,
    "pycharm": {
     "name": "#%%\n"
    }
   }
  }
 ],
 "metadata": {
  "kernelspec": {
   "display_name": "Python 3 (ipykernel)",
   "language": "python",
   "name": "python3"
  },
  "language_info": {
   "codemirror_mode": {
    "name": "ipython",
    "version": 3
   },
   "file_extension": ".py",
   "mimetype": "text/x-python",
   "name": "python",
   "nbconvert_exporter": "python",
   "pygments_lexer": "ipython3",
   "version": "3.9.6"
  }
 },
 "nbformat": 4,
 "nbformat_minor": 1
}