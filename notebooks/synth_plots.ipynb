{
 "cells": [
  {
   "cell_type": "markdown",
   "source": [
    "# Imports"
   ],
   "metadata": {
    "collapsed": false
   }
  },
  {
   "cell_type": "code",
   "execution_count": 1,
   "metadata": {},
   "outputs": [],
   "source": [
    "# imports\n",
    "import numpy as np\n",
    "import torch\n",
    "from tueplots import bundles, figsizes\n",
    "import wandb\n",
    "import matplotlib.pyplot as plt\n",
    "\n",
    "import sys\n",
    "\n",
    "%load_ext autoreload\n",
    "%autoreload 2\n",
    "\n",
    "sys.path.insert(0, '.')"
   ]
  },
  {
   "cell_type": "code",
   "execution_count": 4,
   "outputs": [],
   "source": [
    "from analysis import sweep2df, learning_stats,corrected_jacobian_stats, RED, BLUE\n"
   ],
   "metadata": {
    "collapsed": false
   }
  },
  {
   "cell_type": "code",
   "execution_count": 5,
   "outputs": [
    {
     "name": "stderr",
     "output_type": "stream",
     "text": [
      "/Library/Developer/CommandLineTools/Library/Frameworks/Python3.framework/Versions/3.8/lib/python3.8/_collections_abc.py:834: MatplotlibDeprecationWarning: Support for setting the 'text.latex.preamble' or 'pgf.preamble' rcParam to a list of strings is deprecated since 3.3 and will be removed two minor releases later; set it to a single string instead.\n",
      "  self[key] = other[key]\n"
     ]
    }
   ],
   "source": [
    "plt.rcParams.update(bundles.neurips2022(usetex=True))\n",
    "plt.rcParams.update({\n",
    "    'text.latex.preamble': [r'\\usepackage{amsfonts}', # mathbb\n",
    "                            r'\\usepackage{amsmath}'] # boldsymbol\n",
    "})"
   ],
   "metadata": {
    "collapsed": false
   }
  },
  {
   "cell_type": "code",
   "execution_count": 6,
   "metadata": {},
   "outputs": [],
   "source": [
    "# Constants\n",
    "ENTITY = \"causal-representation-learning\"\n",
    "PROJECT = \"nl-causal-representations\"\n",
    "\n",
    "# W&B API\n",
    "api = wandb.Api(timeout=200)\n",
    "runs = api.runs(ENTITY + \"/\" + PROJECT)"
   ]
  },
  {
   "cell_type": "markdown",
   "source": [
    "# Data loading"
   ],
   "metadata": {
    "collapsed": false
   }
  },
  {
   "cell_type": "markdown",
   "source": [
    "## 3D SEM"
   ],
   "metadata": {
    "collapsed": false
   }
  },
  {
   "cell_type": "code",
   "execution_count": 7,
   "outputs": [],
   "source": [
    "SWEEP_ID = \"9b8ibcef\"\n",
    "sweep = api.sweep(f\"{ENTITY}/{PROJECT}/{SWEEP_ID}\")\n",
    "filename = f\"sem_3d_munkres_sweep_{SWEEP_ID}\"\n",
    "df3d, (true_unmix_jacobians3d, est_unmix_jacobians3d, permute_indices3d, hsic_adj3d, ica_permute3d) = sweep2df(sweep.runs, filename, save=True, load=False)"
   ],
   "metadata": {
    "collapsed": false
   }
  },
  {
   "cell_type": "code",
   "execution_count": 8,
   "outputs": [
    {
     "name": "stdout",
     "output_type": "stream",
     "text": [
      "Encountered a faulty run with ID kind-sweep-54\n"
     ]
    }
   ],
   "source": [
    "SWEEP_ID = \"f6c2fdfr\"\n",
    "sweep = api.sweep(f\"{ENTITY}/{PROJECT}/{SWEEP_ID}\")\n",
    "filename = f\"sem_3d_permute_sweep_{SWEEP_ID}\"\n",
    "df3d_permute, (true_unmix_jacobians3d_permute, est_unmix_jacobians3d_permute, permute_indices3d_permute, hsic_adj3d_permute, ica_permute3d_permute) = sweep2df(sweep.runs, filename, save=True, load=False)"
   ],
   "metadata": {
    "collapsed": false
   }
  },
  {
   "cell_type": "code",
   "execution_count": 44,
   "outputs": [
    {
     "name": "stdout",
     "output_type": "stream",
     "text": [
      "\t Loading sem_3d_sparse_sweep_e0swc99a...\n"
     ]
    }
   ],
   "source": [
    "SWEEP_ID = \"e0swc99a\"\n",
    "sweep = api.sweep(f\"{ENTITY}/{PROJECT}/{SWEEP_ID}\")\n",
    "filename = f\"sem_3d_sparse_sweep_{SWEEP_ID}\"\n",
    "df3d_sparse, (true_unmix_jacobians3d_sparse, est_unmix_jacobians3d_sparse, permute_indices3d_sparse, hsic_adj3d_sparse, ica_permute3d_sparse) = sweep2df(sweep.runs, filename, save=True, load=True)"
   ],
   "metadata": {
    "collapsed": false
   }
  },
  {
   "cell_type": "markdown",
   "source": [
    "## 5D SEM"
   ],
   "metadata": {
    "collapsed": false
   }
  },
  {
   "cell_type": "code",
   "execution_count": 18,
   "outputs": [],
   "source": [
    "SWEEP_ID = \"tzigp5kf\"\n",
    "sweep = api.sweep(f\"{ENTITY}/{PROJECT}/{SWEEP_ID}\")\n",
    "filename = f\"sem_5d_munkres_sweep_{SWEEP_ID}\"\n",
    "df5d, (true_unmix_jacobians5d, est_unmix_jacobians5d, permute_indices5d, hsic_adj5d, ica_permute5d) = sweep2df(sweep.runs, filename, save=True, load=False)"
   ],
   "metadata": {
    "collapsed": false
   }
  },
  {
   "cell_type": "code",
   "execution_count": 19,
   "outputs": [
    {
     "name": "stdout",
     "output_type": "stream",
     "text": [
      "Encountered a faulty run with ID gentle-sweep-19\n",
      "Encountered a faulty run with ID dauntless-sweep-14\n"
     ]
    }
   ],
   "source": [
    "SWEEP_ID = \"6cqs4k9t\"\n",
    "sweep = api.sweep(f\"{ENTITY}/{PROJECT}/{SWEEP_ID}\")\n",
    "filename = f\"sem_5d_permute_sweep_{SWEEP_ID}\"\n",
    "df5d_permute, (true_unmix_jacobians5d_permute, est_unmix_jacobians5d_permute, permute_indices5d_permute, hsic_adj5d_permute, ica_permute5d_permute) = sweep2df(sweep.runs, filename, save=True, load=False)"
   ],
   "metadata": {
    "collapsed": false
   }
  },
  {
   "cell_type": "code",
   "execution_count": 20,
   "outputs": [
    {
     "name": "stdout",
     "output_type": "stream",
     "text": [
      "Encountered a faulty run with ID dulcet-sweep-18\n"
     ]
    }
   ],
   "source": [
    "SWEEP_ID = \"l9wisrgk\"\n",
    "sweep = api.sweep(f\"{ENTITY}/{PROJECT}/{SWEEP_ID}\")\n",
    "filename = f\"sem_5d_sparse_sweep_{SWEEP_ID}\"\n",
    "df5d_sparse, (true_unmix_jacobians5d_sparse, est_unmix_jacobians5d_sparse, permute_indices5d_sparse,hsic_adj5d_sparse, ica_permute5d_sparse) = sweep2df(sweep.runs, filename, save=True, load=False)"
   ],
   "metadata": {
    "collapsed": false
   }
  },
  {
   "cell_type": "markdown",
   "source": [
    "## 8D SEM"
   ],
   "metadata": {
    "collapsed": false
   }
  },
  {
   "cell_type": "code",
   "execution_count": null,
   "outputs": [],
   "source": [
    "SWEEP_ID = \"v2du3d05\"\n",
    "sweep = api.sweep(f\"{ENTITY}/{PROJECT}/{SWEEP_ID}\")\n",
    "filename = f\"sem_8d_munkres_sweep_{SWEEP_ID}\"\n",
    "df8d, (true_unmix_jacobians8d, est_unmix_jacobians8d, permute_indices8d, hsic_adj8d, ica_permute8d) = sweep2df(sweep.runs, filename, save=True, load=False)"
   ],
   "metadata": {
    "collapsed": false,
    "pycharm": {
     "is_executing": true
    }
   }
  },
  {
   "cell_type": "code",
   "execution_count": null,
   "outputs": [],
   "source": [
    "SWEEP_ID = \"si6590ko\"\n",
    "sweep = api.sweep(f\"{ENTITY}/{PROJECT}/{SWEEP_ID}\")\n",
    "filename = f\"sem_8d_permute_sweep_{SWEEP_ID}\"\n",
    "df8d_permute, (true_unmix_jacobians8d_permute, est_unmix_jacobians8d_permute, permute_indices8d_permute, hsic_adj8d_permute, ica_permute8d_permute) = sweep2df(sweep.runs, filename, save=True, load=True)"
   ],
   "metadata": {
    "collapsed": false,
    "pycharm": {
     "is_executing": true
    }
   }
  },
  {
   "cell_type": "code",
   "execution_count": 50,
   "outputs": [
    {
     "name": "stdout",
     "output_type": "stream",
     "text": [
      "\t Loading sem_8d_sparse_sweep_7asi8ixl...\n"
     ]
    }
   ],
   "source": [
    "SWEEP_ID = \"7asi8ixl\"\n",
    "sweep = api.sweep(f\"{ENTITY}/{PROJECT}/{SWEEP_ID}\")\n",
    "filename = f\"sem_8d_sparse_sweep_{SWEEP_ID}\"\n",
    "df8d_sparse, (true_unmix_jacobians8d_sparse, est_unmix_jacobians8d_sparse, permute_indices8d_sparse,hsic_adj8d_sparse, ica_permute8d_sparse) = sweep2df(sweep.runs, filename, save=True, load=True)"
   ],
   "metadata": {
    "collapsed": false
   }
  },
  {
   "cell_type": "markdown",
   "source": [
    "## 10D SEM"
   ],
   "metadata": {
    "collapsed": false
   }
  },
  {
   "cell_type": "code",
   "execution_count": null,
   "outputs": [],
   "source": [
    "SWEEP_ID = \"hwapefxy\"\n",
    "sweep = api.sweep(f\"{ENTITY}/{PROJECT}/{SWEEP_ID}\")\n",
    "filename = f\"sem_10d_munkres_sweep_{SWEEP_ID}\"\n",
    "df10d, (true_unmix_jacobians10d, est_unmix_jacobians10d, permute_indices10d, hsic_adj10d, ica_permute10d) = sweep2df(sweep.runs, filename, save=True, load=False)"
   ],
   "metadata": {
    "collapsed": false,
    "pycharm": {
     "is_executing": true
    }
   }
  },
  {
   "cell_type": "code",
   "execution_count": null,
   "outputs": [],
   "source": [
    "SWEEP_ID = \"ku9wl27d\"\n",
    "sweep = api.sweep(f\"{ENTITY}/{PROJECT}/{SWEEP_ID}\")\n",
    "filename = f\"sem_10d_sweep_{SWEEP_ID}\"\n",
    "df10d_permute, (true_unmix_jacobians10d_permute, est_unmix_jacobians10d_permute, permute_indices10d_permute, hsic_adj10d_permute, ica_permute10d_permute) = sweep2df(sweep.runs, filename, save=True, load=False)"
   ],
   "metadata": {
    "collapsed": false,
    "pycharm": {
     "is_executing": true
    }
   }
  },
  {
   "cell_type": "code",
   "execution_count": 54,
   "outputs": [
    {
     "name": "stdout",
     "output_type": "stream",
     "text": [
      "\t Loading sem_10d_sparse_sweep_jk11nvgk...\n"
     ]
    }
   ],
   "source": [
    "SWEEP_ID = \"jk11nvgk\"\n",
    "sweep = api.sweep(f\"{ENTITY}/{PROJECT}/{SWEEP_ID}\")\n",
    "filename = f\"sem_10d_sparse_sweep_{SWEEP_ID}\"\n",
    "df10d_sparse, (true_unmix_jacobians10d_sparse, est_unmix_jacobians10d_sparse, permute_indices10d_sparse,hsic_adj10d_sparse, ica_permute10d_sparse) = sweep2df(sweep.runs, filename, save=True, load=True)"
   ],
   "metadata": {
    "collapsed": false
   }
  },
  {
   "cell_type": "markdown",
   "source": [
    "## 15D SEM"
   ],
   "metadata": {
    "collapsed": false
   }
  },
  {
   "cell_type": "code",
   "execution_count": null,
   "outputs": [],
   "source": [
    "SWEEP_ID = \"w7517p57\"\n",
    "sweep = api.sweep(f\"{ENTITY}/{PROJECT}/{SWEEP_ID}\")\n",
    "filename = f\"sem_15d_sweep_{SWEEP_ID}\"\n",
    "df15d, (true_unmix_jacobians15d, est_unmix_jacobians15d, permute_indices15d, hsic_adj15d, ica_permute15d) = sweep2df(sweep.runs, filename, save=True, load=False)"
   ],
   "metadata": {
    "collapsed": false,
    "pycharm": {
     "is_executing": true
    }
   }
  },
  {
   "cell_type": "markdown",
   "source": [
    "## MLP from Monti et al."
   ],
   "metadata": {
    "collapsed": false
   }
  },
  {
   "cell_type": "code",
   "execution_count": null,
   "outputs": [],
   "source": [
    "SWEEP_ID = \"8tis6u9i\"\n",
    "sweep = api.sweep(f\"{ENTITY}/{PROJECT}/{SWEEP_ID}\")\n",
    "filename = f\"monti_munkres_sweep_{SWEEP_ID}\"\n",
    "df_monti, (true_unmix_jacobians_monti, est_unmix_jacobians_monti, permute_indices_monti, hsic_adj_mont, ica_permute_monti) = sweep2df(sweep.runs, filename, save=True, load=False)"
   ],
   "metadata": {
    "collapsed": false,
    "pycharm": {
     "is_executing": true
    }
   }
  },
  {
   "cell_type": "markdown",
   "source": [
    "## Monti variants"
   ],
   "metadata": {
    "collapsed": false
   }
  },
  {
   "cell_type": "code",
   "execution_count": 121,
   "outputs": [
    {
     "name": "stdout",
     "output_type": "stream",
     "text": [
      "\t Loading monti_sparse_sweep_9z269wur...\n"
     ]
    }
   ],
   "source": [
    "SWEEP_ID = \"9z269wur\"\n",
    "sweep = api.sweep(f\"{ENTITY}/{PROJECT}/{SWEEP_ID}\")\n",
    "filename = f\"monti_sparse_sweep_{SWEEP_ID}\"\n",
    "df_monti_sparse, (true_unmix_jacobians_monti_sparse, est_unmix_jacobians_monti_sparse, permute_indices_monti_sparse, hsic_adj_monti_sparse, ica_permute_monti_sparse) = sweep2df(sweep.runs, filename, save=True, load=True)"
   ],
   "metadata": {
    "collapsed": false
   }
  },
  {
   "cell_type": "markdown",
   "source": [
    "# Pre-processing\n"
   ],
   "metadata": {
    "collapsed": false
   }
  },
  {
   "cell_type": "markdown",
   "source": [
    "## Corrected stats"
   ],
   "metadata": {
    "collapsed": false
   }
  },
  {
   "cell_type": "markdown",
   "source": [
    "### 3D SEM"
   ],
   "metadata": {
    "collapsed": false
   }
  },
  {
   "cell_type": "code",
   "execution_count": 77,
   "outputs": [
    {
     "name": "stdout",
     "output_type": "stream",
     "text": [
      "----We need to figure out whether HSIC needs to be corrected--------\n",
      "----------------------------------\n",
      "dim=3 (nonlin_sem=True)\tMCC=0.969+0.098\t  Acc:0.956+0.133\tAcc (HSIC):0.611+0.167\tSHD:0.044444+0.133333\t[10 items]\n",
      "----------------------------------\n",
      "dim=3 (nonlin_sem=False)\tMCC=1.000+0.000\t  Acc:1.000+0.000\tAcc (HSIC):0.578+0.156\tSHD:0.000000+0.000000\t[10 items]\n"
     ]
    }
   ],
   "source": [
    "stats3d=corrected_jacobian_stats(df3d, true_unmix_jacobians3d, est_unmix_jacobians3d, permute_indices3d, hsic_adj3d, ica_permute3d)"
   ],
   "metadata": {
    "collapsed": false
   }
  },
  {
   "cell_type": "code",
   "execution_count": 78,
   "outputs": [
    {
     "name": "stdout",
     "output_type": "stream",
     "text": [
      "----We need to figure out whether HSIC needs to be corrected--------\n",
      "----------------------------------\n",
      "dim=3 (nonlin_sem=True)\tMCC=1.000+0.000\t  Acc:0.844+0.101\tAcc (HSIC):0.494+0.143\tSHD:0.111111+0.000000\t[27 items]\n",
      "----------------------------------\n",
      "dim=3 (nonlin_sem=False)\tMCC=1.000+0.000\t  Acc:0.854+0.106\tAcc (HSIC):0.521+0.200\tSHD:0.111111+0.000000\t[29 items]\n"
     ]
    }
   ],
   "source": [
    "stats3d_permute=corrected_jacobian_stats(df3d_permute, true_unmix_jacobians3d_permute, est_unmix_jacobians3d_permute, permute_indices3d_permute, hsic_adj3d_permute, ica_permute3d_permute)"
   ],
   "metadata": {
    "collapsed": false
   }
  },
  {
   "cell_type": "code",
   "execution_count": 79,
   "outputs": [
    {
     "name": "stdout",
     "output_type": "stream",
     "text": [
      "----We need to figure out whether HSIC needs to be corrected--------\n",
      "----------------------------------\n",
      "dim=3 (nonlin_sem=True)\tMCC=1.000+0.000\t  Acc:1.000+0.000\tAcc (HSIC):0.630+0.105\tSHD:0.111111+0.000000\t[3 items]\n",
      "----------------------------------\n",
      "dim=3 (nonlin_sem=False)\tMCC=1.000+0.000\t  Acc:0.944+0.096\tAcc (HSIC):0.667+0.176\tSHD:0.111111+0.000000\t[4 items]\n"
     ]
    }
   ],
   "source": [
    "stats3d_sparse=corrected_jacobian_stats(df3d_sparse, true_unmix_jacobians3d_sparse, est_unmix_jacobians3d_sparse, permute_indices3d_sparse, hsic_adj3d_sparse, ica_permute3d_sparse)"
   ],
   "metadata": {
    "collapsed": false
   }
  },
  {
   "cell_type": "markdown",
   "source": [
    "### 5D SEM"
   ],
   "metadata": {
    "collapsed": false
   }
  },
  {
   "cell_type": "code",
   "execution_count": 80,
   "outputs": [
    {
     "name": "stdout",
     "output_type": "stream",
     "text": [
      "----We need to figure out whether HSIC needs to be corrected--------\n",
      "----------------------------------\n",
      "dim=5 (nonlin_sem=True)\tMCC=0.960+0.079\t  Acc:0.884+0.160\tAcc (HSIC):0.662+0.071\tSHD:0.115556+0.160493\t[9 items]\n",
      "----------------------------------\n",
      "dim=5 (nonlin_sem=False)\tMCC=0.969+0.066\t  Acc:0.928+0.131\tAcc (HSIC):0.648+0.104\tSHD:0.072000+0.131210\t[10 items]\n"
     ]
    }
   ],
   "source": [
    "stats5d=corrected_jacobian_stats(df5d, true_unmix_jacobians5d, est_unmix_jacobians5d, permute_indices5d, hsic_adj5d, ica_permute5d)"
   ],
   "metadata": {
    "collapsed": false
   }
  },
  {
   "cell_type": "code",
   "execution_count": 81,
   "outputs": [
    {
     "name": "stdout",
     "output_type": "stream",
     "text": [
      "----We need to figure out whether HSIC needs to be corrected--------\n",
      "----------------------------------\n",
      "dim=5 (nonlin_sem=True)\tMCC=0.984+0.049\t  Acc:0.723+0.074\tAcc (HSIC):0.503+0.110\tSHD:0.248000+0.024000\t[30 items]\n",
      "----------------------------------\n",
      "dim=5 (nonlin_sem=False)\tMCC=1.000+0.000\t  Acc:0.734+0.071\tAcc (HSIC):0.500+0.110\tSHD:0.248571+0.024744\t[28 items]\n"
     ]
    }
   ],
   "source": [
    "stats5d_permute=corrected_jacobian_stats(df5d_permute, true_unmix_jacobians5d_permute, est_unmix_jacobians5d_permute, permute_indices5d_permute, hsic_adj5d_permute, ica_permute5d_permute)"
   ],
   "metadata": {
    "collapsed": false
   }
  },
  {
   "cell_type": "code",
   "execution_count": 114,
   "outputs": [
    {
     "name": "stdout",
     "output_type": "stream",
     "text": [
      "----We need to figure out whether HSIC needs to be corrected--------\n",
      "----------------------------------\n",
      "dim=5 (nonlin_sem=True)\tMCC=0.969+0.061\t  Acc:0.751+0.096\tAcc (HSIC):0.676+0.102\tPrec (HSIC):0.676+0.102\tRec (HSIC):0.676+0.102\tSHD:0.222222+0.080247\t[9 items]\n",
      "----------------------------------\n",
      "dim=5 (nonlin_sem=False)\tMCC=0.961+0.062\t  Acc:0.768+0.121\tAcc (HSIC):0.608+0.069\tPrec (HSIC):0.608+0.069\tRec (HSIC):0.608+0.069\tSHD:0.256000+0.131697\t[10 items]\n"
     ]
    }
   ],
   "source": [
    "stats5d_sparse=corrected_jacobian_stats(df5d_sparse, true_unmix_jacobians5d_sparse, est_unmix_jacobians5d_sparse, permute_indices5d_sparse, hsic_adj5d_sparse, ica_permute5d_sparse)"
   ],
   "metadata": {
    "collapsed": false
   }
  },
  {
   "cell_type": "markdown",
   "source": [
    "### 8D SEM"
   ],
   "metadata": {
    "collapsed": false
   }
  },
  {
   "cell_type": "code",
   "execution_count": 68,
   "outputs": [
    {
     "name": "stdout",
     "output_type": "stream",
     "text": [
      "----We need to figure out whether HSIC needs to be corrected--------\n",
      "----------------------------------\n",
      "dim=8 (nonlin_sem=True)\tMCC=0.980+0.030\t  Acc:0.858+0.204\tAcc (HSIC):0.943+0.023\tSHD:0.142361+0.204183\t[9 items]\n",
      "----------------------------------\n",
      "dim=8 (nonlin_sem=False)\tMCC=1.000+0.000\t  Acc:1.000+0.000\tAcc (HSIC):0.931+0.028\tSHD:0.000000+0.000000\t[10 items]\n"
     ]
    }
   ],
   "source": [
    "stats8d=corrected_jacobian_stats(df8d, true_unmix_jacobians8d, est_unmix_jacobians8d,permute_indices8d,hsic_adj8d, ica_permute8d)"
   ],
   "metadata": {
    "collapsed": false
   }
  },
  {
   "cell_type": "code",
   "execution_count": 69,
   "outputs": [
    {
     "name": "stdout",
     "output_type": "stream",
     "text": [
      "----We need to figure out whether HSIC needs to be corrected--------\n",
      "----------------------------------\n",
      "dim=8 (nonlin_sem=True)\tMCC=0.852+0.131\t  Acc:0.657+0.070\tAcc (HSIC):0.647+0.097\tSHD:0.367996+0.044115\t[29 items]\n",
      "----------------------------------\n",
      "dim=8 (nonlin_sem=False)\tMCC=0.880+0.151\t  Acc:0.646+0.050\tAcc (HSIC):0.640+0.093\tSHD:0.373958+0.060237\t[30 items]\n"
     ]
    }
   ],
   "source": [
    "stats8d_permute=corrected_jacobian_stats(df8d_permute, true_unmix_jacobians8d_permute, est_unmix_jacobians8d_permute,permute_indices8d_permute,hsic_adj8d_permute, ica_permute8d_permute)"
   ],
   "metadata": {
    "collapsed": false
   }
  },
  {
   "cell_type": "code",
   "execution_count": 70,
   "outputs": [
    {
     "name": "stdout",
     "output_type": "stream",
     "text": [
      "----We need to figure out whether HSIC needs to be corrected--------\n",
      "----------------------------------\n",
      "dim=8 (nonlin_sem=True)\tMCC=0.807+0.144\t  Acc:0.660+0.062\tAcc (HSIC):0.844+0.104\tSHD:0.371528+0.084233\t[9 items]\n",
      "----------------------------------\n",
      "dim=8 (nonlin_sem=False)\tMCC=0.844+0.184\t  Acc:0.709+0.084\tAcc (HSIC):0.823+0.122\tSHD:0.321875+0.108972\t[10 items]\n"
     ]
    }
   ],
   "source": [
    "stats8d_sparse=corrected_jacobian_stats(df8d_sparse, true_unmix_jacobians8d_sparse, est_unmix_jacobians8d_sparse,permute_indices8d_sparse,hsic_adj8d_sparse, ica_permute8d_sparse)"
   ],
   "metadata": {
    "collapsed": false
   }
  },
  {
   "cell_type": "markdown",
   "source": [
    "### 10D SEM"
   ],
   "metadata": {
    "collapsed": false
   }
  },
  {
   "cell_type": "code",
   "execution_count": 71,
   "outputs": [
    {
     "name": "stdout",
     "output_type": "stream",
     "text": [
      "----We need to figure out whether HSIC needs to be corrected--------\n",
      "----------------------------------\n",
      "dim=10 (nonlin_sem=True)\tMCC=0.958+0.023\t  Acc:0.591+0.221\tAcc (HSIC):0.921+0.019\tSHD:0.408889+0.221131\t[9 items]\n",
      "----------------------------------\n",
      "dim=10 (nonlin_sem=False)\tMCC=0.965+0.030\t  Acc:0.832+0.176\tAcc (HSIC):0.926+0.020\tSHD:0.168000+0.176000\t[10 items]\n"
     ]
    }
   ],
   "source": [
    "stats10d=corrected_jacobian_stats(df10d, true_unmix_jacobians10d, est_unmix_jacobians10d,permute_indices10d, hsic_adj10d, ica_permute10d)"
   ],
   "metadata": {
    "collapsed": false
   }
  },
  {
   "cell_type": "code",
   "execution_count": 72,
   "outputs": [
    {
     "name": "stdout",
     "output_type": "stream",
     "text": [
      "----We need to figure out whether HSIC needs to be corrected--------\n",
      "----------------------------------\n",
      "dim=10 (nonlin_sem=True)\tMCC=0.872+0.185\t  Acc:0.587+0.056\tAcc (HSIC):0.608+0.102\tSHD:0.385333+0.054634\t[30 items]\n",
      "----------------------------------\n",
      "dim=10 (nonlin_sem=False)\tMCC=0.903+0.189\t  Acc:0.596+0.045\tAcc (HSIC):0.611+0.103\tSHD:0.382667+0.046686\t[30 items]\n"
     ]
    }
   ],
   "source": [
    "stats10d_permute=corrected_jacobian_stats(df10d_permute, true_unmix_jacobians10d_permute, est_unmix_jacobians10d_permute,permute_indices10d_permute, hsic_adj10d_permute, ica_permute10d_permute)"
   ],
   "metadata": {
    "collapsed": false
   }
  },
  {
   "cell_type": "code",
   "execution_count": 73,
   "outputs": [
    {
     "name": "stdout",
     "output_type": "stream",
     "text": [
      "----We need to figure out whether HSIC needs to be corrected--------\n",
      "----------------------------------\n",
      "dim=10 (nonlin_sem=True)\tMCC=0.730+0.202\t  Acc:0.616+0.034\tAcc (HSIC):0.810+0.121\tSHD:0.365556+0.078047\t[9 items]\n",
      "----------------------------------\n",
      "dim=10 (nonlin_sem=False)\tMCC=0.800+0.217\t  Acc:0.648+0.059\tAcc (HSIC):0.829+0.124\tSHD:0.336000+0.055353\t[10 items]\n"
     ]
    }
   ],
   "source": [
    "stats10d_sparse=corrected_jacobian_stats(df10d_sparse, true_unmix_jacobians10d_sparse, est_unmix_jacobians10d_sparse,permute_indices10d_sparse, hsic_adj10d_sparse, ica_permute10d_sparse)"
   ],
   "metadata": {
    "collapsed": false
   }
  },
  {
   "cell_type": "markdown",
   "source": [
    "### 15D SEM"
   ],
   "metadata": {
    "collapsed": false
   }
  },
  {
   "cell_type": "code",
   "execution_count": 74,
   "outputs": [
    {
     "name": "stdout",
     "output_type": "stream",
     "text": [
      "----We need to figure out whether HSIC needs to be corrected--------\n",
      "----------------------------------\n",
      "dim=15 (nonlin_sem=True)\tMCC=0.788+0.055\t  Acc:0.637+0.041\tAcc (HSIC):0.916+0.018\tSHD:0.362222+0.040307\t[10 items]\n",
      "----------------------------------\n",
      "dim=15 (nonlin_sem=False)\tMCC=0.797+0.032\t  Acc:0.629+0.045\tAcc (HSIC):0.918+0.016\tSHD:0.371852+0.045614\t[9 items]\n"
     ]
    }
   ],
   "source": [
    "stats15d=corrected_jacobian_stats(df15d, true_unmix_jacobians15d, est_unmix_jacobians15d, permute_indices15d, hsic_adj15d, ica_permute15d)"
   ],
   "metadata": {
    "collapsed": false
   }
  },
  {
   "cell_type": "markdown",
   "source": [
    "### MLP from Monti et al."
   ],
   "metadata": {
    "collapsed": false
   }
  },
  {
   "cell_type": "code",
   "execution_count": 76,
   "outputs": [
    {
     "name": "stdout",
     "output_type": "stream",
     "text": [
      "----We need to figure out whether HSIC needs to be corrected--------\n",
      "----------------------------------\n",
      "dim=6 (n_mixing_layer=5)\tMCC=0.817+0.043\t  Acc:0.800+0.075\tAcc (HSIC):0.589+0.083\tSHD:0.000000+0.000000\t[5 items]\n",
      "----------------------------------\n",
      "dim=6 (n_mixing_layer=4)\tMCC=0.987+0.007\t  Acc:0.978+0.044\tAcc (HSIC):0.583+0.058\tSHD:0.050000+0.020787\t[5 items]\n",
      "----------------------------------\n",
      "dim=6 (n_mixing_layer=3)\tMCC=0.998+0.002\t  Acc:1.000+0.000\tAcc (HSIC):0.622+0.100\tSHD:0.000000+0.000000\t[5 items]\n",
      "----------------------------------\n",
      "dim=6 (n_mixing_layer=2)\tMCC=1.000+0.000\t  Acc:1.000+0.000\tAcc (HSIC):0.628+0.052\tSHD:0.000000+0.000000\t[5 items]\n",
      "----------------------------------\n",
      "dim=6 (n_mixing_layer=1)\tMCC=1.000+0.000\t  Acc:0.956+0.054\tAcc (HSIC):0.494+0.069\tSHD:0.033333+0.044444\t[5 items]\n"
     ]
    }
   ],
   "source": [
    "stats_monti=corrected_jacobian_stats(df_monti, true_unmix_jacobians_monti, est_unmix_jacobians_monti, permute_indices_monti, hsic_adj_mont, ica_permute_monti, selector_col=\"n_mixing_layer\")"
   ],
   "metadata": {
    "collapsed": false
   }
  },
  {
   "cell_type": "markdown",
   "source": [
    "### Monti variants"
   ],
   "metadata": {
    "collapsed": false
   }
  },
  {
   "cell_type": "code",
   "execution_count": 123,
   "outputs": [
    {
     "name": "stdout",
     "output_type": "stream",
     "text": [
      "----We need to figure out whether HSIC needs to be corrected--------\n",
      "----------------------------------\n",
      "dim=6 (n_mixing_layer=5)\tMCC=0.682+0.046\t  Acc:0.667+0.070\tAcc (HSIC):0.567+0.028\tPrec (HSIC):0.567+0.028\tRec (HSIC):0.567+0.028\tSHD:0.483333+0.062361\t[5 items]\n",
      "----------------------------------\n",
      "dim=6 (n_mixing_layer=4)\tMCC=0.789+0.057\t  Acc:0.533+0.103\tAcc (HSIC):0.600+0.080\tPrec (HSIC):0.600+0.080\tRec (HSIC):0.600+0.080\tSHD:0.505556+0.053863\t[5 items]\n",
      "----------------------------------\n",
      "dim=6 (n_mixing_layer=3)\tMCC=0.787+0.090\t  Acc:0.622+0.124\tAcc (HSIC):0.622+0.082\tPrec (HSIC):0.622+0.082\tRec (HSIC):0.622+0.082\tSHD:0.400000+0.088889\t[5 items]\n",
      "----------------------------------\n",
      "dim=6 (n_mixing_layer=2)\tMCC=0.839+0.079\t  Acc:0.578+0.159\tAcc (HSIC):0.594+0.074\tPrec (HSIC):0.594+0.074\tRec (HSIC):0.594+0.074\tSHD:0.427778+0.168142\t[5 items]\n",
      "----------------------------------\n",
      "dim=6 (n_mixing_layer=1)\tMCC=0.942+0.085\t  Acc:0.689+0.227\tAcc (HSIC):0.433+0.048\tPrec (HSIC):0.433+0.048\tRec (HSIC):0.433+0.048\tSHD:0.294444+0.239341\t[5 items]\n"
     ]
    }
   ],
   "source": [
    "stats_monti_variant=corrected_jacobian_stats(df_monti_sparse, true_unmix_jacobians_monti_sparse, est_unmix_jacobians_monti_sparse, permute_indices_monti_sparse, hsic_adj_monti_sparse, ica_permute_monti_sparse, selector_col=\"n_mixing_layer\")"
   ],
   "metadata": {
    "collapsed": false
   }
  },
  {
   "cell_type": "markdown",
   "source": [
    "## Learning permutations"
   ],
   "metadata": {
    "collapsed": false
   }
  },
  {
   "cell_type": "markdown",
   "source": [
    "### 3D SEM"
   ],
   "metadata": {
    "collapsed": false
   }
  },
  {
   "cell_type": "code",
   "execution_count": 57,
   "outputs": [
    {
     "name": "stdout",
     "output_type": "stream",
     "text": [
      "----------------------------------\n",
      "dim=3 (nonlin_sem=True)\tMCC=0.969+0.098\tAcc(order):0.000\t  Acc:0.978\tSHD:0.022222\t[10 items]\n",
      "----------------------------------\n",
      "dim=3 (nonlin_sem=False)\tMCC=1.000+0.000\tAcc(order):0.000\t  Acc:1.000\tSHD:0.000000\t[10 items]\n"
     ]
    }
   ],
   "source": [
    "learning_stats(df3d, true_unmix_jacobians3d, est_unmix_jacobians3d, permute_indices3d, dag_permute=False)"
   ],
   "metadata": {
    "collapsed": false
   }
  },
  {
   "cell_type": "markdown",
   "source": [
    "### 5D SEM"
   ],
   "metadata": {
    "collapsed": false
   }
  },
  {
   "cell_type": "code",
   "execution_count": 58,
   "outputs": [
    {
     "name": "stdout",
     "output_type": "stream",
     "text": [
      "----------------------------------\n",
      "dim=5 (nonlin_sem=True)\tMCC=0.960+0.079\tAcc(order):0.000\t  Acc:0.933\tSHD:0.066667\t[9 items]\n",
      "----------------------------------\n",
      "dim=5 (nonlin_sem=False)\tMCC=0.969+0.066\tAcc(order):0.000\t  Acc:0.928\tSHD:0.072000\t[10 items]\n"
     ]
    }
   ],
   "source": [
    "learning_stats(df5d, true_unmix_jacobians5d, est_unmix_jacobians5d, permute_indices5d, 1e-3, dag_permute=False)"
   ],
   "metadata": {
    "collapsed": false
   }
  },
  {
   "cell_type": "markdown",
   "source": [
    "### 8D SEM"
   ],
   "metadata": {
    "collapsed": false
   }
  },
  {
   "cell_type": "code",
   "execution_count": 59,
   "outputs": [
    {
     "name": "stdout",
     "output_type": "stream",
     "text": [
      "----------------------------------\n",
      "dim=8 (nonlin_sem=True)\tMCC=0.980+0.030\tAcc(order):0.000\t  Acc:0.892\tSHD:0.107639\t[9 items]\n",
      "----------------------------------\n",
      "dim=8 (nonlin_sem=False)\tMCC=1.000+0.000\tAcc(order):0.000\t  Acc:1.000\tSHD:0.000000\t[10 items]\n"
     ]
    }
   ],
   "source": [
    "learning_stats(df8d, true_unmix_jacobians8d, est_unmix_jacobians8d, permute_indices8d, 1e-3, dag_permute=False)"
   ],
   "metadata": {
    "collapsed": false
   }
  },
  {
   "cell_type": "markdown",
   "source": [
    "### 10D SEM"
   ],
   "metadata": {
    "collapsed": false
   }
  },
  {
   "cell_type": "code",
   "execution_count": 60,
   "outputs": [
    {
     "name": "stdout",
     "output_type": "stream",
     "text": [
      "----------------------------------\n",
      "dim=10 (nonlin_sem=True)\tMCC=0.958+0.023\tAcc(order):0.000\t  Acc:0.759\tSHD:0.241111\t[9 items]\n",
      "----------------------------------\n",
      "dim=10 (nonlin_sem=False)\tMCC=0.965+0.030\tAcc(order):0.000\t  Acc:0.909\tSHD:0.091000\t[10 items]\n"
     ]
    }
   ],
   "source": [
    "learning_stats(df10d, true_unmix_jacobians10d, est_unmix_jacobians10d, permute_indices10d, 1e-3, dag_permute=False)"
   ],
   "metadata": {
    "collapsed": false
   }
  },
  {
   "cell_type": "markdown",
   "source": [
    "### MLP from Monti et al."
   ],
   "metadata": {
    "collapsed": false
   }
  },
  {
   "cell_type": "code",
   "execution_count": 61,
   "outputs": [
    {
     "name": "stdout",
     "output_type": "stream",
     "text": [
      "----------------------------------\n",
      "dim=6 (n_mixing_layer=5)\tMCC=0.817+0.043\tAcc(order):0.000\t  Acc:0.872\tSHD:0.611111\t[5 items]\n",
      "----------------------------------\n",
      "dim=6 (n_mixing_layer=4)\tMCC=0.987+0.007\tAcc(order):0.000\t  Acc:0.978\tSHD:0.522222\t[5 items]\n",
      "----------------------------------\n",
      "dim=6 (n_mixing_layer=3)\tMCC=0.998+0.002\tAcc(order):0.000\t  Acc:1.000\tSHD:0.166667\t[5 items]\n",
      "----------------------------------\n",
      "dim=6 (n_mixing_layer=2)\tMCC=1.000+0.000\tAcc(order):0.000\t  Acc:1.000\tSHD:0.000000\t[5 items]\n",
      "----------------------------------\n",
      "dim=6 (n_mixing_layer=1)\tMCC=1.000+0.000\tAcc(order):0.000\t  Acc:0.956\tSHD:0.038889\t[5 items]\n"
     ]
    }
   ],
   "source": [
    "learning_stats(df_monti, true_unmix_jacobians_monti, est_unmix_jacobians_monti, permute_indices_monti, selector_col=\"n_mixing_layer\", weight_threshold=None, hamming_threshold=1e-3, dag_permute=False)"
   ],
   "metadata": {
    "collapsed": false
   }
  },
  {
   "cell_type": "markdown",
   "source": [
    "# Plots"
   ],
   "metadata": {
    "collapsed": false
   }
  },
  {
   "cell_type": "markdown",
   "source": [
    "## Corrected stats"
   ],
   "metadata": {
    "collapsed": false
   }
  },
  {
   "cell_type": "markdown",
   "source": [
    "### Nonlinear"
   ],
   "metadata": {
    "collapsed": false
   }
  },
  {
   "cell_type": "code",
   "execution_count": 90,
   "outputs": [],
   "source": [
    "\"\"\"NL\"\"\"\n",
    "selector = False\n",
    "\n",
    "metric = \"thresholds\"\n",
    "thresholds = torch.stack([stats3d_sparse[3][selector][metric], stats5d_sparse[5][selector][metric],stats8d_sparse[8][selector][metric],stats10d_sparse[10][selector][metric]])\n",
    "\n",
    "metric = \"precisions\"\n",
    "precisions_nl = torch.stack([stats3d_sparse[3][selector][metric], stats5d_sparse[5][selector][metric],stats8d_sparse[8][selector][metric],stats10d_sparse[10][selector][metric]])\n",
    "\n",
    "metric = \"recalls\"\n",
    "recalls_nl = torch.stack([stats3d_sparse[3][selector][metric], stats5d_sparse[5][selector][metric],stats8d_sparse[8][selector][metric],stats10d_sparse[10][selector][metric]])"
   ],
   "metadata": {
    "collapsed": false
   }
  },
  {
   "cell_type": "markdown",
   "source": [
    "### Linear"
   ],
   "metadata": {
    "collapsed": false
   }
  },
  {
   "cell_type": "code",
   "execution_count": 94,
   "outputs": [],
   "source": [
    "\"\"\"Linear\"\"\"\n",
    "selector = True\n",
    "\n",
    "# thresholds are the same\n",
    "\n",
    "metric = \"precisions\"\n",
    "precisions_lin = torch.stack([stats3d_sparse[3][selector][metric], stats5d_sparse[5][selector][metric],stats8d_sparse[8][selector][metric],stats10d_sparse[10][selector][metric]])\n",
    "\n",
    "metric = \"recalls\"\n",
    "recalls_lin = torch.stack([stats3d_sparse[3][selector][metric], stats5d_sparse[5][selector][metric],stats8d_sparse[8][selector][metric],stats10d_sparse[10][selector][metric]])"
   ],
   "metadata": {
    "collapsed": false
   }
  },
  {
   "cell_type": "markdown",
   "source": [
    "### Both"
   ],
   "metadata": {
    "collapsed": false
   }
  },
  {
   "cell_type": "code",
   "execution_count": 101,
   "outputs": [
    {
     "data": {
      "text/plain": "<Figure size 396x244.741 with 1 Axes>",
      "image/png": "[encoded data removed]"
     },
     "metadata": {
      "needs_background": "light"
     },
     "output_type": "display_data"
    }
   ],
   "source": [
    "TICK_PADDING = 2\n",
    "LABELPAD = 3\n",
    "DIMS = [3,5,8,10]\n",
    "COLORS = [\"tab:blue\",\"tab:orange\",\"tab:green\",\"tab:red\"]\n",
    "\n",
    "\n",
    "fig = plt.figure(figsize=figsizes.neurips2022(nrows=1, ncols=1)['figure.figsize'])\n",
    "\n",
    "ax = fig.add_subplot(111)\n",
    "ax.grid(True, which=\"both\", ls=\"-.\")\n",
    "ax.set_axisbelow(True)\n",
    "\n",
    "for rec_nl,prec_nl, c in zip(recalls_nl, precisions_nl, COLORS):\n",
    "    im = ax.plot(thresholds[0,:], rec_nl, c=c)\n",
    "    im = ax.plot(thresholds[0,:], prec_nl, c=c, ls=\"--\")\n",
    "# for rec_lin,prec_lin, c in zip(recalls_lin,precisions_lin, COLORS):\n",
    "#     im = ax.plot(thresholds[0,:], rec_lin, c=c, ls=\"--\")\n",
    "#     im = ax.plot(thresholds[0,:], prec_lin, c=c, ls=\"--\")\n",
    "# ax.plot(np.linspace(.85, 6), -np.linspace(.85, 6), c=\"black\", label='$y=x^{-2}$')\n",
    "ax.set_ylabel(\"Recalls\", labelpad=LABELPAD)\n",
    "ax.set_xlabel(\"Thresholds\", labelpad=LABELPAD)\n",
    "plt.legend(DIMS)\n",
    "ax.tick_params(axis='both', which='major', pad=TICK_PADDING)\n",
    "\n",
    "# ax = fig.add_subplot(122)\n",
    "# ax.grid(True, which=\"both\", ls=\"-.\")\n",
    "# ax.set_axisbelow(True)\n",
    "\n",
    "# im = ax.plot(thresholds.T, recalls_lin.T, ls=\"--\", c=COLORS)\n",
    "# ax.plot(np.linspace(.85, 6), -np.linspace(.85, 6), c=\"black\", label='$y=x^{-2}$')\n",
    "# ax.set_ylabel(\"Recalls (Lin)\", labelpad=LABELPAD)\n",
    "ax.set_xlabel(\"Thresholds\", labelpad=LABELPAD)\n",
    "plt.legend(DIMS)\n",
    "ax.tick_params(axis='both', which='major', pad=TICK_PADDING)\n",
    "\n",
    "plt.savefig(\"recalls.svg\")"
   ],
   "metadata": {
    "collapsed": false
   }
  },
  {
   "cell_type": "code",
   "execution_count": 100,
   "outputs": [
    {
     "data": {
      "text/plain": "<Figure size 396x244.741 with 1 Axes>",
      "image/png": "[encoded data removed]"
     },
     "metadata": {
      "needs_background": "light"
     },
     "output_type": "display_data"
    }
   ],
   "source": [
    "fig = plt.figure(figsize=figsizes.neurips2022(nrows=1, ncols=1)['figure.figsize'])\n",
    "\n",
    "ax = fig.add_subplot(111)\n",
    "ax.grid(True, which=\"both\", ls=\"-.\")\n",
    "ax.set_axisbelow(True)\n",
    "#\n",
    "# for rec_nl,prec_nl, c in zip(recalls_nl, precisions_nl, COLORS):\n",
    "#     im = ax.plot(thresholds[0,:], rec_nl, c=c)\n",
    "#     im = ax.plot(thresholds[0,:], prec_nl, c=c)\n",
    "for rec_lin,prec_lin, c in zip(recalls_lin,precisions_lin, COLORS):\n",
    "    im = ax.plot(thresholds[0,:], rec_lin, c=c, ls=\"--\")\n",
    "    im = ax.plot(thresholds[0,:], prec_lin, c=c, ls=\"--\")\n",
    "# ax.plot(np.linspace(.85, 6), -np.linspace(.85, 6), c=\"black\", label='$y=x^{-2}$')\n",
    "ax.set_ylabel(\"Recalls\", labelpad=LABELPAD)\n",
    "ax.set_xlabel(\"Thresholds\", labelpad=LABELPAD)\n",
    "plt.legend(DIMS)\n",
    "ax.tick_params(axis='both', which='major', pad=TICK_PADDING)\n",
    "\n",
    "# ax = fig.add_subplot(122)\n",
    "# ax.grid(True, which=\"both\", ls=\"-.\")\n",
    "# ax.set_axisbelow(True)\n",
    "\n",
    "# im = ax.plot(thresholds.T, recalls_lin.T, ls=\"--\", c=COLORS)\n",
    "# ax.plot(np.linspace(.85, 6), -np.linspace(.85, 6), c=\"black\", label='$y=x^{-2}$')\n",
    "# ax.set_ylabel(\"Recalls (Lin)\", labelpad=LABELPAD)\n",
    "ax.set_xlabel(\"Thresholds\", labelpad=LABELPAD)\n",
    "plt.legend(DIMS)\n",
    "ax.tick_params(axis='both', which='major', pad=TICK_PADDING)\n",
    "\n",
    "plt.savefig(\"recalls.svg\")"
   ],
   "metadata": {
    "collapsed": false
   }
  },
  {
   "cell_type": "code",
   "execution_count": 104,
   "outputs": [
    {
     "data": {
      "text/plain": "<Figure size 396x244.741 with 1 Axes>",
      "image/png": "[encoded data removed]"
     },
     "metadata": {
      "needs_background": "light"
     },
     "output_type": "display_data"
    }
   ],
   "source": [
    "fig = plt.figure(figsize=figsizes.neurips2022(nrows=1, ncols=1)['figure.figsize'])\n",
    "\n",
    "ax = fig.add_subplot(111)\n",
    "ax.grid(True, which=\"both\", ls=\"-.\")\n",
    "ax.set_axisbelow(True)\n",
    "#\n",
    "# for rec_nl,prec_nl, c in zip(recalls_nl, precisions_nl, COLORS):\n",
    "#     im = ax.plot(thresholds[0,:], rec_nl, c=c)\n",
    "#     im = ax.plot(thresholds[0,:], prec_nl, c=c)\n",
    "for rec_lin,prec_lin, c in zip(recalls_lin,precisions_lin, COLORS):\n",
    "    im = ax.plot(rec_lin, prec_lin, c=c)\n",
    "ax.set_ylabel(\"Recalls\", labelpad=LABELPAD)\n",
    "ax.set_xlabel(\"Precision\", labelpad=LABELPAD)\n",
    "plt.legend(DIMS)\n",
    "ax.tick_params(axis='both', which='major', pad=TICK_PADDING)\n",
    "\n",
    "ax.set_xlabel(\"Recall\", labelpad=LABELPAD)\n",
    "plt.legend(DIMS)\n",
    "ax.tick_params(axis='both', which='major', pad=TICK_PADDING)\n",
    "\n",
    "plt.savefig(\"recalls.svg\")"
   ],
   "metadata": {
    "collapsed": false
   }
  },
  {
   "cell_type": "code",
   "execution_count": 112,
   "outputs": [
    {
     "data": {
      "text/plain": "<Figure size 396x244.741 with 1 Axes>",
      "image/png": "[encoded data removed]"
     },
     "metadata": {
      "needs_background": "light"
     },
     "output_type": "display_data"
    }
   ],
   "source": [
    "fig = plt.figure(figsize=figsizes.neurips2022(nrows=1, ncols=1)['figure.figsize'])\n",
    "\n",
    "ax = fig.add_subplot(111)\n",
    "ax.grid(True, which=\"both\", ls=\"-.\")\n",
    "ax.set_axisbelow(True)\n",
    "#\n",
    "for rec_nl,prec_nl, c in zip(recalls_nl, precisions_nl, COLORS):\n",
    "    im = ax.plot(rec_nl, prec_nl, c=c)\n",
    "for rec_lin,prec_lin, c in zip(recalls_lin,precisions_lin, COLORS):\n",
    "    im = ax.plot(rec_lin, prec_lin, c=c, ls=\"--\")\n",
    "    # im = ax.plot(thresholds[0,:], prec_nl, c=c)\n",
    "\n",
    "ax.set_xlabel(\"Recalls\", labelpad=LABELPAD)\n",
    "ax.set_ylabel(\"Precision\", labelpad=LABELPAD)\n",
    "plt.legend(DIMS)\n",
    "ax.tick_params(axis='both', which='major', pad=TICK_PADDING)\n",
    "\n",
    "\n",
    "plt.savefig(\"recalls.svg\")"
   ],
   "metadata": {
    "collapsed": false
   }
  },
  {
   "cell_type": "markdown",
   "source": [
    "## Hinton diagram"
   ],
   "metadata": {
    "collapsed": false
   }
  },
  {
   "cell_type": "code",
   "execution_count": null,
   "outputs": [],
   "source": [
    "# Source: https://matplotlib.org/3.1.1/gallery/specialty_plots/hinton_demo.html\n",
    "\n",
    "def hinton(matrix, max_weight=None, ax=None):\n",
    "    \"\"\"Draw Hinton diagram for visualizing a weight matrix.\"\"\"\n",
    "    ax = ax if ax is not None else plt.gca()\n",
    "\n",
    "    if not max_weight:\n",
    "        max_weight = 2 ** np.ceil(np.log(np.abs(matrix).max()) / np.log(2))\n",
    "\n",
    "\n",
    "    ax.patch.set_facecolor('gray')\n",
    "    ax.set_aspect('equal', 'box')\n",
    "    ax.xaxis.set_major_locator(plt.NullLocator())\n",
    "    ax.yaxis.set_major_locator(plt.NullLocator())\n",
    "\n",
    "    for (x, y), w in np.ndenumerate(matrix):\n",
    "        color = BLUE if w > 0 else RED\n",
    "        size = np.sqrt(np.abs(w) / max_weight)\n",
    "        rect = plt.Rectangle([x - size / 2, y - size / 2], size, size,\n",
    "                             facecolor=color, edgecolor=color)\n",
    "        ax.add_patch(rect)\n",
    "\n",
    "    ax.autoscale_view()"
   ],
   "metadata": {
    "collapsed": false
   }
  },
  {
   "cell_type": "code",
   "execution_count": 260,
   "outputs": [],
   "source": [
    "from notebooks.analysis import perm2matrix"
   ],
   "metadata": {
    "collapsed": false
   }
  },
  {
   "cell_type": "markdown",
   "source": [],
   "metadata": {
    "collapsed": false
   }
  },
  {
   "cell_type": "code",
   "execution_count": 249,
   "outputs": [],
   "source": [
    "idx = -1\n",
    "j_est = est_unmix_jacobians3d[idx]\n",
    "j_gt = true_unmix_jacobians3d[idx]\n",
    "j_p= permute_indices3d[idx]\n",
    "j_pm= perm2matrix(j_p)\n",
    "# j_gt_p = j_pm.numpy() @ j_gt\n",
    "j_est_corr = correct_ica_scale_permutation(torch.from_numpy(j_est.astype(np.float32)),j_pm,torch.from_numpy(j_gt.astype(np.float32))).numpy()"
   ],
   "metadata": {
    "collapsed": false
   }
  },
  {
   "cell_type": "code",
   "execution_count": 250,
   "outputs": [
    {
     "data": {
      "text/plain": "array([[ 1.5320351 , -0.01130555, -0.00469695],\n       [ 1.5820673 ,  1.8025558 , -0.01033536],\n       [ 1.96809   ,  1.4212089 ,  1.5321796 ]], dtype=float32)"
     },
     "execution_count": 250,
     "metadata": {},
     "output_type": "execute_result"
    }
   ],
   "source": [
    "j_est_corr"
   ],
   "metadata": {
    "collapsed": false
   }
  },
  {
   "cell_type": "code",
   "execution_count": 318,
   "outputs": [
    {
     "data": {
      "text/plain": "[array([[ 0.00252052,  0.        ,  0.        ,  0.        ,  0.        ,\n          0.        ],\n        [-0.01277678,  0.00205859,  0.        ,  0.        ,  0.        ,\n          0.        ],\n        [ 0.03138999, -0.01081219,  0.0021257 ,  0.        ,  0.        ,\n          0.        ],\n        [-0.07721966,  0.03315201, -0.01093221,  0.00156558,  0.        ,\n          0.        ],\n        [ 0.14143941, -0.06895113,  0.02950584, -0.00946515,  0.00222511,\n          0.        ],\n        [-0.20769876,  0.10927062, -0.05303581,  0.02336621, -0.00951978,\n          0.0020853 ]]),\n array([[ 0.00163575,  0.        ,  0.        ,  0.        ,  0.        ,\n          0.        ],\n        [-0.00963337,  0.00209877,  0.        ,  0.        ,  0.        ,\n          0.        ],\n        [ 0.02328577, -0.00941281,  0.00175942,  0.        ,  0.        ,\n          0.        ],\n        [-0.04222301,  0.02079622, -0.00729232,  0.00161148,  0.        ,\n          0.        ],\n        [ 0.06250732, -0.03641587,  0.02138271, -0.00952214,  0.00187267,\n          0.        ],\n        [-0.06666381,  0.04598705, -0.03661353,  0.02003768, -0.00807455,\n          0.00153581]]),\n array([[ 0.00227593,  0.        ,  0.        ,  0.        ,  0.        ,\n          0.        ],\n        [-0.01149929,  0.00190383,  0.        ,  0.        ,  0.        ,\n          0.        ],\n        [ 0.02729015, -0.00949088,  0.0018295 ,  0.        ,  0.        ,\n          0.        ],\n        [-0.05900376,  0.02565254, -0.00934843,  0.00177942,  0.        ,\n          0.        ],\n        [ 0.12370641, -0.05554504,  0.02377013, -0.0086922 ,  0.00149833,\n          0.        ],\n        [-0.19902939,  0.094928  , -0.0474802 ,  0.02860563, -0.00940733,\n          0.0026371 ]]),\n array([[ 0.00281313,  0.        ,  0.        ,  0.        ,  0.        ,\n          0.        ],\n        [-0.01026158,  0.00169307,  0.        ,  0.        ,  0.        ,\n          0.        ],\n        [ 0.01927074, -0.00944822,  0.00197611,  0.        ,  0.        ,\n          0.        ],\n        [-0.01795707,  0.0244201 , -0.0110508 ,  0.00207841,  0.        ,\n          0.        ],\n        [ 0.02110207, -0.04435609,  0.02481933, -0.0094498 ,  0.00226469,\n          0.        ],\n        [-0.00431415,  0.03737515, -0.02956408,  0.02243288, -0.01110686,\n          0.00211053]]),\n array([[ 0.00200162,  0.        ,  0.        ,  0.        ,  0.        ,\n          0.        ],\n        [-0.01235034,  0.0026303 ,  0.        ,  0.        ,  0.        ,\n          0.        ],\n        [ 0.03734965, -0.01365477,  0.00243561,  0.        ,  0.        ,\n          0.        ],\n        [-0.05564582,  0.02971814, -0.01135107,  0.00199348,  0.        ,\n          0.        ],\n        [ 0.0171087 , -0.02862528,  0.02216466, -0.00924047,  0.00216919,\n          0.        ],\n        [-0.04791294,  0.08699273, -0.06696821,  0.03292398, -0.01361552,\n          0.00236833]]),\n array([[ 0.00833504,  0.        ,  0.        ,  0.        ,  0.        ,\n          0.        ],\n        [-0.03443881,  0.00756009,  0.        ,  0.        ,  0.        ,\n          0.        ],\n        [ 0.06277008, -0.03206837,  0.00653414,  0.        ,  0.        ,\n          0.        ],\n        [-0.12411579,  0.08246294, -0.02773642,  0.0059375 ,  0.        ,\n          0.        ],\n        [ 0.18140589, -0.13926993,  0.05522074, -0.0277339 ,  0.00864482,\n          0.        ],\n        [-0.22608414,  0.17682981, -0.07544553,  0.05369294, -0.02888571,\n          0.00720267]]),\n array([[ 0.00707036,  0.        ,  0.        ,  0.        ,  0.        ,\n          0.        ],\n        [-0.03404444,  0.00979507,  0.        ,  0.        ,  0.        ,\n          0.        ],\n        [ 0.08980781, -0.04265706,  0.00906709,  0.        ,  0.        ,\n          0.        ],\n        [-0.11731745,  0.07248828, -0.03577004,  0.00672501,  0.        ,\n          0.        ],\n        [ 0.00304279, -0.02386477,  0.05244465, -0.02329448,  0.00700981,\n          0.        ],\n        [-0.00254357,  0.05537167, -0.14217061,  0.06161968, -0.03593755,\n          0.00946399]]),\n array([[ 0.00924068,  0.        ,  0.        ,  0.        ,  0.        ,\n          0.        ],\n        [-0.02709067,  0.00548481,  0.        ,  0.        ,  0.        ,\n          0.        ],\n        [ 0.03363167, -0.0231747 ,  0.0063979 ,  0.        ,  0.        ,\n          0.        ],\n        [-0.00412571,  0.04489026, -0.02935557,  0.00797133,  0.        ,\n          0.        ],\n        [-0.01289875, -0.08374567,  0.0594819 , -0.02941119,  0.00795381,\n          0.        ],\n        [ 0.02333721,  0.08918788, -0.06723985,  0.0596799 , -0.03069975,\n          0.00662184]]),\n array([[ 0.00748108,  0.        ,  0.        ,  0.        ,  0.        ,\n          0.        ],\n        [-0.03115167,  0.0070204 ,  0.        ,  0.        ,  0.        ,\n          0.        ],\n        [ 0.05656741, -0.02823376,  0.0066844 ,  0.        ,  0.        ,\n          0.        ],\n        [-0.09776612,  0.06003106, -0.02787328,  0.00580069,  0.        ,\n          0.        ],\n        [ 0.18615039, -0.11135805,  0.06210623, -0.02279494,  0.00595264,\n          0.        ],\n        [-0.24261591,  0.14921926, -0.10982556,  0.05846339, -0.02839366,\n          0.00899258]]),\n array([[ 0.00584436,  0.        ,  0.        ,  0.        ,  0.        ,\n          0.        ],\n        [-0.02629712,  0.00691215,  0.        ,  0.        ,  0.        ,\n          0.        ],\n        [ 0.04677168, -0.02543658,  0.00684103,  0.        ,  0.        ,\n          0.        ],\n        [-0.07038066,  0.05071851, -0.02334778,  0.00616234,  0.        ,\n          0.        ],\n        [ 0.08858143, -0.08356199,  0.05355816, -0.03050969,  0.00693781,\n          0.        ],\n        [-0.08683456,  0.101427  , -0.08011011,  0.05624661, -0.02473909,\n          0.00613303]]),\n array([[ 0.02543239,  0.        ,  0.        ,  0.        ,  0.        ,\n          0.        ],\n        [-0.0820701 ,  0.0264983 ,  0.        ,  0.        ,  0.        ,\n          0.        ],\n        [ 0.11589089, -0.08740737,  0.02365853,  0.        ,  0.        ,\n          0.        ],\n        [-0.2028759 ,  0.20187595, -0.08183219,  0.02373963,  0.        ,\n          0.        ],\n        [ 0.26198187, -0.33346146,  0.13925122, -0.07944313,  0.0318104 ,\n          0.        ],\n        [-0.34599978,  0.41951728, -0.16543655,  0.10961136, -0.08416677,\n          0.02177743]]),\n array([[ 0.02957703,  0.        ,  0.        ,  0.        ,  0.        ,\n          0.        ],\n        [-0.09676855,  0.02758928,  0.        ,  0.        ,  0.        ,\n          0.        ],\n        [ 0.14029546, -0.08530274,  0.02567307,  0.        ,  0.        ,\n          0.        ],\n        [-0.23299378,  0.14964411, -0.08396046,  0.02132439,  0.        ,\n          0.        ],\n        [ 0.45704287, -0.28061521,  0.17130563, -0.06526227,  0.02085436,\n          0.        ],\n        [-0.62744129,  0.40765554, -0.30125841,  0.12650646, -0.06458309,\n          0.02919345]]),\n array([[ 0.02263952,  0.        ,  0.        ,  0.        ,  0.        ,\n          0.        ],\n        [-0.07932462,  0.02533367,  0.        ,  0.        ,  0.        ,\n          0.        ],\n        [ 0.12235021, -0.06741812,  0.02426537,  0.        ,  0.        ,\n          0.        ],\n        [-0.16601254,  0.09780324, -0.06423473,  0.02146207,  0.        ,\n          0.        ],\n        [ 0.14287813, -0.10420185,  0.09797966, -0.08060839,  0.0265194 ,\n          0.        ],\n        [-0.07310712,  0.06950489, -0.11455806,  0.124638  , -0.07049136,\n          0.02301562]]),\n array([[ 0.02705465,  0.        ,  0.        ,  0.        ,  0.        ,\n          0.        ],\n        [-0.09573051,  0.0309639 ,  0.        ,  0.        ,  0.        ,\n          0.        ],\n        [ 0.19322772, -0.10515141,  0.03079673,  0.        ,  0.        ,\n          0.        ],\n        [-0.16874701,  0.13227752, -0.0990052 ,  0.02506599,  0.        ,\n          0.        ],\n        [-0.13608985,  0.02607914,  0.10023154, -0.06072994,  0.02224275,\n          0.        ],\n        [ 0.30043229, -0.07323629, -0.24719757,  0.13247241, -0.07764129,\n          0.03194093]]),\n array([[ 0.07856568,  0.        ,  0.        ,  0.        ,  0.        ,\n          0.        ],\n        [-0.18121503,  0.09488077,  0.        ,  0.        ,  0.        ,\n          0.        ],\n        [ 0.17426592, -0.17232238,  0.07476456,  0.        ,  0.        ,\n          0.        ],\n        [-0.21296628,  0.15405987, -0.1332617 ,  0.07134139,  0.        ,\n          0.        ],\n        [ 0.10892496, -0.06652822,  0.14990495, -0.17216158,  0.09810945,\n          0.        ],\n        [ 0.09367435, -0.03191015, -0.14761382,  0.15969554, -0.1801274 ,\n          0.08636627]]),\n array([[ 0.08484331,  0.        ,  0.        ,  0.        ,  0.        ,\n          0.        ],\n        [-0.17001216,  0.08837681,  0.        ,  0.        ,  0.        ,\n          0.        ],\n        [ 0.12597428, -0.19886836,  0.07860257,  0.        ,  0.        ,\n          0.        ],\n        [-0.16869196,  0.35282308, -0.18278402,  0.09204967,  0.        ,\n          0.        ],\n        [ 0.15315908, -0.56682122,  0.28237587, -0.1920971 ,  0.09724702,\n          0.        ],\n        [-0.28483906,  0.82883817, -0.45016405,  0.20407595, -0.18801183,\n          0.07451917]]),\n array([[ 0.02983629,  0.        ,  0.        ,  0.        ,  0.        ,\n          0.        ],\n        [-0.0675417 ,  0.02123429,  0.        ,  0.        ,  0.        ,\n          0.        ],\n        [ 0.04874641, -0.06479313,  0.02122832,  0.        ,  0.        ,\n          0.        ],\n        [ 0.03801394,  0.05941892, -0.07343248,  0.02798531,  0.        ,\n          0.        ],\n        [-0.11945598, -0.09247112,  0.14028418, -0.07682312,  0.02798779,\n          0.        ],\n        [ 0.16566941,  0.10961507, -0.16469368,  0.10749947, -0.08486775,\n          0.0218579 ]]),\n array([[ 0.08827247,  0.        ,  0.        ,  0.        ,  0.        ,\n          0.        ],\n        [-0.18970199,  0.09339228,  0.        ,  0.        ,  0.        ,\n          0.        ],\n        [ 0.21396761, -0.22163668,  0.10693795,  0.        ,  0.        ,\n          0.        ],\n        [ 0.05667894,  0.19165054, -0.24861151,  0.09997889,  0.        ,\n          0.        ],\n        [-0.45661694,  0.14785975,  0.11745799, -0.17498118,  0.08012726,\n          0.        ],\n        [ 0.83033204, -0.3630257 , -0.23592588,  0.29364523, -0.18236855,\n          0.09654572]]),\n array([[ 0.08880074,  0.        ,  0.        ,  0.        ,  0.        ,\n          0.        ],\n        [-0.18289609,  0.08804581,  0.        ,  0.        ,  0.        ,\n          0.        ],\n        [ 0.088415  , -0.18250127,  0.08998424,  0.        ,  0.        ,\n          0.        ],\n        [-0.11570582,  0.24971499, -0.20974651,  0.080593  ,  0.        ,\n          0.        ],\n        [ 0.34480801, -0.49756637,  0.34171063, -0.17309089,  0.08000936,\n          0.        ],\n        [-0.50209653,  0.72569889, -0.55440807,  0.25031045, -0.1569659 ,\n          0.09033018]]),\n array([[ 0.28396425,  0.        ,  0.        ,  0.        ,  0.        ,\n          0.        ],\n        [-0.26348501,  0.26931694,  0.        ,  0.        ,  0.        ,\n          0.        ],\n        [ 0.0337297 , -0.30576998,  0.30513459,  0.        ,  0.        ,\n          0.        ],\n        [-0.04158295,  0.3769621 , -0.37617874,  0.32214934,  0.        ,\n          0.        ],\n        [-0.00836741, -0.64866048,  0.40043983, -0.34292588,  0.29854646,\n          0.        ],\n        [-0.27955624,  1.03915668, -0.76778442,  0.37395796, -0.32556254,\n          0.28925845]]),\n array([[ 0.08967361,  0.        ,  0.        ,  0.        ,  0.        ,\n          0.        ],\n        [-0.13168333,  0.06616329,  0.        ,  0.        ,  0.        ,\n          0.        ],\n        [-0.00081067, -0.13129888,  0.07917333,  0.        ,  0.        ,\n          0.        ],\n        [ 0.15797737,  0.04488138, -0.16862755,  0.09966344,  0.        ,\n          0.        ],\n        [-0.34617382, -0.01099098,  0.23428953, -0.18660539,  0.08484297,\n          0.        ],\n        [ 0.35715222, -0.02111639, -0.20996019,  0.19009839, -0.18272679,\n          0.08208846]]),\n array([[ 0.26000309,  0.        ,  0.        ,  0.        ,  0.        ,\n          0.        ],\n        [-0.2377709 ,  0.29790828,  0.        ,  0.        ,  0.        ,\n          0.        ],\n        [ 0.1949223 , -0.24422234,  0.27083454,  0.        ,  0.        ,\n          0.        ],\n        [-0.38029727,  0.21177892, -0.23485586,  0.26956213,  0.        ,\n          0.        ],\n        [ 0.10906468, -0.23427176,  0.25979966, -0.29819208,  0.31958669,\n          0.        ],\n        [ 0.1545136 , -0.11064406, -0.22075096,  0.25337291, -0.27155182,\n          0.27584118]]),\n array([[ 0.3181558 ,  0.        ,  0.        ,  0.        ,  0.        ,\n          0.        ],\n        [-0.35266355,  0.3060579 ,  0.        ,  0.        ,  0.        ,\n          0.        ],\n        [ 0.01513198, -0.28870741,  0.28964752,  0.        ,  0.        ,\n          0.        ],\n        [-0.01848584,  0.35269669, -0.35384521,  0.30598122,  0.        ,\n          0.        ],\n        [ 0.12434436, -0.77659595,  0.40985736, -0.35441673,  0.30780783,\n          0.        ],\n        [-0.10345834,  0.77681553, -0.78665018,  0.35639775, -0.30952835,\n          0.32543388]]),\n array([[ 0.29593691,  0.        ,  0.        ,  0.        ,  0.        ,\n          0.        ],\n        [-0.29759651,  0.30350304,  0.        ,  0.        ,  0.        ,\n          0.        ],\n        [ 0.31119037, -0.31736669,  0.33011174,  0.        ,  0.        ,\n          0.        ],\n        [-0.03831794,  0.03907846, -0.39802134,  0.33311692,  0.        ,\n          0.        ],\n        [-0.29941049,  0.30535302,  0.00545266, -0.30114013,  0.27766705,\n          0.        ],\n        [ 0.33369884, -0.66094315, -0.00609914,  0.33684525, -0.31058905,\n          0.33134657]]),\n array([[ 0.29633665,  0.        ,  0.        ,  0.        ,  0.        ,\n          0.        ],\n        [-0.23439755,  0.25865349,  0.        ,  0.        ,  0.        ,\n          0.        ],\n        [-0.12028594, -0.261134  ,  0.31428501,  0.        ,  0.        ,\n          0.        ],\n        [ 0.06016894,  0.02926896, -0.36157143,  0.31852266,  0.        ,\n          0.        ],\n        [-0.05885951, -0.02863199,  0.35370269, -0.31159082,  0.2783643 ,\n          0.        ],\n        [ 0.01013886, -0.00570155, -0.24633732, -0.00581743, -0.28985694,\n          0.26257762]])]"
     },
     "execution_count": 318,
     "metadata": {},
     "output_type": "execute_result"
    }
   ],
   "source": [
    "true_unmix_jacobians_monti"
   ],
   "metadata": {
    "collapsed": false
   }
  }
 ],
 "metadata": {
  "kernelspec": {
   "display_name": "Python 3 (ipykernel)",
   "language": "python",
   "name": "python3"
  },
  "language_info": {
   "codemirror_mode": {
    "name": "ipython",
    "version": 3
   },
   "file_extension": ".py",
   "mimetype": "text/x-python",
   "name": "python",
   "nbconvert_exporter": "python",
   "pygments_lexer": "ipython3",
   "version": "3.9.6"
  }
 },
 "nbformat": 4,
 "nbformat_minor": 1
}
