{
 "cells": [
  {
   "cell_type": "code",
   "execution_count": 1,
   "metadata": {
    "pycharm": {
     "name": "#%%\n"
    }
   },
   "outputs": [],
   "source": [
    "# imports\n",
    "from tueplots import bundles\n",
    "import wandb\n",
    "import pandas as pd\n",
    "import numpy as np\n",
    "import matplotlib.pyplot as plt\n",
    "from matplotlib.ticker import MultipleLocator, FormatStrFormatter\n",
    "from tueplots  import figsizes\n",
    "\n",
    "import sys\n",
    "\n",
    "%load_ext autoreload\n",
    "%autoreload 2\n",
    "\n",
    "sys.path.insert(0, '.')"
   ]
  },
  {
   "cell_type": "code",
   "execution_count": 15,
   "outputs": [],
   "source": [
    "from analysis import sweep2df, format_violin, RED, BLUE\n",
    "from care_nl_ica.models.sinkhorn import learn_permutation"
   ],
   "metadata": {
    "collapsed": false,
    "pycharm": {
     "name": "#%%\n"
    }
   }
  },
  {
   "cell_type": "code",
   "execution_count": 3,
   "outputs": [
    {
     "name": "stderr",
     "output_type": "stream",
     "text": [
      "/Library/Developer/CommandLineTools/Library/Frameworks/Python3.framework/Versions/3.8/lib/python3.8/_collections_abc.py:834: MatplotlibDeprecationWarning: Support for setting the 'text.latex.preamble' or 'pgf.preamble' rcParam to a list of strings is deprecated since 3.3 and will be removed two minor releases later; set it to a single string instead.\n",
      "  self[key] = other[key]\n"
     ]
    }
   ],
   "source": [
    "plt.rcParams.update(bundles.neurips2022(usetex=True))\n",
    "plt.rcParams.update({\n",
    "    'text.latex.preamble': [r'\\usepackage{amsfonts}', # mathbb\n",
    "                            r'\\usepackage{amsmath}'] # boldsymbol\n",
    "})"
   ],
   "metadata": {
    "collapsed": false,
    "pycharm": {
     "name": "#%%\n"
    }
   }
  },
  {
   "cell_type": "code",
   "execution_count": 4,
   "metadata": {
    "pycharm": {
     "name": "#%%\n"
    }
   },
   "outputs": [],
   "source": [
    "# Constants\n",
    "ENTITY = \"causal-representation-learning\"\n",
    "PROJECT = \"nl-causal-representations\"\n",
    "\n",
    "# W&B API\n",
    "api = wandb.Api(timeout=200)\n",
    "runs = api.runs(ENTITY + \"/\" + PROJECT)"
   ]
  },
  {
   "cell_type": "markdown",
   "source": [
    "# Data loading"
   ],
   "metadata": {
    "collapsed": false,
    "pycharm": {
     "name": "#%% md\n"
    }
   }
  },
  {
   "cell_type": "code",
   "execution_count": 33,
   "outputs": [
    {
     "data": {
      "text/plain": "array([[ 1.93882871,  1.40007854,  1.50939941, -1.52444494,  0.01124954,\n         0.00467368,  1.57117176,  1.79014182, -0.01026418]])"
     },
     "execution_count": 33,
     "metadata": {},
     "output_type": "execute_result"
    }
   ],
   "source": [
    "\n",
    "SWEEP_ID = \"vfv1je0d\"\n",
    "sweep = api.sweep(f\"{ENTITY}/{PROJECT}/{SWEEP_ID}\")\n",
    "sweep.runs[59].logged_artifacts()[0].get(\"dep_mat_table\").get_column(\"dep_mat\", \"numpy\")#.use_artifact(\"dep_mat_table\")\n",
    "# artifact = run.use_artifact('causal-representation-learning/experiment/run-iczvn8od-dep_mat_table:v0', type='run_table')\n",
    "# artifact.get(\"dep_mat_table\")"
   ],
   "metadata": {
    "collapsed": false,
    "pycharm": {
     "name": "#%%\n"
    }
   }
  },
  {
   "cell_type": "code",
   "execution_count": 11,
   "metadata": {
    "pycharm": {
     "name": "#%%\n"
    }
   },
   "outputs": [
    {
     "name": "stdout",
     "output_type": "stream",
     "text": [
      "Loading sweep with SWEEP_ID='gz1yqsuk'\n",
      "Loading sweep with SWEEP_ID='5gzpzb23'\n"
     ]
    }
   ],
   "source": [
    "SWEEP_ID = \"gz1yqsuk\"\n",
    "sweep = api.sweep(f\"{ENTITY}/{PROJECT}/{SWEEP_ID}\")\n",
    "filename = f\"sem_sweep_{SWEEP_ID}\"\n",
    "print(f\"Loading sweep with {SWEEP_ID=}\")\n",
    "df1, (true_unmix_jacobians1, est_unmix_jacobians1, permute_indices1) = sweep2df(sweep.runs, filename, save=True, load=True)\n",
    "\n",
    "SWEEP_ID = \"5gzpzb23\"\n",
    "sweep = api.sweep(f\"{ENTITY}/{PROJECT}/{SWEEP_ID}\")\n",
    "filename = f\"sem_sweep_{SWEEP_ID}\"\n",
    "print(f\"Loading sweep with {SWEEP_ID=}\")\n",
    "df2, (true_unmix_jacobians2, est_unmix_jacobians2, permute_indices2) = sweep2df(sweep.runs, filename, save=True, load=True)\n",
    "\n",
    "df = df1.append(df2)\n",
    "true_unmix_jacobians = true_unmix_jacobians1 +true_unmix_jacobians2\n",
    "est_unmix_jacobians = est_unmix_jacobians1+est_unmix_jacobians2\n",
    "permute_indices = permute_indices1+permute_indices2"
   ]
  },
  {
   "cell_type": "code",
   "execution_count": 9,
   "outputs": [
    {
     "name": "stdout",
     "output_type": "stream",
     "text": [
      "Loading sweep with SWEEP_ID='nz4r5d8a'\n"
     ]
    },
    {
     "name": "stderr",
     "output_type": "stream",
     "text": [
      "/Users/patrik.reizinger/Documents/GitHub/nl-causal-representations/venv/lib/python3.8/site-packages/numpy/core/_asarray.py:136: VisibleDeprecationWarning: Creating an ndarray from ragged nested sequences (which is a list-or-tuple of lists-or-tuples-or ndarrays with different lengths or shapes) is deprecated. If you meant to do this, you must specify 'dtype=object' when creating the ndarray\n",
      "  return array(a, dtype, copy=False, order=order, subok=True)\n"
     ]
    }
   ],
   "source": [
    "\n",
    "SWEEP_ID = \"nz4r5d8a\"\n",
    "sweep = api.sweep(f\"{ENTITY}/{PROJECT}/{SWEEP_ID}\")\n",
    "filename = f\"sem_offset_sweep_{SWEEP_ID}\"\n",
    "print(f\"Loading sweep with {SWEEP_ID=}\")\n",
    "df_offset, (true_unmix_jacobians_offset, est_unmix_jacobians_offset, permute_indices_offset) = sweep2df(sweep.runs, filename, save=True, load=True)"
   ],
   "metadata": {
    "collapsed": false,
    "pycharm": {
     "name": "#%%\n"
    }
   }
  },
  {
   "cell_type": "code",
   "execution_count": 12,
   "outputs": [
    {
     "name": "stdout",
     "output_type": "stream",
     "text": [
      "Loading sweep with SWEEP_ID='egexc6uw'\n"
     ]
    }
   ],
   "source": [
    "SWEEP_ID = \"egexc6uw\"\n",
    "sweep = api.sweep(f\"{ENTITY}/{PROJECT}/{SWEEP_ID}\")\n",
    "filename = f\"monti_sweep_{SWEEP_ID}\"\n",
    "print(f\"Loading sweep with {SWEEP_ID=}\")\n",
    "df_monti, (true_unmix_jacobians_monti, est_unmix_jacobians_monti, permute_indices_monti) = sweep2df(sweep.runs, filename, save=True, load=True)"
   ],
   "metadata": {
    "collapsed": false,
    "pycharm": {
     "name": "#%%\n"
    }
   }
  },
  {
   "cell_type": "code",
   "execution_count": null,
   "outputs": [],
   "source": [
    "SWEEP_ID = \"4fnie477\"\n",
    "sweep = api.sweep(f\"{ENTITY}/{PROJECT}/{SWEEP_ID}\")\n",
    "filename = f\"nl_sem_sweep_{SWEEP_ID}\"\n",
    "print(f\"Loading sweep with {SWEEP_ID=}\")\n",
    "df_nl, (true_unmix_jacobians_nl, est_unmix_jacobians_nl, permute_indices_nl) = sweep2df(sweep.runs, filename, save=True, load=False)"
   ],
   "metadata": {
    "collapsed": false,
    "pycharm": {
     "name": "#%%\n",
     "is_executing": true
    }
   }
  },
  {
   "cell_type": "code",
   "execution_count": 22,
   "outputs": [
    {
     "name": "stdout",
     "output_type": "stream",
     "text": [
      "Correct order identified\n",
      "Correct order identified\n",
      "Correct order identified\n",
      "Correct order identified\n",
      "Correct order identified\n",
      "----------------------------------\n",
      "----------------------------------\n",
      "Success ratio:1.0\n",
      "----------------------------------\n",
      "----------------------------------\n"
     ]
    }
   ],
   "source": [
    "success = []\n",
    "for (j_gt, j_est, permute) in zip(true_unmix_jacobians_offset, est_unmix_jacobians_offset, permute_indices_offset):\n",
    "    if j_gt.shape[0]==5:\n",
    "        success.append(learn_permutation(j_gt, j_est, permute, triu_weigth=20., tril_weight=10.,diag_weight=6., num_steps=5000, lr=1e-4, verbose=True,drop_smallest=True, threshold=None, binary=True))\n",
    "\n",
    "print(\"----------------------------------\")\n",
    "print(\"----------------------------------\")\n",
    "print(f\"Success ratio:{np.array(success).mean()}\")\n",
    "print(\"----------------------------------\")\n",
    "print(\"----------------------------------\")"
   ],
   "metadata": {
    "collapsed": false,
    "pycharm": {
     "name": "#%%\n"
    }
   }
  },
  {
   "cell_type": "code",
   "execution_count": 133,
   "outputs": [
    {
     "name": "stdout",
     "output_type": "stream",
     "text": [
      "Correct order identified\n",
      "Correct order identified\n",
      "----------------------------------\n",
      "true_jac=array([[ 1.66666043,  0.        ,  0.        ],\n",
      "       [-0.29033533, -1.04302919,  0.        ],\n",
      "       [-0.00611022, -0.02195095, -1.60597253]])\n",
      "est_jac=tensor([[0., 1., 1.],\n",
      "        [1., 0., 1.],\n",
      "        [1., 1., 0.]])\n",
      "tensor([[0.6667, 0.6667, 0.6667],\n",
      "        [0.6667, 0.6667, 0.6667],\n",
      "        [0.6667, 0.6667, 0.6667]])\n",
      "S_DAG=tensor([[0.3333, 0.3333, 0.3333],\n",
      "        [0.3333, 0.3333, 0.3333],\n",
      "        [0.3333, 0.3333, 0.3333]])\n",
      "S_ICA=tensor([[0.3333, 0.3333, 0.3333],\n",
      "        [0.3333, 0.3333, 0.3333],\n",
      "        [0.3333, 0.3333, 0.3333]])\n",
      "----------------------------------\n",
      "true_jac=array([[ 1.06976736,  0.        ,  0.        ],\n",
      "       [ 0.24751021, -1.78051484,  0.        ],\n",
      "       [ 0.        ,  0.        ,  2.0067482 ]])\n",
      "est_jac=tensor([[1., 1., 0.],\n",
      "        [0., 1., 1.],\n",
      "        [1., 0., 1.]])\n",
      "tensor([[0.6667, 0.6667, 0.6667],\n",
      "        [0.6667, 0.6667, 0.6667],\n",
      "        [0.6667, 0.6667, 0.6667]])\n",
      "S_DAG=tensor([[0.3333, 0.3333, 0.3333],\n",
      "        [0.3333, 0.3333, 0.3333],\n",
      "        [0.3333, 0.3333, 0.3333]])\n",
      "S_ICA=tensor([[0.3333, 0.3333, 0.3333],\n",
      "        [0.3333, 0.3333, 0.3333],\n",
      "        [0.3333, 0.3333, 0.3333]])\n",
      "----------------------------------\n",
      "true_jac=array([[-3.24956083,  0.        ,  0.        ],\n",
      "       [ 1.52564287,  2.86493921,  0.        ],\n",
      "       [ 0.        ,  0.        ,  3.90620351]])\n",
      "est_jac=tensor([[1., 0., 1.],\n",
      "        [1., 1., 1.],\n",
      "        [1., 0., 0.]])\n",
      "tensor([[1.0000e+00, 1.0576e-11, 0.0000e+00],\n",
      "        [1.0000e+00, 1.0000e+00, 0.0000e+00],\n",
      "        [1.0000e+00, 1.0000e+00, 1.0000e+00]])\n",
      "S_DAG=tensor([[1.0000e+00, 0.0000e+00, 0.0000e+00],\n",
      "        [0.0000e+00, 5.3730e-41, 1.0000e+00],\n",
      "        [2.8026e-45, 1.0000e+00, 0.0000e+00]])\n",
      "S_ICA=tensor([[1.0576e-11, 0.0000e+00, 1.0000e+00],\n",
      "        [1.0000e+00, 0.0000e+00, 0.0000e+00],\n",
      "        [0.0000e+00, 1.0000e+00, 0.0000e+00]])\n",
      "----------------------------------\n",
      "true_jac=array([[ 2.31073809,  0.        ,  0.        ],\n",
      "       [-3.02228832, -1.67731583,  0.        ],\n",
      "       [ 0.        ,  0.        , -2.0563004 ]])\n",
      "est_jac=tensor([[1., 0., 1.],\n",
      "        [1., 1., 0.],\n",
      "        [1., 0., 1.]])\n",
      "tensor([[1.0000e+00, 1.0000e+00, 0.0000e+00],\n",
      "        [1.0000e+00, 1.0000e+00, 0.0000e+00],\n",
      "        [4.0377e-25, 1.0000e+00, 1.0000e+00]])\n",
      "S_DAG=tensor([[4.0377e-25, 1.0000e+00, 0.0000e+00],\n",
      "        [0.0000e+00, 0.0000e+00, 1.0000e+00],\n",
      "        [1.0000e+00, 0.0000e+00, 0.0000e+00]])\n",
      "S_ICA=tensor([[0.5000, 0.0000, 0.5000],\n",
      "        [0.5000, 0.0000, 0.5000],\n",
      "        [0.0000, 1.0000, 0.0000]])\n",
      "----------------------------------\n",
      "true_jac=array([[ 1.66666043,  0.        ,  0.        ],\n",
      "       [-0.29033533, -1.04302919,  0.        ],\n",
      "       [ 0.        ,  0.        , -1.60597253]])\n",
      "est_jac=tensor([[0., 1., 1.],\n",
      "        [1., 0., 1.],\n",
      "        [1., 1., 0.]])\n",
      "tensor([[0.6667, 0.6667, 0.6667],\n",
      "        [0.6667, 0.6667, 0.6667],\n",
      "        [0.6667, 0.6667, 0.6667]])\n",
      "S_DAG=tensor([[0.3333, 0.3333, 0.3333],\n",
      "        [0.3333, 0.3333, 0.3333],\n",
      "        [0.3333, 0.3333, 0.3333]])\n",
      "S_ICA=tensor([[0.3333, 0.3333, 0.3333],\n",
      "        [0.3333, 0.3333, 0.3333],\n",
      "        [0.3333, 0.3333, 0.3333]])\n",
      "----------------------------------\n",
      "true_jac=array([[ 1.06976736e+00,  0.00000000e+00,  0.00000000e+00],\n",
      "       [ 1.93606264e-09, -1.78051496e+00,  0.00000000e+00],\n",
      "       [ 7.09714234e-01, -2.86375308e+00,  2.00674820e+00]])\n",
      "est_jac=tensor([[0., 1., 0.],\n",
      "        [1., 1., 0.],\n",
      "        [1., 1., 1.]])\n",
      "tensor([[1.0000e+00, 1.0576e-11, 0.0000e+00],\n",
      "        [1.0000e+00, 1.0000e+00, 0.0000e+00],\n",
      "        [1.0000e+00, 1.0000e+00, 1.0000e+00]])\n",
      "S_DAG=tensor([[8.4078e-44, 1.0000e+00, 0.0000e+00],\n",
      "        [1.0000e+00, 0.0000e+00, 0.0000e+00],\n",
      "        [0.0000e+00, 5.3207e-41, 1.0000e+00]])\n",
      "S_ICA=tensor([[1.0000e+00, 1.0576e-11, 0.0000e+00],\n",
      "        [0.0000e+00, 1.0000e+00, 0.0000e+00],\n",
      "        [0.0000e+00, 0.0000e+00, 1.0000e+00]])\n",
      "Correct order identified\n",
      "Correct order identified\n",
      "Correct order identified\n",
      "----------------------------------\n",
      "true_jac=array([[ 1.06976736,  0.        ,  0.        ],\n",
      "       [ 0.        , -1.78051484,  0.        ],\n",
      "       [ 0.70971423,  0.        ,  2.0067482 ]])\n",
      "est_jac=tensor([[0., 1., 0.],\n",
      "        [1., 1., 1.],\n",
      "        [1., 0., 1.]])\n",
      "tensor([[1.0000e+00, 1.0245e-19, 1.0245e-19],\n",
      "        [6.3533e-40, 9.7500e-01, 9.7500e-01],\n",
      "        [1.0000e+00, 1.0250e+00, 1.0250e+00]])\n",
      "S_DAG=tensor([[0.0000, 0.5000, 0.5000],\n",
      "        [1.0000, 0.0000, 0.0000],\n",
      "        [0.0000, 0.5000, 0.5000]])\n",
      "S_ICA=tensor([[1.0000e+00, 4.4463e-34, 1.0245e-19],\n",
      "        [0.0000e+00, 6.3533e-40, 9.7500e-01],\n",
      "        [0.0000e+00, 1.0000e+00, 2.5000e-02]])\n",
      "----------------------------------\n",
      "true_jac=array([[ 2.31073785,  0.        ,  0.        ],\n",
      "       [ 0.        , -1.67731571,  0.        ],\n",
      "       [-2.14960432,  0.        , -2.05630064]])\n",
      "est_jac=tensor([[1., 0., 1.],\n",
      "        [1., 1., 1.],\n",
      "        [1., 0., 0.]])\n",
      "tensor([[1.0000e+00, 1.0576e-11, 0.0000e+00],\n",
      "        [1.0000e+00, 1.0000e+00, 0.0000e+00],\n",
      "        [1.0000e+00, 1.0000e+00, 1.0000e+00]])\n",
      "S_DAG=tensor([[1.0000e+00, 0.0000e+00, 0.0000e+00],\n",
      "        [0.0000e+00, 5.3730e-41, 1.0000e+00],\n",
      "        [2.8026e-45, 1.0000e+00, 0.0000e+00]])\n",
      "S_ICA=tensor([[1.0576e-11, 0.0000e+00, 1.0000e+00],\n",
      "        [1.0000e+00, 0.0000e+00, 0.0000e+00],\n",
      "        [0.0000e+00, 1.0000e+00, 0.0000e+00]])\n",
      "----------------------------------\n",
      "true_jac=array([[ -3.24956107,   0.        ,   0.        ],\n",
      "       [  0.        ,   2.86493921,   0.        ],\n",
      "       [-11.89698219,   0.        ,   3.90620375]])\n",
      "est_jac=tensor([[1., 1., 1.],\n",
      "        [1., 0., 1.],\n",
      "        [1., 0., 0.]])\n",
      "tensor([[1.0000e+00, 1.0576e-11, 0.0000e+00],\n",
      "        [1.0000e+00, 1.0000e+00, 0.0000e+00],\n",
      "        [1.0000e+00, 1.0000e+00, 1.0000e+00]])\n",
      "S_DAG=tensor([[1.0000e+00, 0.0000e+00, 0.0000e+00],\n",
      "        [0.0000e+00, 5.3730e-41, 1.0000e+00],\n",
      "        [2.8026e-45, 1.0000e+00, 0.0000e+00]])\n",
      "S_ICA=tensor([[0.0000e+00, 1.0576e-11, 1.0000e+00],\n",
      "        [0.0000e+00, 1.0000e+00, 0.0000e+00],\n",
      "        [1.0000e+00, 0.0000e+00, 0.0000e+00]])\n",
      "----------------------------------\n",
      "true_jac=array([[ 1.66666031,  0.        ,  0.        ],\n",
      "       [ 0.        , -1.04302919,  0.        ],\n",
      "       [ 2.09410119,  0.        , -1.60597241]])\n",
      "est_jac=tensor([[1., 1., 0.],\n",
      "        [1., 0., 1.],\n",
      "        [1., 1., 0.]])\n",
      "tensor([[1.0000, 1.0000, 0.0000],\n",
      "        [1.0000, 1.0000, 0.0000],\n",
      "        [0.0250, 1.0000, 1.0000]])\n",
      "S_DAG=tensor([[2.5000e-02, 1.0000e+00, 0.0000e+00],\n",
      "        [9.7500e-01, 0.0000e+00, 0.0000e+00],\n",
      "        [0.0000e+00, 1.7661e-37, 1.0000e+00]])\n",
      "S_ICA=tensor([[0.5000, 0.0000, 0.5000],\n",
      "        [0.5000, 0.0000, 0.5000],\n",
      "        [0.0000, 1.0000, 0.0000]])\n",
      "----------------------------------\n",
      "true_jac=array([[ 1.06976736,  0.        ,  0.        ],\n",
      "       [ 0.        , -1.78051496,  0.        ],\n",
      "       [ 0.        , -2.86375308,  2.0067482 ]])\n",
      "est_jac=tensor([[1., 0., 0.],\n",
      "        [0., 1., 1.],\n",
      "        [1., 1., 1.]])\n",
      "tensor([[1.0000e+00, 4.3818e-18, 4.3818e-18],\n",
      "        [8.6092e-39, 9.7500e-01, 9.7500e-01],\n",
      "        [1.0000e+00, 1.0250e+00, 1.0250e+00]])\n",
      "S_DAG=tensor([[1.0000, 0.0000, 0.0000],\n",
      "        [0.0000, 0.5000, 0.5000],\n",
      "        [0.0000, 0.5000, 0.5000]])\n",
      "S_ICA=tensor([[1.0000e+00, 4.3818e-18, 3.0027e-34],\n",
      "        [0.0000e+00, 9.7500e-01, 8.6092e-39],\n",
      "        [0.0000e+00, 2.5000e-02, 1.0000e+00]])\n"
     ]
    },
    {
     "ename": "KeyboardInterrupt",
     "evalue": "",
     "output_type": "error",
     "traceback": [
      "\u001B[0;31m---------------------------------------------------------------------------\u001B[0m",
      "\u001B[0;31mKeyboardInterrupt\u001B[0m                         Traceback (most recent call last)",
      "Input \u001B[0;32mIn [133]\u001B[0m, in \u001B[0;36m<cell line: 2>\u001B[0;34m()\u001B[0m\n\u001B[1;32m      2\u001B[0m \u001B[38;5;28;01mfor\u001B[39;00m (mcc, j_gt, j_est, permute) \u001B[38;5;129;01min\u001B[39;00m \u001B[38;5;28mzip\u001B[39m(df_monti\u001B[38;5;241m.\u001B[39mmcc, true_unmix_jacobians_monti, est_unmix_jacobians_monti, permute_indices_monti):\n\u001B[1;32m      3\u001B[0m     \u001B[38;5;28;01mif\u001B[39;00m mcc \u001B[38;5;241m>\u001B[39m \u001B[38;5;241m.95\u001B[39m:\n\u001B[0;32m----> 4\u001B[0m         success\u001B[38;5;241m.\u001B[39mappend(\u001B[43mlearn_permutation\u001B[49m\u001B[43m(\u001B[49m\u001B[43mj_gt\u001B[49m\u001B[43m,\u001B[49m\u001B[43m \u001B[49m\u001B[43mj_est\u001B[49m\u001B[43m,\u001B[49m\u001B[43m \u001B[49m\u001B[43mpermute\u001B[49m\u001B[43m,\u001B[49m\u001B[43m \u001B[49m\u001B[43mtriu_weigth\u001B[49m\u001B[38;5;241;43m=\u001B[39;49m\u001B[38;5;241;43m25.\u001B[39;49m\u001B[43m,\u001B[49m\u001B[43m \u001B[49m\u001B[43mtril_weight\u001B[49m\u001B[38;5;241;43m=\u001B[39;49m\u001B[38;5;241;43m10.\u001B[39;49m\u001B[43m,\u001B[49m\u001B[43mdiag_weight\u001B[49m\u001B[38;5;241;43m=\u001B[39;49m\u001B[38;5;241;43m6.\u001B[39;49m\u001B[43m,\u001B[49m\u001B[43m \u001B[49m\u001B[43mnum_steps\u001B[49m\u001B[38;5;241;43m=\u001B[39;49m\u001B[38;5;241;43m3000\u001B[39;49m\u001B[43m,\u001B[49m\u001B[43m \u001B[49m\u001B[43mlr\u001B[49m\u001B[38;5;241;43m=\u001B[39;49m\u001B[38;5;241;43m1e-3\u001B[39;49m\u001B[43m,\u001B[49m\u001B[43m \u001B[49m\u001B[43mverbose\u001B[49m\u001B[38;5;241;43m=\u001B[39;49m\u001B[38;5;28;43;01mTrue\u001B[39;49;00m\u001B[43m,\u001B[49m\u001B[43m \u001B[49m\u001B[43mdrop_smallest\u001B[49m\u001B[38;5;241;43m=\u001B[39;49m\u001B[38;5;28;43;01mTrue\u001B[39;49;00m\u001B[43m,\u001B[49m\u001B[43m \u001B[49m\u001B[43mbinary\u001B[49m\u001B[38;5;241;43m=\u001B[39;49m\u001B[38;5;28;43;01mTrue\u001B[39;49;00m\u001B[43m)\u001B[49m)\n\u001B[1;32m      6\u001B[0m \u001B[38;5;28mprint\u001B[39m(\u001B[38;5;124m\"\u001B[39m\u001B[38;5;124m----------------------------------\u001B[39m\u001B[38;5;124m\"\u001B[39m)\n\u001B[1;32m      7\u001B[0m \u001B[38;5;28mprint\u001B[39m(\u001B[38;5;124m\"\u001B[39m\u001B[38;5;124m----------------------------------\u001B[39m\u001B[38;5;124m\"\u001B[39m)\n",
      "File \u001B[0;32m~/Documents/GitHub/nl-causal-representations/care_nl_ica/models/sinkhorn.py:112\u001B[0m, in \u001B[0;36mlearn_permutation\u001B[0;34m(true_jac, est_jac, permute_indices, num_steps, tril_weight, triu_weigth, diag_weight, lr, verbose, drop_smallest, threshold, binary)\u001B[0m\n\u001B[1;32m    108\u001B[0m \u001B[38;5;66;03m# loss_diag = -diag_weight * (matrix.diag()).sum()\u001B[39;00m\n\u001B[1;32m    110\u001B[0m loss \u001B[38;5;241m=\u001B[39m loss_l \u001B[38;5;241m+\u001B[39m loss_u \u001B[38;5;241m+\u001B[39m loss_diag\n\u001B[0;32m--> 112\u001B[0m \u001B[43mloss\u001B[49m\u001B[38;5;241;43m.\u001B[39;49m\u001B[43mbackward\u001B[49m\u001B[43m(\u001B[49m\u001B[43m)\u001B[49m\n\u001B[1;32m    114\u001B[0m \u001B[38;5;28;01mif\u001B[39;00m i \u001B[38;5;241m%\u001B[39m \u001B[38;5;241m250\u001B[39m \u001B[38;5;241m==\u001B[39m \u001B[38;5;241m0\u001B[39m:\n\u001B[1;32m    115\u001B[0m     correct_order \u001B[38;5;241m=\u001B[39m torch\u001B[38;5;241m.\u001B[39mall(\n\u001B[1;32m    116\u001B[0m         s_dag\u001B[38;5;241m.\u001B[39mdoubly_stochastic_matrix\u001B[38;5;241m.\u001B[39mmax(\u001B[38;5;241m1\u001B[39m)[\u001B[38;5;241m1\u001B[39m]\n\u001B[1;32m    117\u001B[0m         \u001B[38;5;241m==\u001B[39m torch\u001B[38;5;241m.\u001B[39mtensor(permute_indices)\n\u001B[1;32m    118\u001B[0m     )\u001B[38;5;241m.\u001B[39mitem()\n",
      "File \u001B[0;32m~/Documents/GitHub/nl-causal-representations/venv/lib/python3.8/site-packages/torch/_tensor.py:363\u001B[0m, in \u001B[0;36mTensor.backward\u001B[0;34m(self, gradient, retain_graph, create_graph, inputs)\u001B[0m\n\u001B[1;32m    354\u001B[0m \u001B[38;5;28;01mif\u001B[39;00m has_torch_function_unary(\u001B[38;5;28mself\u001B[39m):\n\u001B[1;32m    355\u001B[0m     \u001B[38;5;28;01mreturn\u001B[39;00m handle_torch_function(\n\u001B[1;32m    356\u001B[0m         Tensor\u001B[38;5;241m.\u001B[39mbackward,\n\u001B[1;32m    357\u001B[0m         (\u001B[38;5;28mself\u001B[39m,),\n\u001B[0;32m   (...)\u001B[0m\n\u001B[1;32m    361\u001B[0m         create_graph\u001B[38;5;241m=\u001B[39mcreate_graph,\n\u001B[1;32m    362\u001B[0m         inputs\u001B[38;5;241m=\u001B[39minputs)\n\u001B[0;32m--> 363\u001B[0m \u001B[43mtorch\u001B[49m\u001B[38;5;241;43m.\u001B[39;49m\u001B[43mautograd\u001B[49m\u001B[38;5;241;43m.\u001B[39;49m\u001B[43mbackward\u001B[49m\u001B[43m(\u001B[49m\u001B[38;5;28;43mself\u001B[39;49m\u001B[43m,\u001B[49m\u001B[43m \u001B[49m\u001B[43mgradient\u001B[49m\u001B[43m,\u001B[49m\u001B[43m \u001B[49m\u001B[43mretain_graph\u001B[49m\u001B[43m,\u001B[49m\u001B[43m \u001B[49m\u001B[43mcreate_graph\u001B[49m\u001B[43m,\u001B[49m\u001B[43m \u001B[49m\u001B[43minputs\u001B[49m\u001B[38;5;241;43m=\u001B[39;49m\u001B[43minputs\u001B[49m\u001B[43m)\u001B[49m\n",
      "File \u001B[0;32m~/Documents/GitHub/nl-causal-representations/venv/lib/python3.8/site-packages/torch/autograd/__init__.py:173\u001B[0m, in \u001B[0;36mbackward\u001B[0;34m(tensors, grad_tensors, retain_graph, create_graph, grad_variables, inputs)\u001B[0m\n\u001B[1;32m    168\u001B[0m     retain_graph \u001B[38;5;241m=\u001B[39m create_graph\n\u001B[1;32m    170\u001B[0m \u001B[38;5;66;03m# The reason we repeat same the comment below is that\u001B[39;00m\n\u001B[1;32m    171\u001B[0m \u001B[38;5;66;03m# some Python versions print out the first line of a multi-line function\u001B[39;00m\n\u001B[1;32m    172\u001B[0m \u001B[38;5;66;03m# calls in the traceback and some print out the last line\u001B[39;00m\n\u001B[0;32m--> 173\u001B[0m \u001B[43mVariable\u001B[49m\u001B[38;5;241;43m.\u001B[39;49m\u001B[43m_execution_engine\u001B[49m\u001B[38;5;241;43m.\u001B[39;49m\u001B[43mrun_backward\u001B[49m\u001B[43m(\u001B[49m\u001B[43m  \u001B[49m\u001B[38;5;66;43;03m# Calls into the C++ engine to run the backward pass\u001B[39;49;00m\n\u001B[1;32m    174\u001B[0m \u001B[43m    \u001B[49m\u001B[43mtensors\u001B[49m\u001B[43m,\u001B[49m\u001B[43m \u001B[49m\u001B[43mgrad_tensors_\u001B[49m\u001B[43m,\u001B[49m\u001B[43m \u001B[49m\u001B[43mretain_graph\u001B[49m\u001B[43m,\u001B[49m\u001B[43m \u001B[49m\u001B[43mcreate_graph\u001B[49m\u001B[43m,\u001B[49m\u001B[43m \u001B[49m\u001B[43minputs\u001B[49m\u001B[43m,\u001B[49m\n\u001B[1;32m    175\u001B[0m \u001B[43m    \u001B[49m\u001B[43mallow_unreachable\u001B[49m\u001B[38;5;241;43m=\u001B[39;49m\u001B[38;5;28;43;01mTrue\u001B[39;49;00m\u001B[43m,\u001B[49m\u001B[43m \u001B[49m\u001B[43maccumulate_grad\u001B[49m\u001B[38;5;241;43m=\u001B[39;49m\u001B[38;5;28;43;01mTrue\u001B[39;49;00m\u001B[43m)\u001B[49m\n",
      "\u001B[0;31mKeyboardInterrupt\u001B[0m: "
     ]
    }
   ],
   "source": [
    "success = []\n",
    "for (mcc, j_gt, j_est, permute) in zip(df_monti.mcc, true_unmix_jacobians_monti, est_unmix_jacobians_monti, permute_indices_monti):\n",
    "    if mcc > .95:\n",
    "        success.append(learn_permutation(j_gt, j_est, permute, triu_weigth=25., tril_weight=10.,diag_weight=6., num_steps=3000, lr=1e-3, verbose=True, drop_smallest=True, binary=True))\n",
    "\n",
    "print(\"----------------------------------\")\n",
    "print(\"----------------------------------\")\n",
    "print(f\"Success ratio:{np.array(success).mean()}\")\n",
    "print(\"----------------------------------\")\n",
    "print(\"----------------------------------\")"
   ],
   "metadata": {
    "collapsed": false,
    "pycharm": {
     "name": "#%%\n"
    }
   }
  },
  {
   "cell_type": "markdown",
   "source": [
    "## Data inspection"
   ],
   "metadata": {
    "collapsed": false,
    "pycharm": {
     "name": "#%% md\n"
    }
   }
  },
  {
   "cell_type": "markdown",
   "source": [],
   "metadata": {
    "collapsed": false,
    "pycharm": {
     "name": "#%% md\n"
    }
   }
  },
  {
   "cell_type": "markdown",
   "source": [
    "# Data pre-processing"
   ],
   "metadata": {
    "collapsed": false,
    "pycharm": {
     "name": "#%% md\n"
    }
   }
  },
  {
   "cell_type": "markdown",
   "source": [
    "# Plot"
   ],
   "metadata": {
    "collapsed": false,
    "pycharm": {
     "name": "#%% md\n"
    }
   }
  },
  {
   "cell_type": "code",
   "execution_count": 243,
   "outputs": [
    {
     "name": "stderr",
     "output_type": "stream",
     "text": [
      "/var/folders/rb/d8k1n6bj4lg801y0yxz4jtbh0000gn/T/ipykernel_75992/4083792918.py:40: UserWarning: FixedFormatter should only be used together with FixedLocator\n",
      "  ax.set_xticklabels([0] + sorted(np.log10(moebius_df[\"gamma_square\"]).astype(int).unique()))\n",
      "/var/folders/rb/d8k1n6bj4lg801y0yxz4jtbh0000gn/T/ipykernel_75992/4083792918.py:59: UserWarning: FixedFormatter should only be used together with FixedLocator\n",
      "  ax.set_xticklabels( xticklabels)\n"
     ]
    },
    {
     "data": {
      "text/plain": "<Figure size 396x122.371 with 4 Axes>",
      "image/png": "[encoded data removed]"
     },
     "metadata": {
      "needs_background": "light"
     },
     "output_type": "display_data"
    }
   ],
   "source": [
    "# to make the grid behind both plots: https://stackoverflow.com/a/55618417/16912032\n",
    "\n",
    "LABELPAD = 2\n",
    "TICK_PADDING = 2\n",
    "\n",
    "fig = plt.figure(figsize=figsizes.neurips2022(nrows=1, ncols=2)['figure.figsize'])\n",
    "\n",
    "\n",
    "\"\"\"MCC vs CIMA over different gamma\"\"\"\n",
    "ax = fig.add_subplot(121)\n",
    "ax.grid(True, which=\"both\", ls=\"-.\")\n",
    "\n",
    "# create double y-axis\n",
    "ax_cima = ax.twinx()\n",
    "ax_mcc = ax.twinx()\n",
    "\n",
    "# Link the respective y-axes for grid and plot\n",
    "ax.get_shared_y_axes().join(ax, ax_mcc)\n",
    "\n",
    "# Remove ticks and labels and set which side to label\n",
    "ticksoff = dict(labelleft=False, labelright=False, left=False, right=False)\n",
    "ax.tick_params(axis=\"y\", **ticksoff)\n",
    "ax_mcc.tick_params(axis=\"y\", labelleft=True, labelright=False, left=True, right=False)\n",
    "ax_cima.tick_params(axis=\"y\", labelleft=False, labelright=True, left=False, right=True)\n",
    "\n",
    "\n",
    "# MCC\n",
    "vp= ax_mcc.violinplot(gg_mcc, showmedians=True)\n",
    "format_violin(vp,BLUE)\n",
    "# CIMA\n",
    "# ax2.set_axisbelow(True)\n",
    "vp2= ax_cima.violinplot([np.log10(g) for g in gg_cima], showmedians=True)\n",
    "format_violin(vp2, RED)\n",
    "\n",
    "\n",
    "ax_cima.set_ylabel(\"$\\log_{10}c_{\\mathrm{IMA}}$\", labelpad=LABELPAD)\n",
    "ax.set_ylabel(\"$\\mathrm{MCC}$\", labelpad=LABELPAD+17)\n",
    "\n",
    "ax.set_xlabel(\"$\\log_{10}\\gamma^2$\", labelpad=LABELPAD)\n",
    "ax.set_xticklabels([0] + sorted(np.log10(df[\"gamma_square\"]).astype(int).unique()))\n",
    "\n",
    "\n",
    "\n",
    "plt.legend([vp['bodies'][0], vp2['bodies'][0]], [\"$\\mathrm{MCC}$\", \"$\\log_{10}c_{\\mathrm{IMA}}$\"], loc='center left')\n",
    "\n",
    "\n",
    "\"\"\"MCC vs the mixing lin map's CIMA\"\"\"\n",
    "ax = fig.add_subplot(122)\n",
    "ax.grid(True, which=\"both\", ls=\"-.\")\n",
    "ax.set_axisbelow(True)\n",
    "\n",
    "vp = plt.violinplot(moebius_lin_map_groups, showmedians=True)\n",
    "format_violin(vp)\n",
    "\n",
    "ax.set_ylabel(\"$\\mathrm{MCC}$\", labelpad=LABELPAD)\n",
    "ax.set_xlabel(\"$\\log_{10}c_{\\mathrm{IMA}}$\", labelpad=LABELPAD)\n",
    "\n",
    "xticklabels = [0]+ [f\"$[{logbins[0]:.2f};{logbins[1]:.2f})$\"]+ [f\"$<{logbins[i]:.2f}$\" for i in range(2,NUM_BINS-1)] +[f\"$[{logbins[-2]:.2f};{logbins[-1]:.2f}]$\"]\n",
    "ax.set_xticklabels( xticklabels)\n",
    "# plt.legend()\n",
    "ax.tick_params(axis='both', which='major', pad=TICK_PADDING)\n",
    "plt.legend([vp['bodies'][0],], [\"$\\mathrm{MCC}$\"], loc='lower left')\n",
    "\n",
    "plt.savefig(\"moebius_mcc_cima.svg\")"
   ],
   "metadata": {
    "collapsed": false,
    "pycharm": {
     "name": "#%%\n"
    }
   }
  },
  {
   "cell_type": "code",
   "execution_count": 257,
   "outputs": [
    {
     "name": "stderr",
     "output_type": "stream",
     "text": [
      "/var/folders/rb/d8k1n6bj4lg801y0yxz4jtbh0000gn/T/ipykernel_75992/2850137678.py:28: UserWarning: FixedFormatter should only be used together with FixedLocator\n",
      "  ax.set_xticklabels(range(log_gamma_sq[0].astype(int),log_gamma_sq[-1].astype(int)))\n"
     ]
    },
    {
     "data": {
      "text/plain": "<Figure size 396x143.966 with 1 Axes>",
      "image/png": "[encoded data removed]"
     },
     "metadata": {
      "needs_background": "light"
     },
     "output_type": "display_data"
    }
   ],
   "source": [
    "LABELPAD = 1\n",
    "TICK_PADDING = 2\n",
    "STD_FACTOR = 3\n",
    "# plt.rcParams.update(figsizes.neurips2022(nrows=1, ncols=1))\n",
    "fig = plt.figure(figsize=figsizes.neurips2022(nrows=1, ncols=1.7, rel_width=1)['figure.figsize'])\n",
    "\n",
    "\"\"\"MCC vs CIMA over different gamma\"\"\"\n",
    "ax = fig.add_subplot(121)\n",
    "ax.grid(True, which=\"major\", ls=\"-.\")\n",
    "ax.set_axisbelow(True)\n",
    "\n",
    "ima_elbo = IMA_REG_LOG_LIKELIHOOD - elbo\n",
    "log_likelihood_elbo = LOG_LIKELIHOOD - elbo\n",
    "for i in range(0,len(log_gamma_sq),2):\n",
    "    l = ax.vlines(log_gamma_sq[i], ima_elbo.mean(0)[i], log_likelihood_elbo.mean(0)[i], colors=\"black\", linestyle=\"--\", label=None if i != 0 else r\"$C_{\\mathrm{IMA}}$\")\n",
    "\n",
    "# L_IMA - ELBO\n",
    "ax.plot(log_gamma_sq, ima_elbo.mean(0),  label=r\"$\\mathbb{E}_{p(\\boldsymbol{x})}[\\mathcal{L}_{\\mathrm{IMA}}-\\mathrm{ELBO}^*]$\", c=BLUE)\n",
    "# Log-likelihood - ELBO\n",
    "ax.plot(log_gamma_sq, log_likelihood_elbo.mean(0),  label=r\"$\\mathbb{E}_{p(\\boldsymbol{x})}[\\log p_{\\boldsymbol{\\theta}}(\\boldsymbol{x})-\\mathrm{ELBO}^*]$\", c=RED)\n",
    "\n",
    "# ax.plot(log_gamma_sq, GLOBAL_CIMA * np.ones_like(log_gamma_sq), label=r\"$C_{\\mathrm{IMA}}$\", c=\"black\", linestyle=\"--\")\n",
    "\n",
    "ax.set_ylabel(r\"$\\mathrm{ELBO}^*\\ \\mathrm{Gap}$\", labelpad=LABELPAD)\n",
    "ax.set_xlabel(r\"$\\log_{10}\\gamma^2$\", labelpad=LABELPAD)\n",
    "plt.legend()\n",
    "\n",
    "ax.set_xticklabels(range(log_gamma_sq[0].astype(int),log_gamma_sq[-1].astype(int)))\n",
    "\n",
    "\n",
    "# Make a plot with major ticks that are multiples of 20 and minor ticks that\n",
    "# are multiples of 5.  Label major ticks with '%d' formatting but don't label\n",
    "# minor ticks.\n",
    "ax.xaxis.set_major_locator(MultipleLocator(1))\n",
    "ax.xaxis.set_major_formatter(FormatStrFormatter('%d'))\n",
    "# For the minor ticks, use no labels; default NullFormatter.\n",
    "ax.xaxis.set_minor_locator(MultipleLocator(0.5))\n",
    "\n",
    "\n",
    "plt.savefig(\"ima_elbo_likelihood.svg\")"
   ],
   "metadata": {
    "collapsed": false,
    "pycharm": {
     "name": "#%%\n"
    }
   }
  }
 ],
 "metadata": {
  "kernelspec": {
   "display_name": "Python 3 (ipykernel)",
   "language": "python",
   "name": "python3"
  },
  "language_info": {
   "codemirror_mode": {
    "name": "ipython",
    "version": 3
   },
   "file_extension": ".py",
   "mimetype": "text/x-python",
   "name": "python",
   "nbconvert_exporter": "python",
   "pygments_lexer": "ipython3",
   "version": "3.9.6"
  }
 },
 "nbformat": 4,
 "nbformat_minor": 1
}