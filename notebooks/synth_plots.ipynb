{
 "cells": [
  {
   "cell_type": "code",
   "execution_count": 1,
   "metadata": {
    "pycharm": {
     "name": "#%%\n"
    }
   },
   "outputs": [],
   "source": [
    "# imports\n",
    "from tueplots import bundles\n",
    "import wandb\n",
    "import pandas as pd\n",
    "import numpy as np\n",
    "import matplotlib.pyplot as plt\n",
    "from matplotlib.ticker import MultipleLocator, FormatStrFormatter\n",
    "from tueplots  import figsizes\n",
    "\n",
    "import sys\n",
    "\n",
    "%load_ext autoreload\n",
    "%autoreload 2\n",
    "\n",
    "sys.path.insert(0, '.')"
   ]
  },
  {
   "cell_type": "code",
   "execution_count": 15,
   "outputs": [],
   "source": [
    "from analysis import sweep2df, format_violin, RED, BLUE\n",
    "from care_nl_ica.models.sinkhorn import learn_permutation"
   ],
   "metadata": {
    "collapsed": false,
    "pycharm": {
     "name": "#%%\n"
    }
   }
  },
  {
   "cell_type": "code",
   "execution_count": 3,
   "outputs": [
    {
     "name": "stderr",
     "output_type": "stream",
     "text": [
      "/Library/Developer/CommandLineTools/Library/Frameworks/Python3.framework/Versions/3.8/lib/python3.8/_collections_abc.py:834: MatplotlibDeprecationWarning: Support for setting the 'text.latex.preamble' or 'pgf.preamble' rcParam to a list of strings is deprecated since 3.3 and will be removed two minor releases later; set it to a single string instead.\n",
      "  self[key] = other[key]\n"
     ]
    }
   ],
   "source": [
    "plt.rcParams.update(bundles.neurips2022(usetex=True))\n",
    "plt.rcParams.update({\n",
    "    'text.latex.preamble': [r'\\usepackage{amsfonts}', # mathbb\n",
    "                            r'\\usepackage{amsmath}'] # boldsymbol\n",
    "})"
   ],
   "metadata": {
    "collapsed": false,
    "pycharm": {
     "name": "#%%\n"
    }
   }
  },
  {
   "cell_type": "code",
   "execution_count": 72,
   "metadata": {
    "pycharm": {
     "name": "#%%\n"
    }
   },
   "outputs": [],
   "source": [
    "# Constants\n",
    "ENTITY = \"causal-representation-learning\"\n",
    "PROJECT = \"nl-causal-representations\"\n",
    "\n",
    "# W&B API\n",
    "api = wandb.Api(timeout=200)\n",
    "runs = api.runs(ENTITY + \"/\" + PROJECT)"
   ]
  },
  {
   "cell_type": "markdown",
   "source": [
    "# Data loading"
   ],
   "metadata": {
    "collapsed": false,
    "pycharm": {
     "name": "#%% md\n"
    }
   }
  },
  {
   "cell_type": "code",
   "execution_count": 78,
   "outputs": [
    {
     "data": {
      "text/plain": "[array({'mean': 2.8133716583251953, '_type': 'torch.Tensor', '10%': -8.083252286911009, '25%': 0, 'var': 272.113037109375, 'size': 64, '75%': 1.6542763710021973, '90%': 22.810142898559583, 'min': -36.085296630859375, 'max': 68.98664855957031},\n       dtype=object),\n array([[  6.13943481,   0.        ,   0.        ,   0.        ,\n           0.        ],\n        [ -1.69066799,   1.39582276,   0.        ,   0.        ,\n           0.        ],\n        [  6.37966299,   0.31269157,  -2.2214396 ,   0.        ,\n           0.        ],\n        [-31.32329559,   3.20180988,   4.47699261,  -4.41901827,\n           0.        ],\n        [ 98.1496048 ,  -6.92886639, -12.47439098,  11.51362228,\n           3.92419839]]),\n array([[-4.73548079,  0.        ,  0.        ,  0.        ,  0.        ],\n        [-3.3953855 , -6.37604856,  0.        ,  0.        ,  0.        ],\n        [16.31355476, 13.23537922, -3.04217029,  0.        ,  0.        ],\n        [22.22460365, 15.32792759, -3.70758939,  1.73813486,  0.        ],\n        [ 5.57328701, 25.52604675, -1.73797095, -0.53870535,  4.07850218]]),\n array([[ 3.50678396e+00,  0.00000000e+00,  0.00000000e+00,\n          0.00000000e+00,  0.00000000e+00],\n        [-2.22875397e+02, -1.23691925e+02,  0.00000000e+00,\n          0.00000000e+00,  0.00000000e+00],\n        [-6.49347961e+02, -3.54909760e+02, -9.42303562e+00,\n          0.00000000e+00,  0.00000000e+00],\n        [-4.94411133e+02, -2.73930267e+02, -4.15454865e+00,\n         -1.76400530e+00,  0.00000000e+00],\n        [-9.86867142e+01, -5.27960167e+01, -6.88626623e+00,\n          1.85079381e-01,  2.32157779e+00]]),\n array([[  3.52159357,   0.        ,   0.        ,   0.        ,\n           0.        ],\n        [  3.35597444,  12.05632114,   0.        ,   0.        ,\n           0.        ],\n        [ -2.06853747, -18.39916801,  -2.3413682 ,   0.        ,\n           0.        ],\n        [-16.8236618 ,  40.40638733,   5.90596962,   6.64338827,\n           0.        ],\n        [-85.57577515, 264.93508911,  39.68400574,  36.09534454,\n           6.57440996]]),\n array([[ -3.24956083,   0.        ,   0.        ],\n        [  1.52564311,   2.86493945,   0.        ],\n        [-10.48649311,   2.64869642,   3.90620375]]),\n array([[ 3.42388868,  0.        ,  0.        ],\n        [-3.34238005,  2.75948405,  0.        ],\n        [-5.83884764, -1.00989068,  2.32124853]]),\n array({'90%': 83.40608520507814, 'min': -219.4737243652344, '_type': 'torch.Tensor', '75%': 7.830854415893555, 'max': 5960.85498046875, 'mean': 118.49777221679688, 'size': 100, '10%': -9.510535240173338, '25%': 0, 'var': 450986.6875},\n       dtype=object),\n array({'mean': -18.129114151000977, '10%': -65.21939849853516, '90%': 3.107678365707402, 'min': -387.5238342285156, 'max': 182.4627685546875, 'size': 64, '_type': 'torch.Tensor', '25%': -3.311793863773346, 'var': 4736.326171875, '75%': 0},\n       dtype=object),\n array([[  1.19330645,   0.        ,   0.        ,   0.        ,\n           0.        ],\n        [  1.95266557, -14.04689789,   0.        ,   0.        ,\n           0.        ],\n        [  5.39032555, -30.28015327,   3.33952045,   0.        ,\n           0.        ],\n        [  2.68706226, -13.67781353,   1.29855883,  -1.12696469,\n           0.        ],\n        [  5.70033693, -29.98930359,   1.79335618,  -0.64036727,\n          -1.60908425]]),\n array([[ 1.06976736,  0.        ,  0.        ],\n        [ 0.24751025, -1.78051496,  0.        ],\n        [ 1.10780597, -2.86375308,  2.0067482 ]]),\n array([[ 2.31073809,  0.        ,  0.        ],\n        [-3.02228832, -1.67731571,  0.        ],\n        [-6.79545736, -2.57836509, -2.0563004 ]]),\n array([[ 1.66666043,  0.        ,  0.        ],\n        [-0.2903353 , -1.04302919,  0.        ],\n        [ 2.087991  , -0.02195095, -1.60597241]])]"
     },
     "execution_count": 78,
     "metadata": {},
     "output_type": "execute_result"
    }
   ],
   "source": [
    "true_unmix_jacobians_monti"
   ],
   "metadata": {
    "collapsed": false,
    "pycharm": {
     "name": "#%%\n"
    }
   }
  },
  {
   "cell_type": "code",
   "execution_count": 33,
   "outputs": [
    {
     "data": {
      "text/plain": "array([[ 1.93882871,  1.40007854,  1.50939941, -1.52444494,  0.01124954,\n         0.00467368,  1.57117176,  1.79014182, -0.01026418]])"
     },
     "execution_count": 33,
     "metadata": {},
     "output_type": "execute_result"
    }
   ],
   "source": [
    "\n",
    "SWEEP_ID = \"vfv1je0d\"\n",
    "sweep = api.sweep(f\"{ENTITY}/{PROJECT}/{SWEEP_ID}\")\n",
    "sweep.runs[59].logged_artifacts()[0].get(\"dep_mat_table\").get_column(\"dep_mat\", \"numpy\")#.use_artifact(\"dep_mat_table\")\n",
    "# artifact = run.use_artifact('causal-representation-learning/experiment/run-iczvn8od-dep_mat_table:v0', type='run_table')\n",
    "# artifact.get(\"dep_mat_table\")"
   ],
   "metadata": {
    "collapsed": false,
    "pycharm": {
     "name": "#%%\n"
    }
   }
  },
  {
   "cell_type": "code",
   "execution_count": 11,
   "metadata": {
    "pycharm": {
     "name": "#%%\n"
    }
   },
   "outputs": [
    {
     "name": "stdout",
     "output_type": "stream",
     "text": [
      "Loading sweep with SWEEP_ID='gz1yqsuk'\n",
      "Loading sweep with SWEEP_ID='5gzpzb23'\n"
     ]
    }
   ],
   "source": [
    "SWEEP_ID = \"gz1yqsuk\"\n",
    "sweep = api.sweep(f\"{ENTITY}/{PROJECT}/{SWEEP_ID}\")\n",
    "filename = f\"sem_sweep_{SWEEP_ID}\"\n",
    "print(f\"Loading sweep with {SWEEP_ID=}\")\n",
    "df1, (true_unmix_jacobians1, est_unmix_jacobians1, permute_indices1) = sweep2df(sweep.runs, filename, save=True, load=True)\n",
    "\n",
    "SWEEP_ID = \"5gzpzb23\"\n",
    "sweep = api.sweep(f\"{ENTITY}/{PROJECT}/{SWEEP_ID}\")\n",
    "filename = f\"sem_sweep_{SWEEP_ID}\"\n",
    "print(f\"Loading sweep with {SWEEP_ID=}\")\n",
    "df2, (true_unmix_jacobians2, est_unmix_jacobians2, permute_indices2) = sweep2df(sweep.runs, filename, save=True, load=True)\n",
    "\n",
    "df = df1.append(df2)\n",
    "true_unmix_jacobians = true_unmix_jacobians1 +true_unmix_jacobians2\n",
    "est_unmix_jacobians = est_unmix_jacobians1+est_unmix_jacobians2\n",
    "permute_indices = permute_indices1+permute_indices2"
   ]
  },
  {
   "cell_type": "markdown",
   "source": [
    "## 3D SEM"
   ],
   "metadata": {
    "collapsed": false,
    "pycharm": {
     "name": "#%% md\n"
    }
   }
  },
  {
   "cell_type": "code",
   "execution_count": 99,
   "outputs": [],
   "source": [
    "\n",
    "SWEEP_ID = \"vfv1je0d\" #\"nz4r5d8a\"\n",
    "sweep = api.sweep(f\"{ENTITY}/{PROJECT}/{SWEEP_ID}\")\n",
    "filename = f\"sem_3d_sweep_{SWEEP_ID}\"\n",
    "df3d, (true_unmix_jacobians3d, est_unmix_jacobians3d, permute_indices3d) = sweep2df(sweep.runs, filename, save=True, load=False)"
   ],
   "metadata": {
    "collapsed": false,
    "pycharm": {
     "name": "#%%\n"
    }
   }
  },
  {
   "cell_type": "markdown",
   "source": [
    "## 5D SEM"
   ],
   "metadata": {
    "collapsed": false,
    "pycharm": {
     "name": "#%% md\n"
    }
   }
  },
  {
   "cell_type": "code",
   "execution_count": 86,
   "outputs": [],
   "source": [
    "SWEEP_ID = \"3ldi48id\"\n",
    "sweep = api.sweep(f\"{ENTITY}/{PROJECT}/{SWEEP_ID}\")\n",
    "filename = f\"sem_3d_sweep_{SWEEP_ID}\"\n",
    "df5d, (true_unmix_jacobians5d, est_unmix_jacobians5d, permute_indices5d) = sweep2df(sweep.runs, filename, save=True, load=False)"
   ],
   "metadata": {
    "collapsed": false,
    "pycharm": {
     "name": "#%%\n"
    }
   }
  },
  {
   "cell_type": "markdown",
   "source": [
    "## 8D SEM"
   ],
   "metadata": {
    "collapsed": false,
    "pycharm": {
     "name": "#%% md\n"
    }
   }
  },
  {
   "cell_type": "markdown",
   "source": [
    "## 10D SEM"
   ],
   "metadata": {
    "collapsed": false,
    "pycharm": {
     "name": "#%% md\n"
    }
   }
  },
  {
   "cell_type": "markdown",
   "source": [
    "## MLP from Monti et al."
   ],
   "metadata": {
    "collapsed": false,
    "pycharm": {
     "name": "#%% md\n"
    }
   }
  },
  {
   "cell_type": "code",
   "execution_count": 80,
   "outputs": [
    {
     "data": {
      "text/plain": "[array({'mean': 0.17256055772304535, 'min': -23.18301010131836, '_type': 'torch.Tensor', '25%': -0.37722308188676834, 'max': 12.382342338562012, 'var': 19.386812210083008, '10%': -2.902764678001403, '90%': 3.052418327331543, 'size': 64, '75%': 1.0104133635759354},\n       dtype=object),\n array([[-6.15742493e+00, -2.75305100e-03,  7.83871859e-03,\n         -4.32511047e-03,  6.34156517e-04],\n        [ 3.04651318e+01, -3.10626674e+00, -4.36681366e+00,\n          4.31507874e+00, -9.31978691e-03],\n        [ 1.80417955e+00, -1.40463102e+00, -1.00446185e-02,\n          2.04220153e-02,  5.05587878e-03],\n        [ 9.34721069e+01, -6.57836294e+00, -1.19044800e+01,\n          1.09991074e+01,  3.74103117e+00],\n        [ 6.38666296e+00,  3.17610204e-01, -2.21809959e+00,\n          9.24070308e-04,  3.59703181e-03]]),\n array([[ 2.12413521e+01,  1.47355518e+01, -3.51345396e+00,\n          1.67496777e+00,  1.62693392e-02],\n        [ 1.60499973e+01,  1.30976744e+01, -2.96611786e+00,\n         -4.00109682e-04,  8.84185359e-03],\n        [ 5.40540791e+00,  2.50574684e+01, -1.67517066e+00,\n         -5.35068154e-01,  4.01512861e+00],\n        [ 4.61746502e+00, -1.68866534e-02,  1.30690169e-02,\n         -3.37155163e-03,  1.23703256e-02],\n        [ 3.18485212e+00,  6.22492790e+00,  3.30240577e-02,\n         -4.20512445e-03,  5.31508541e-03]]),\n array([[ 1.55345082e-01,  1.61354825e-01, -1.24793553e+00,\n         -5.70739985e-01, -1.04055158e-03],\n        [ 4.91615623e-01, -1.10362458e+00,  2.43043804e+00,\n         -5.67506207e-03, -2.14469060e-02],\n        [-1.71839499e+00, -2.16803646e+00,  4.96089792e+00,\n         -2.49333888e-01, -2.04269934e+00],\n        [ 1.14391494e+00, -1.30030131e+00, -8.45669489e-03,\n         -2.84862658e-03, -4.72137472e-05],\n        [ 1.09107018e+00, -1.50830674e+00,  1.75921941e+00,\n         -1.00763631e+00, -1.99559536e-02]]),\n array([[-8.13674355e+00,  2.27380037e+00,  6.96054459e-01,\n          2.62690043e+00,  4.43207115e-01],\n        [-3.47320890e+00,  1.03732102e-01,  1.63980126e-02,\n         -4.77344822e-03,  4.07453347e-03],\n        [ 7.36357260e+00, -1.46663642e+00, -1.94038236e+00,\n         -1.75062227e+00, -3.14590752e-01],\n        [-2.35078025e+00, -2.99463439e+00, -5.62787056e-01,\n          6.04951918e-01, -9.30537105e-01],\n        [ 8.22099113e+00, -2.49051356e+00, -7.65293837e-01,\n         -2.62929821e+00, -5.04170418e-01]]),\n array([[ 3.26780391e+00,  2.45780908e-02, -1.00468788e-02],\n        [ 1.53076625e+00,  2.84257483e+00, -8.86657089e-03],\n        [ 1.04459190e+01, -2.62324142e+00, -3.87615466e+00]]),\n array([[-5.75551128e+00, -1.02944493e+00,  2.30302715e+00],\n        [ 3.43886471e+00,  1.04245618e-02, -1.57005396e-02],\n        [-3.35737753e+00,  2.73800325e+00,  1.11688999e-03]]),\n array({'_type': 'torch.Tensor', '25%': -0.9877426028251648, '90%': 1.248728060722352, '10%': -1.5550423622131346, 'var': 2.256707191467285, 'mean': -0.2832769453525543, 'size': 100, 'max': 3.891491651535034, '75%': 0.5389246493577957, 'min': -4.402454376220703},\n       dtype=object),\n array({'10%': -1.5836636900901793, 'var': 0.9590107202529908, 'max': 2.1657557487487793, '_type': 'torch.Tensor', '25%': -0.3485906049609184, '75%': 0.2050789445638657, 'min': -2.491274356842041, 'mean': -0.08279690146446228, '90%': 1.2736415147781377, 'size': 64},\n       dtype=object),\n array([[ 1.19157124e+00, -1.91563964e-02, -1.76729984e-03,\n          1.68887898e-03, -4.54426650e-03],\n        [ 1.95414805e+00, -1.39741201e+01,  5.84552949e-03,\n          5.28726727e-03, -7.46015087e-03],\n        [-2.65848827e+00,  1.35331841e+01, -1.27702236e+00,\n          1.12144685e+00,  2.75505870e-03],\n        [ 5.26303959e+00, -2.95254326e+01,  3.25498652e+00,\n          2.40691449e-03,  1.26891499e-02],\n        [-5.62292242e+00,  2.95120964e+01, -1.76694298e+00,\n          6.22891903e-01,  1.59030056e+00]]),\n array([[-2.28989065e-01,  1.73891401e+00,  1.96418446e-02],\n        [ 1.10573363e+00, -2.85294485e+00,  2.00215793e+00],\n        [-1.06233025e+00,  1.59683172e-03,  8.80878605e-03]]),\n array([[-6.77583122e+00, -2.56935978e+00, -2.03938341e+00],\n        [ 2.32351542e+00,  7.90865812e-03,  2.66995467e-03],\n        [ 3.03204298e+00,  1.68047285e+00,  7.67404493e-03]]),\n array([[-2.05325365e+00,  6.21207943e-03,  1.58530688e+00],\n        [-1.66518807e+00, -9.13713407e-03,  9.38506704e-03],\n        [-2.80439675e-01, -1.03824019e+00,  1.30236987e-03]])]"
     },
     "execution_count": 80,
     "metadata": {},
     "output_type": "execute_result"
    }
   ],
   "source": [
    "est_unmix_jacobians_monti"
   ],
   "metadata": {
    "collapsed": false,
    "pycharm": {
     "name": "#%%\n"
    }
   }
  },
  {
   "cell_type": "code",
   "execution_count": 81,
   "outputs": [
    {
     "name": "stdout",
     "output_type": "stream",
     "text": [
      "8\n",
      "5\n",
      "5\n",
      "5\n",
      "5\n",
      "3\n",
      "3\n",
      "10\n",
      "8\n",
      "5\n",
      "3\n",
      "3\n",
      "3\n"
     ]
    },
    {
     "name": "stderr",
     "output_type": "stream",
     "text": [
      "/Users/patrik.reizinger/Documents/GitHub/nl-causal-representations/venv/lib/python3.8/site-packages/numpy/core/_asarray.py:136: VisibleDeprecationWarning: Creating an ndarray from ragged nested sequences (which is a list-or-tuple of lists-or-tuples-or ndarrays with different lengths or shapes) is deprecated. If you meant to do this, you must specify 'dtype=object' when creating the ndarray\n",
      "  return array(a, dtype, copy=False, order=order, subok=True)\n"
     ]
    }
   ],
   "source": [
    "SWEEP_ID = \"fhaza97x\"\n",
    "sweep = api.sweep(f\"{ENTITY}/{PROJECT}/{SWEEP_ID}\")\n",
    "filename = f\"monti_sweep_{SWEEP_ID}\"\n",
    "df_monti, (true_unmix_jacobians_monti, est_unmix_jacobians_monti, permute_indices_monti) = sweep2df(sweep.runs, filename, save=True, load=False)"
   ],
   "metadata": {
    "collapsed": false,
    "pycharm": {
     "name": "#%%\n"
    }
   }
  },
  {
   "cell_type": "code",
   "execution_count": 76,
   "outputs": [
    {
     "data": {
      "text/plain": "                    name  dim  permute  variant  n_mixing_layer  use_sem  \\\n0   distinctive-sweep-13    8    False        3               1    False   \n1        dulcet-sweep-12    5    False        3               1    False   \n2        decent-sweep-11    5    False        3               1    False   \n3        upbeat-sweep-10    5    False        3               1    False   \n4         hearty-sweep-9    5    False        3               1    False   \n5          comfy-sweep-7    3    False        3               1    False   \n6          eager-sweep-8    3    False        3               1    False   \n7        desert-sweep-20   10    False        3               1    False   \n8         misty-sweep-15    8    False        3               1    False   \n9      feasible-sweep-10    5    False        3               1    False   \n10          neat-sweep-5    3    False        3               1    False   \n11   distinctive-sweep-2    3    False        3               1    False   \n12          dark-sweep-1    3    False        3               1    False   \n\n    nonlin_sem  force_chain  force_uniform       mcc  val_loss  \n0        False        False          False  0.879461  0.488243  \n1        False        False          False  0.999741  1.940162  \n2        False        False          False  0.999712  1.923173  \n3        False        False          False  0.805662  3.030349  \n4        False        False          False  0.814941  3.105927  \n5        False        False          False  0.999954  4.486361  \n6        False        False          False  0.999953  4.434566  \n7        False        False          False  0.825161  0.193559  \n8        False        False          False  0.899726  0.484964  \n9        False        False          False  0.999930  1.939643  \n10       False        False          False  0.999960  4.443316  \n11       False        False          False  0.999972  4.444705  \n12       False        False          False  0.999923  4.464646  ",
      "text/html": "<div>\n<style scoped>\n    .dataframe tbody tr th:only-of-type {\n        vertical-align: middle;\n    }\n\n    .dataframe tbody tr th {\n        vertical-align: top;\n    }\n\n    .dataframe thead th {\n        text-align: right;\n    }\n</style>\n<table border=\"1\" class=\"dataframe\">\n  <thead>\n    <tr style=\"text-align: right;\">\n      <th></th>\n      <th>name</th>\n      <th>dim</th>\n      <th>permute</th>\n      <th>variant</th>\n      <th>n_mixing_layer</th>\n      <th>use_sem</th>\n      <th>nonlin_sem</th>\n      <th>force_chain</th>\n      <th>force_uniform</th>\n      <th>mcc</th>\n      <th>val_loss</th>\n    </tr>\n  </thead>\n  <tbody>\n    <tr>\n      <th>0</th>\n      <td>distinctive-sweep-13</td>\n      <td>8</td>\n      <td>False</td>\n      <td>3</td>\n      <td>1</td>\n      <td>False</td>\n      <td>False</td>\n      <td>False</td>\n      <td>False</td>\n      <td>0.879461</td>\n      <td>0.488243</td>\n    </tr>\n    <tr>\n      <th>1</th>\n      <td>dulcet-sweep-12</td>\n      <td>5</td>\n      <td>False</td>\n      <td>3</td>\n      <td>1</td>\n      <td>False</td>\n      <td>False</td>\n      <td>False</td>\n      <td>False</td>\n      <td>0.999741</td>\n      <td>1.940162</td>\n    </tr>\n    <tr>\n      <th>2</th>\n      <td>decent-sweep-11</td>\n      <td>5</td>\n      <td>False</td>\n      <td>3</td>\n      <td>1</td>\n      <td>False</td>\n      <td>False</td>\n      <td>False</td>\n      <td>False</td>\n      <td>0.999712</td>\n      <td>1.923173</td>\n    </tr>\n    <tr>\n      <th>3</th>\n      <td>upbeat-sweep-10</td>\n      <td>5</td>\n      <td>False</td>\n      <td>3</td>\n      <td>1</td>\n      <td>False</td>\n      <td>False</td>\n      <td>False</td>\n      <td>False</td>\n      <td>0.805662</td>\n      <td>3.030349</td>\n    </tr>\n    <tr>\n      <th>4</th>\n      <td>hearty-sweep-9</td>\n      <td>5</td>\n      <td>False</td>\n      <td>3</td>\n      <td>1</td>\n      <td>False</td>\n      <td>False</td>\n      <td>False</td>\n      <td>False</td>\n      <td>0.814941</td>\n      <td>3.105927</td>\n    </tr>\n    <tr>\n      <th>5</th>\n      <td>comfy-sweep-7</td>\n      <td>3</td>\n      <td>False</td>\n      <td>3</td>\n      <td>1</td>\n      <td>False</td>\n      <td>False</td>\n      <td>False</td>\n      <td>False</td>\n      <td>0.999954</td>\n      <td>4.486361</td>\n    </tr>\n    <tr>\n      <th>6</th>\n      <td>eager-sweep-8</td>\n      <td>3</td>\n      <td>False</td>\n      <td>3</td>\n      <td>1</td>\n      <td>False</td>\n      <td>False</td>\n      <td>False</td>\n      <td>False</td>\n      <td>0.999953</td>\n      <td>4.434566</td>\n    </tr>\n    <tr>\n      <th>7</th>\n      <td>desert-sweep-20</td>\n      <td>10</td>\n      <td>False</td>\n      <td>3</td>\n      <td>1</td>\n      <td>False</td>\n      <td>False</td>\n      <td>False</td>\n      <td>False</td>\n      <td>0.825161</td>\n      <td>0.193559</td>\n    </tr>\n    <tr>\n      <th>8</th>\n      <td>misty-sweep-15</td>\n      <td>8</td>\n      <td>False</td>\n      <td>3</td>\n      <td>1</td>\n      <td>False</td>\n      <td>False</td>\n      <td>False</td>\n      <td>False</td>\n      <td>0.899726</td>\n      <td>0.484964</td>\n    </tr>\n    <tr>\n      <th>9</th>\n      <td>feasible-sweep-10</td>\n      <td>5</td>\n      <td>False</td>\n      <td>3</td>\n      <td>1</td>\n      <td>False</td>\n      <td>False</td>\n      <td>False</td>\n      <td>False</td>\n      <td>0.999930</td>\n      <td>1.939643</td>\n    </tr>\n    <tr>\n      <th>10</th>\n      <td>neat-sweep-5</td>\n      <td>3</td>\n      <td>False</td>\n      <td>3</td>\n      <td>1</td>\n      <td>False</td>\n      <td>False</td>\n      <td>False</td>\n      <td>False</td>\n      <td>0.999960</td>\n      <td>4.443316</td>\n    </tr>\n    <tr>\n      <th>11</th>\n      <td>distinctive-sweep-2</td>\n      <td>3</td>\n      <td>False</td>\n      <td>3</td>\n      <td>1</td>\n      <td>False</td>\n      <td>False</td>\n      <td>False</td>\n      <td>False</td>\n      <td>0.999972</td>\n      <td>4.444705</td>\n    </tr>\n    <tr>\n      <th>12</th>\n      <td>dark-sweep-1</td>\n      <td>3</td>\n      <td>False</td>\n      <td>3</td>\n      <td>1</td>\n      <td>False</td>\n      <td>False</td>\n      <td>False</td>\n      <td>False</td>\n      <td>0.999923</td>\n      <td>4.464646</td>\n    </tr>\n  </tbody>\n</table>\n</div>"
     },
     "execution_count": 76,
     "metadata": {},
     "output_type": "execute_result"
    }
   ],
   "source": [
    "df_monti"
   ],
   "metadata": {
    "collapsed": false,
    "pycharm": {
     "name": "#%%\n"
    }
   }
  },
  {
   "cell_type": "markdown",
   "source": [
    "# Pre-processing"
   ],
   "metadata": {
    "collapsed": false,
    "pycharm": {
     "name": "#%% md\n"
    }
   }
  },
  {
   "cell_type": "code",
   "execution_count": 126,
   "outputs": [],
   "source": [
    "def learning_stats(df, true_unmix_jacobians, est_unmix_jacobians, permute_indices, hamming_threshold=1e-2):\n",
    "    for dim in df.dim.unique():\n",
    "        for nl in [False, True]:\n",
    "            success = []\n",
    "            hamming = []\n",
    "            for (nl_sem, j_gt, j_est, permute) in zip(df.nonlin_sem, true_unmix_jacobians, est_unmix_jacobians, permute_indices):\n",
    "                if j_gt.shape[0] == dim and nl_sem is nl:\n",
    "                    s, h = learn_permutation(j_gt, j_est, permute, triu_weigth=20., tril_weight=10.,diag_weight=6., num_steps=5000, lr=1e-4, verbose=True,drop_smallest=True, threshold=None, binary=True, hamming_threshold=hamming_threshold)\n",
    "\n",
    "                    success.append(s)\n",
    "                    hamming.append(h)\n",
    "\n",
    "            mcc = df.mcc[(df.dim ==dim) & (df.nonlin_sem==nl)]\n",
    "            print(\"----------------------------------\")\n",
    "            print(\"----------------------------------\")\n",
    "            print(f\"{dim=} ({'linear' if nl is False else 'nonlinear'})\\tMCC={mcc.mean():.3f}+{mcc.std():.3f}\\tAcc:{np.array(success).mean()}\\t SHD:{np.array(hamming).mean()}\\t[{len(success)} items]\")\n",
    "            print(\"----------------------------------\")\n",
    "            print(\"----------------------------------\")"
   ],
   "metadata": {
    "collapsed": false,
    "pycharm": {
     "name": "#%%\n"
    }
   }
  },
  {
   "cell_type": "markdown",
   "source": [
    "## 3D SEM"
   ],
   "metadata": {
    "collapsed": false,
    "pycharm": {
     "name": "#%% md\n"
    }
   }
  },
  {
   "cell_type": "code",
   "execution_count": 128,
   "outputs": [
    {
     "name": "stdout",
     "output_type": "stream",
     "text": [
      "Correct order identified\n",
      "Correct order identified\n",
      "Correct order identified\n",
      "Correct order identified\n",
      "Correct order identified\n",
      "Correct order identified\n",
      "Correct order identified\n",
      "Correct order identified\n",
      "Correct order identified\n",
      "Correct order identified\n",
      "Correct order identified\n",
      "Correct order identified\n",
      "Correct order identified\n",
      "Correct order identified\n",
      "Correct order identified\n",
      "Correct order identified\n",
      "Correct order identified\n",
      "Correct order identified\n",
      "Correct order identified\n",
      "Correct order identified\n",
      "Correct order identified\n",
      "Correct order identified\n",
      "Correct order identified\n",
      "Correct order identified\n",
      "----------------------------------\n",
      "----------------------------------\n",
      "dim=3 (linear)\tMCC=1.000+0.000\tAcc:1.0\t SHD:0.0\t[24 items]\n",
      "----------------------------------\n",
      "----------------------------------\n",
      "Correct order identified\n",
      "Correct order identified\n",
      "Correct order identified\n",
      "Correct order identified\n",
      "Correct order identified\n",
      "Correct order identified\n",
      "Correct order identified\n",
      "Correct order identified\n",
      "Correct order identified\n",
      "Correct order identified\n",
      "Correct order identified\n",
      "Correct order identified\n",
      "Correct order identified\n",
      "----------------------------------\n",
      "----------------------------------\n",
      "dim=3 (nonlinear)\tMCC=1.000+0.000\tAcc:1.0\t SHD:0.0\t[13 items]\n",
      "----------------------------------\n",
      "----------------------------------\n"
     ]
    }
   ],
   "source": [
    "learning_stats(df3d, true_unmix_jacobians3d, est_unmix_jacobians3d, permute_indices3d)"
   ],
   "metadata": {
    "collapsed": false,
    "pycharm": {
     "name": "#%%\n"
    }
   }
  },
  {
   "cell_type": "markdown",
   "source": [
    "## 5D SEM"
   ],
   "metadata": {
    "collapsed": false,
    "pycharm": {
     "name": "#%% md\n"
    }
   }
  },
  {
   "cell_type": "code",
   "execution_count": 129,
   "outputs": [
    {
     "name": "stdout",
     "output_type": "stream",
     "text": [
      "Correct order identified\n",
      "Correct order identified\n",
      "Correct order identified\n",
      "Correct order identified\n",
      "Correct order identified\n",
      "Correct order identified\n",
      "Correct order identified\n",
      "----------------------------------\n",
      "----------------------------------\n",
      "dim=5 (linear)\tMCC=1.000+0.000\tAcc:1.0\t SHD:0.0\t[7 items]\n",
      "----------------------------------\n",
      "----------------------------------\n",
      "----------------------------------\n",
      "----------------------------------\n",
      "dim=5 (nonlinear)\tMCC=nan+nan\tAcc:nan\t SHD:nan\t[0 items]\n",
      "----------------------------------\n",
      "----------------------------------\n"
     ]
    },
    {
     "name": "stderr",
     "output_type": "stream",
     "text": [
      "/var/folders/rb/d8k1n6bj4lg801y0yxz4jtbh0000gn/T/ipykernel_95175/2071231733.py:16: RuntimeWarning: Mean of empty slice.\n",
      "  print(f\"{dim=} ({'linear' if nl is False else 'nonlinear'})\\tMCC={mcc.mean():.3f}+{mcc.std():.3f}\\tAcc:{np.array(success).mean()}\\t SHD:{np.array(hamming).mean()}\\t[{len(success)} items]\")\n",
      "/Users/patrik.reizinger/Documents/GitHub/nl-causal-representations/venv/lib/python3.8/site-packages/numpy/core/_methods.py:170: RuntimeWarning: invalid value encountered in double_scalars\n",
      "  ret = ret.dtype.type(ret / rcount)\n"
     ]
    }
   ],
   "source": [
    "learning_stats(df5d, true_unmix_jacobians5d, est_unmix_jacobians5d, permute_indices5d, 1e-3)"
   ],
   "metadata": {
    "collapsed": false,
    "pycharm": {
     "name": "#%%\n"
    }
   }
  },
  {
   "cell_type": "markdown",
   "source": [
    "## 8D SEM"
   ],
   "metadata": {
    "collapsed": false,
    "pycharm": {
     "name": "#%% md\n"
    }
   }
  },
  {
   "cell_type": "code",
   "execution_count": null,
   "outputs": [],
   "source": [],
   "metadata": {
    "collapsed": false,
    "pycharm": {
     "name": "#%%\n"
    }
   }
  },
  {
   "cell_type": "markdown",
   "source": [
    "## 10D SEM"
   ],
   "metadata": {
    "collapsed": false,
    "pycharm": {
     "name": "#%% md\n"
    }
   }
  },
  {
   "cell_type": "code",
   "execution_count": null,
   "outputs": [],
   "source": [],
   "metadata": {
    "collapsed": false,
    "pycharm": {
     "name": "#%%\n"
    }
   }
  },
  {
   "cell_type": "markdown",
   "source": [
    "## MLP from Monti et al."
   ],
   "metadata": {
    "collapsed": false,
    "pycharm": {
     "name": "#%% md\n"
    }
   }
  },
  {
   "cell_type": "code",
   "execution_count": 77,
   "outputs": [
    {
     "ename": "IndexError",
     "evalue": "tuple index out of range",
     "output_type": "error",
     "traceback": [
      "\u001B[0;31m---------------------------------------------------------------------------\u001B[0m",
      "\u001B[0;31mIndexError\u001B[0m                                Traceback (most recent call last)",
      "Input \u001B[0;32mIn [77]\u001B[0m, in \u001B[0;36m<cell line: 1>\u001B[0;34m()\u001B[0m\n\u001B[0;32m----> 1\u001B[0m \u001B[43mlearning_stats\u001B[49m\u001B[43m(\u001B[49m\u001B[43mdf_monti\u001B[49m\u001B[43m,\u001B[49m\u001B[43m \u001B[49m\u001B[43mtrue_unmix_jacobians_monti\u001B[49m\u001B[43m,\u001B[49m\u001B[43m \u001B[49m\u001B[43mest_unmix_jacobians_monti\u001B[49m\u001B[43m,\u001B[49m\u001B[43m \u001B[49m\u001B[43mpermute_indices_monti\u001B[49m\u001B[43m)\u001B[49m\n",
      "Input \u001B[0;32mIn [70]\u001B[0m, in \u001B[0;36mlearning_stats\u001B[0;34m(df, true_unmix_jacobians, est_unmix_jacobians, permute_indices)\u001B[0m\n\u001B[1;32m      4\u001B[0m success \u001B[38;5;241m=\u001B[39m []\n\u001B[1;32m      5\u001B[0m \u001B[38;5;28;01mfor\u001B[39;00m (nl_sem, j_gt, j_est, permute) \u001B[38;5;129;01min\u001B[39;00m \u001B[38;5;28mzip\u001B[39m(df\u001B[38;5;241m.\u001B[39mnonlin_sem, true_unmix_jacobians, est_unmix_jacobians, permute_indices):\n\u001B[0;32m----> 6\u001B[0m     \u001B[38;5;28;01mif\u001B[39;00m \u001B[43mj_gt\u001B[49m\u001B[38;5;241;43m.\u001B[39;49m\u001B[43mshape\u001B[49m\u001B[43m[\u001B[49m\u001B[38;5;241;43m0\u001B[39;49m\u001B[43m]\u001B[49m \u001B[38;5;241m==\u001B[39m dim \u001B[38;5;129;01mand\u001B[39;00m nl_sem \u001B[38;5;129;01mis\u001B[39;00m nl:\n\u001B[1;32m      7\u001B[0m         success\u001B[38;5;241m.\u001B[39mappend(learn_permutation(j_gt, j_est, permute, triu_weigth\u001B[38;5;241m=\u001B[39m\u001B[38;5;241m20.\u001B[39m, tril_weight\u001B[38;5;241m=\u001B[39m\u001B[38;5;241m10.\u001B[39m,diag_weight\u001B[38;5;241m=\u001B[39m\u001B[38;5;241m6.\u001B[39m, num_steps\u001B[38;5;241m=\u001B[39m\u001B[38;5;241m5000\u001B[39m, lr\u001B[38;5;241m=\u001B[39m\u001B[38;5;241m1e-4\u001B[39m, verbose\u001B[38;5;241m=\u001B[39m\u001B[38;5;28;01mTrue\u001B[39;00m,drop_smallest\u001B[38;5;241m=\u001B[39m\u001B[38;5;28;01mTrue\u001B[39;00m, threshold\u001B[38;5;241m=\u001B[39m\u001B[38;5;28;01mNone\u001B[39;00m, binary\u001B[38;5;241m=\u001B[39m\u001B[38;5;28;01mTrue\u001B[39;00m))\n\u001B[1;32m      9\u001B[0m mcc \u001B[38;5;241m=\u001B[39m df\u001B[38;5;241m.\u001B[39mmcc[df\u001B[38;5;241m.\u001B[39mdim \u001B[38;5;241m==\u001B[39mdim]\n",
      "\u001B[0;31mIndexError\u001B[0m: tuple index out of range"
     ]
    }
   ],
   "source": [
    "learning_stats(df_monti, true_unmix_jacobians_monti, est_unmix_jacobians_monti, permute_indices_monti)"
   ],
   "metadata": {
    "collapsed": false,
    "pycharm": {
     "name": "#%%\n"
    }
   }
  },
  {
   "cell_type": "code",
   "execution_count": 83,
   "outputs": [
    {
     "ename": "TypeError",
     "evalue": "can't convert np.ndarray of type numpy.object_. The only supported types are: float64, float32, float16, complex64, complex128, int64, int32, int16, int8, uint8, and bool.",
     "output_type": "error",
     "traceback": [
      "\u001B[0;31m---------------------------------------------------------------------------\u001B[0m",
      "\u001B[0;31mTypeError\u001B[0m                                 Traceback (most recent call last)",
      "Input \u001B[0;32mIn [83]\u001B[0m, in \u001B[0;36m<cell line: 2>\u001B[0;34m()\u001B[0m\n\u001B[1;32m      2\u001B[0m \u001B[38;5;28;01mfor\u001B[39;00m (mcc, j_gt, j_est, permute) \u001B[38;5;129;01min\u001B[39;00m \u001B[38;5;28mzip\u001B[39m(df_monti\u001B[38;5;241m.\u001B[39mmcc, true_unmix_jacobians_monti, est_unmix_jacobians_monti, permute_indices_monti):\n\u001B[1;32m      3\u001B[0m     \u001B[38;5;28;01mif\u001B[39;00m mcc \u001B[38;5;241m>\u001B[39m \u001B[38;5;241m.55\u001B[39m:\n\u001B[0;32m----> 4\u001B[0m         success\u001B[38;5;241m.\u001B[39mappend(\u001B[43mlearn_permutation\u001B[49m\u001B[43m(\u001B[49m\u001B[43mj_gt\u001B[49m\u001B[43m,\u001B[49m\u001B[43m \u001B[49m\u001B[43mj_est\u001B[49m\u001B[43m,\u001B[49m\u001B[43m \u001B[49m\u001B[43mpermute\u001B[49m\u001B[43m,\u001B[49m\u001B[43m \u001B[49m\u001B[43mtriu_weigth\u001B[49m\u001B[38;5;241;43m=\u001B[39;49m\u001B[38;5;241;43m20.\u001B[39;49m\u001B[43m,\u001B[49m\u001B[43m \u001B[49m\u001B[43mtril_weight\u001B[49m\u001B[38;5;241;43m=\u001B[39;49m\u001B[38;5;241;43m10.\u001B[39;49m\u001B[43m,\u001B[49m\u001B[43mdiag_weight\u001B[49m\u001B[38;5;241;43m=\u001B[39;49m\u001B[38;5;241;43m6.\u001B[39;49m\u001B[43m,\u001B[49m\u001B[43m \u001B[49m\u001B[43mnum_steps\u001B[49m\u001B[38;5;241;43m=\u001B[39;49m\u001B[38;5;241;43m5000\u001B[39;49m\u001B[43m,\u001B[49m\u001B[43m \u001B[49m\u001B[43mlr\u001B[49m\u001B[38;5;241;43m=\u001B[39;49m\u001B[38;5;241;43m1e-4\u001B[39;49m\u001B[43m,\u001B[49m\u001B[43m \u001B[49m\u001B[43mverbose\u001B[49m\u001B[38;5;241;43m=\u001B[39;49m\u001B[38;5;28;43;01mTrue\u001B[39;49;00m\u001B[43m,\u001B[49m\u001B[43m \u001B[49m\u001B[43mdrop_smallest\u001B[49m\u001B[38;5;241;43m=\u001B[39;49m\u001B[38;5;28;43;01mTrue\u001B[39;49;00m\u001B[43m,\u001B[49m\u001B[43m \u001B[49m\u001B[43mthreshold\u001B[49m\u001B[38;5;241;43m=\u001B[39;49m\u001B[38;5;28;43;01mNone\u001B[39;49;00m\u001B[43m,\u001B[49m\u001B[43mbinary\u001B[49m\u001B[38;5;241;43m=\u001B[39;49m\u001B[38;5;28;43;01mTrue\u001B[39;49;00m\u001B[43m)\u001B[49m)\n\u001B[1;32m      6\u001B[0m \u001B[38;5;28mprint\u001B[39m(\u001B[38;5;124m\"\u001B[39m\u001B[38;5;124m----------------------------------\u001B[39m\u001B[38;5;124m\"\u001B[39m)\n\u001B[1;32m      7\u001B[0m \u001B[38;5;28mprint\u001B[39m(\u001B[38;5;124m\"\u001B[39m\u001B[38;5;124m----------------------------------\u001B[39m\u001B[38;5;124m\"\u001B[39m)\n",
      "File \u001B[0;32m~/Documents/GitHub/nl-causal-representations/care_nl_ica/models/sinkhorn.py:80\u001B[0m, in \u001B[0;36mlearn_permutation\u001B[0;34m(true_jac, est_jac, permute_indices, num_steps, tril_weight, triu_weigth, diag_weight, lr, verbose, drop_smallest, threshold, binary)\u001B[0m\n\u001B[1;32m     65\u001B[0m \u001B[38;5;28;01mdef\u001B[39;00m \u001B[38;5;21mlearn_permutation\u001B[39m(\n\u001B[1;32m     66\u001B[0m     true_jac,\n\u001B[1;32m     67\u001B[0m     est_jac,\n\u001B[0;32m   (...)\u001B[0m\n\u001B[1;32m     77\u001B[0m     binary\u001B[38;5;241m=\u001B[39m\u001B[38;5;28;01mFalse\u001B[39;00m,\n\u001B[1;32m     78\u001B[0m ):\n\u001B[0;32m---> 80\u001B[0m     est_jac \u001B[38;5;241m=\u001B[39m \u001B[43mtorch\u001B[49m\u001B[38;5;241;43m.\u001B[39;49m\u001B[43mfrom_numpy\u001B[49m\u001B[43m(\u001B[49m\u001B[43mest_jac\u001B[49m\u001B[43m)\u001B[49m\u001B[38;5;241m.\u001B[39mfloat()\n\u001B[1;32m     81\u001B[0m     dim \u001B[38;5;241m=\u001B[39m est_jac\u001B[38;5;241m.\u001B[39mshape[\u001B[38;5;241m0\u001B[39m]\n\u001B[1;32m     83\u001B[0m     \u001B[38;5;28;01mif\u001B[39;00m drop_smallest \u001B[38;5;129;01mis\u001B[39;00m \u001B[38;5;28;01mTrue\u001B[39;00m:\n",
      "\u001B[0;31mTypeError\u001B[0m: can't convert np.ndarray of type numpy.object_. The only supported types are: float64, float32, float16, complex64, complex128, int64, int32, int16, int8, uint8, and bool."
     ]
    }
   ],
   "source": [
    "success = []\n",
    "for (mcc, j_gt, j_est, permute) in zip(df_monti.mcc, true_unmix_jacobians_monti, est_unmix_jacobians_monti, permute_indices_monti):\n",
    "    if mcc > .95:\n",
    "        success.append(learn_permutation(j_gt, j_est, permute, triu_weigth=20., tril_weight=10.,diag_weight=6., num_steps=5000, lr=1e-4, verbose=True, drop_smallest=True, threshold=None,binary=True))\n",
    "\n",
    "print(\"----------------------------------\")\n",
    "print(\"----------------------------------\")\n",
    "print(f\"Success ratio:{np.array(success).mean()}\")\n",
    "print(\"----------------------------------\")\n",
    "print(\"----------------------------------\")"
   ],
   "metadata": {
    "collapsed": false,
    "pycharm": {
     "name": "#%%\n"
    }
   }
  }
 ],
 "metadata": {
  "kernelspec": {
   "display_name": "Python 3 (ipykernel)",
   "language": "python",
   "name": "python3"
  },
  "language_info": {
   "codemirror_mode": {
    "name": "ipython",
    "version": 3
   },
   "file_extension": ".py",
   "mimetype": "text/x-python",
   "name": "python",
   "nbconvert_exporter": "python",
   "pygments_lexer": "ipython3",
   "version": "3.9.6"
  }
 },
 "nbformat": 4,
 "nbformat_minor": 1
}