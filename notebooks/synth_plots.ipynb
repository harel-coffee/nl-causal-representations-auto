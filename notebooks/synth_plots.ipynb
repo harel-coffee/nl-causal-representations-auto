{
 "cells": [
  {
   "cell_type": "markdown",
   "source": [
    "# Imports"
   ],
   "metadata": {
    "collapsed": false
   }
  },
  {
   "cell_type": "code",
   "execution_count": 1,
   "metadata": {},
   "outputs": [],
   "source": [
    "# imports\n",
    "import numpy as np\n",
    "import torch\n",
    "from tueplots import bundles, figsizes\n",
    "import wandb\n",
    "import matplotlib.pyplot as plt\n",
    "\n",
    "import sys\n",
    "\n",
    "%load_ext autoreload\n",
    "%autoreload 2\n",
    "\n",
    "sys.path.insert(0, '.')"
   ]
  },
  {
   "cell_type": "code",
   "execution_count": 2,
   "outputs": [],
   "source": [
    "from analysis import sweep2df, learning_stats,corrected_jacobian_stats, RED, BLUE, plot_typography\n"
   ],
   "metadata": {
    "collapsed": false
   }
  },
  {
   "cell_type": "code",
   "execution_count": 3,
   "outputs": [],
   "source": [
    "USETEX = True"
   ],
   "metadata": {
    "collapsed": false
   }
  },
  {
   "cell_type": "code",
   "execution_count": 4,
   "outputs": [
    {
     "name": "stderr",
     "output_type": "stream",
     "text": [
      "/Library/Developer/CommandLineTools/Library/Frameworks/Python3.framework/Versions/3.8/lib/python3.8/_collections_abc.py:834: MatplotlibDeprecationWarning: Support for setting the 'text.latex.preamble' or 'pgf.preamble' rcParam to a list of strings is deprecated since 3.3 and will be removed two minor releases later; set it to a single string instead.\n",
      "  self[key] = other[key]\n"
     ]
    }
   ],
   "source": [
    "plt.rcParams.update(bundles.neurips2022(usetex=USETEX))\n",
    "plt.rcParams.update({\n",
    "    'text.latex.preamble': [r'\\usepackage{amsfonts}', # mathbb\n",
    "                            r'\\usepackage{amsmath}'] # boldsymbol\n",
    "})"
   ],
   "metadata": {
    "collapsed": false
   }
  },
  {
   "cell_type": "code",
   "execution_count": 5,
   "outputs": [],
   "source": [
    "plot_typography(usetex=USETEX, small=12, medium=16, big=20)"
   ],
   "metadata": {
    "collapsed": false
   }
  },
  {
   "cell_type": "code",
   "execution_count": 6,
   "metadata": {},
   "outputs": [],
   "source": [
    "# Constants\n",
    "ENTITY = \"causal-representation-learning\"\n",
    "PROJECT = \"nl-causal-representations\"\n",
    "\n",
    "# W&B API\n",
    "api = wandb.Api(timeout=200)\n",
    "runs = api.runs(ENTITY + \"/\" + PROJECT)"
   ]
  },
  {
   "cell_type": "markdown",
   "source": [
    "# Data loading"
   ],
   "metadata": {
    "collapsed": false
   }
  },
  {
   "cell_type": "markdown",
   "source": [
    "## 3D SEM"
   ],
   "metadata": {
    "collapsed": false
   }
  },
  {
   "cell_type": "code",
   "execution_count": 7,
   "outputs": [
    {
     "name": "stdout",
     "output_type": "stream",
     "text": [
      "\t Loading sem_3d_sweep_mmzkkmw4...\n"
     ]
    }
   ],
   "source": [
    "SWEEP_ID = \"mmzkkmw4\"\n",
    "sweep = api.sweep(f\"{ENTITY}/{PROJECT}/{SWEEP_ID}\")\n",
    "filename = f\"sem_3d_sweep_{SWEEP_ID}\"\n",
    "df3d, (true_unmix_jacobians3d, est_unmix_jacobians3d, permute_indices3d, hsic_adj3d, ica_permute3d) = sweep2df(sweep.runs, filename, save=True, load=True)"
   ],
   "metadata": {
    "collapsed": false
   }
  },
  {
   "cell_type": "code",
   "execution_count": 7,
   "outputs": [
    {
     "name": "stdout",
     "output_type": "stream",
     "text": [
      "Encountered a faulty run with ID vivid-sweep-17\n"
     ]
    }
   ],
   "source": [
    "SWEEP_ID = \"2mgctqko\"#\"xyqu2ibw\"\n",
    "sweep = api.sweep(f\"{ENTITY}/{PROJECT}/{SWEEP_ID}\")\n",
    "filename = f\"sem_3d_permute_sweep_{SWEEP_ID}\"\n",
    "df3d_permute, (true_unmix_jacobians3d_permute, est_unmix_jacobians3d_permute, permute_indices3d_permute, hsic_adj3d_permute, ica_permute3d_permute) = sweep2df(sweep.runs, filename, save=True, load=True)"
   ],
   "metadata": {
    "collapsed": false
   }
  },
  {
   "cell_type": "code",
   "execution_count": 9,
   "outputs": [
    {
     "name": "stdout",
     "output_type": "stream",
     "text": [
      "\t Loading sem_3d_sparse_sweep_lm8s890w...\n"
     ]
    }
   ],
   "source": [
    "SWEEP_ID = \"lm8s890w\"\n",
    "sweep = api.sweep(f\"{ENTITY}/{PROJECT}/{SWEEP_ID}\")\n",
    "filename = f\"sem_3d_sparse_sweep_{SWEEP_ID}\"\n",
    "df3d_sparse, (true_unmix_jacobians3d_sparse, est_unmix_jacobians3d_sparse, permute_indices3d_sparse, hsic_adj3d_sparse, ica_permute3d_sparse) = sweep2df(sweep.runs, filename, save=True, load=True)"
   ],
   "metadata": {
    "collapsed": false
   }
  },
  {
   "cell_type": "markdown",
   "source": [
    "## 5D SEM"
   ],
   "metadata": {
    "collapsed": false
   }
  },
  {
   "cell_type": "code",
   "execution_count": 10,
   "outputs": [
    {
     "name": "stdout",
     "output_type": "stream",
     "text": [
      "\t Loading sem_5d_sweep_kdau2seo...\n"
     ]
    }
   ],
   "source": [
    "SWEEP_ID = \"kdau2seo\"#\"tzigp5kf\"\n",
    "sweep = api.sweep(f\"{ENTITY}/{PROJECT}/{SWEEP_ID}\")\n",
    "filename = f\"sem_5d_sweep_{SWEEP_ID}\"\n",
    "df5d, (true_unmix_jacobians5d, est_unmix_jacobians5d, permute_indices5d, hsic_adj5d, ica_permute5d) = sweep2df(sweep.runs, filename, save=True, load=True)"
   ],
   "metadata": {
    "collapsed": false
   }
  },
  {
   "cell_type": "code",
   "execution_count": 9,
   "outputs": [
    {
     "name": "stdout",
     "output_type": "stream",
     "text": [
      "Encountered a faulty run with ID jumping-sweep-17\n"
     ]
    }
   ],
   "source": [
    "SWEEP_ID = \"rv7yo1qy\" #\"x6chdc63\"\n",
    "sweep = api.sweep(f\"{ENTITY}/{PROJECT}/{SWEEP_ID}\")\n",
    "filename = f\"sem_5d_permute_sweep_{SWEEP_ID}\"\n",
    "df5d_permute, (true_unmix_jacobians5d_permute, est_unmix_jacobians5d_permute, permute_indices5d_permute, hsic_adj5d_permute, ica_permute5d_permute) = sweep2df(sweep.runs, filename, save=True, load=True)"
   ],
   "metadata": {
    "collapsed": false
   }
  },
  {
   "cell_type": "code",
   "execution_count": 12,
   "outputs": [
    {
     "name": "stdout",
     "output_type": "stream",
     "text": [
      "\t Loading sem_5d_sparse_sweep_7n108utd...\n"
     ]
    }
   ],
   "source": [
    "SWEEP_ID = \"7n108utd\"\n",
    "sweep = api.sweep(f\"{ENTITY}/{PROJECT}/{SWEEP_ID}\")\n",
    "filename = f\"sem_5d_sparse_sweep_{SWEEP_ID}\"\n",
    "df5d_sparse, (true_unmix_jacobians5d_sparse, est_unmix_jacobians5d_sparse, permute_indices5d_sparse,hsic_adj5d_sparse, ica_permute5d_sparse) = sweep2df(sweep.runs, filename, save=True, load=True)"
   ],
   "metadata": {
    "collapsed": false
   }
  },
  {
   "cell_type": "markdown",
   "source": [
    "## 8D SEM"
   ],
   "metadata": {
    "collapsed": false
   }
  },
  {
   "cell_type": "code",
   "execution_count": 13,
   "outputs": [
    {
     "name": "stdout",
     "output_type": "stream",
     "text": [
      "\t Loading sem_8d_sweep_v3kd7kca...\n"
     ]
    }
   ],
   "source": [
    "SWEEP_ID = \"v3kd7kca\"\n",
    "sweep = api.sweep(f\"{ENTITY}/{PROJECT}/{SWEEP_ID}\")\n",
    "filename = f\"sem_8d_sweep_{SWEEP_ID}\"\n",
    "df8d, (true_unmix_jacobians8d, est_unmix_jacobians8d, permute_indices8d, hsic_adj8d, ica_permute8d) = sweep2df(sweep.runs, filename, save=True, load=True)"
   ],
   "metadata": {
    "collapsed": false
   }
  },
  {
   "cell_type": "code",
   "execution_count": 7,
   "outputs": [
    {
     "name": "stderr",
     "output_type": "stream",
     "text": [
      "\u001B[34m\u001B[1mwandb\u001B[0m: Currently logged in as: \u001B[33mreizinger-patrik\u001B[0m (\u001B[33mcausal-representation-learning\u001B[0m). Use \u001B[1m`wandb login --relogin`\u001B[0m to force relogin\n"
     ]
    },
    {
     "data": {
      "text/plain": "<IPython.core.display.HTML object>",
      "text/html": "wandb version 0.13.4 is available!  To upgrade, please run:\n $ pip install wandb --upgrade"
     },
     "metadata": {},
     "output_type": "display_data"
    },
    {
     "data": {
      "text/plain": "<IPython.core.display.HTML object>",
      "text/html": "Tracking run with wandb version 0.12.17"
     },
     "metadata": {},
     "output_type": "display_data"
    },
    {
     "data": {
      "text/plain": "<IPython.core.display.HTML object>",
      "text/html": "Run data is saved locally in <code>/Users/patrik.reizinger/Documents/GitHub/nl-causal-representations/notebooks/wandb/run-20221010_113034-28quxrk9</code>"
     },
     "metadata": {},
     "output_type": "display_data"
    },
    {
     "data": {
      "text/plain": "<IPython.core.display.HTML object>",
      "text/html": "Syncing run <strong><a href=\"https://wandb.ai/causal-representation-learning/nl-causal-representations-notebooks/runs/28quxrk9\" target=\"_blank\">earnest-dawn-1179</a></strong> to <a href=\"https://wandb.ai/causal-representation-learning/nl-causal-representations-notebooks\" target=\"_blank\">Weights & Biases</a> (<a href=\"https://wandb.me/run\" target=\"_blank\">docs</a>)<br/>"
     },
     "metadata": {},
     "output_type": "display_data"
    },
    {
     "data": {
      "text/plain": "<IPython.core.display.HTML object>",
      "text/html": "Finishing last run (ID:28quxrk9) before initializing another..."
     },
     "metadata": {},
     "output_type": "display_data"
    },
    {
     "data": {
      "text/plain": "<IPython.core.display.HTML object>",
      "text/html": "Waiting for W&B process to finish... <strong style=\"color:green\">(success).</strong>"
     },
     "metadata": {},
     "output_type": "display_data"
    },
    {
     "data": {
      "text/plain": "VBox(children=(Label(value='0.021 MB of 0.021 MB uploaded (0.000 MB deduped)\\r'), FloatProgress(value=1.0, max…",
      "application/vnd.jupyter.widget-view+json": {
       "version_major": 2,
       "version_minor": 0,
       "model_id": "6ca78c2a380c48ffb56dc0e84c6c4fa3"
      }
     },
     "metadata": {},
     "output_type": "display_data"
    },
    {
     "data": {
      "text/plain": "<IPython.core.display.HTML object>",
      "text/html": "Synced <strong style=\"color:#cdcd00\">earnest-dawn-1179</strong>: <a href=\"https://wandb.ai/causal-representation-learning/nl-causal-representations-notebooks/runs/28quxrk9\" target=\"_blank\">https://wandb.ai/causal-representation-learning/nl-causal-representations-notebooks/runs/28quxrk9</a><br/>Synced 5 W&B file(s), 0 media file(s), 0 artifact file(s) and 1 other file(s)"
     },
     "metadata": {},
     "output_type": "display_data"
    },
    {
     "data": {
      "text/plain": "<IPython.core.display.HTML object>",
      "text/html": "Find logs at: <code>./wandb/run-20221010_113034-28quxrk9/logs</code>"
     },
     "metadata": {},
     "output_type": "display_data"
    },
    {
     "data": {
      "text/plain": "<IPython.core.display.HTML object>",
      "text/html": "Successfully finished last run (ID:28quxrk9). Initializing new run:<br/>"
     },
     "metadata": {},
     "output_type": "display_data"
    },
    {
     "data": {
      "text/plain": "<IPython.core.display.HTML object>",
      "text/html": "wandb version 0.13.4 is available!  To upgrade, please run:\n $ pip install wandb --upgrade"
     },
     "metadata": {},
     "output_type": "display_data"
    },
    {
     "data": {
      "text/plain": "<IPython.core.display.HTML object>",
      "text/html": "Tracking run with wandb version 0.12.17"
     },
     "metadata": {},
     "output_type": "display_data"
    },
    {
     "data": {
      "text/plain": "<IPython.core.display.HTML object>",
      "text/html": "Run data is saved locally in <code>/Users/patrik.reizinger/Documents/GitHub/nl-causal-representations/notebooks/wandb/run-20221010_113041-1sx9gt3l</code>"
     },
     "metadata": {},
     "output_type": "display_data"
    },
    {
     "data": {
      "text/plain": "<IPython.core.display.HTML object>",
      "text/html": "Syncing run <strong><a href=\"https://wandb.ai/causal-representation-learning/nl-causal-representations-notebooks/runs/1sx9gt3l\" target=\"_blank\">balmy-snow-1180</a></strong> to <a href=\"https://wandb.ai/causal-representation-learning/nl-causal-representations-notebooks\" target=\"_blank\">Weights & Biases</a> (<a href=\"https://wandb.me/run\" target=\"_blank\">docs</a>)<br/>"
     },
     "metadata": {},
     "output_type": "display_data"
    },
    {
     "data": {
      "text/plain": "<IPython.core.display.HTML object>",
      "text/html": "Finishing last run (ID:1sx9gt3l) before initializing another..."
     },
     "metadata": {},
     "output_type": "display_data"
    },
    {
     "data": {
      "text/plain": "<IPython.core.display.HTML object>",
      "text/html": "Waiting for W&B process to finish... <strong style=\"color:green\">(success).</strong>"
     },
     "metadata": {},
     "output_type": "display_data"
    },
    {
     "data": {
      "text/plain": "VBox(children=(Label(value='0.021 MB of 0.021 MB uploaded (0.000 MB deduped)\\r'), FloatProgress(value=1.0, max…",
      "application/vnd.jupyter.widget-view+json": {
       "version_major": 2,
       "version_minor": 0,
       "model_id": "7b66165a94454324b6d535b93986c140"
      }
     },
     "metadata": {},
     "output_type": "display_data"
    },
    {
     "data": {
      "text/plain": "<IPython.core.display.HTML object>",
      "text/html": "Synced <strong style=\"color:#cdcd00\">balmy-snow-1180</strong>: <a href=\"https://wandb.ai/causal-representation-learning/nl-causal-representations-notebooks/runs/1sx9gt3l\" target=\"_blank\">https://wandb.ai/causal-representation-learning/nl-causal-representations-notebooks/runs/1sx9gt3l</a><br/>Synced 5 W&B file(s), 0 media file(s), 0 artifact file(s) and 0 other file(s)"
     },
     "metadata": {},
     "output_type": "display_data"
    },
    {
     "data": {
      "text/plain": "<IPython.core.display.HTML object>",
      "text/html": "Find logs at: <code>./wandb/run-20221010_113041-1sx9gt3l/logs</code>"
     },
     "metadata": {},
     "output_type": "display_data"
    },
    {
     "data": {
      "text/plain": "<IPython.core.display.HTML object>",
      "text/html": "Successfully finished last run (ID:1sx9gt3l). Initializing new run:<br/>"
     },
     "metadata": {},
     "output_type": "display_data"
    },
    {
     "data": {
      "text/plain": "<IPython.core.display.HTML object>",
      "text/html": "wandb version 0.13.4 is available!  To upgrade, please run:\n $ pip install wandb --upgrade"
     },
     "metadata": {},
     "output_type": "display_data"
    },
    {
     "data": {
      "text/plain": "<IPython.core.display.HTML object>",
      "text/html": "Tracking run with wandb version 0.12.17"
     },
     "metadata": {},
     "output_type": "display_data"
    },
    {
     "data": {
      "text/plain": "<IPython.core.display.HTML object>",
      "text/html": "Run data is saved locally in <code>/Users/patrik.reizinger/Documents/GitHub/nl-causal-representations/notebooks/wandb/run-20221010_113049-nnhiesju</code>"
     },
     "metadata": {},
     "output_type": "display_data"
    },
    {
     "data": {
      "text/plain": "<IPython.core.display.HTML object>",
      "text/html": "Syncing run <strong><a href=\"https://wandb.ai/causal-representation-learning/nl-causal-representations-notebooks/runs/nnhiesju\" target=\"_blank\">radiant-pine-1181</a></strong> to <a href=\"https://wandb.ai/causal-representation-learning/nl-causal-representations-notebooks\" target=\"_blank\">Weights & Biases</a> (<a href=\"https://wandb.me/run\" target=\"_blank\">docs</a>)<br/>"
     },
     "metadata": {},
     "output_type": "display_data"
    },
    {
     "data": {
      "text/plain": "<IPython.core.display.HTML object>",
      "text/html": "Finishing last run (ID:nnhiesju) before initializing another..."
     },
     "metadata": {},
     "output_type": "display_data"
    },
    {
     "data": {
      "text/plain": "<IPython.core.display.HTML object>",
      "text/html": "Waiting for W&B process to finish... <strong style=\"color:green\">(success).</strong>"
     },
     "metadata": {},
     "output_type": "display_data"
    },
    {
     "data": {
      "text/plain": "VBox(children=(Label(value='0.021 MB of 0.021 MB uploaded (0.000 MB deduped)\\r'), FloatProgress(value=1.0, max…",
      "application/vnd.jupyter.widget-view+json": {
       "version_major": 2,
       "version_minor": 0,
       "model_id": "9902ee7053834899adba14a887eec7c5"
      }
     },
     "metadata": {},
     "output_type": "display_data"
    },
    {
     "data": {
      "text/plain": "<IPython.core.display.HTML object>",
      "text/html": "Synced <strong style=\"color:#cdcd00\">radiant-pine-1181</strong>: <a href=\"https://wandb.ai/causal-representation-learning/nl-causal-representations-notebooks/runs/nnhiesju\" target=\"_blank\">https://wandb.ai/causal-representation-learning/nl-causal-representations-notebooks/runs/nnhiesju</a><br/>Synced 5 W&B file(s), 0 media file(s), 0 artifact file(s) and 1 other file(s)"
     },
     "metadata": {},
     "output_type": "display_data"
    },
    {
     "data": {
      "text/plain": "<IPython.core.display.HTML object>",
      "text/html": "Find logs at: <code>./wandb/run-20221010_113049-nnhiesju/logs</code>"
     },
     "metadata": {},
     "output_type": "display_data"
    },
    {
     "data": {
      "text/plain": "<IPython.core.display.HTML object>",
      "text/html": "Successfully finished last run (ID:nnhiesju). Initializing new run:<br/>"
     },
     "metadata": {},
     "output_type": "display_data"
    },
    {
     "data": {
      "text/plain": "<IPython.core.display.HTML object>",
      "text/html": "wandb version 0.13.4 is available!  To upgrade, please run:\n $ pip install wandb --upgrade"
     },
     "metadata": {},
     "output_type": "display_data"
    },
    {
     "data": {
      "text/plain": "<IPython.core.display.HTML object>",
      "text/html": "Tracking run with wandb version 0.12.17"
     },
     "metadata": {},
     "output_type": "display_data"
    },
    {
     "data": {
      "text/plain": "<IPython.core.display.HTML object>",
      "text/html": "Run data is saved locally in <code>/Users/patrik.reizinger/Documents/GitHub/nl-causal-representations/notebooks/wandb/run-20221010_113059-1gfprsnu</code>"
     },
     "metadata": {},
     "output_type": "display_data"
    },
    {
     "data": {
      "text/plain": "<IPython.core.display.HTML object>",
      "text/html": "Syncing run <strong><a href=\"https://wandb.ai/causal-representation-learning/nl-causal-representations-notebooks/runs/1gfprsnu\" target=\"_blank\">swift-cherry-1182</a></strong> to <a href=\"https://wandb.ai/causal-representation-learning/nl-causal-representations-notebooks\" target=\"_blank\">Weights & Biases</a> (<a href=\"https://wandb.me/run\" target=\"_blank\">docs</a>)<br/>"
     },
     "metadata": {},
     "output_type": "display_data"
    },
    {
     "data": {
      "text/plain": "<IPython.core.display.HTML object>",
      "text/html": "Finishing last run (ID:1gfprsnu) before initializing another..."
     },
     "metadata": {},
     "output_type": "display_data"
    },
    {
     "data": {
      "text/plain": "<IPython.core.display.HTML object>",
      "text/html": "Waiting for W&B process to finish... <strong style=\"color:green\">(success).</strong>"
     },
     "metadata": {},
     "output_type": "display_data"
    },
    {
     "data": {
      "text/plain": "VBox(children=(Label(value='0.030 MB of 0.030 MB uploaded (0.000 MB deduped)\\r'), FloatProgress(value=1.0, max…",
      "application/vnd.jupyter.widget-view+json": {
       "version_major": 2,
       "version_minor": 0,
       "model_id": "7a7e49ea587b4d68b367233b8c4e52af"
      }
     },
     "metadata": {},
     "output_type": "display_data"
    },
    {
     "data": {
      "text/plain": "<IPython.core.display.HTML object>",
      "text/html": "Synced <strong style=\"color:#cdcd00\">swift-cherry-1182</strong>: <a href=\"https://wandb.ai/causal-representation-learning/nl-causal-representations-notebooks/runs/1gfprsnu\" target=\"_blank\">https://wandb.ai/causal-representation-learning/nl-causal-representations-notebooks/runs/1gfprsnu</a><br/>Synced 5 W&B file(s), 0 media file(s), 0 artifact file(s) and 0 other file(s)"
     },
     "metadata": {},
     "output_type": "display_data"
    },
    {
     "data": {
      "text/plain": "<IPython.core.display.HTML object>",
      "text/html": "Find logs at: <code>./wandb/run-20221010_113059-1gfprsnu/logs</code>"
     },
     "metadata": {},
     "output_type": "display_data"
    },
    {
     "data": {
      "text/plain": "<IPython.core.display.HTML object>",
      "text/html": "Successfully finished last run (ID:1gfprsnu). Initializing new run:<br/>"
     },
     "metadata": {},
     "output_type": "display_data"
    },
    {
     "data": {
      "text/plain": "<IPython.core.display.HTML object>",
      "text/html": "wandb version 0.13.4 is available!  To upgrade, please run:\n $ pip install wandb --upgrade"
     },
     "metadata": {},
     "output_type": "display_data"
    },
    {
     "data": {
      "text/plain": "<IPython.core.display.HTML object>",
      "text/html": "Tracking run with wandb version 0.12.17"
     },
     "metadata": {},
     "output_type": "display_data"
    },
    {
     "data": {
      "text/plain": "<IPython.core.display.HTML object>",
      "text/html": "Run data is saved locally in <code>/Users/patrik.reizinger/Documents/GitHub/nl-causal-representations/notebooks/wandb/run-20221010_113110-2k3dii7j</code>"
     },
     "metadata": {},
     "output_type": "display_data"
    },
    {
     "data": {
      "text/plain": "<IPython.core.display.HTML object>",
      "text/html": "Syncing run <strong><a href=\"https://wandb.ai/causal-representation-learning/nl-causal-representations-notebooks/runs/2k3dii7j\" target=\"_blank\">polar-brook-1183</a></strong> to <a href=\"https://wandb.ai/causal-representation-learning/nl-causal-representations-notebooks\" target=\"_blank\">Weights & Biases</a> (<a href=\"https://wandb.me/run\" target=\"_blank\">docs</a>)<br/>"
     },
     "metadata": {},
     "output_type": "display_data"
    },
    {
     "name": "stdout",
     "output_type": "stream",
     "text": [
      "Encountered a faulty run with ID kind-sweep-50\n"
     ]
    },
    {
     "data": {
      "text/plain": "<IPython.core.display.HTML object>",
      "text/html": "Finishing last run (ID:2k3dii7j) before initializing another..."
     },
     "metadata": {},
     "output_type": "display_data"
    },
    {
     "data": {
      "text/plain": "<IPython.core.display.HTML object>",
      "text/html": "Waiting for W&B process to finish... <strong style=\"color:green\">(success).</strong>"
     },
     "metadata": {},
     "output_type": "display_data"
    },
    {
     "data": {
      "text/plain": "VBox(children=(Label(value='0.030 MB of 0.030 MB uploaded (0.000 MB deduped)\\r'), FloatProgress(value=1.0, max…",
      "application/vnd.jupyter.widget-view+json": {
       "version_major": 2,
       "version_minor": 0,
       "model_id": "240851d47ee842e9bc46c3c1543c2642"
      }
     },
     "metadata": {},
     "output_type": "display_data"
    },
    {
     "data": {
      "text/plain": "<IPython.core.display.HTML object>",
      "text/html": "Synced <strong style=\"color:#cdcd00\">polar-brook-1183</strong>: <a href=\"https://wandb.ai/causal-representation-learning/nl-causal-representations-notebooks/runs/2k3dii7j\" target=\"_blank\">https://wandb.ai/causal-representation-learning/nl-causal-representations-notebooks/runs/2k3dii7j</a><br/>Synced 6 W&B file(s), 0 media file(s), 0 artifact file(s) and 1 other file(s)"
     },
     "metadata": {},
     "output_type": "display_data"
    },
    {
     "data": {
      "text/plain": "<IPython.core.display.HTML object>",
      "text/html": "Find logs at: <code>./wandb/run-20221010_113110-2k3dii7j/logs</code>"
     },
     "metadata": {},
     "output_type": "display_data"
    },
    {
     "data": {
      "text/plain": "<IPython.core.display.HTML object>",
      "text/html": "Successfully finished last run (ID:2k3dii7j). Initializing new run:<br/>"
     },
     "metadata": {},
     "output_type": "display_data"
    },
    {
     "data": {
      "text/plain": "<IPython.core.display.HTML object>",
      "text/html": "wandb version 0.13.4 is available!  To upgrade, please run:\n $ pip install wandb --upgrade"
     },
     "metadata": {},
     "output_type": "display_data"
    },
    {
     "data": {
      "text/plain": "<IPython.core.display.HTML object>",
      "text/html": "Tracking run with wandb version 0.12.17"
     },
     "metadata": {},
     "output_type": "display_data"
    },
    {
     "data": {
      "text/plain": "<IPython.core.display.HTML object>",
      "text/html": "Run data is saved locally in <code>/Users/patrik.reizinger/Documents/GitHub/nl-causal-representations/notebooks/wandb/run-20221010_113122-19uzs49c</code>"
     },
     "metadata": {},
     "output_type": "display_data"
    },
    {
     "data": {
      "text/plain": "<IPython.core.display.HTML object>",
      "text/html": "Syncing run <strong><a href=\"https://wandb.ai/causal-representation-learning/nl-causal-representations-notebooks/runs/19uzs49c\" target=\"_blank\">charmed-violet-1184</a></strong> to <a href=\"https://wandb.ai/causal-representation-learning/nl-causal-representations-notebooks\" target=\"_blank\">Weights & Biases</a> (<a href=\"https://wandb.me/run\" target=\"_blank\">docs</a>)<br/>"
     },
     "metadata": {},
     "output_type": "display_data"
    },
    {
     "data": {
      "text/plain": "<IPython.core.display.HTML object>",
      "text/html": "Finishing last run (ID:19uzs49c) before initializing another..."
     },
     "metadata": {},
     "output_type": "display_data"
    },
    {
     "data": {
      "text/plain": "<IPython.core.display.HTML object>",
      "text/html": "Waiting for W&B process to finish... <strong style=\"color:green\">(success).</strong>"
     },
     "metadata": {},
     "output_type": "display_data"
    },
    {
     "data": {
      "text/plain": "VBox(children=(Label(value='0.030 MB of 0.030 MB uploaded (0.000 MB deduped)\\r'), FloatProgress(value=1.0, max…",
      "application/vnd.jupyter.widget-view+json": {
       "version_major": 2,
       "version_minor": 0,
       "model_id": "aef9bce1a0484fa892598e289e891302"
      }
     },
     "metadata": {},
     "output_type": "display_data"
    },
    {
     "data": {
      "text/plain": "<IPython.core.display.HTML object>",
      "text/html": "Synced <strong style=\"color:#cdcd00\">charmed-violet-1184</strong>: <a href=\"https://wandb.ai/causal-representation-learning/nl-causal-representations-notebooks/runs/19uzs49c\" target=\"_blank\">https://wandb.ai/causal-representation-learning/nl-causal-representations-notebooks/runs/19uzs49c</a><br/>Synced 5 W&B file(s), 0 media file(s), 0 artifact file(s) and 0 other file(s)"
     },
     "metadata": {},
     "output_type": "display_data"
    },
    {
     "data": {
      "text/plain": "<IPython.core.display.HTML object>",
      "text/html": "Find logs at: <code>./wandb/run-20221010_113122-19uzs49c/logs</code>"
     },
     "metadata": {},
     "output_type": "display_data"
    },
    {
     "data": {
      "text/plain": "<IPython.core.display.HTML object>",
      "text/html": "Successfully finished last run (ID:19uzs49c). Initializing new run:<br/>"
     },
     "metadata": {},
     "output_type": "display_data"
    },
    {
     "data": {
      "text/plain": "<IPython.core.display.HTML object>",
      "text/html": "wandb version 0.13.4 is available!  To upgrade, please run:\n $ pip install wandb --upgrade"
     },
     "metadata": {},
     "output_type": "display_data"
    },
    {
     "data": {
      "text/plain": "<IPython.core.display.HTML object>",
      "text/html": "Tracking run with wandb version 0.12.17"
     },
     "metadata": {},
     "output_type": "display_data"
    },
    {
     "data": {
      "text/plain": "<IPython.core.display.HTML object>",
      "text/html": "Run data is saved locally in <code>/Users/patrik.reizinger/Documents/GitHub/nl-causal-representations/notebooks/wandb/run-20221010_113132-23kktbw9</code>"
     },
     "metadata": {},
     "output_type": "display_data"
    },
    {
     "data": {
      "text/plain": "<IPython.core.display.HTML object>",
      "text/html": "Syncing run <strong><a href=\"https://wandb.ai/causal-representation-learning/nl-causal-representations-notebooks/runs/23kktbw9\" target=\"_blank\">hardy-flower-1185</a></strong> to <a href=\"https://wandb.ai/causal-representation-learning/nl-causal-representations-notebooks\" target=\"_blank\">Weights & Biases</a> (<a href=\"https://wandb.me/run\" target=\"_blank\">docs</a>)<br/>"
     },
     "metadata": {},
     "output_type": "display_data"
    },
    {
     "data": {
      "text/plain": "<IPython.core.display.HTML object>",
      "text/html": "Finishing last run (ID:23kktbw9) before initializing another..."
     },
     "metadata": {},
     "output_type": "display_data"
    },
    {
     "data": {
      "text/plain": "<IPython.core.display.HTML object>",
      "text/html": "Waiting for W&B process to finish... <strong style=\"color:green\">(success).</strong>"
     },
     "metadata": {},
     "output_type": "display_data"
    },
    {
     "data": {
      "text/plain": "VBox(children=(Label(value='0.030 MB of 0.030 MB uploaded (0.000 MB deduped)\\r'), FloatProgress(value=1.0, max…",
      "application/vnd.jupyter.widget-view+json": {
       "version_major": 2,
       "version_minor": 0,
       "model_id": "49bd0cd62bab400b963056576ef0d53c"
      }
     },
     "metadata": {},
     "output_type": "display_data"
    },
    {
     "data": {
      "text/plain": "<IPython.core.display.HTML object>",
      "text/html": "Synced <strong style=\"color:#cdcd00\">hardy-flower-1185</strong>: <a href=\"https://wandb.ai/causal-representation-learning/nl-causal-representations-notebooks/runs/23kktbw9\" target=\"_blank\">https://wandb.ai/causal-representation-learning/nl-causal-representations-notebooks/runs/23kktbw9</a><br/>Synced 5 W&B file(s), 0 media file(s), 0 artifact file(s) and 1 other file(s)"
     },
     "metadata": {},
     "output_type": "display_data"
    },
    {
     "data": {
      "text/plain": "<IPython.core.display.HTML object>",
      "text/html": "Find logs at: <code>./wandb/run-20221010_113132-23kktbw9/logs</code>"
     },
     "metadata": {},
     "output_type": "display_data"
    },
    {
     "data": {
      "text/plain": "<IPython.core.display.HTML object>",
      "text/html": "Successfully finished last run (ID:23kktbw9). Initializing new run:<br/>"
     },
     "metadata": {},
     "output_type": "display_data"
    },
    {
     "data": {
      "text/plain": "<IPython.core.display.HTML object>",
      "text/html": "wandb version 0.13.4 is available!  To upgrade, please run:\n $ pip install wandb --upgrade"
     },
     "metadata": {},
     "output_type": "display_data"
    },
    {
     "data": {
      "text/plain": "<IPython.core.display.HTML object>",
      "text/html": "Tracking run with wandb version 0.12.17"
     },
     "metadata": {},
     "output_type": "display_data"
    },
    {
     "data": {
      "text/plain": "<IPython.core.display.HTML object>",
      "text/html": "Run data is saved locally in <code>/Users/patrik.reizinger/Documents/GitHub/nl-causal-representations/notebooks/wandb/run-20221010_113143-8e54c8ta</code>"
     },
     "metadata": {},
     "output_type": "display_data"
    },
    {
     "data": {
      "text/plain": "<IPython.core.display.HTML object>",
      "text/html": "Syncing run <strong><a href=\"https://wandb.ai/causal-representation-learning/nl-causal-representations-notebooks/runs/8e54c8ta\" target=\"_blank\">wise-resonance-1186</a></strong> to <a href=\"https://wandb.ai/causal-representation-learning/nl-causal-representations-notebooks\" target=\"_blank\">Weights & Biases</a> (<a href=\"https://wandb.me/run\" target=\"_blank\">docs</a>)<br/>"
     },
     "metadata": {},
     "output_type": "display_data"
    },
    {
     "data": {
      "text/plain": "<IPython.core.display.HTML object>",
      "text/html": "Finishing last run (ID:8e54c8ta) before initializing another..."
     },
     "metadata": {},
     "output_type": "display_data"
    },
    {
     "data": {
      "text/plain": "<IPython.core.display.HTML object>",
      "text/html": "Waiting for W&B process to finish... <strong style=\"color:green\">(success).</strong>"
     },
     "metadata": {},
     "output_type": "display_data"
    },
    {
     "data": {
      "text/plain": "VBox(children=(Label(value='0.030 MB of 0.030 MB uploaded (0.000 MB deduped)\\r'), FloatProgress(value=1.0, max…",
      "application/vnd.jupyter.widget-view+json": {
       "version_major": 2,
       "version_minor": 0,
       "model_id": "1b21e93d534b4b20a75f11133bb41eea"
      }
     },
     "metadata": {},
     "output_type": "display_data"
    },
    {
     "data": {
      "text/plain": "<IPython.core.display.HTML object>",
      "text/html": "Synced <strong style=\"color:#cdcd00\">wise-resonance-1186</strong>: <a href=\"https://wandb.ai/causal-representation-learning/nl-causal-representations-notebooks/runs/8e54c8ta\" target=\"_blank\">https://wandb.ai/causal-representation-learning/nl-causal-representations-notebooks/runs/8e54c8ta</a><br/>Synced 5 W&B file(s), 0 media file(s), 0 artifact file(s) and 0 other file(s)"
     },
     "metadata": {},
     "output_type": "display_data"
    },
    {
     "data": {
      "text/plain": "<IPython.core.display.HTML object>",
      "text/html": "Find logs at: <code>./wandb/run-20221010_113143-8e54c8ta/logs</code>"
     },
     "metadata": {},
     "output_type": "display_data"
    },
    {
     "data": {
      "text/plain": "<IPython.core.display.HTML object>",
      "text/html": "Successfully finished last run (ID:8e54c8ta). Initializing new run:<br/>"
     },
     "metadata": {},
     "output_type": "display_data"
    },
    {
     "data": {
      "text/plain": "<IPython.core.display.HTML object>",
      "text/html": "wandb version 0.13.4 is available!  To upgrade, please run:\n $ pip install wandb --upgrade"
     },
     "metadata": {},
     "output_type": "display_data"
    },
    {
     "data": {
      "text/plain": "<IPython.core.display.HTML object>",
      "text/html": "Tracking run with wandb version 0.12.17"
     },
     "metadata": {},
     "output_type": "display_data"
    },
    {
     "data": {
      "text/plain": "<IPython.core.display.HTML object>",
      "text/html": "Run data is saved locally in <code>/Users/patrik.reizinger/Documents/GitHub/nl-causal-representations/notebooks/wandb/run-20221010_113154-19ps71qf</code>"
     },
     "metadata": {},
     "output_type": "display_data"
    },
    {
     "data": {
      "text/plain": "<IPython.core.display.HTML object>",
      "text/html": "Syncing run <strong><a href=\"https://wandb.ai/causal-representation-learning/nl-causal-representations-notebooks/runs/19ps71qf\" target=\"_blank\">rosy-surf-1187</a></strong> to <a href=\"https://wandb.ai/causal-representation-learning/nl-causal-representations-notebooks\" target=\"_blank\">Weights & Biases</a> (<a href=\"https://wandb.me/run\" target=\"_blank\">docs</a>)<br/>"
     },
     "metadata": {},
     "output_type": "display_data"
    },
    {
     "data": {
      "text/plain": "<IPython.core.display.HTML object>",
      "text/html": "Finishing last run (ID:19ps71qf) before initializing another..."
     },
     "metadata": {},
     "output_type": "display_data"
    },
    {
     "data": {
      "text/plain": "<IPython.core.display.HTML object>",
      "text/html": "Waiting for W&B process to finish... <strong style=\"color:green\">(success).</strong>"
     },
     "metadata": {},
     "output_type": "display_data"
    },
    {
     "data": {
      "text/plain": "VBox(children=(Label(value='0.030 MB of 0.030 MB uploaded (0.000 MB deduped)\\r'), FloatProgress(value=1.0, max…",
      "application/vnd.jupyter.widget-view+json": {
       "version_major": 2,
       "version_minor": 0,
       "model_id": "6c0d4765080a4b74a78de061176f7b9d"
      }
     },
     "metadata": {},
     "output_type": "display_data"
    },
    {
     "data": {
      "text/plain": "<IPython.core.display.HTML object>",
      "text/html": "Synced <strong style=\"color:#cdcd00\">rosy-surf-1187</strong>: <a href=\"https://wandb.ai/causal-representation-learning/nl-causal-representations-notebooks/runs/19ps71qf\" target=\"_blank\">https://wandb.ai/causal-representation-learning/nl-causal-representations-notebooks/runs/19ps71qf</a><br/>Synced 5 W&B file(s), 0 media file(s), 0 artifact file(s) and 1 other file(s)"
     },
     "metadata": {},
     "output_type": "display_data"
    },
    {
     "data": {
      "text/plain": "<IPython.core.display.HTML object>",
      "text/html": "Find logs at: <code>./wandb/run-20221010_113154-19ps71qf/logs</code>"
     },
     "metadata": {},
     "output_type": "display_data"
    },
    {
     "data": {
      "text/plain": "<IPython.core.display.HTML object>",
      "text/html": "Successfully finished last run (ID:19ps71qf). Initializing new run:<br/>"
     },
     "metadata": {},
     "output_type": "display_data"
    },
    {
     "data": {
      "text/plain": "<IPython.core.display.HTML object>",
      "text/html": "wandb version 0.13.4 is available!  To upgrade, please run:\n $ pip install wandb --upgrade"
     },
     "metadata": {},
     "output_type": "display_data"
    },
    {
     "data": {
      "text/plain": "<IPython.core.display.HTML object>",
      "text/html": "Tracking run with wandb version 0.12.17"
     },
     "metadata": {},
     "output_type": "display_data"
    },
    {
     "data": {
      "text/plain": "<IPython.core.display.HTML object>",
      "text/html": "Run data is saved locally in <code>/Users/patrik.reizinger/Documents/GitHub/nl-causal-representations/notebooks/wandb/run-20221010_113204-hwppyhei</code>"
     },
     "metadata": {},
     "output_type": "display_data"
    },
    {
     "data": {
      "text/plain": "<IPython.core.display.HTML object>",
      "text/html": "Syncing run <strong><a href=\"https://wandb.ai/causal-representation-learning/nl-causal-representations-notebooks/runs/hwppyhei\" target=\"_blank\">hearty-darkness-1188</a></strong> to <a href=\"https://wandb.ai/causal-representation-learning/nl-causal-representations-notebooks\" target=\"_blank\">Weights & Biases</a> (<a href=\"https://wandb.me/run\" target=\"_blank\">docs</a>)<br/>"
     },
     "metadata": {},
     "output_type": "display_data"
    },
    {
     "data": {
      "text/plain": "<IPython.core.display.HTML object>",
      "text/html": "Finishing last run (ID:hwppyhei) before initializing another..."
     },
     "metadata": {},
     "output_type": "display_data"
    },
    {
     "data": {
      "text/plain": "<IPython.core.display.HTML object>",
      "text/html": "Waiting for W&B process to finish... <strong style=\"color:green\">(success).</strong>"
     },
     "metadata": {},
     "output_type": "display_data"
    },
    {
     "data": {
      "text/plain": "VBox(children=(Label(value='0.053 MB of 0.053 MB uploaded (0.000 MB deduped)\\r'), FloatProgress(value=1.0, max…",
      "application/vnd.jupyter.widget-view+json": {
       "version_major": 2,
       "version_minor": 0,
       "model_id": "581a7234e2894fb1bf72924cdf746572"
      }
     },
     "metadata": {},
     "output_type": "display_data"
    },
    {
     "data": {
      "text/plain": "<IPython.core.display.HTML object>",
      "text/html": "Synced <strong style=\"color:#cdcd00\">hearty-darkness-1188</strong>: <a href=\"https://wandb.ai/causal-representation-learning/nl-causal-representations-notebooks/runs/hwppyhei\" target=\"_blank\">https://wandb.ai/causal-representation-learning/nl-causal-representations-notebooks/runs/hwppyhei</a><br/>Synced 5 W&B file(s), 0 media file(s), 0 artifact file(s) and 0 other file(s)"
     },
     "metadata": {},
     "output_type": "display_data"
    },
    {
     "data": {
      "text/plain": "<IPython.core.display.HTML object>",
      "text/html": "Find logs at: <code>./wandb/run-20221010_113204-hwppyhei/logs</code>"
     },
     "metadata": {},
     "output_type": "display_data"
    },
    {
     "data": {
      "text/plain": "<IPython.core.display.HTML object>",
      "text/html": "Successfully finished last run (ID:hwppyhei). Initializing new run:<br/>"
     },
     "metadata": {},
     "output_type": "display_data"
    },
    {
     "data": {
      "text/plain": "<IPython.core.display.HTML object>",
      "text/html": "wandb version 0.13.4 is available!  To upgrade, please run:\n $ pip install wandb --upgrade"
     },
     "metadata": {},
     "output_type": "display_data"
    },
    {
     "data": {
      "text/plain": "<IPython.core.display.HTML object>",
      "text/html": "Tracking run with wandb version 0.12.17"
     },
     "metadata": {},
     "output_type": "display_data"
    },
    {
     "data": {
      "text/plain": "<IPython.core.display.HTML object>",
      "text/html": "Run data is saved locally in <code>/Users/patrik.reizinger/Documents/GitHub/nl-causal-representations/notebooks/wandb/run-20221010_113215-2ufo37u2</code>"
     },
     "metadata": {},
     "output_type": "display_data"
    },
    {
     "data": {
      "text/plain": "<IPython.core.display.HTML object>",
      "text/html": "Syncing run <strong><a href=\"https://wandb.ai/causal-representation-learning/nl-causal-representations-notebooks/runs/2ufo37u2\" target=\"_blank\">vivid-resonance-1189</a></strong> to <a href=\"https://wandb.ai/causal-representation-learning/nl-causal-representations-notebooks\" target=\"_blank\">Weights & Biases</a> (<a href=\"https://wandb.me/run\" target=\"_blank\">docs</a>)<br/>"
     },
     "metadata": {},
     "output_type": "display_data"
    },
    {
     "data": {
      "text/plain": "<IPython.core.display.HTML object>",
      "text/html": "Finishing last run (ID:2ufo37u2) before initializing another..."
     },
     "metadata": {},
     "output_type": "display_data"
    },
    {
     "data": {
      "text/plain": "<IPython.core.display.HTML object>",
      "text/html": "Waiting for W&B process to finish... <strong style=\"color:green\">(success).</strong>"
     },
     "metadata": {},
     "output_type": "display_data"
    },
    {
     "data": {
      "text/plain": "VBox(children=(Label(value='0.053 MB of 0.053 MB uploaded (0.000 MB deduped)\\r'), FloatProgress(value=1.0, max…",
      "application/vnd.jupyter.widget-view+json": {
       "version_major": 2,
       "version_minor": 0,
       "model_id": "b96b5a807dca4c61ad51f3bf17676d04"
      }
     },
     "metadata": {},
     "output_type": "display_data"
    },
    {
     "data": {
      "text/plain": "<IPython.core.display.HTML object>",
      "text/html": "Synced <strong style=\"color:#cdcd00\">vivid-resonance-1189</strong>: <a href=\"https://wandb.ai/causal-representation-learning/nl-causal-representations-notebooks/runs/2ufo37u2\" target=\"_blank\">https://wandb.ai/causal-representation-learning/nl-causal-representations-notebooks/runs/2ufo37u2</a><br/>Synced 5 W&B file(s), 0 media file(s), 0 artifact file(s) and 1 other file(s)"
     },
     "metadata": {},
     "output_type": "display_data"
    },
    {
     "data": {
      "text/plain": "<IPython.core.display.HTML object>",
      "text/html": "Find logs at: <code>./wandb/run-20221010_113215-2ufo37u2/logs</code>"
     },
     "metadata": {},
     "output_type": "display_data"
    },
    {
     "data": {
      "text/plain": "<IPython.core.display.HTML object>",
      "text/html": "Successfully finished last run (ID:2ufo37u2). Initializing new run:<br/>"
     },
     "metadata": {},
     "output_type": "display_data"
    },
    {
     "data": {
      "text/plain": "<IPython.core.display.HTML object>",
      "text/html": "wandb version 0.13.4 is available!  To upgrade, please run:\n $ pip install wandb --upgrade"
     },
     "metadata": {},
     "output_type": "display_data"
    },
    {
     "data": {
      "text/plain": "<IPython.core.display.HTML object>",
      "text/html": "Tracking run with wandb version 0.12.17"
     },
     "metadata": {},
     "output_type": "display_data"
    },
    {
     "data": {
      "text/plain": "<IPython.core.display.HTML object>",
      "text/html": "Run data is saved locally in <code>/Users/patrik.reizinger/Documents/GitHub/nl-causal-representations/notebooks/wandb/run-20221010_113231-vsmf4jcf</code>"
     },
     "metadata": {},
     "output_type": "display_data"
    },
    {
     "data": {
      "text/plain": "<IPython.core.display.HTML object>",
      "text/html": "Syncing run <strong><a href=\"https://wandb.ai/causal-representation-learning/nl-causal-representations-notebooks/runs/vsmf4jcf\" target=\"_blank\">splendid-plant-1190</a></strong> to <a href=\"https://wandb.ai/causal-representation-learning/nl-causal-representations-notebooks\" target=\"_blank\">Weights & Biases</a> (<a href=\"https://wandb.me/run\" target=\"_blank\">docs</a>)<br/>"
     },
     "metadata": {},
     "output_type": "display_data"
    },
    {
     "data": {
      "text/plain": "<IPython.core.display.HTML object>",
      "text/html": "Finishing last run (ID:vsmf4jcf) before initializing another..."
     },
     "metadata": {},
     "output_type": "display_data"
    },
    {
     "data": {
      "text/plain": "<IPython.core.display.HTML object>",
      "text/html": "Waiting for W&B process to finish... <strong style=\"color:green\">(success).</strong>"
     },
     "metadata": {},
     "output_type": "display_data"
    },
    {
     "data": {
      "text/plain": "VBox(children=(Label(value='0.053 MB of 0.053 MB uploaded (0.000 MB deduped)\\r'), FloatProgress(value=1.0, max…",
      "application/vnd.jupyter.widget-view+json": {
       "version_major": 2,
       "version_minor": 0,
       "model_id": "2b4d46cc87f54856a4dfde6002992a54"
      }
     },
     "metadata": {},
     "output_type": "display_data"
    },
    {
     "data": {
      "text/plain": "<IPython.core.display.HTML object>",
      "text/html": "Synced <strong style=\"color:#cdcd00\">splendid-plant-1190</strong>: <a href=\"https://wandb.ai/causal-representation-learning/nl-causal-representations-notebooks/runs/vsmf4jcf\" target=\"_blank\">https://wandb.ai/causal-representation-learning/nl-causal-representations-notebooks/runs/vsmf4jcf</a><br/>Synced 5 W&B file(s), 0 media file(s), 0 artifact file(s) and 0 other file(s)"
     },
     "metadata": {},
     "output_type": "display_data"
    },
    {
     "data": {
      "text/plain": "<IPython.core.display.HTML object>",
      "text/html": "Find logs at: <code>./wandb/run-20221010_113231-vsmf4jcf/logs</code>"
     },
     "metadata": {},
     "output_type": "display_data"
    },
    {
     "data": {
      "text/plain": "<IPython.core.display.HTML object>",
      "text/html": "Successfully finished last run (ID:vsmf4jcf). Initializing new run:<br/>"
     },
     "metadata": {},
     "output_type": "display_data"
    },
    {
     "data": {
      "text/plain": "<IPython.core.display.HTML object>",
      "text/html": "wandb version 0.13.4 is available!  To upgrade, please run:\n $ pip install wandb --upgrade"
     },
     "metadata": {},
     "output_type": "display_data"
    },
    {
     "data": {
      "text/plain": "<IPython.core.display.HTML object>",
      "text/html": "Tracking run with wandb version 0.12.17"
     },
     "metadata": {},
     "output_type": "display_data"
    },
    {
     "data": {
      "text/plain": "<IPython.core.display.HTML object>",
      "text/html": "Run data is saved locally in <code>/Users/patrik.reizinger/Documents/GitHub/nl-causal-representations/notebooks/wandb/run-20221010_113243-15i0fa77</code>"
     },
     "metadata": {},
     "output_type": "display_data"
    },
    {
     "data": {
      "text/plain": "<IPython.core.display.HTML object>",
      "text/html": "Syncing run <strong><a href=\"https://wandb.ai/causal-representation-learning/nl-causal-representations-notebooks/runs/15i0fa77\" target=\"_blank\">fresh-leaf-1191</a></strong> to <a href=\"https://wandb.ai/causal-representation-learning/nl-causal-representations-notebooks\" target=\"_blank\">Weights & Biases</a> (<a href=\"https://wandb.me/run\" target=\"_blank\">docs</a>)<br/>"
     },
     "metadata": {},
     "output_type": "display_data"
    },
    {
     "data": {
      "text/plain": "<IPython.core.display.HTML object>",
      "text/html": "Finishing last run (ID:15i0fa77) before initializing another..."
     },
     "metadata": {},
     "output_type": "display_data"
    },
    {
     "data": {
      "text/plain": "<IPython.core.display.HTML object>",
      "text/html": "Waiting for W&B process to finish... <strong style=\"color:green\">(success).</strong>"
     },
     "metadata": {},
     "output_type": "display_data"
    },
    {
     "data": {
      "text/plain": "VBox(children=(Label(value='0.053 MB of 0.053 MB uploaded (0.000 MB deduped)\\r'), FloatProgress(value=1.0, max…",
      "application/vnd.jupyter.widget-view+json": {
       "version_major": 2,
       "version_minor": 0,
       "model_id": "831b9994864542fea19e44e882ec7962"
      }
     },
     "metadata": {},
     "output_type": "display_data"
    },
    {
     "data": {
      "text/plain": "<IPython.core.display.HTML object>",
      "text/html": "Synced <strong style=\"color:#cdcd00\">fresh-leaf-1191</strong>: <a href=\"https://wandb.ai/causal-representation-learning/nl-causal-representations-notebooks/runs/15i0fa77\" target=\"_blank\">https://wandb.ai/causal-representation-learning/nl-causal-representations-notebooks/runs/15i0fa77</a><br/>Synced 5 W&B file(s), 0 media file(s), 0 artifact file(s) and 1 other file(s)"
     },
     "metadata": {},
     "output_type": "display_data"
    },
    {
     "data": {
      "text/plain": "<IPython.core.display.HTML object>",
      "text/html": "Find logs at: <code>./wandb/run-20221010_113243-15i0fa77/logs</code>"
     },
     "metadata": {},
     "output_type": "display_data"
    },
    {
     "data": {
      "text/plain": "<IPython.core.display.HTML object>",
      "text/html": "Successfully finished last run (ID:15i0fa77). Initializing new run:<br/>"
     },
     "metadata": {},
     "output_type": "display_data"
    },
    {
     "data": {
      "text/plain": "<IPython.core.display.HTML object>",
      "text/html": "wandb version 0.13.4 is available!  To upgrade, please run:\n $ pip install wandb --upgrade"
     },
     "metadata": {},
     "output_type": "display_data"
    },
    {
     "data": {
      "text/plain": "<IPython.core.display.HTML object>",
      "text/html": "Tracking run with wandb version 0.12.17"
     },
     "metadata": {},
     "output_type": "display_data"
    },
    {
     "data": {
      "text/plain": "<IPython.core.display.HTML object>",
      "text/html": "Run data is saved locally in <code>/Users/patrik.reizinger/Documents/GitHub/nl-causal-representations/notebooks/wandb/run-20221010_113253-1iztm5kk</code>"
     },
     "metadata": {},
     "output_type": "display_data"
    },
    {
     "data": {
      "text/plain": "<IPython.core.display.HTML object>",
      "text/html": "Syncing run <strong><a href=\"https://wandb.ai/causal-representation-learning/nl-causal-representations-notebooks/runs/1iztm5kk\" target=\"_blank\">quiet-monkey-1192</a></strong> to <a href=\"https://wandb.ai/causal-representation-learning/nl-causal-representations-notebooks\" target=\"_blank\">Weights & Biases</a> (<a href=\"https://wandb.me/run\" target=\"_blank\">docs</a>)<br/>"
     },
     "metadata": {},
     "output_type": "display_data"
    },
    {
     "data": {
      "text/plain": "<IPython.core.display.HTML object>",
      "text/html": "Finishing last run (ID:1iztm5kk) before initializing another..."
     },
     "metadata": {},
     "output_type": "display_data"
    },
    {
     "data": {
      "text/plain": "<IPython.core.display.HTML object>",
      "text/html": "Waiting for W&B process to finish... <strong style=\"color:green\">(success).</strong>"
     },
     "metadata": {},
     "output_type": "display_data"
    },
    {
     "data": {
      "text/plain": "VBox(children=(Label(value='0.053 MB of 0.053 MB uploaded (0.000 MB deduped)\\r'), FloatProgress(value=1.0, max…",
      "application/vnd.jupyter.widget-view+json": {
       "version_major": 2,
       "version_minor": 0,
       "model_id": "fd0afbe73ddc4dabaa2c564c7dc4d72f"
      }
     },
     "metadata": {},
     "output_type": "display_data"
    },
    {
     "data": {
      "text/plain": "<IPython.core.display.HTML object>",
      "text/html": "Synced <strong style=\"color:#cdcd00\">quiet-monkey-1192</strong>: <a href=\"https://wandb.ai/causal-representation-learning/nl-causal-representations-notebooks/runs/1iztm5kk\" target=\"_blank\">https://wandb.ai/causal-representation-learning/nl-causal-representations-notebooks/runs/1iztm5kk</a><br/>Synced 5 W&B file(s), 0 media file(s), 0 artifact file(s) and 0 other file(s)"
     },
     "metadata": {},
     "output_type": "display_data"
    },
    {
     "data": {
      "text/plain": "<IPython.core.display.HTML object>",
      "text/html": "Find logs at: <code>./wandb/run-20221010_113253-1iztm5kk/logs</code>"
     },
     "metadata": {},
     "output_type": "display_data"
    },
    {
     "data": {
      "text/plain": "<IPython.core.display.HTML object>",
      "text/html": "Successfully finished last run (ID:1iztm5kk). Initializing new run:<br/>"
     },
     "metadata": {},
     "output_type": "display_data"
    },
    {
     "data": {
      "text/plain": "<IPython.core.display.HTML object>",
      "text/html": "wandb version 0.13.4 is available!  To upgrade, please run:\n $ pip install wandb --upgrade"
     },
     "metadata": {},
     "output_type": "display_data"
    },
    {
     "data": {
      "text/plain": "<IPython.core.display.HTML object>",
      "text/html": "Tracking run with wandb version 0.12.17"
     },
     "metadata": {},
     "output_type": "display_data"
    },
    {
     "data": {
      "text/plain": "<IPython.core.display.HTML object>",
      "text/html": "Run data is saved locally in <code>/Users/patrik.reizinger/Documents/GitHub/nl-causal-representations/notebooks/wandb/run-20221010_113304-1g3wgvjw</code>"
     },
     "metadata": {},
     "output_type": "display_data"
    },
    {
     "data": {
      "text/plain": "<IPython.core.display.HTML object>",
      "text/html": "Syncing run <strong><a href=\"https://wandb.ai/causal-representation-learning/nl-causal-representations-notebooks/runs/1g3wgvjw\" target=\"_blank\">dark-night-1193</a></strong> to <a href=\"https://wandb.ai/causal-representation-learning/nl-causal-representations-notebooks\" target=\"_blank\">Weights & Biases</a> (<a href=\"https://wandb.me/run\" target=\"_blank\">docs</a>)<br/>"
     },
     "metadata": {},
     "output_type": "display_data"
    },
    {
     "data": {
      "text/plain": "<IPython.core.display.HTML object>",
      "text/html": "Finishing last run (ID:1g3wgvjw) before initializing another..."
     },
     "metadata": {},
     "output_type": "display_data"
    },
    {
     "data": {
      "text/plain": "<IPython.core.display.HTML object>",
      "text/html": "Waiting for W&B process to finish... <strong style=\"color:green\">(success).</strong>"
     },
     "metadata": {},
     "output_type": "display_data"
    },
    {
     "data": {
      "text/plain": "VBox(children=(Label(value='0.053 MB of 0.053 MB uploaded (0.000 MB deduped)\\r'), FloatProgress(value=1.0, max…",
      "application/vnd.jupyter.widget-view+json": {
       "version_major": 2,
       "version_minor": 0,
       "model_id": "1637747c3da54303aea6d15bc94d2bb3"
      }
     },
     "metadata": {},
     "output_type": "display_data"
    },
    {
     "data": {
      "text/plain": "<IPython.core.display.HTML object>",
      "text/html": "Synced <strong style=\"color:#cdcd00\">dark-night-1193</strong>: <a href=\"https://wandb.ai/causal-representation-learning/nl-causal-representations-notebooks/runs/1g3wgvjw\" target=\"_blank\">https://wandb.ai/causal-representation-learning/nl-causal-representations-notebooks/runs/1g3wgvjw</a><br/>Synced 5 W&B file(s), 0 media file(s), 0 artifact file(s) and 1 other file(s)"
     },
     "metadata": {},
     "output_type": "display_data"
    },
    {
     "data": {
      "text/plain": "<IPython.core.display.HTML object>",
      "text/html": "Find logs at: <code>./wandb/run-20221010_113304-1g3wgvjw/logs</code>"
     },
     "metadata": {},
     "output_type": "display_data"
    },
    {
     "data": {
      "text/plain": "<IPython.core.display.HTML object>",
      "text/html": "Successfully finished last run (ID:1g3wgvjw). Initializing new run:<br/>"
     },
     "metadata": {},
     "output_type": "display_data"
    },
    {
     "data": {
      "text/plain": "<IPython.core.display.HTML object>",
      "text/html": "wandb version 0.13.4 is available!  To upgrade, please run:\n $ pip install wandb --upgrade"
     },
     "metadata": {},
     "output_type": "display_data"
    },
    {
     "data": {
      "text/plain": "<IPython.core.display.HTML object>",
      "text/html": "Tracking run with wandb version 0.12.17"
     },
     "metadata": {},
     "output_type": "display_data"
    },
    {
     "data": {
      "text/plain": "<IPython.core.display.HTML object>",
      "text/html": "Run data is saved locally in <code>/Users/patrik.reizinger/Documents/GitHub/nl-causal-representations/notebooks/wandb/run-20221010_113314-1nsdirex</code>"
     },
     "metadata": {},
     "output_type": "display_data"
    },
    {
     "data": {
      "text/plain": "<IPython.core.display.HTML object>",
      "text/html": "Syncing run <strong><a href=\"https://wandb.ai/causal-representation-learning/nl-causal-representations-notebooks/runs/1nsdirex\" target=\"_blank\">serene-snow-1194</a></strong> to <a href=\"https://wandb.ai/causal-representation-learning/nl-causal-representations-notebooks\" target=\"_blank\">Weights & Biases</a> (<a href=\"https://wandb.me/run\" target=\"_blank\">docs</a>)<br/>"
     },
     "metadata": {},
     "output_type": "display_data"
    },
    {
     "data": {
      "text/plain": "<IPython.core.display.HTML object>",
      "text/html": "Finishing last run (ID:1nsdirex) before initializing another..."
     },
     "metadata": {},
     "output_type": "display_data"
    },
    {
     "data": {
      "text/plain": "<IPython.core.display.HTML object>",
      "text/html": "Waiting for W&B process to finish... <strong style=\"color:green\">(success).</strong>"
     },
     "metadata": {},
     "output_type": "display_data"
    },
    {
     "data": {
      "text/plain": "VBox(children=(Label(value='0.053 MB of 0.053 MB uploaded (0.000 MB deduped)\\r'), FloatProgress(value=1.0, max…",
      "application/vnd.jupyter.widget-view+json": {
       "version_major": 2,
       "version_minor": 0,
       "model_id": "907a499a27464894a529973b803da910"
      }
     },
     "metadata": {},
     "output_type": "display_data"
    },
    {
     "data": {
      "text/plain": "<IPython.core.display.HTML object>",
      "text/html": "Synced <strong style=\"color:#cdcd00\">serene-snow-1194</strong>: <a href=\"https://wandb.ai/causal-representation-learning/nl-causal-representations-notebooks/runs/1nsdirex\" target=\"_blank\">https://wandb.ai/causal-representation-learning/nl-causal-representations-notebooks/runs/1nsdirex</a><br/>Synced 5 W&B file(s), 0 media file(s), 0 artifact file(s) and 0 other file(s)"
     },
     "metadata": {},
     "output_type": "display_data"
    },
    {
     "data": {
      "text/plain": "<IPython.core.display.HTML object>",
      "text/html": "Find logs at: <code>./wandb/run-20221010_113314-1nsdirex/logs</code>"
     },
     "metadata": {},
     "output_type": "display_data"
    },
    {
     "data": {
      "text/plain": "<IPython.core.display.HTML object>",
      "text/html": "Successfully finished last run (ID:1nsdirex). Initializing new run:<br/>"
     },
     "metadata": {},
     "output_type": "display_data"
    },
    {
     "data": {
      "text/plain": "<IPython.core.display.HTML object>",
      "text/html": "wandb version 0.13.4 is available!  To upgrade, please run:\n $ pip install wandb --upgrade"
     },
     "metadata": {},
     "output_type": "display_data"
    },
    {
     "data": {
      "text/plain": "<IPython.core.display.HTML object>",
      "text/html": "Tracking run with wandb version 0.12.17"
     },
     "metadata": {},
     "output_type": "display_data"
    },
    {
     "data": {
      "text/plain": "<IPython.core.display.HTML object>",
      "text/html": "Run data is saved locally in <code>/Users/patrik.reizinger/Documents/GitHub/nl-causal-representations/notebooks/wandb/run-20221010_113324-25huvkyf</code>"
     },
     "metadata": {},
     "output_type": "display_data"
    },
    {
     "data": {
      "text/plain": "<IPython.core.display.HTML object>",
      "text/html": "Syncing run <strong><a href=\"https://wandb.ai/causal-representation-learning/nl-causal-representations-notebooks/runs/25huvkyf\" target=\"_blank\">dainty-monkey-1195</a></strong> to <a href=\"https://wandb.ai/causal-representation-learning/nl-causal-representations-notebooks\" target=\"_blank\">Weights & Biases</a> (<a href=\"https://wandb.me/run\" target=\"_blank\">docs</a>)<br/>"
     },
     "metadata": {},
     "output_type": "display_data"
    },
    {
     "data": {
      "text/plain": "<IPython.core.display.HTML object>",
      "text/html": "Finishing last run (ID:25huvkyf) before initializing another..."
     },
     "metadata": {},
     "output_type": "display_data"
    },
    {
     "data": {
      "text/plain": "<IPython.core.display.HTML object>",
      "text/html": "Waiting for W&B process to finish... <strong style=\"color:green\">(success).</strong>"
     },
     "metadata": {},
     "output_type": "display_data"
    },
    {
     "data": {
      "text/plain": "VBox(children=(Label(value='0.053 MB of 0.053 MB uploaded (0.000 MB deduped)\\r'), FloatProgress(value=1.0, max…",
      "application/vnd.jupyter.widget-view+json": {
       "version_major": 2,
       "version_minor": 0,
       "model_id": "4e1ac08be3504a76bcd60ce273893366"
      }
     },
     "metadata": {},
     "output_type": "display_data"
    },
    {
     "data": {
      "text/plain": "<IPython.core.display.HTML object>",
      "text/html": "Synced <strong style=\"color:#cdcd00\">dainty-monkey-1195</strong>: <a href=\"https://wandb.ai/causal-representation-learning/nl-causal-representations-notebooks/runs/25huvkyf\" target=\"_blank\">https://wandb.ai/causal-representation-learning/nl-causal-representations-notebooks/runs/25huvkyf</a><br/>Synced 5 W&B file(s), 0 media file(s), 0 artifact file(s) and 1 other file(s)"
     },
     "metadata": {},
     "output_type": "display_data"
    },
    {
     "data": {
      "text/plain": "<IPython.core.display.HTML object>",
      "text/html": "Find logs at: <code>./wandb/run-20221010_113324-25huvkyf/logs</code>"
     },
     "metadata": {},
     "output_type": "display_data"
    },
    {
     "data": {
      "text/plain": "<IPython.core.display.HTML object>",
      "text/html": "Successfully finished last run (ID:25huvkyf). Initializing new run:<br/>"
     },
     "metadata": {},
     "output_type": "display_data"
    },
    {
     "data": {
      "text/plain": "<IPython.core.display.HTML object>",
      "text/html": "wandb version 0.13.4 is available!  To upgrade, please run:\n $ pip install wandb --upgrade"
     },
     "metadata": {},
     "output_type": "display_data"
    },
    {
     "data": {
      "text/plain": "<IPython.core.display.HTML object>",
      "text/html": "Tracking run with wandb version 0.12.17"
     },
     "metadata": {},
     "output_type": "display_data"
    },
    {
     "data": {
      "text/plain": "<IPython.core.display.HTML object>",
      "text/html": "Run data is saved locally in <code>/Users/patrik.reizinger/Documents/GitHub/nl-causal-representations/notebooks/wandb/run-20221010_113334-2bhswys4</code>"
     },
     "metadata": {},
     "output_type": "display_data"
    },
    {
     "data": {
      "text/plain": "<IPython.core.display.HTML object>",
      "text/html": "Syncing run <strong><a href=\"https://wandb.ai/causal-representation-learning/nl-causal-representations-notebooks/runs/2bhswys4\" target=\"_blank\">charmed-universe-1196</a></strong> to <a href=\"https://wandb.ai/causal-representation-learning/nl-causal-representations-notebooks\" target=\"_blank\">Weights & Biases</a> (<a href=\"https://wandb.me/run\" target=\"_blank\">docs</a>)<br/>"
     },
     "metadata": {},
     "output_type": "display_data"
    },
    {
     "data": {
      "text/plain": "<IPython.core.display.HTML object>",
      "text/html": "Finishing last run (ID:2bhswys4) before initializing another..."
     },
     "metadata": {},
     "output_type": "display_data"
    },
    {
     "data": {
      "text/plain": "<IPython.core.display.HTML object>",
      "text/html": "Waiting for W&B process to finish... <strong style=\"color:green\">(success).</strong>"
     },
     "metadata": {},
     "output_type": "display_data"
    },
    {
     "data": {
      "text/plain": "VBox(children=(Label(value='0.053 MB of 0.053 MB uploaded (0.000 MB deduped)\\r'), FloatProgress(value=1.0, max…",
      "application/vnd.jupyter.widget-view+json": {
       "version_major": 2,
       "version_minor": 0,
       "model_id": "7c2a0d304dfc4ef19f5ca1afab9aeb97"
      }
     },
     "metadata": {},
     "output_type": "display_data"
    },
    {
     "data": {
      "text/plain": "<IPython.core.display.HTML object>",
      "text/html": "Synced <strong style=\"color:#cdcd00\">charmed-universe-1196</strong>: <a href=\"https://wandb.ai/causal-representation-learning/nl-causal-representations-notebooks/runs/2bhswys4\" target=\"_blank\">https://wandb.ai/causal-representation-learning/nl-causal-representations-notebooks/runs/2bhswys4</a><br/>Synced 5 W&B file(s), 0 media file(s), 0 artifact file(s) and 0 other file(s)"
     },
     "metadata": {},
     "output_type": "display_data"
    },
    {
     "data": {
      "text/plain": "<IPython.core.display.HTML object>",
      "text/html": "Find logs at: <code>./wandb/run-20221010_113334-2bhswys4/logs</code>"
     },
     "metadata": {},
     "output_type": "display_data"
    },
    {
     "data": {
      "text/plain": "<IPython.core.display.HTML object>",
      "text/html": "Successfully finished last run (ID:2bhswys4). Initializing new run:<br/>"
     },
     "metadata": {},
     "output_type": "display_data"
    },
    {
     "data": {
      "text/plain": "<IPython.core.display.HTML object>",
      "text/html": "wandb version 0.13.4 is available!  To upgrade, please run:\n $ pip install wandb --upgrade"
     },
     "metadata": {},
     "output_type": "display_data"
    },
    {
     "data": {
      "text/plain": "<IPython.core.display.HTML object>",
      "text/html": "Tracking run with wandb version 0.12.17"
     },
     "metadata": {},
     "output_type": "display_data"
    },
    {
     "data": {
      "text/plain": "<IPython.core.display.HTML object>",
      "text/html": "Run data is saved locally in <code>/Users/patrik.reizinger/Documents/GitHub/nl-causal-representations/notebooks/wandb/run-20221010_113344-1667t5z5</code>"
     },
     "metadata": {},
     "output_type": "display_data"
    },
    {
     "data": {
      "text/plain": "<IPython.core.display.HTML object>",
      "text/html": "Syncing run <strong><a href=\"https://wandb.ai/causal-representation-learning/nl-causal-representations-notebooks/runs/1667t5z5\" target=\"_blank\">fallen-monkey-1197</a></strong> to <a href=\"https://wandb.ai/causal-representation-learning/nl-causal-representations-notebooks\" target=\"_blank\">Weights & Biases</a> (<a href=\"https://wandb.me/run\" target=\"_blank\">docs</a>)<br/>"
     },
     "metadata": {},
     "output_type": "display_data"
    },
    {
     "data": {
      "text/plain": "<IPython.core.display.HTML object>",
      "text/html": "Finishing last run (ID:1667t5z5) before initializing another..."
     },
     "metadata": {},
     "output_type": "display_data"
    },
    {
     "data": {
      "text/plain": "<IPython.core.display.HTML object>",
      "text/html": "Waiting for W&B process to finish... <strong style=\"color:green\">(success).</strong>"
     },
     "metadata": {},
     "output_type": "display_data"
    },
    {
     "data": {
      "text/plain": "VBox(children=(Label(value='0.053 MB of 0.053 MB uploaded (0.000 MB deduped)\\r'), FloatProgress(value=1.0, max…",
      "application/vnd.jupyter.widget-view+json": {
       "version_major": 2,
       "version_minor": 0,
       "model_id": "a390ac5e087d466eab4a18f5d4dd6783"
      }
     },
     "metadata": {},
     "output_type": "display_data"
    },
    {
     "data": {
      "text/plain": "<IPython.core.display.HTML object>",
      "text/html": "Synced <strong style=\"color:#cdcd00\">fallen-monkey-1197</strong>: <a href=\"https://wandb.ai/causal-representation-learning/nl-causal-representations-notebooks/runs/1667t5z5\" target=\"_blank\">https://wandb.ai/causal-representation-learning/nl-causal-representations-notebooks/runs/1667t5z5</a><br/>Synced 5 W&B file(s), 0 media file(s), 0 artifact file(s) and 1 other file(s)"
     },
     "metadata": {},
     "output_type": "display_data"
    },
    {
     "data": {
      "text/plain": "<IPython.core.display.HTML object>",
      "text/html": "Find logs at: <code>./wandb/run-20221010_113344-1667t5z5/logs</code>"
     },
     "metadata": {},
     "output_type": "display_data"
    },
    {
     "data": {
      "text/plain": "<IPython.core.display.HTML object>",
      "text/html": "Successfully finished last run (ID:1667t5z5). Initializing new run:<br/>"
     },
     "metadata": {},
     "output_type": "display_data"
    },
    {
     "data": {
      "text/plain": "<IPython.core.display.HTML object>",
      "text/html": "wandb version 0.13.4 is available!  To upgrade, please run:\n $ pip install wandb --upgrade"
     },
     "metadata": {},
     "output_type": "display_data"
    },
    {
     "data": {
      "text/plain": "<IPython.core.display.HTML object>",
      "text/html": "Tracking run with wandb version 0.12.17"
     },
     "metadata": {},
     "output_type": "display_data"
    },
    {
     "data": {
      "text/plain": "<IPython.core.display.HTML object>",
      "text/html": "Run data is saved locally in <code>/Users/patrik.reizinger/Documents/GitHub/nl-causal-representations/notebooks/wandb/run-20221010_113354-1hs8vak8</code>"
     },
     "metadata": {},
     "output_type": "display_data"
    },
    {
     "data": {
      "text/plain": "<IPython.core.display.HTML object>",
      "text/html": "Syncing run <strong><a href=\"https://wandb.ai/causal-representation-learning/nl-causal-representations-notebooks/runs/1hs8vak8\" target=\"_blank\">ethereal-dawn-1198</a></strong> to <a href=\"https://wandb.ai/causal-representation-learning/nl-causal-representations-notebooks\" target=\"_blank\">Weights & Biases</a> (<a href=\"https://wandb.me/run\" target=\"_blank\">docs</a>)<br/>"
     },
     "metadata": {},
     "output_type": "display_data"
    },
    {
     "data": {
      "text/plain": "<IPython.core.display.HTML object>",
      "text/html": "Finishing last run (ID:1hs8vak8) before initializing another..."
     },
     "metadata": {},
     "output_type": "display_data"
    },
    {
     "data": {
      "text/plain": "<IPython.core.display.HTML object>",
      "text/html": "Waiting for W&B process to finish... <strong style=\"color:green\">(success).</strong>"
     },
     "metadata": {},
     "output_type": "display_data"
    },
    {
     "data": {
      "text/plain": "VBox(children=(Label(value='0.053 MB of 0.053 MB uploaded (0.000 MB deduped)\\r'), FloatProgress(value=1.0, max…",
      "application/vnd.jupyter.widget-view+json": {
       "version_major": 2,
       "version_minor": 0,
       "model_id": "3e9554329423482283c562865e9bcb29"
      }
     },
     "metadata": {},
     "output_type": "display_data"
    },
    {
     "data": {
      "text/plain": "<IPython.core.display.HTML object>",
      "text/html": "Synced <strong style=\"color:#cdcd00\">ethereal-dawn-1198</strong>: <a href=\"https://wandb.ai/causal-representation-learning/nl-causal-representations-notebooks/runs/1hs8vak8\" target=\"_blank\">https://wandb.ai/causal-representation-learning/nl-causal-representations-notebooks/runs/1hs8vak8</a><br/>Synced 5 W&B file(s), 0 media file(s), 0 artifact file(s) and 0 other file(s)"
     },
     "metadata": {},
     "output_type": "display_data"
    },
    {
     "data": {
      "text/plain": "<IPython.core.display.HTML object>",
      "text/html": "Find logs at: <code>./wandb/run-20221010_113354-1hs8vak8/logs</code>"
     },
     "metadata": {},
     "output_type": "display_data"
    },
    {
     "data": {
      "text/plain": "<IPython.core.display.HTML object>",
      "text/html": "Successfully finished last run (ID:1hs8vak8). Initializing new run:<br/>"
     },
     "metadata": {},
     "output_type": "display_data"
    },
    {
     "data": {
      "text/plain": "<IPython.core.display.HTML object>",
      "text/html": "wandb version 0.13.4 is available!  To upgrade, please run:\n $ pip install wandb --upgrade"
     },
     "metadata": {},
     "output_type": "display_data"
    },
    {
     "data": {
      "text/plain": "<IPython.core.display.HTML object>",
      "text/html": "Tracking run with wandb version 0.12.17"
     },
     "metadata": {},
     "output_type": "display_data"
    },
    {
     "data": {
      "text/plain": "<IPython.core.display.HTML object>",
      "text/html": "Run data is saved locally in <code>/Users/patrik.reizinger/Documents/GitHub/nl-causal-representations/notebooks/wandb/run-20221010_113404-2224yaqg</code>"
     },
     "metadata": {},
     "output_type": "display_data"
    },
    {
     "data": {
      "text/plain": "<IPython.core.display.HTML object>",
      "text/html": "Syncing run <strong><a href=\"https://wandb.ai/causal-representation-learning/nl-causal-representations-notebooks/runs/2224yaqg\" target=\"_blank\">whole-frost-1199</a></strong> to <a href=\"https://wandb.ai/causal-representation-learning/nl-causal-representations-notebooks\" target=\"_blank\">Weights & Biases</a> (<a href=\"https://wandb.me/run\" target=\"_blank\">docs</a>)<br/>"
     },
     "metadata": {},
     "output_type": "display_data"
    },
    {
     "data": {
      "text/plain": "<IPython.core.display.HTML object>",
      "text/html": "Finishing last run (ID:2224yaqg) before initializing another..."
     },
     "metadata": {},
     "output_type": "display_data"
    },
    {
     "data": {
      "text/plain": "<IPython.core.display.HTML object>",
      "text/html": "Waiting for W&B process to finish... <strong style=\"color:green\">(success).</strong>"
     },
     "metadata": {},
     "output_type": "display_data"
    },
    {
     "data": {
      "text/plain": "VBox(children=(Label(value='0.053 MB of 0.053 MB uploaded (0.000 MB deduped)\\r'), FloatProgress(value=1.0, max…",
      "application/vnd.jupyter.widget-view+json": {
       "version_major": 2,
       "version_minor": 0,
       "model_id": "f784e8091c614ff79e1652274f3a93fb"
      }
     },
     "metadata": {},
     "output_type": "display_data"
    },
    {
     "data": {
      "text/plain": "<IPython.core.display.HTML object>",
      "text/html": "Synced <strong style=\"color:#cdcd00\">whole-frost-1199</strong>: <a href=\"https://wandb.ai/causal-representation-learning/nl-causal-representations-notebooks/runs/2224yaqg\" target=\"_blank\">https://wandb.ai/causal-representation-learning/nl-causal-representations-notebooks/runs/2224yaqg</a><br/>Synced 5 W&B file(s), 0 media file(s), 0 artifact file(s) and 1 other file(s)"
     },
     "metadata": {},
     "output_type": "display_data"
    },
    {
     "data": {
      "text/plain": "<IPython.core.display.HTML object>",
      "text/html": "Find logs at: <code>./wandb/run-20221010_113404-2224yaqg/logs</code>"
     },
     "metadata": {},
     "output_type": "display_data"
    },
    {
     "data": {
      "text/plain": "<IPython.core.display.HTML object>",
      "text/html": "Successfully finished last run (ID:2224yaqg). Initializing new run:<br/>"
     },
     "metadata": {},
     "output_type": "display_data"
    },
    {
     "data": {
      "text/plain": "<IPython.core.display.HTML object>",
      "text/html": "wandb version 0.13.4 is available!  To upgrade, please run:\n $ pip install wandb --upgrade"
     },
     "metadata": {},
     "output_type": "display_data"
    },
    {
     "data": {
      "text/plain": "<IPython.core.display.HTML object>",
      "text/html": "Tracking run with wandb version 0.12.17"
     },
     "metadata": {},
     "output_type": "display_data"
    },
    {
     "data": {
      "text/plain": "<IPython.core.display.HTML object>",
      "text/html": "Run data is saved locally in <code>/Users/patrik.reizinger/Documents/GitHub/nl-causal-representations/notebooks/wandb/run-20221010_113414-8nq3onh5</code>"
     },
     "metadata": {},
     "output_type": "display_data"
    },
    {
     "data": {
      "text/plain": "<IPython.core.display.HTML object>",
      "text/html": "Syncing run <strong><a href=\"https://wandb.ai/causal-representation-learning/nl-causal-representations-notebooks/runs/8nq3onh5\" target=\"_blank\">comic-blaze-1200</a></strong> to <a href=\"https://wandb.ai/causal-representation-learning/nl-causal-representations-notebooks\" target=\"_blank\">Weights & Biases</a> (<a href=\"https://wandb.me/run\" target=\"_blank\">docs</a>)<br/>"
     },
     "metadata": {},
     "output_type": "display_data"
    },
    {
     "data": {
      "text/plain": "<IPython.core.display.HTML object>",
      "text/html": "Finishing last run (ID:8nq3onh5) before initializing another..."
     },
     "metadata": {},
     "output_type": "display_data"
    },
    {
     "data": {
      "text/plain": "<IPython.core.display.HTML object>",
      "text/html": "Waiting for W&B process to finish... <strong style=\"color:green\">(success).</strong>"
     },
     "metadata": {},
     "output_type": "display_data"
    },
    {
     "data": {
      "text/plain": "VBox(children=(Label(value='0.053 MB of 0.053 MB uploaded (0.000 MB deduped)\\r'), FloatProgress(value=1.0, max…",
      "application/vnd.jupyter.widget-view+json": {
       "version_major": 2,
       "version_minor": 0,
       "model_id": "e79a390da4524035874b00fb86c36222"
      }
     },
     "metadata": {},
     "output_type": "display_data"
    },
    {
     "data": {
      "text/plain": "<IPython.core.display.HTML object>",
      "text/html": "Synced <strong style=\"color:#cdcd00\">comic-blaze-1200</strong>: <a href=\"https://wandb.ai/causal-representation-learning/nl-causal-representations-notebooks/runs/8nq3onh5\" target=\"_blank\">https://wandb.ai/causal-representation-learning/nl-causal-representations-notebooks/runs/8nq3onh5</a><br/>Synced 5 W&B file(s), 0 media file(s), 0 artifact file(s) and 0 other file(s)"
     },
     "metadata": {},
     "output_type": "display_data"
    },
    {
     "data": {
      "text/plain": "<IPython.core.display.HTML object>",
      "text/html": "Find logs at: <code>./wandb/run-20221010_113414-8nq3onh5/logs</code>"
     },
     "metadata": {},
     "output_type": "display_data"
    },
    {
     "data": {
      "text/plain": "<IPython.core.display.HTML object>",
      "text/html": "Successfully finished last run (ID:8nq3onh5). Initializing new run:<br/>"
     },
     "metadata": {},
     "output_type": "display_data"
    },
    {
     "data": {
      "text/plain": "<IPython.core.display.HTML object>",
      "text/html": "wandb version 0.13.4 is available!  To upgrade, please run:\n $ pip install wandb --upgrade"
     },
     "metadata": {},
     "output_type": "display_data"
    },
    {
     "data": {
      "text/plain": "<IPython.core.display.HTML object>",
      "text/html": "Tracking run with wandb version 0.12.17"
     },
     "metadata": {},
     "output_type": "display_data"
    },
    {
     "data": {
      "text/plain": "<IPython.core.display.HTML object>",
      "text/html": "Run data is saved locally in <code>/Users/patrik.reizinger/Documents/GitHub/nl-causal-representations/notebooks/wandb/run-20221010_113423-1nt8j8tu</code>"
     },
     "metadata": {},
     "output_type": "display_data"
    },
    {
     "data": {
      "text/plain": "<IPython.core.display.HTML object>",
      "text/html": "Syncing run <strong><a href=\"https://wandb.ai/causal-representation-learning/nl-causal-representations-notebooks/runs/1nt8j8tu\" target=\"_blank\">wandering-blaze-1201</a></strong> to <a href=\"https://wandb.ai/causal-representation-learning/nl-causal-representations-notebooks\" target=\"_blank\">Weights & Biases</a> (<a href=\"https://wandb.me/run\" target=\"_blank\">docs</a>)<br/>"
     },
     "metadata": {},
     "output_type": "display_data"
    },
    {
     "data": {
      "text/plain": "<IPython.core.display.HTML object>",
      "text/html": "Finishing last run (ID:1nt8j8tu) before initializing another..."
     },
     "metadata": {},
     "output_type": "display_data"
    },
    {
     "data": {
      "text/plain": "<IPython.core.display.HTML object>",
      "text/html": "Waiting for W&B process to finish... <strong style=\"color:green\">(success).</strong>"
     },
     "metadata": {},
     "output_type": "display_data"
    },
    {
     "data": {
      "text/plain": "VBox(children=(Label(value='0.053 MB of 0.053 MB uploaded (0.000 MB deduped)\\r'), FloatProgress(value=1.0, max…",
      "application/vnd.jupyter.widget-view+json": {
       "version_major": 2,
       "version_minor": 0,
       "model_id": "dd6ed8e5b0344450804b1095fa93c34a"
      }
     },
     "metadata": {},
     "output_type": "display_data"
    },
    {
     "data": {
      "text/plain": "<IPython.core.display.HTML object>",
      "text/html": "Synced <strong style=\"color:#cdcd00\">wandering-blaze-1201</strong>: <a href=\"https://wandb.ai/causal-representation-learning/nl-causal-representations-notebooks/runs/1nt8j8tu\" target=\"_blank\">https://wandb.ai/causal-representation-learning/nl-causal-representations-notebooks/runs/1nt8j8tu</a><br/>Synced 5 W&B file(s), 0 media file(s), 0 artifact file(s) and 1 other file(s)"
     },
     "metadata": {},
     "output_type": "display_data"
    },
    {
     "data": {
      "text/plain": "<IPython.core.display.HTML object>",
      "text/html": "Find logs at: <code>./wandb/run-20221010_113423-1nt8j8tu/logs</code>"
     },
     "metadata": {},
     "output_type": "display_data"
    },
    {
     "data": {
      "text/plain": "<IPython.core.display.HTML object>",
      "text/html": "Successfully finished last run (ID:1nt8j8tu). Initializing new run:<br/>"
     },
     "metadata": {},
     "output_type": "display_data"
    },
    {
     "data": {
      "text/plain": "<IPython.core.display.HTML object>",
      "text/html": "wandb version 0.13.4 is available!  To upgrade, please run:\n $ pip install wandb --upgrade"
     },
     "metadata": {},
     "output_type": "display_data"
    },
    {
     "data": {
      "text/plain": "<IPython.core.display.HTML object>",
      "text/html": "Tracking run with wandb version 0.12.17"
     },
     "metadata": {},
     "output_type": "display_data"
    },
    {
     "data": {
      "text/plain": "<IPython.core.display.HTML object>",
      "text/html": "Run data is saved locally in <code>/Users/patrik.reizinger/Documents/GitHub/nl-causal-representations/notebooks/wandb/run-20221010_113432-by6cpst4</code>"
     },
     "metadata": {},
     "output_type": "display_data"
    },
    {
     "data": {
      "text/plain": "<IPython.core.display.HTML object>",
      "text/html": "Syncing run <strong><a href=\"https://wandb.ai/causal-representation-learning/nl-causal-representations-notebooks/runs/by6cpst4\" target=\"_blank\">stellar-oath-1202</a></strong> to <a href=\"https://wandb.ai/causal-representation-learning/nl-causal-representations-notebooks\" target=\"_blank\">Weights & Biases</a> (<a href=\"https://wandb.me/run\" target=\"_blank\">docs</a>)<br/>"
     },
     "metadata": {},
     "output_type": "display_data"
    },
    {
     "data": {
      "text/plain": "<IPython.core.display.HTML object>",
      "text/html": "Finishing last run (ID:by6cpst4) before initializing another..."
     },
     "metadata": {},
     "output_type": "display_data"
    },
    {
     "data": {
      "text/plain": "<IPython.core.display.HTML object>",
      "text/html": "Waiting for W&B process to finish... <strong style=\"color:green\">(success).</strong>"
     },
     "metadata": {},
     "output_type": "display_data"
    },
    {
     "data": {
      "text/plain": "VBox(children=(Label(value='0.053 MB of 0.053 MB uploaded (0.000 MB deduped)\\r'), FloatProgress(value=1.0, max…",
      "application/vnd.jupyter.widget-view+json": {
       "version_major": 2,
       "version_minor": 0,
       "model_id": "42ac2dd208b449d39029be782d9c107a"
      }
     },
     "metadata": {},
     "output_type": "display_data"
    },
    {
     "data": {
      "text/plain": "<IPython.core.display.HTML object>",
      "text/html": "Synced <strong style=\"color:#cdcd00\">stellar-oath-1202</strong>: <a href=\"https://wandb.ai/causal-representation-learning/nl-causal-representations-notebooks/runs/by6cpst4\" target=\"_blank\">https://wandb.ai/causal-representation-learning/nl-causal-representations-notebooks/runs/by6cpst4</a><br/>Synced 5 W&B file(s), 0 media file(s), 0 artifact file(s) and 0 other file(s)"
     },
     "metadata": {},
     "output_type": "display_data"
    },
    {
     "data": {
      "text/plain": "<IPython.core.display.HTML object>",
      "text/html": "Find logs at: <code>./wandb/run-20221010_113432-by6cpst4/logs</code>"
     },
     "metadata": {},
     "output_type": "display_data"
    },
    {
     "data": {
      "text/plain": "<IPython.core.display.HTML object>",
      "text/html": "Successfully finished last run (ID:by6cpst4). Initializing new run:<br/>"
     },
     "metadata": {},
     "output_type": "display_data"
    },
    {
     "data": {
      "text/plain": "<IPython.core.display.HTML object>",
      "text/html": "wandb version 0.13.4 is available!  To upgrade, please run:\n $ pip install wandb --upgrade"
     },
     "metadata": {},
     "output_type": "display_data"
    },
    {
     "data": {
      "text/plain": "<IPython.core.display.HTML object>",
      "text/html": "Tracking run with wandb version 0.12.17"
     },
     "metadata": {},
     "output_type": "display_data"
    },
    {
     "data": {
      "text/plain": "<IPython.core.display.HTML object>",
      "text/html": "Run data is saved locally in <code>/Users/patrik.reizinger/Documents/GitHub/nl-causal-representations/notebooks/wandb/run-20221010_113443-1fc43lmj</code>"
     },
     "metadata": {},
     "output_type": "display_data"
    },
    {
     "data": {
      "text/plain": "<IPython.core.display.HTML object>",
      "text/html": "Syncing run <strong><a href=\"https://wandb.ai/causal-representation-learning/nl-causal-representations-notebooks/runs/1fc43lmj\" target=\"_blank\">ethereal-smoke-1203</a></strong> to <a href=\"https://wandb.ai/causal-representation-learning/nl-causal-representations-notebooks\" target=\"_blank\">Weights & Biases</a> (<a href=\"https://wandb.me/run\" target=\"_blank\">docs</a>)<br/>"
     },
     "metadata": {},
     "output_type": "display_data"
    },
    {
     "data": {
      "text/plain": "<IPython.core.display.HTML object>",
      "text/html": "Finishing last run (ID:1fc43lmj) before initializing another..."
     },
     "metadata": {},
     "output_type": "display_data"
    },
    {
     "data": {
      "text/plain": "<IPython.core.display.HTML object>",
      "text/html": "Waiting for W&B process to finish... <strong style=\"color:green\">(success).</strong>"
     },
     "metadata": {},
     "output_type": "display_data"
    },
    {
     "data": {
      "text/plain": "VBox(children=(Label(value='0.053 MB of 0.053 MB uploaded (0.000 MB deduped)\\r'), FloatProgress(value=1.0, max…",
      "application/vnd.jupyter.widget-view+json": {
       "version_major": 2,
       "version_minor": 0,
       "model_id": "70a8319e397e431da7ee89ddb52c1f85"
      }
     },
     "metadata": {},
     "output_type": "display_data"
    },
    {
     "data": {
      "text/plain": "<IPython.core.display.HTML object>",
      "text/html": "Synced <strong style=\"color:#cdcd00\">ethereal-smoke-1203</strong>: <a href=\"https://wandb.ai/causal-representation-learning/nl-causal-representations-notebooks/runs/1fc43lmj\" target=\"_blank\">https://wandb.ai/causal-representation-learning/nl-causal-representations-notebooks/runs/1fc43lmj</a><br/>Synced 5 W&B file(s), 0 media file(s), 0 artifact file(s) and 1 other file(s)"
     },
     "metadata": {},
     "output_type": "display_data"
    },
    {
     "data": {
      "text/plain": "<IPython.core.display.HTML object>",
      "text/html": "Find logs at: <code>./wandb/run-20221010_113443-1fc43lmj/logs</code>"
     },
     "metadata": {},
     "output_type": "display_data"
    },
    {
     "data": {
      "text/plain": "<IPython.core.display.HTML object>",
      "text/html": "Successfully finished last run (ID:1fc43lmj). Initializing new run:<br/>"
     },
     "metadata": {},
     "output_type": "display_data"
    },
    {
     "data": {
      "text/plain": "<IPython.core.display.HTML object>",
      "text/html": "wandb version 0.13.4 is available!  To upgrade, please run:\n $ pip install wandb --upgrade"
     },
     "metadata": {},
     "output_type": "display_data"
    },
    {
     "data": {
      "text/plain": "<IPython.core.display.HTML object>",
      "text/html": "Tracking run with wandb version 0.12.17"
     },
     "metadata": {},
     "output_type": "display_data"
    },
    {
     "data": {
      "text/plain": "<IPython.core.display.HTML object>",
      "text/html": "Run data is saved locally in <code>/Users/patrik.reizinger/Documents/GitHub/nl-causal-representations/notebooks/wandb/run-20221010_113451-2sa09l48</code>"
     },
     "metadata": {},
     "output_type": "display_data"
    },
    {
     "data": {
      "text/plain": "<IPython.core.display.HTML object>",
      "text/html": "Syncing run <strong><a href=\"https://wandb.ai/causal-representation-learning/nl-causal-representations-notebooks/runs/2sa09l48\" target=\"_blank\">vocal-terrain-1204</a></strong> to <a href=\"https://wandb.ai/causal-representation-learning/nl-causal-representations-notebooks\" target=\"_blank\">Weights & Biases</a> (<a href=\"https://wandb.me/run\" target=\"_blank\">docs</a>)<br/>"
     },
     "metadata": {},
     "output_type": "display_data"
    },
    {
     "data": {
      "text/plain": "<IPython.core.display.HTML object>",
      "text/html": "Finishing last run (ID:2sa09l48) before initializing another..."
     },
     "metadata": {},
     "output_type": "display_data"
    },
    {
     "data": {
      "text/plain": "<IPython.core.display.HTML object>",
      "text/html": "Waiting for W&B process to finish... <strong style=\"color:green\">(success).</strong>"
     },
     "metadata": {},
     "output_type": "display_data"
    },
    {
     "data": {
      "text/plain": "VBox(children=(Label(value='0.053 MB of 0.053 MB uploaded (0.000 MB deduped)\\r'), FloatProgress(value=1.0, max…",
      "application/vnd.jupyter.widget-view+json": {
       "version_major": 2,
       "version_minor": 0,
       "model_id": "6a9d9d3b8d394057b74a4524627b9d7e"
      }
     },
     "metadata": {},
     "output_type": "display_data"
    },
    {
     "data": {
      "text/plain": "<IPython.core.display.HTML object>",
      "text/html": "Synced <strong style=\"color:#cdcd00\">vocal-terrain-1204</strong>: <a href=\"https://wandb.ai/causal-representation-learning/nl-causal-representations-notebooks/runs/2sa09l48\" target=\"_blank\">https://wandb.ai/causal-representation-learning/nl-causal-representations-notebooks/runs/2sa09l48</a><br/>Synced 5 W&B file(s), 0 media file(s), 0 artifact file(s) and 0 other file(s)"
     },
     "metadata": {},
     "output_type": "display_data"
    },
    {
     "data": {
      "text/plain": "<IPython.core.display.HTML object>",
      "text/html": "Find logs at: <code>./wandb/run-20221010_113451-2sa09l48/logs</code>"
     },
     "metadata": {},
     "output_type": "display_data"
    },
    {
     "data": {
      "text/plain": "<IPython.core.display.HTML object>",
      "text/html": "Successfully finished last run (ID:2sa09l48). Initializing new run:<br/>"
     },
     "metadata": {},
     "output_type": "display_data"
    },
    {
     "data": {
      "text/plain": "<IPython.core.display.HTML object>",
      "text/html": "wandb version 0.13.4 is available!  To upgrade, please run:\n $ pip install wandb --upgrade"
     },
     "metadata": {},
     "output_type": "display_data"
    },
    {
     "data": {
      "text/plain": "<IPython.core.display.HTML object>",
      "text/html": "Tracking run with wandb version 0.12.17"
     },
     "metadata": {},
     "output_type": "display_data"
    },
    {
     "data": {
      "text/plain": "<IPython.core.display.HTML object>",
      "text/html": "Run data is saved locally in <code>/Users/patrik.reizinger/Documents/GitHub/nl-causal-representations/notebooks/wandb/run-20221010_113502-1c992850</code>"
     },
     "metadata": {},
     "output_type": "display_data"
    },
    {
     "data": {
      "text/plain": "<IPython.core.display.HTML object>",
      "text/html": "Syncing run <strong><a href=\"https://wandb.ai/causal-representation-learning/nl-causal-representations-notebooks/runs/1c992850\" target=\"_blank\">smooth-bush-1205</a></strong> to <a href=\"https://wandb.ai/causal-representation-learning/nl-causal-representations-notebooks\" target=\"_blank\">Weights & Biases</a> (<a href=\"https://wandb.me/run\" target=\"_blank\">docs</a>)<br/>"
     },
     "metadata": {},
     "output_type": "display_data"
    },
    {
     "data": {
      "text/plain": "<IPython.core.display.HTML object>",
      "text/html": "Finishing last run (ID:1c992850) before initializing another..."
     },
     "metadata": {},
     "output_type": "display_data"
    },
    {
     "data": {
      "text/plain": "<IPython.core.display.HTML object>",
      "text/html": "Waiting for W&B process to finish... <strong style=\"color:green\">(success).</strong>"
     },
     "metadata": {},
     "output_type": "display_data"
    },
    {
     "data": {
      "text/plain": "VBox(children=(Label(value='0.053 MB of 0.053 MB uploaded (0.000 MB deduped)\\r'), FloatProgress(value=1.0, max…",
      "application/vnd.jupyter.widget-view+json": {
       "version_major": 2,
       "version_minor": 0,
       "model_id": "6e8fd08dae9148e480f3dab55b35195c"
      }
     },
     "metadata": {},
     "output_type": "display_data"
    },
    {
     "data": {
      "text/plain": "<IPython.core.display.HTML object>",
      "text/html": "Synced <strong style=\"color:#cdcd00\">smooth-bush-1205</strong>: <a href=\"https://wandb.ai/causal-representation-learning/nl-causal-representations-notebooks/runs/1c992850\" target=\"_blank\">https://wandb.ai/causal-representation-learning/nl-causal-representations-notebooks/runs/1c992850</a><br/>Synced 5 W&B file(s), 0 media file(s), 0 artifact file(s) and 1 other file(s)"
     },
     "metadata": {},
     "output_type": "display_data"
    },
    {
     "data": {
      "text/plain": "<IPython.core.display.HTML object>",
      "text/html": "Find logs at: <code>./wandb/run-20221010_113502-1c992850/logs</code>"
     },
     "metadata": {},
     "output_type": "display_data"
    },
    {
     "data": {
      "text/plain": "<IPython.core.display.HTML object>",
      "text/html": "Successfully finished last run (ID:1c992850). Initializing new run:<br/>"
     },
     "metadata": {},
     "output_type": "display_data"
    },
    {
     "data": {
      "text/plain": "<IPython.core.display.HTML object>",
      "text/html": "wandb version 0.13.4 is available!  To upgrade, please run:\n $ pip install wandb --upgrade"
     },
     "metadata": {},
     "output_type": "display_data"
    },
    {
     "data": {
      "text/plain": "<IPython.core.display.HTML object>",
      "text/html": "Tracking run with wandb version 0.12.17"
     },
     "metadata": {},
     "output_type": "display_data"
    },
    {
     "data": {
      "text/plain": "<IPython.core.display.HTML object>",
      "text/html": "Run data is saved locally in <code>/Users/patrik.reizinger/Documents/GitHub/nl-causal-representations/notebooks/wandb/run-20221010_113510-3ia90j9v</code>"
     },
     "metadata": {},
     "output_type": "display_data"
    },
    {
     "data": {
      "text/plain": "<IPython.core.display.HTML object>",
      "text/html": "Syncing run <strong><a href=\"https://wandb.ai/causal-representation-learning/nl-causal-representations-notebooks/runs/3ia90j9v\" target=\"_blank\">brisk-lake-1206</a></strong> to <a href=\"https://wandb.ai/causal-representation-learning/nl-causal-representations-notebooks\" target=\"_blank\">Weights & Biases</a> (<a href=\"https://wandb.me/run\" target=\"_blank\">docs</a>)<br/>"
     },
     "metadata": {},
     "output_type": "display_data"
    },
    {
     "data": {
      "text/plain": "<IPython.core.display.HTML object>",
      "text/html": "Finishing last run (ID:3ia90j9v) before initializing another..."
     },
     "metadata": {},
     "output_type": "display_data"
    },
    {
     "data": {
      "text/plain": "<IPython.core.display.HTML object>",
      "text/html": "Waiting for W&B process to finish... <strong style=\"color:green\">(success).</strong>"
     },
     "metadata": {},
     "output_type": "display_data"
    },
    {
     "data": {
      "text/plain": "VBox(children=(Label(value='0.053 MB of 0.053 MB uploaded (0.000 MB deduped)\\r'), FloatProgress(value=1.0, max…",
      "application/vnd.jupyter.widget-view+json": {
       "version_major": 2,
       "version_minor": 0,
       "model_id": "c7cea7f659594d229e338a14452effeb"
      }
     },
     "metadata": {},
     "output_type": "display_data"
    },
    {
     "data": {
      "text/plain": "<IPython.core.display.HTML object>",
      "text/html": "Synced <strong style=\"color:#cdcd00\">brisk-lake-1206</strong>: <a href=\"https://wandb.ai/causal-representation-learning/nl-causal-representations-notebooks/runs/3ia90j9v\" target=\"_blank\">https://wandb.ai/causal-representation-learning/nl-causal-representations-notebooks/runs/3ia90j9v</a><br/>Synced 5 W&B file(s), 0 media file(s), 0 artifact file(s) and 0 other file(s)"
     },
     "metadata": {},
     "output_type": "display_data"
    },
    {
     "data": {
      "text/plain": "<IPython.core.display.HTML object>",
      "text/html": "Find logs at: <code>./wandb/run-20221010_113510-3ia90j9v/logs</code>"
     },
     "metadata": {},
     "output_type": "display_data"
    },
    {
     "data": {
      "text/plain": "<IPython.core.display.HTML object>",
      "text/html": "Successfully finished last run (ID:3ia90j9v). Initializing new run:<br/>"
     },
     "metadata": {},
     "output_type": "display_data"
    },
    {
     "data": {
      "text/plain": "<IPython.core.display.HTML object>",
      "text/html": "wandb version 0.13.4 is available!  To upgrade, please run:\n $ pip install wandb --upgrade"
     },
     "metadata": {},
     "output_type": "display_data"
    },
    {
     "data": {
      "text/plain": "<IPython.core.display.HTML object>",
      "text/html": "Tracking run with wandb version 0.12.17"
     },
     "metadata": {},
     "output_type": "display_data"
    },
    {
     "data": {
      "text/plain": "<IPython.core.display.HTML object>",
      "text/html": "Run data is saved locally in <code>/Users/patrik.reizinger/Documents/GitHub/nl-causal-representations/notebooks/wandb/run-20221010_113530-2ebr2kjz</code>"
     },
     "metadata": {},
     "output_type": "display_data"
    },
    {
     "data": {
      "text/plain": "<IPython.core.display.HTML object>",
      "text/html": "Syncing run <strong><a href=\"https://wandb.ai/causal-representation-learning/nl-causal-representations-notebooks/runs/2ebr2kjz\" target=\"_blank\">floral-meadow-1207</a></strong> to <a href=\"https://wandb.ai/causal-representation-learning/nl-causal-representations-notebooks\" target=\"_blank\">Weights & Biases</a> (<a href=\"https://wandb.me/run\" target=\"_blank\">docs</a>)<br/>"
     },
     "metadata": {},
     "output_type": "display_data"
    },
    {
     "data": {
      "text/plain": "<IPython.core.display.HTML object>",
      "text/html": "Finishing last run (ID:2ebr2kjz) before initializing another..."
     },
     "metadata": {},
     "output_type": "display_data"
    },
    {
     "data": {
      "text/plain": "<IPython.core.display.HTML object>",
      "text/html": "Waiting for W&B process to finish... <strong style=\"color:green\">(success).</strong>"
     },
     "metadata": {},
     "output_type": "display_data"
    },
    {
     "data": {
      "text/plain": "VBox(children=(Label(value='0.053 MB of 0.053 MB uploaded (0.000 MB deduped)\\r'), FloatProgress(value=1.0, max…",
      "application/vnd.jupyter.widget-view+json": {
       "version_major": 2,
       "version_minor": 0,
       "model_id": "8fe3ff2c0ee54dc18df645c53c523528"
      }
     },
     "metadata": {},
     "output_type": "display_data"
    },
    {
     "data": {
      "text/plain": "<IPython.core.display.HTML object>",
      "text/html": "Synced <strong style=\"color:#cdcd00\">floral-meadow-1207</strong>: <a href=\"https://wandb.ai/causal-representation-learning/nl-causal-representations-notebooks/runs/2ebr2kjz\" target=\"_blank\">https://wandb.ai/causal-representation-learning/nl-causal-representations-notebooks/runs/2ebr2kjz</a><br/>Synced 5 W&B file(s), 0 media file(s), 0 artifact file(s) and 1 other file(s)"
     },
     "metadata": {},
     "output_type": "display_data"
    },
    {
     "data": {
      "text/plain": "<IPython.core.display.HTML object>",
      "text/html": "Find logs at: <code>./wandb/run-20221010_113530-2ebr2kjz/logs</code>"
     },
     "metadata": {},
     "output_type": "display_data"
    },
    {
     "data": {
      "text/plain": "<IPython.core.display.HTML object>",
      "text/html": "Successfully finished last run (ID:2ebr2kjz). Initializing new run:<br/>"
     },
     "metadata": {},
     "output_type": "display_data"
    },
    {
     "data": {
      "text/plain": "<IPython.core.display.HTML object>",
      "text/html": "wandb version 0.13.4 is available!  To upgrade, please run:\n $ pip install wandb --upgrade"
     },
     "metadata": {},
     "output_type": "display_data"
    },
    {
     "data": {
      "text/plain": "<IPython.core.display.HTML object>",
      "text/html": "Tracking run with wandb version 0.12.17"
     },
     "metadata": {},
     "output_type": "display_data"
    },
    {
     "data": {
      "text/plain": "<IPython.core.display.HTML object>",
      "text/html": "Run data is saved locally in <code>/Users/patrik.reizinger/Documents/GitHub/nl-causal-representations/notebooks/wandb/run-20221010_113550-3px64d9j</code>"
     },
     "metadata": {},
     "output_type": "display_data"
    },
    {
     "data": {
      "text/plain": "<IPython.core.display.HTML object>",
      "text/html": "Syncing run <strong><a href=\"https://wandb.ai/causal-representation-learning/nl-causal-representations-notebooks/runs/3px64d9j\" target=\"_blank\">pleasant-voice-1208</a></strong> to <a href=\"https://wandb.ai/causal-representation-learning/nl-causal-representations-notebooks\" target=\"_blank\">Weights & Biases</a> (<a href=\"https://wandb.me/run\" target=\"_blank\">docs</a>)<br/>"
     },
     "metadata": {},
     "output_type": "display_data"
    },
    {
     "data": {
      "text/plain": "<IPython.core.display.HTML object>",
      "text/html": "Finishing last run (ID:3px64d9j) before initializing another..."
     },
     "metadata": {},
     "output_type": "display_data"
    },
    {
     "data": {
      "text/plain": "<IPython.core.display.HTML object>",
      "text/html": "Waiting for W&B process to finish... <strong style=\"color:green\">(success).</strong>"
     },
     "metadata": {},
     "output_type": "display_data"
    },
    {
     "data": {
      "text/plain": "VBox(children=(Label(value='0.053 MB of 0.053 MB uploaded (0.000 MB deduped)\\r'), FloatProgress(value=1.0, max…",
      "application/vnd.jupyter.widget-view+json": {
       "version_major": 2,
       "version_minor": 0,
       "model_id": "3d13e49fa31444d6b49cfa8b585a1af7"
      }
     },
     "metadata": {},
     "output_type": "display_data"
    },
    {
     "data": {
      "text/plain": "<IPython.core.display.HTML object>",
      "text/html": "Synced <strong style=\"color:#cdcd00\">pleasant-voice-1208</strong>: <a href=\"https://wandb.ai/causal-representation-learning/nl-causal-representations-notebooks/runs/3px64d9j\" target=\"_blank\">https://wandb.ai/causal-representation-learning/nl-causal-representations-notebooks/runs/3px64d9j</a><br/>Synced 5 W&B file(s), 0 media file(s), 0 artifact file(s) and 0 other file(s)"
     },
     "metadata": {},
     "output_type": "display_data"
    },
    {
     "data": {
      "text/plain": "<IPython.core.display.HTML object>",
      "text/html": "Find logs at: <code>./wandb/run-20221010_113550-3px64d9j/logs</code>"
     },
     "metadata": {},
     "output_type": "display_data"
    },
    {
     "data": {
      "text/plain": "<IPython.core.display.HTML object>",
      "text/html": "Successfully finished last run (ID:3px64d9j). Initializing new run:<br/>"
     },
     "metadata": {},
     "output_type": "display_data"
    },
    {
     "data": {
      "text/plain": "<IPython.core.display.HTML object>",
      "text/html": "wandb version 0.13.4 is available!  To upgrade, please run:\n $ pip install wandb --upgrade"
     },
     "metadata": {},
     "output_type": "display_data"
    },
    {
     "data": {
      "text/plain": "<IPython.core.display.HTML object>",
      "text/html": "Tracking run with wandb version 0.12.17"
     },
     "metadata": {},
     "output_type": "display_data"
    },
    {
     "data": {
      "text/plain": "<IPython.core.display.HTML object>",
      "text/html": "Run data is saved locally in <code>/Users/patrik.reizinger/Documents/GitHub/nl-causal-representations/notebooks/wandb/run-20221010_113559-2ebogwsu</code>"
     },
     "metadata": {},
     "output_type": "display_data"
    },
    {
     "data": {
      "text/plain": "<IPython.core.display.HTML object>",
      "text/html": "Syncing run <strong><a href=\"https://wandb.ai/causal-representation-learning/nl-causal-representations-notebooks/runs/2ebogwsu\" target=\"_blank\">true-frog-1209</a></strong> to <a href=\"https://wandb.ai/causal-representation-learning/nl-causal-representations-notebooks\" target=\"_blank\">Weights & Biases</a> (<a href=\"https://wandb.me/run\" target=\"_blank\">docs</a>)<br/>"
     },
     "metadata": {},
     "output_type": "display_data"
    },
    {
     "data": {
      "text/plain": "<IPython.core.display.HTML object>",
      "text/html": "Finishing last run (ID:2ebogwsu) before initializing another..."
     },
     "metadata": {},
     "output_type": "display_data"
    },
    {
     "data": {
      "text/plain": "<IPython.core.display.HTML object>",
      "text/html": "Waiting for W&B process to finish... <strong style=\"color:green\">(success).</strong>"
     },
     "metadata": {},
     "output_type": "display_data"
    },
    {
     "data": {
      "text/plain": "VBox(children=(Label(value='0.053 MB of 0.053 MB uploaded (0.000 MB deduped)\\r'), FloatProgress(value=1.0, max…",
      "application/vnd.jupyter.widget-view+json": {
       "version_major": 2,
       "version_minor": 0,
       "model_id": "f937ba4fc5b64b0081369c9150342e7a"
      }
     },
     "metadata": {},
     "output_type": "display_data"
    },
    {
     "data": {
      "text/plain": "<IPython.core.display.HTML object>",
      "text/html": "Synced <strong style=\"color:#cdcd00\">true-frog-1209</strong>: <a href=\"https://wandb.ai/causal-representation-learning/nl-causal-representations-notebooks/runs/2ebogwsu\" target=\"_blank\">https://wandb.ai/causal-representation-learning/nl-causal-representations-notebooks/runs/2ebogwsu</a><br/>Synced 5 W&B file(s), 0 media file(s), 0 artifact file(s) and 1 other file(s)"
     },
     "metadata": {},
     "output_type": "display_data"
    },
    {
     "data": {
      "text/plain": "<IPython.core.display.HTML object>",
      "text/html": "Find logs at: <code>./wandb/run-20221010_113559-2ebogwsu/logs</code>"
     },
     "metadata": {},
     "output_type": "display_data"
    },
    {
     "data": {
      "text/plain": "<IPython.core.display.HTML object>",
      "text/html": "Successfully finished last run (ID:2ebogwsu). Initializing new run:<br/>"
     },
     "metadata": {},
     "output_type": "display_data"
    },
    {
     "data": {
      "text/plain": "<IPython.core.display.HTML object>",
      "text/html": "wandb version 0.13.4 is available!  To upgrade, please run:\n $ pip install wandb --upgrade"
     },
     "metadata": {},
     "output_type": "display_data"
    },
    {
     "data": {
      "text/plain": "<IPython.core.display.HTML object>",
      "text/html": "Tracking run with wandb version 0.12.17"
     },
     "metadata": {},
     "output_type": "display_data"
    },
    {
     "data": {
      "text/plain": "<IPython.core.display.HTML object>",
      "text/html": "Run data is saved locally in <code>/Users/patrik.reizinger/Documents/GitHub/nl-causal-representations/notebooks/wandb/run-20221010_113608-b2wv4cpc</code>"
     },
     "metadata": {},
     "output_type": "display_data"
    },
    {
     "data": {
      "text/plain": "<IPython.core.display.HTML object>",
      "text/html": "Syncing run <strong><a href=\"https://wandb.ai/causal-representation-learning/nl-causal-representations-notebooks/runs/b2wv4cpc\" target=\"_blank\">comic-bird-1210</a></strong> to <a href=\"https://wandb.ai/causal-representation-learning/nl-causal-representations-notebooks\" target=\"_blank\">Weights & Biases</a> (<a href=\"https://wandb.me/run\" target=\"_blank\">docs</a>)<br/>"
     },
     "metadata": {},
     "output_type": "display_data"
    },
    {
     "data": {
      "text/plain": "<IPython.core.display.HTML object>",
      "text/html": "Finishing last run (ID:b2wv4cpc) before initializing another..."
     },
     "metadata": {},
     "output_type": "display_data"
    },
    {
     "data": {
      "text/plain": "<IPython.core.display.HTML object>",
      "text/html": "Waiting for W&B process to finish... <strong style=\"color:green\">(success).</strong>"
     },
     "metadata": {},
     "output_type": "display_data"
    },
    {
     "data": {
      "text/plain": "VBox(children=(Label(value='0.053 MB of 0.053 MB uploaded (0.000 MB deduped)\\r'), FloatProgress(value=1.0, max…",
      "application/vnd.jupyter.widget-view+json": {
       "version_major": 2,
       "version_minor": 0,
       "model_id": "49a6c44161054b66a3c7848732fc0fb9"
      }
     },
     "metadata": {},
     "output_type": "display_data"
    },
    {
     "data": {
      "text/plain": "<IPython.core.display.HTML object>",
      "text/html": "Synced <strong style=\"color:#cdcd00\">comic-bird-1210</strong>: <a href=\"https://wandb.ai/causal-representation-learning/nl-causal-representations-notebooks/runs/b2wv4cpc\" target=\"_blank\">https://wandb.ai/causal-representation-learning/nl-causal-representations-notebooks/runs/b2wv4cpc</a><br/>Synced 5 W&B file(s), 0 media file(s), 0 artifact file(s) and 0 other file(s)"
     },
     "metadata": {},
     "output_type": "display_data"
    },
    {
     "data": {
      "text/plain": "<IPython.core.display.HTML object>",
      "text/html": "Find logs at: <code>./wandb/run-20221010_113608-b2wv4cpc/logs</code>"
     },
     "metadata": {},
     "output_type": "display_data"
    },
    {
     "data": {
      "text/plain": "<IPython.core.display.HTML object>",
      "text/html": "Successfully finished last run (ID:b2wv4cpc). Initializing new run:<br/>"
     },
     "metadata": {},
     "output_type": "display_data"
    },
    {
     "data": {
      "text/plain": "<IPython.core.display.HTML object>",
      "text/html": "wandb version 0.13.4 is available!  To upgrade, please run:\n $ pip install wandb --upgrade"
     },
     "metadata": {},
     "output_type": "display_data"
    },
    {
     "data": {
      "text/plain": "<IPython.core.display.HTML object>",
      "text/html": "Tracking run with wandb version 0.12.17"
     },
     "metadata": {},
     "output_type": "display_data"
    },
    {
     "data": {
      "text/plain": "<IPython.core.display.HTML object>",
      "text/html": "Run data is saved locally in <code>/Users/patrik.reizinger/Documents/GitHub/nl-causal-representations/notebooks/wandb/run-20221010_113617-1hprkr93</code>"
     },
     "metadata": {},
     "output_type": "display_data"
    },
    {
     "data": {
      "text/plain": "<IPython.core.display.HTML object>",
      "text/html": "Syncing run <strong><a href=\"https://wandb.ai/causal-representation-learning/nl-causal-representations-notebooks/runs/1hprkr93\" target=\"_blank\">royal-shape-1211</a></strong> to <a href=\"https://wandb.ai/causal-representation-learning/nl-causal-representations-notebooks\" target=\"_blank\">Weights & Biases</a> (<a href=\"https://wandb.me/run\" target=\"_blank\">docs</a>)<br/>"
     },
     "metadata": {},
     "output_type": "display_data"
    },
    {
     "data": {
      "text/plain": "<IPython.core.display.HTML object>",
      "text/html": "Finishing last run (ID:1hprkr93) before initializing another..."
     },
     "metadata": {},
     "output_type": "display_data"
    },
    {
     "data": {
      "text/plain": "<IPython.core.display.HTML object>",
      "text/html": "Waiting for W&B process to finish... <strong style=\"color:green\">(success).</strong>"
     },
     "metadata": {},
     "output_type": "display_data"
    },
    {
     "data": {
      "text/plain": "VBox(children=(Label(value='0.053 MB of 0.053 MB uploaded (0.000 MB deduped)\\r'), FloatProgress(value=1.0, max…",
      "application/vnd.jupyter.widget-view+json": {
       "version_major": 2,
       "version_minor": 0,
       "model_id": "fc36348bc74240eeb79847bc437fa25c"
      }
     },
     "metadata": {},
     "output_type": "display_data"
    },
    {
     "data": {
      "text/plain": "<IPython.core.display.HTML object>",
      "text/html": "Synced <strong style=\"color:#cdcd00\">royal-shape-1211</strong>: <a href=\"https://wandb.ai/causal-representation-learning/nl-causal-representations-notebooks/runs/1hprkr93\" target=\"_blank\">https://wandb.ai/causal-representation-learning/nl-causal-representations-notebooks/runs/1hprkr93</a><br/>Synced 5 W&B file(s), 0 media file(s), 0 artifact file(s) and 1 other file(s)"
     },
     "metadata": {},
     "output_type": "display_data"
    },
    {
     "data": {
      "text/plain": "<IPython.core.display.HTML object>",
      "text/html": "Find logs at: <code>./wandb/run-20221010_113617-1hprkr93/logs</code>"
     },
     "metadata": {},
     "output_type": "display_data"
    },
    {
     "data": {
      "text/plain": "<IPython.core.display.HTML object>",
      "text/html": "Successfully finished last run (ID:1hprkr93). Initializing new run:<br/>"
     },
     "metadata": {},
     "output_type": "display_data"
    },
    {
     "data": {
      "text/plain": "<IPython.core.display.HTML object>",
      "text/html": "wandb version 0.13.4 is available!  To upgrade, please run:\n $ pip install wandb --upgrade"
     },
     "metadata": {},
     "output_type": "display_data"
    },
    {
     "data": {
      "text/plain": "<IPython.core.display.HTML object>",
      "text/html": "Tracking run with wandb version 0.12.17"
     },
     "metadata": {},
     "output_type": "display_data"
    },
    {
     "data": {
      "text/plain": "<IPython.core.display.HTML object>",
      "text/html": "Run data is saved locally in <code>/Users/patrik.reizinger/Documents/GitHub/nl-causal-representations/notebooks/wandb/run-20221010_113626-3a2r013g</code>"
     },
     "metadata": {},
     "output_type": "display_data"
    },
    {
     "data": {
      "text/plain": "<IPython.core.display.HTML object>",
      "text/html": "Syncing run <strong><a href=\"https://wandb.ai/causal-representation-learning/nl-causal-representations-notebooks/runs/3a2r013g\" target=\"_blank\">fine-capybara-1212</a></strong> to <a href=\"https://wandb.ai/causal-representation-learning/nl-causal-representations-notebooks\" target=\"_blank\">Weights & Biases</a> (<a href=\"https://wandb.me/run\" target=\"_blank\">docs</a>)<br/>"
     },
     "metadata": {},
     "output_type": "display_data"
    },
    {
     "data": {
      "text/plain": "<IPython.core.display.HTML object>",
      "text/html": "Finishing last run (ID:3a2r013g) before initializing another..."
     },
     "metadata": {},
     "output_type": "display_data"
    },
    {
     "data": {
      "text/plain": "<IPython.core.display.HTML object>",
      "text/html": "Waiting for W&B process to finish... <strong style=\"color:green\">(success).</strong>"
     },
     "metadata": {},
     "output_type": "display_data"
    },
    {
     "data": {
      "text/plain": "VBox(children=(Label(value='0.053 MB of 0.053 MB uploaded (0.000 MB deduped)\\r'), FloatProgress(value=1.0, max…",
      "application/vnd.jupyter.widget-view+json": {
       "version_major": 2,
       "version_minor": 0,
       "model_id": "c05a068b965a4fa7ae27847c7dd5bd19"
      }
     },
     "metadata": {},
     "output_type": "display_data"
    },
    {
     "data": {
      "text/plain": "<IPython.core.display.HTML object>",
      "text/html": "Synced <strong style=\"color:#cdcd00\">fine-capybara-1212</strong>: <a href=\"https://wandb.ai/causal-representation-learning/nl-causal-representations-notebooks/runs/3a2r013g\" target=\"_blank\">https://wandb.ai/causal-representation-learning/nl-causal-representations-notebooks/runs/3a2r013g</a><br/>Synced 5 W&B file(s), 0 media file(s), 0 artifact file(s) and 0 other file(s)"
     },
     "metadata": {},
     "output_type": "display_data"
    },
    {
     "data": {
      "text/plain": "<IPython.core.display.HTML object>",
      "text/html": "Find logs at: <code>./wandb/run-20221010_113626-3a2r013g/logs</code>"
     },
     "metadata": {},
     "output_type": "display_data"
    },
    {
     "data": {
      "text/plain": "<IPython.core.display.HTML object>",
      "text/html": "Successfully finished last run (ID:3a2r013g). Initializing new run:<br/>"
     },
     "metadata": {},
     "output_type": "display_data"
    },
    {
     "data": {
      "text/plain": "<IPython.core.display.HTML object>",
      "text/html": "wandb version 0.13.4 is available!  To upgrade, please run:\n $ pip install wandb --upgrade"
     },
     "metadata": {},
     "output_type": "display_data"
    },
    {
     "data": {
      "text/plain": "<IPython.core.display.HTML object>",
      "text/html": "Tracking run with wandb version 0.12.17"
     },
     "metadata": {},
     "output_type": "display_data"
    },
    {
     "data": {
      "text/plain": "<IPython.core.display.HTML object>",
      "text/html": "Run data is saved locally in <code>/Users/patrik.reizinger/Documents/GitHub/nl-causal-representations/notebooks/wandb/run-20221010_113636-3tyn0b9t</code>"
     },
     "metadata": {},
     "output_type": "display_data"
    },
    {
     "data": {
      "text/plain": "<IPython.core.display.HTML object>",
      "text/html": "Syncing run <strong><a href=\"https://wandb.ai/causal-representation-learning/nl-causal-representations-notebooks/runs/3tyn0b9t\" target=\"_blank\">elated-flower-1213</a></strong> to <a href=\"https://wandb.ai/causal-representation-learning/nl-causal-representations-notebooks\" target=\"_blank\">Weights & Biases</a> (<a href=\"https://wandb.me/run\" target=\"_blank\">docs</a>)<br/>"
     },
     "metadata": {},
     "output_type": "display_data"
    },
    {
     "name": "stdout",
     "output_type": "stream",
     "text": [
      "Encountered a faulty run with ID driven-sweep-9\n"
     ]
    },
    {
     "data": {
      "text/plain": "<IPython.core.display.HTML object>",
      "text/html": "Finishing last run (ID:3tyn0b9t) before initializing another..."
     },
     "metadata": {},
     "output_type": "display_data"
    },
    {
     "data": {
      "text/plain": "<IPython.core.display.HTML object>",
      "text/html": "Waiting for W&B process to finish... <strong style=\"color:green\">(success).</strong>"
     },
     "metadata": {},
     "output_type": "display_data"
    },
    {
     "data": {
      "text/plain": "VBox(children=(Label(value='0.053 MB of 0.053 MB uploaded (0.000 MB deduped)\\r'), FloatProgress(value=1.0, max…",
      "application/vnd.jupyter.widget-view+json": {
       "version_major": 2,
       "version_minor": 0,
       "model_id": "35834fd4079e42ff869526cc2c6cec17"
      }
     },
     "metadata": {},
     "output_type": "display_data"
    },
    {
     "data": {
      "text/plain": "<IPython.core.display.HTML object>",
      "text/html": "Synced <strong style=\"color:#cdcd00\">elated-flower-1213</strong>: <a href=\"https://wandb.ai/causal-representation-learning/nl-causal-representations-notebooks/runs/3tyn0b9t\" target=\"_blank\">https://wandb.ai/causal-representation-learning/nl-causal-representations-notebooks/runs/3tyn0b9t</a><br/>Synced 6 W&B file(s), 0 media file(s), 0 artifact file(s) and 1 other file(s)"
     },
     "metadata": {},
     "output_type": "display_data"
    },
    {
     "data": {
      "text/plain": "<IPython.core.display.HTML object>",
      "text/html": "Find logs at: <code>./wandb/run-20221010_113636-3tyn0b9t/logs</code>"
     },
     "metadata": {},
     "output_type": "display_data"
    },
    {
     "data": {
      "text/plain": "<IPython.core.display.HTML object>",
      "text/html": "Successfully finished last run (ID:3tyn0b9t). Initializing new run:<br/>"
     },
     "metadata": {},
     "output_type": "display_data"
    },
    {
     "data": {
      "text/plain": "<IPython.core.display.HTML object>",
      "text/html": "wandb version 0.13.4 is available!  To upgrade, please run:\n $ pip install wandb --upgrade"
     },
     "metadata": {},
     "output_type": "display_data"
    },
    {
     "data": {
      "text/plain": "<IPython.core.display.HTML object>",
      "text/html": "Tracking run with wandb version 0.12.17"
     },
     "metadata": {},
     "output_type": "display_data"
    },
    {
     "data": {
      "text/plain": "<IPython.core.display.HTML object>",
      "text/html": "Run data is saved locally in <code>/Users/patrik.reizinger/Documents/GitHub/nl-causal-representations/notebooks/wandb/run-20221010_113645-l9rxiq0w</code>"
     },
     "metadata": {},
     "output_type": "display_data"
    },
    {
     "data": {
      "text/plain": "<IPython.core.display.HTML object>",
      "text/html": "Syncing run <strong><a href=\"https://wandb.ai/causal-representation-learning/nl-causal-representations-notebooks/runs/l9rxiq0w\" target=\"_blank\">astral-smoke-1214</a></strong> to <a href=\"https://wandb.ai/causal-representation-learning/nl-causal-representations-notebooks\" target=\"_blank\">Weights & Biases</a> (<a href=\"https://wandb.me/run\" target=\"_blank\">docs</a>)<br/>"
     },
     "metadata": {},
     "output_type": "display_data"
    },
    {
     "data": {
      "text/plain": "<IPython.core.display.HTML object>",
      "text/html": "Finishing last run (ID:l9rxiq0w) before initializing another..."
     },
     "metadata": {},
     "output_type": "display_data"
    },
    {
     "data": {
      "text/plain": "<IPython.core.display.HTML object>",
      "text/html": "Waiting for W&B process to finish... <strong style=\"color:green\">(success).</strong>"
     },
     "metadata": {},
     "output_type": "display_data"
    },
    {
     "data": {
      "text/plain": "VBox(children=(Label(value='0.053 MB of 0.053 MB uploaded (0.000 MB deduped)\\r'), FloatProgress(value=1.0, max…",
      "application/vnd.jupyter.widget-view+json": {
       "version_major": 2,
       "version_minor": 0,
       "model_id": "a37106bbd0534e57bc527ba2699388f2"
      }
     },
     "metadata": {},
     "output_type": "display_data"
    },
    {
     "data": {
      "text/plain": "<IPython.core.display.HTML object>",
      "text/html": "Synced <strong style=\"color:#cdcd00\">astral-smoke-1214</strong>: <a href=\"https://wandb.ai/causal-representation-learning/nl-causal-representations-notebooks/runs/l9rxiq0w\" target=\"_blank\">https://wandb.ai/causal-representation-learning/nl-causal-representations-notebooks/runs/l9rxiq0w</a><br/>Synced 5 W&B file(s), 0 media file(s), 0 artifact file(s) and 0 other file(s)"
     },
     "metadata": {},
     "output_type": "display_data"
    },
    {
     "data": {
      "text/plain": "<IPython.core.display.HTML object>",
      "text/html": "Find logs at: <code>./wandb/run-20221010_113645-l9rxiq0w/logs</code>"
     },
     "metadata": {},
     "output_type": "display_data"
    },
    {
     "data": {
      "text/plain": "<IPython.core.display.HTML object>",
      "text/html": "Successfully finished last run (ID:l9rxiq0w). Initializing new run:<br/>"
     },
     "metadata": {},
     "output_type": "display_data"
    },
    {
     "data": {
      "text/plain": "<IPython.core.display.HTML object>",
      "text/html": "wandb version 0.13.4 is available!  To upgrade, please run:\n $ pip install wandb --upgrade"
     },
     "metadata": {},
     "output_type": "display_data"
    },
    {
     "data": {
      "text/plain": "<IPython.core.display.HTML object>",
      "text/html": "Tracking run with wandb version 0.12.17"
     },
     "metadata": {},
     "output_type": "display_data"
    },
    {
     "data": {
      "text/plain": "<IPython.core.display.HTML object>",
      "text/html": "Run data is saved locally in <code>/Users/patrik.reizinger/Documents/GitHub/nl-causal-representations/notebooks/wandb/run-20221010_113654-2a8q6u7p</code>"
     },
     "metadata": {},
     "output_type": "display_data"
    },
    {
     "data": {
      "text/plain": "<IPython.core.display.HTML object>",
      "text/html": "Syncing run <strong><a href=\"https://wandb.ai/causal-representation-learning/nl-causal-representations-notebooks/runs/2a8q6u7p\" target=\"_blank\">grateful-moon-1215</a></strong> to <a href=\"https://wandb.ai/causal-representation-learning/nl-causal-representations-notebooks\" target=\"_blank\">Weights & Biases</a> (<a href=\"https://wandb.me/run\" target=\"_blank\">docs</a>)<br/>"
     },
     "metadata": {},
     "output_type": "display_data"
    },
    {
     "data": {
      "text/plain": "<IPython.core.display.HTML object>",
      "text/html": "Finishing last run (ID:2a8q6u7p) before initializing another..."
     },
     "metadata": {},
     "output_type": "display_data"
    },
    {
     "data": {
      "text/plain": "<IPython.core.display.HTML object>",
      "text/html": "Waiting for W&B process to finish... <strong style=\"color:green\">(success).</strong>"
     },
     "metadata": {},
     "output_type": "display_data"
    },
    {
     "data": {
      "text/plain": "VBox(children=(Label(value='0.053 MB of 0.053 MB uploaded (0.000 MB deduped)\\r'), FloatProgress(value=1.0, max…",
      "application/vnd.jupyter.widget-view+json": {
       "version_major": 2,
       "version_minor": 0,
       "model_id": "8dcb2ac625d64b4cbe675a32f0d48bc8"
      }
     },
     "metadata": {},
     "output_type": "display_data"
    },
    {
     "data": {
      "text/plain": "<IPython.core.display.HTML object>",
      "text/html": "Synced <strong style=\"color:#cdcd00\">grateful-moon-1215</strong>: <a href=\"https://wandb.ai/causal-representation-learning/nl-causal-representations-notebooks/runs/2a8q6u7p\" target=\"_blank\">https://wandb.ai/causal-representation-learning/nl-causal-representations-notebooks/runs/2a8q6u7p</a><br/>Synced 5 W&B file(s), 0 media file(s), 0 artifact file(s) and 1 other file(s)"
     },
     "metadata": {},
     "output_type": "display_data"
    },
    {
     "data": {
      "text/plain": "<IPython.core.display.HTML object>",
      "text/html": "Find logs at: <code>./wandb/run-20221010_113654-2a8q6u7p/logs</code>"
     },
     "metadata": {},
     "output_type": "display_data"
    },
    {
     "data": {
      "text/plain": "<IPython.core.display.HTML object>",
      "text/html": "Successfully finished last run (ID:2a8q6u7p). Initializing new run:<br/>"
     },
     "metadata": {},
     "output_type": "display_data"
    },
    {
     "data": {
      "text/plain": "<IPython.core.display.HTML object>",
      "text/html": "wandb version 0.13.4 is available!  To upgrade, please run:\n $ pip install wandb --upgrade"
     },
     "metadata": {},
     "output_type": "display_data"
    },
    {
     "data": {
      "text/plain": "<IPython.core.display.HTML object>",
      "text/html": "Tracking run with wandb version 0.12.17"
     },
     "metadata": {},
     "output_type": "display_data"
    },
    {
     "data": {
      "text/plain": "<IPython.core.display.HTML object>",
      "text/html": "Run data is saved locally in <code>/Users/patrik.reizinger/Documents/GitHub/nl-causal-representations/notebooks/wandb/run-20221010_113704-mxsnpdi6</code>"
     },
     "metadata": {},
     "output_type": "display_data"
    },
    {
     "data": {
      "text/plain": "<IPython.core.display.HTML object>",
      "text/html": "Syncing run <strong><a href=\"https://wandb.ai/causal-representation-learning/nl-causal-representations-notebooks/runs/mxsnpdi6\" target=\"_blank\">treasured-tree-1216</a></strong> to <a href=\"https://wandb.ai/causal-representation-learning/nl-causal-representations-notebooks\" target=\"_blank\">Weights & Biases</a> (<a href=\"https://wandb.me/run\" target=\"_blank\">docs</a>)<br/>"
     },
     "metadata": {},
     "output_type": "display_data"
    },
    {
     "data": {
      "text/plain": "<IPython.core.display.HTML object>",
      "text/html": "Finishing last run (ID:mxsnpdi6) before initializing another..."
     },
     "metadata": {},
     "output_type": "display_data"
    },
    {
     "data": {
      "text/plain": "<IPython.core.display.HTML object>",
      "text/html": "Waiting for W&B process to finish... <strong style=\"color:green\">(success).</strong>"
     },
     "metadata": {},
     "output_type": "display_data"
    },
    {
     "data": {
      "text/plain": "VBox(children=(Label(value='0.053 MB of 0.053 MB uploaded (0.000 MB deduped)\\r'), FloatProgress(value=1.0, max…",
      "application/vnd.jupyter.widget-view+json": {
       "version_major": 2,
       "version_minor": 0,
       "model_id": "ac42f100977f41b3aeb378280a33ba54"
      }
     },
     "metadata": {},
     "output_type": "display_data"
    },
    {
     "data": {
      "text/plain": "<IPython.core.display.HTML object>",
      "text/html": "Synced <strong style=\"color:#cdcd00\">treasured-tree-1216</strong>: <a href=\"https://wandb.ai/causal-representation-learning/nl-causal-representations-notebooks/runs/mxsnpdi6\" target=\"_blank\">https://wandb.ai/causal-representation-learning/nl-causal-representations-notebooks/runs/mxsnpdi6</a><br/>Synced 5 W&B file(s), 0 media file(s), 0 artifact file(s) and 0 other file(s)"
     },
     "metadata": {},
     "output_type": "display_data"
    },
    {
     "data": {
      "text/plain": "<IPython.core.display.HTML object>",
      "text/html": "Find logs at: <code>./wandb/run-20221010_113704-mxsnpdi6/logs</code>"
     },
     "metadata": {},
     "output_type": "display_data"
    },
    {
     "data": {
      "text/plain": "<IPython.core.display.HTML object>",
      "text/html": "Successfully finished last run (ID:mxsnpdi6). Initializing new run:<br/>"
     },
     "metadata": {},
     "output_type": "display_data"
    },
    {
     "data": {
      "text/plain": "<IPython.core.display.HTML object>",
      "text/html": "wandb version 0.13.4 is available!  To upgrade, please run:\n $ pip install wandb --upgrade"
     },
     "metadata": {},
     "output_type": "display_data"
    },
    {
     "data": {
      "text/plain": "<IPython.core.display.HTML object>",
      "text/html": "Tracking run with wandb version 0.12.17"
     },
     "metadata": {},
     "output_type": "display_data"
    },
    {
     "data": {
      "text/plain": "<IPython.core.display.HTML object>",
      "text/html": "Run data is saved locally in <code>/Users/patrik.reizinger/Documents/GitHub/nl-causal-representations/notebooks/wandb/run-20221010_113713-i38ol7pa</code>"
     },
     "metadata": {},
     "output_type": "display_data"
    },
    {
     "data": {
      "text/plain": "<IPython.core.display.HTML object>",
      "text/html": "Syncing run <strong><a href=\"https://wandb.ai/causal-representation-learning/nl-causal-representations-notebooks/runs/i38ol7pa\" target=\"_blank\">comfy-serenity-1217</a></strong> to <a href=\"https://wandb.ai/causal-representation-learning/nl-causal-representations-notebooks\" target=\"_blank\">Weights & Biases</a> (<a href=\"https://wandb.me/run\" target=\"_blank\">docs</a>)<br/>"
     },
     "metadata": {},
     "output_type": "display_data"
    },
    {
     "data": {
      "text/plain": "<IPython.core.display.HTML object>",
      "text/html": "Finishing last run (ID:i38ol7pa) before initializing another..."
     },
     "metadata": {},
     "output_type": "display_data"
    },
    {
     "data": {
      "text/plain": "<IPython.core.display.HTML object>",
      "text/html": "Waiting for W&B process to finish... <strong style=\"color:green\">(success).</strong>"
     },
     "metadata": {},
     "output_type": "display_data"
    },
    {
     "data": {
      "text/plain": "VBox(children=(Label(value='0.053 MB of 0.053 MB uploaded (0.000 MB deduped)\\r'), FloatProgress(value=1.0, max…",
      "application/vnd.jupyter.widget-view+json": {
       "version_major": 2,
       "version_minor": 0,
       "model_id": "eecaef1f094a44648f635aaf61e6603b"
      }
     },
     "metadata": {},
     "output_type": "display_data"
    },
    {
     "data": {
      "text/plain": "<IPython.core.display.HTML object>",
      "text/html": "Synced <strong style=\"color:#cdcd00\">comfy-serenity-1217</strong>: <a href=\"https://wandb.ai/causal-representation-learning/nl-causal-representations-notebooks/runs/i38ol7pa\" target=\"_blank\">https://wandb.ai/causal-representation-learning/nl-causal-representations-notebooks/runs/i38ol7pa</a><br/>Synced 5 W&B file(s), 0 media file(s), 0 artifact file(s) and 1 other file(s)"
     },
     "metadata": {},
     "output_type": "display_data"
    },
    {
     "data": {
      "text/plain": "<IPython.core.display.HTML object>",
      "text/html": "Find logs at: <code>./wandb/run-20221010_113713-i38ol7pa/logs</code>"
     },
     "metadata": {},
     "output_type": "display_data"
    },
    {
     "data": {
      "text/plain": "<IPython.core.display.HTML object>",
      "text/html": "Successfully finished last run (ID:i38ol7pa). Initializing new run:<br/>"
     },
     "metadata": {},
     "output_type": "display_data"
    },
    {
     "data": {
      "text/plain": "<IPython.core.display.HTML object>",
      "text/html": "wandb version 0.13.4 is available!  To upgrade, please run:\n $ pip install wandb --upgrade"
     },
     "metadata": {},
     "output_type": "display_data"
    },
    {
     "data": {
      "text/plain": "<IPython.core.display.HTML object>",
      "text/html": "Tracking run with wandb version 0.12.17"
     },
     "metadata": {},
     "output_type": "display_data"
    },
    {
     "data": {
      "text/plain": "<IPython.core.display.HTML object>",
      "text/html": "Run data is saved locally in <code>/Users/patrik.reizinger/Documents/GitHub/nl-causal-representations/notebooks/wandb/run-20221010_113722-pzqywj3r</code>"
     },
     "metadata": {},
     "output_type": "display_data"
    },
    {
     "data": {
      "text/plain": "<IPython.core.display.HTML object>",
      "text/html": "Syncing run <strong><a href=\"https://wandb.ai/causal-representation-learning/nl-causal-representations-notebooks/runs/pzqywj3r\" target=\"_blank\">jumping-blaze-1218</a></strong> to <a href=\"https://wandb.ai/causal-representation-learning/nl-causal-representations-notebooks\" target=\"_blank\">Weights & Biases</a> (<a href=\"https://wandb.me/run\" target=\"_blank\">docs</a>)<br/>"
     },
     "metadata": {},
     "output_type": "display_data"
    },
    {
     "data": {
      "text/plain": "<IPython.core.display.HTML object>",
      "text/html": "Finishing last run (ID:pzqywj3r) before initializing another..."
     },
     "metadata": {},
     "output_type": "display_data"
    },
    {
     "data": {
      "text/plain": "<IPython.core.display.HTML object>",
      "text/html": "Waiting for W&B process to finish... <strong style=\"color:green\">(success).</strong>"
     },
     "metadata": {},
     "output_type": "display_data"
    },
    {
     "data": {
      "text/plain": "VBox(children=(Label(value='0.053 MB of 0.053 MB uploaded (0.000 MB deduped)\\r'), FloatProgress(value=1.0, max…",
      "application/vnd.jupyter.widget-view+json": {
       "version_major": 2,
       "version_minor": 0,
       "model_id": "28c7f9e2d9474280a6dc3e410b7183da"
      }
     },
     "metadata": {},
     "output_type": "display_data"
    },
    {
     "data": {
      "text/plain": "<IPython.core.display.HTML object>",
      "text/html": "Synced <strong style=\"color:#cdcd00\">jumping-blaze-1218</strong>: <a href=\"https://wandb.ai/causal-representation-learning/nl-causal-representations-notebooks/runs/pzqywj3r\" target=\"_blank\">https://wandb.ai/causal-representation-learning/nl-causal-representations-notebooks/runs/pzqywj3r</a><br/>Synced 5 W&B file(s), 0 media file(s), 0 artifact file(s) and 0 other file(s)"
     },
     "metadata": {},
     "output_type": "display_data"
    },
    {
     "data": {
      "text/plain": "<IPython.core.display.HTML object>",
      "text/html": "Find logs at: <code>./wandb/run-20221010_113722-pzqywj3r/logs</code>"
     },
     "metadata": {},
     "output_type": "display_data"
    },
    {
     "data": {
      "text/plain": "<IPython.core.display.HTML object>",
      "text/html": "Successfully finished last run (ID:pzqywj3r). Initializing new run:<br/>"
     },
     "metadata": {},
     "output_type": "display_data"
    },
    {
     "data": {
      "text/plain": "<IPython.core.display.HTML object>",
      "text/html": "wandb version 0.13.4 is available!  To upgrade, please run:\n $ pip install wandb --upgrade"
     },
     "metadata": {},
     "output_type": "display_data"
    },
    {
     "data": {
      "text/plain": "<IPython.core.display.HTML object>",
      "text/html": "Tracking run with wandb version 0.12.17"
     },
     "metadata": {},
     "output_type": "display_data"
    },
    {
     "data": {
      "text/plain": "<IPython.core.display.HTML object>",
      "text/html": "Run data is saved locally in <code>/Users/patrik.reizinger/Documents/GitHub/nl-causal-representations/notebooks/wandb/run-20221010_113731-1rzsz5m8</code>"
     },
     "metadata": {},
     "output_type": "display_data"
    },
    {
     "data": {
      "text/plain": "<IPython.core.display.HTML object>",
      "text/html": "Syncing run <strong><a href=\"https://wandb.ai/causal-representation-learning/nl-causal-representations-notebooks/runs/1rzsz5m8\" target=\"_blank\">quiet-donkey-1219</a></strong> to <a href=\"https://wandb.ai/causal-representation-learning/nl-causal-representations-notebooks\" target=\"_blank\">Weights & Biases</a> (<a href=\"https://wandb.me/run\" target=\"_blank\">docs</a>)<br/>"
     },
     "metadata": {},
     "output_type": "display_data"
    },
    {
     "data": {
      "text/plain": "<IPython.core.display.HTML object>",
      "text/html": "Finishing last run (ID:1rzsz5m8) before initializing another..."
     },
     "metadata": {},
     "output_type": "display_data"
    },
    {
     "data": {
      "text/plain": "<IPython.core.display.HTML object>",
      "text/html": "Waiting for W&B process to finish... <strong style=\"color:green\">(success).</strong>"
     },
     "metadata": {},
     "output_type": "display_data"
    },
    {
     "data": {
      "text/plain": "VBox(children=(Label(value='0.053 MB of 0.053 MB uploaded (0.000 MB deduped)\\r'), FloatProgress(value=1.0, max…",
      "application/vnd.jupyter.widget-view+json": {
       "version_major": 2,
       "version_minor": 0,
       "model_id": "e7a6caf8c47e4e3bb41cc57b76c0113c"
      }
     },
     "metadata": {},
     "output_type": "display_data"
    },
    {
     "data": {
      "text/plain": "<IPython.core.display.HTML object>",
      "text/html": "Synced <strong style=\"color:#cdcd00\">quiet-donkey-1219</strong>: <a href=\"https://wandb.ai/causal-representation-learning/nl-causal-representations-notebooks/runs/1rzsz5m8\" target=\"_blank\">https://wandb.ai/causal-representation-learning/nl-causal-representations-notebooks/runs/1rzsz5m8</a><br/>Synced 5 W&B file(s), 0 media file(s), 0 artifact file(s) and 1 other file(s)"
     },
     "metadata": {},
     "output_type": "display_data"
    },
    {
     "data": {
      "text/plain": "<IPython.core.display.HTML object>",
      "text/html": "Find logs at: <code>./wandb/run-20221010_113731-1rzsz5m8/logs</code>"
     },
     "metadata": {},
     "output_type": "display_data"
    },
    {
     "data": {
      "text/plain": "<IPython.core.display.HTML object>",
      "text/html": "Successfully finished last run (ID:1rzsz5m8). Initializing new run:<br/>"
     },
     "metadata": {},
     "output_type": "display_data"
    },
    {
     "data": {
      "text/plain": "<IPython.core.display.HTML object>",
      "text/html": "wandb version 0.13.4 is available!  To upgrade, please run:\n $ pip install wandb --upgrade"
     },
     "metadata": {},
     "output_type": "display_data"
    },
    {
     "data": {
      "text/plain": "<IPython.core.display.HTML object>",
      "text/html": "Tracking run with wandb version 0.12.17"
     },
     "metadata": {},
     "output_type": "display_data"
    },
    {
     "data": {
      "text/plain": "<IPython.core.display.HTML object>",
      "text/html": "Run data is saved locally in <code>/Users/patrik.reizinger/Documents/GitHub/nl-causal-representations/notebooks/wandb/run-20221010_113740-2m4yd5rq</code>"
     },
     "metadata": {},
     "output_type": "display_data"
    },
    {
     "data": {
      "text/plain": "<IPython.core.display.HTML object>",
      "text/html": "Syncing run <strong><a href=\"https://wandb.ai/causal-representation-learning/nl-causal-representations-notebooks/runs/2m4yd5rq\" target=\"_blank\">glorious-frog-1220</a></strong> to <a href=\"https://wandb.ai/causal-representation-learning/nl-causal-representations-notebooks\" target=\"_blank\">Weights & Biases</a> (<a href=\"https://wandb.me/run\" target=\"_blank\">docs</a>)<br/>"
     },
     "metadata": {},
     "output_type": "display_data"
    }
   ],
   "source": [
    "SWEEP_ID = \"l49b2vhx\" #\"05whlpmk\"\n",
    "sweep = api.sweep(f\"{ENTITY}/{PROJECT}/{SWEEP_ID}\")\n",
    "filename = f\"sem_8d_permute_sweep_{SWEEP_ID}\"\n",
    "df8d_permute, (true_unmix_jacobians8d_permute, est_unmix_jacobians8d_permute, permute_indices8d_permute, hsic_adj8d_permute, ica_permute8d_permute) = sweep2df(sweep.runs, filename, save=True, load=True)"
   ],
   "metadata": {
    "collapsed": false
   }
  },
  {
   "cell_type": "code",
   "execution_count": 15,
   "outputs": [
    {
     "name": "stdout",
     "output_type": "stream",
     "text": [
      "\t Loading sem_8d_sparse_sweep_2ykg2w21...\n"
     ]
    }
   ],
   "source": [
    "SWEEP_ID = \"2ykg2w21\"\n",
    "sweep = api.sweep(f\"{ENTITY}/{PROJECT}/{SWEEP_ID}\")\n",
    "filename = f\"sem_8d_sparse_sweep_{SWEEP_ID}\"\n",
    "df8d_sparse, (true_unmix_jacobians8d_sparse, est_unmix_jacobians8d_sparse, permute_indices8d_sparse,hsic_adj8d_sparse, ica_permute8d_sparse) = sweep2df(sweep.runs, filename, save=True, load=True)"
   ],
   "metadata": {
    "collapsed": false
   }
  },
  {
   "cell_type": "markdown",
   "source": [
    "## 10D SEM"
   ],
   "metadata": {
    "collapsed": false
   }
  },
  {
   "cell_type": "code",
   "execution_count": 16,
   "outputs": [
    {
     "name": "stdout",
     "output_type": "stream",
     "text": [
      "\t Loading sem_10d_sweep_i871qu61...\n"
     ]
    }
   ],
   "source": [
    "SWEEP_ID = \"i871qu61\"\n",
    "sweep = api.sweep(f\"{ENTITY}/{PROJECT}/{SWEEP_ID}\")\n",
    "filename = f\"sem_10d_sweep_{SWEEP_ID}\"\n",
    "df10d, (true_unmix_jacobians10d, est_unmix_jacobians10d, permute_indices10d, hsic_adj10d, ica_permute10d) = sweep2df(sweep.runs, filename, save=True, load=True)"
   ],
   "metadata": {
    "collapsed": false
   }
  },
  {
   "cell_type": "code",
   "execution_count": null,
   "outputs": [],
   "source": [
    "SWEEP_ID = \"291qhry5\" # \"at138q9q\"\n",
    "sweep = api.sweep(f\"{ENTITY}/{PROJECT}/{SWEEP_ID}\")\n",
    "filename = f\"sem_10d_permute_sweep_{SWEEP_ID}\"\n",
    "df10d_permute, (true_unmix_jacobians10d_permute, est_unmix_jacobians10d_permute, permute_indices10d_permute, hsic_adj10d_permute, ica_permute10d_permute) = sweep2df(sweep.runs, filename, save=True, load=True)"
   ],
   "metadata": {
    "collapsed": false,
    "pycharm": {
     "is_executing": true
    }
   }
  },
  {
   "cell_type": "code",
   "execution_count": 18,
   "outputs": [
    {
     "name": "stdout",
     "output_type": "stream",
     "text": [
      "\t Loading sem_10d_sparse_sweep_t7rmrux1...\n"
     ]
    }
   ],
   "source": [
    "SWEEP_ID = \"t7rmrux1\"\n",
    "sweep = api.sweep(f\"{ENTITY}/{PROJECT}/{SWEEP_ID}\")\n",
    "filename = f\"sem_10d_sparse_sweep_{SWEEP_ID}\"\n",
    "df10d_sparse, (true_unmix_jacobians10d_sparse, est_unmix_jacobians10d_sparse, permute_indices10d_sparse,hsic_adj10d_sparse, ica_permute10d_sparse) = sweep2df(sweep.runs, filename, save=True, load=True)"
   ],
   "metadata": {
    "collapsed": false
   }
  },
  {
   "cell_type": "markdown",
   "source": [
    "## 15D SEM"
   ],
   "metadata": {
    "collapsed": false
   }
  },
  {
   "cell_type": "code",
   "execution_count": 17,
   "outputs": [
    {
     "name": "stdout",
     "output_type": "stream",
     "text": [
      "\t Loading sem_15d_sweep_w7517p57...\n"
     ]
    }
   ],
   "source": [
    "SWEEP_ID = \"w7517p57\"\n",
    "sweep = api.sweep(f\"{ENTITY}/{PROJECT}/{SWEEP_ID}\")\n",
    "filename = f\"sem_15d_sweep_{SWEEP_ID}\"\n",
    "df15d, (true_unmix_jacobians15d, est_unmix_jacobians15d, permute_indices15d, hsic_adj15d, ica_permute15d) = sweep2df(sweep.runs, filename, save=True, load=True)"
   ],
   "metadata": {
    "collapsed": false
   }
  },
  {
   "cell_type": "markdown",
   "source": [
    "## MLP from Monti et al."
   ],
   "metadata": {
    "collapsed": false
   }
  },
  {
   "cell_type": "code",
   "execution_count": 19,
   "outputs": [
    {
     "name": "stdout",
     "output_type": "stream",
     "text": [
      "\t Loading monti_sweep_3rqfxkyl...\n"
     ]
    }
   ],
   "source": [
    "SWEEP_ID = \"3rqfxkyl\"\n",
    "sweep = api.sweep(f\"{ENTITY}/{PROJECT}/{SWEEP_ID}\")\n",
    "filename = f\"monti_sweep_{SWEEP_ID}\"\n",
    "df_monti, (true_unmix_jacobians_monti, est_unmix_jacobians_monti, permute_indices_monti, hsic_adj_mont, ica_permute_monti) = sweep2df(sweep.runs, filename, save=True, load=True)"
   ],
   "metadata": {
    "collapsed": false
   }
  },
  {
   "cell_type": "markdown",
   "source": [
    "# Pre-processing\n"
   ],
   "metadata": {
    "collapsed": false
   }
  },
  {
   "cell_type": "markdown",
   "source": [
    "## Corrected stats"
   ],
   "metadata": {
    "collapsed": false
   }
  },
  {
   "cell_type": "markdown",
   "source": [
    "### 3D SEM"
   ],
   "metadata": {
    "collapsed": false
   }
  },
  {
   "cell_type": "code",
   "execution_count": 290,
   "outputs": [
    {
     "name": "stdout",
     "output_type": "stream",
     "text": [
      "----------------------------------\n",
      "dim=3 (nonlin_sem=True)\tMCC=0.966+0.103\t  Acc:0.951+0.140\tAcc (HSIC):0.741+0.105\tPrec (HSIC):0.741+0.105\tRec (HSIC):0.741+0.105\tSHD:0.049383+0.139675\t[9 items]\n",
      "----------------------------------\n",
      "dim=3 (nonlin_sem=False)\tMCC=1.000+0.000\t  Acc:1.000+0.000\tAcc (HSIC):0.700+0.100\tPrec (HSIC):0.700+0.100\tRec (HSIC):0.700+0.100\tSHD:0.000000+0.000000\t[10 items]\n"
     ]
    }
   ],
   "source": [
    "stats3d=corrected_jacobian_stats(df3d, true_unmix_jacobians3d, est_unmix_jacobians3d, permute_indices3d, hsic_adj3d, ica_permute3d)"
   ],
   "metadata": {
    "collapsed": false
   }
  },
  {
   "cell_type": "code",
   "execution_count": 11,
   "outputs": [
    {
     "name": "stdout",
     "output_type": "stream",
     "text": [
      "----------------------------------\n",
      "dim=3 (nonlin_sem=True)\tMCC=1.000+0.000\t  Acc:1.000+0.000\tAcc (HSIC):0.667+0.000\tPrec (HSIC):0.667+0.000\tRec (HSIC):0.667+0.000\tSHD:0.000000+0.000000\t[30 items]\n",
      "----------------------------------\n",
      "dim=3 (nonlin_sem=False)\tMCC=1.000+0.000\t  Acc:1.000+0.000\tAcc (HSIC):0.667+0.000\tPrec (HSIC):0.667+0.000\tRec (HSIC):0.667+0.000\tSHD:0.000000+0.000000\t[27 items]\n"
     ]
    }
   ],
   "source": [
    "stats3d_permute=corrected_jacobian_stats(df3d_permute, true_unmix_jacobians3d_permute, est_unmix_jacobians3d_permute, permute_indices3d_permute, hsic_adj3d_permute, ica_permute3d_permute)"
   ],
   "metadata": {
    "collapsed": false
   }
  },
  {
   "cell_type": "code",
   "execution_count": 306,
   "outputs": [
    {
     "name": "stdout",
     "output_type": "stream",
     "text": [
      "----------------------------------\n",
      "dim=3 (nonlin_sem=True)\tMCC=1.000+0.000\t  Acc:0.889+0.111\tAcc (HSIC):0.750+0.144\tPrec (HSIC):0.750+0.144\tRec (HSIC):0.750+0.144\tSHD:0.111111+0.000000\t[8 items]\n",
      "----------------------------------\n",
      "dim=3 (nonlin_sem=False)\tMCC=1.000+0.000\t  Acc:0.917+0.108\tAcc (HSIC):0.708+0.110\tPrec (HSIC):0.708+0.110\tRec (HSIC):0.708+0.110\tSHD:0.111111+0.000000\t[8 items]\n"
     ]
    }
   ],
   "source": [
    "stats3d_sparse=corrected_jacobian_stats(df3d_sparse, true_unmix_jacobians3d_sparse, est_unmix_jacobians3d_sparse, permute_indices3d_sparse, hsic_adj3d_sparse, ica_permute3d_sparse)"
   ],
   "metadata": {
    "collapsed": false
   }
  },
  {
   "cell_type": "markdown",
   "source": [
    "### 5D SEM"
   ],
   "metadata": {
    "collapsed": false
   }
  },
  {
   "cell_type": "code",
   "execution_count": 307,
   "outputs": [
    {
     "name": "stdout",
     "output_type": "stream",
     "text": [
      "----------------------------------\n",
      "dim=5 (nonlin_sem=True)\tMCC=0.940+0.090\t  Acc:0.858+0.172\tAcc (HSIC):0.800+0.102\tPrec (HSIC):0.800+0.102\tRec (HSIC):0.800+0.102\tSHD:0.142222+0.171903\t[9 items]\n",
      "----------------------------------\n",
      "dim=5 (nonlin_sem=False)\tMCC=0.969+0.066\t  Acc:0.928+0.131\tAcc (HSIC):0.828+0.116\tPrec (HSIC):0.828+0.116\tRec (HSIC):0.828+0.116\tSHD:0.072000+0.131210\t[10 items]\n"
     ]
    }
   ],
   "source": [
    "stats5d=corrected_jacobian_stats(df5d, true_unmix_jacobians5d, est_unmix_jacobians5d, permute_indices5d, hsic_adj5d, ica_permute5d)"
   ],
   "metadata": {
    "collapsed": false
   }
  },
  {
   "cell_type": "code",
   "execution_count": 10,
   "outputs": [
    {
     "name": "stdout",
     "output_type": "stream",
     "text": [
      "----------------------------------\n",
      "dim=5 (nonlin_sem=True)\tMCC=0.988+0.039\t  Acc:0.940+0.087\tAcc (HSIC):0.863+0.080\tPrec (HSIC):0.863+0.080\tRec (HSIC):0.863+0.080\tSHD:0.060000+0.087178\t[24 items]\n",
      "----------------------------------\n",
      "dim=5 (nonlin_sem=False)\tMCC=0.989+0.039\t  Acc:0.949+0.098\tAcc (HSIC):0.866+0.088\tPrec (HSIC):0.866+0.088\tRec (HSIC):0.866+0.088\tSHD:0.051200+0.098319\t[25 items]\n"
     ]
    }
   ],
   "source": [
    "stats5d_permute=corrected_jacobian_stats(df5d_permute, true_unmix_jacobians5d_permute, est_unmix_jacobians5d_permute, permute_indices5d_permute, hsic_adj5d_permute, ica_permute5d_permute)"
   ],
   "metadata": {
    "collapsed": false
   }
  },
  {
   "cell_type": "code",
   "execution_count": 309,
   "outputs": [
    {
     "name": "stdout",
     "output_type": "stream",
     "text": [
      "----------------------------------\n",
      "dim=5 (nonlin_sem=True)\tMCC=0.972+0.059\t  Acc:0.760+0.095\tAcc (HSIC):0.840+0.098\tPrec (HSIC):0.840+0.098\tRec (HSIC):0.840+0.098\tSHD:0.208000+0.087270\t[10 items]\n",
      "----------------------------------\n",
      "dim=5 (nonlin_sem=False)\tMCC=0.961+0.062\t  Acc:0.768+0.121\tAcc (HSIC):0.784+0.111\tPrec (HSIC):0.784+0.111\tRec (HSIC):0.784+0.111\tSHD:0.256000+0.131697\t[10 items]\n"
     ]
    }
   ],
   "source": [
    "stats5d_sparse=corrected_jacobian_stats(df5d_sparse, true_unmix_jacobians5d_sparse, est_unmix_jacobians5d_sparse, permute_indices5d_sparse, hsic_adj5d_sparse, ica_permute5d_sparse)"
   ],
   "metadata": {
    "collapsed": false
   }
  },
  {
   "cell_type": "markdown",
   "source": [
    "### 8D SEM"
   ],
   "metadata": {
    "collapsed": false
   }
  },
  {
   "cell_type": "code",
   "execution_count": 310,
   "outputs": [
    {
     "name": "stdout",
     "output_type": "stream",
     "text": [
      "----------------------------------\n",
      "dim=8 (nonlin_sem=True)\tMCC=0.982+0.029\t  Acc:0.872+0.198\tAcc (HSIC):0.823+0.142\tPrec (HSIC):0.823+0.142\tRec (HSIC):0.823+0.142\tSHD:0.128125+0.198358\t[10 items]\n",
      "----------------------------------\n",
      "dim=8 (nonlin_sem=False)\tMCC=1.000+0.000\t  Acc:1.000+0.000\tAcc (HSIC):0.682+0.170\tPrec (HSIC):0.682+0.170\tRec (HSIC):0.682+0.170\tSHD:0.000000+0.000000\t[9 items]\n"
     ]
    }
   ],
   "source": [
    "stats8d=corrected_jacobian_stats(df8d, true_unmix_jacobians8d, est_unmix_jacobians8d,permute_indices8d,hsic_adj8d, ica_permute8d)"
   ],
   "metadata": {
    "collapsed": false
   }
  },
  {
   "cell_type": "code",
   "execution_count": 10,
   "outputs": [
    {
     "name": "stdout",
     "output_type": "stream",
     "text": [
      "----------------------------------\n",
      "dim=8 (nonlin_sem=True)\tMCC=0.752+0.232\t  Acc:0.794+0.138\tAcc (HSIC):0.687+0.139\tPrec (HSIC):0.687+0.139\tRec (HSIC):0.687+0.139\tSHD:0.205882+0.138125\t[17 items]\n",
      "----------------------------------\n",
      "dim=8 (nonlin_sem=False)\tMCC=0.837+0.252\t  Acc:0.834+0.162\tAcc (HSIC):0.624+0.127\tPrec (HSIC):0.624+0.127\tRec (HSIC):0.624+0.127\tSHD:0.166250+0.162433\t[25 items]\n"
     ]
    }
   ],
   "source": [
    "stats8d_permute=corrected_jacobian_stats(df8d_permute, true_unmix_jacobians8d_permute, est_unmix_jacobians8d_permute,permute_indices8d_permute,hsic_adj8d_permute, ica_permute8d_permute)"
   ],
   "metadata": {
    "collapsed": false
   }
  },
  {
   "cell_type": "code",
   "execution_count": 312,
   "outputs": [
    {
     "name": "stdout",
     "output_type": "stream",
     "text": [
      "----------------------------------\n",
      "dim=8 (nonlin_sem=True)\tMCC=0.783+0.155\t  Acc:0.656+0.059\tAcc (HSIC):0.708+0.119\tPrec (HSIC):0.708+0.119\tRec (HSIC):0.708+0.119\tSHD:0.375000+0.080586\t[10 items]\n",
      "----------------------------------\n",
      "dim=8 (nonlin_sem=False)\tMCC=0.844+0.184\t  Acc:0.709+0.084\tAcc (HSIC):0.711+0.122\tPrec (HSIC):0.711+0.122\tRec (HSIC):0.711+0.122\tSHD:0.321875+0.108972\t[10 items]\n"
     ]
    }
   ],
   "source": [
    "stats8d_sparse=corrected_jacobian_stats(df8d_sparse, true_unmix_jacobians8d_sparse, est_unmix_jacobians8d_sparse,permute_indices8d_sparse,hsic_adj8d_sparse, ica_permute8d_sparse)"
   ],
   "metadata": {
    "collapsed": false
   }
  },
  {
   "cell_type": "markdown",
   "source": [
    "### 10D SEM"
   ],
   "metadata": {
    "collapsed": false
   }
  },
  {
   "cell_type": "code",
   "execution_count": 336,
   "outputs": [
    {
     "name": "stdout",
     "output_type": "stream",
     "text": [
      "----------------------------------\n",
      "dim=10 (nonlin_sem=True)\tMCC=0.962+0.025\t  Acc:0.636+0.239\tAcc (HSIC):0.638+0.134\tPrec (HSIC):0.638+0.134\tRec (HSIC):0.638+0.134\tSHD:0.364000+0.239466\t[10 items]\n",
      "----------------------------------\n",
      "dim=10 (nonlin_sem=False)\tMCC=0.965+0.030\t  Acc:0.832+0.176\tAcc (HSIC):0.551+0.003\tPrec (HSIC):0.551+0.003\tRec (HSIC):0.551+0.003\tSHD:0.168000+0.176000\t[10 items]\n"
     ]
    }
   ],
   "source": [
    "stats10d=corrected_jacobian_stats(df10d, true_unmix_jacobians10d, est_unmix_jacobians10d,permute_indices10d, hsic_adj10d, ica_permute10d)"
   ],
   "metadata": {
    "collapsed": false
   }
  },
  {
   "cell_type": "code",
   "execution_count": 11,
   "outputs": [
    {
     "name": "stdout",
     "output_type": "stream",
     "text": [
      "----------------------------------\n",
      "dim=10 (nonlin_sem=True)\tMCC=0.794+0.255\t  Acc:0.705+0.160\tAcc (HSIC):0.573+0.050\tPrec (HSIC):0.573+0.050\tRec (HSIC):0.573+0.050\tSHD:0.295172+0.159539\t[29 items]\n",
      "----------------------------------\n",
      "dim=10 (nonlin_sem=False)\tMCC=0.852+0.251\t  Acc:0.761+0.213\tAcc (HSIC):0.578+0.086\tPrec (HSIC):0.578+0.086\tRec (HSIC):0.578+0.086\tSHD:0.239333+0.213259\t[30 items]\n"
     ]
    }
   ],
   "source": [
    "stats10d_permute=corrected_jacobian_stats(df10d_permute, true_unmix_jacobians10d_permute, est_unmix_jacobians10d_permute,permute_indices10d_permute, hsic_adj10d_permute, ica_permute10d_permute)"
   ],
   "metadata": {
    "collapsed": false
   }
  },
  {
   "cell_type": "code",
   "execution_count": 315,
   "outputs": [
    {
     "name": "stdout",
     "output_type": "stream",
     "text": [
      "----------------------------------\n",
      "dim=10 (nonlin_sem=True)\tMCC=0.734+0.206\t  Acc:0.618+0.044\tAcc (HSIC):0.690+0.086\tPrec (HSIC):0.690+0.086\tRec (HSIC):0.690+0.086\tSHD:0.370000+0.081786\t[9 items]\n",
      "----------------------------------\n",
      "dim=10 (nonlin_sem=False)\tMCC=0.800+0.217\t  Acc:0.648+0.059\tAcc (HSIC):0.715+0.099\tPrec (HSIC):0.715+0.099\tRec (HSIC):0.715+0.099\tSHD:0.336000+0.055353\t[10 items]\n"
     ]
    }
   ],
   "source": [
    "stats10d_sparse=corrected_jacobian_stats(df10d_sparse, true_unmix_jacobians10d_sparse, est_unmix_jacobians10d_sparse,permute_indices10d_sparse, hsic_adj10d_sparse, ica_permute10d_sparse)"
   ],
   "metadata": {
    "collapsed": false
   }
  },
  {
   "cell_type": "markdown",
   "source": [
    "### MLP from Monti et al."
   ],
   "metadata": {
    "collapsed": false
   }
  },
  {
   "cell_type": "code",
   "execution_count": 316,
   "outputs": [
    {
     "name": "stdout",
     "output_type": "stream",
     "text": [
      "----------------------------------\n",
      "dim=6 (n_mixing_layer=5)\tMCC=0.603+0.062\t  Acc:0.711+0.054\tAcc (HSIC):0.589+0.011\tPrec (HSIC):0.589+0.011\tRec (HSIC):0.589+0.011\tSHD:0.000000+0.000000\t[5 items]\n",
      "----------------------------------\n",
      "dim=6 (n_mixing_layer=4)\tMCC=0.978+0.016\t  Acc:0.922+0.097\tAcc (HSIC):0.600+0.033\tPrec (HSIC):0.600+0.033\tRec (HSIC):0.600+0.033\tSHD:0.000000+0.000000\t[5 items]\n",
      "----------------------------------\n",
      "dim=6 (n_mixing_layer=3)\tMCC=0.997+0.003\t  Acc:1.000+0.000\tAcc (HSIC):0.583+0.000\tPrec (HSIC):0.583+0.000\tRec (HSIC):0.583+0.000\tSHD:0.000000+0.000000\t[5 items]\n",
      "----------------------------------\n",
      "dim=6 (n_mixing_layer=2)\tMCC=1.000+0.000\t  Acc:0.944+0.000\tAcc (HSIC):0.583+0.000\tPrec (HSIC):0.583+0.000\tRec (HSIC):0.583+0.000\tSHD:0.000000+0.000000\t[5 items]\n",
      "----------------------------------\n",
      "dim=6 (n_mixing_layer=1)\tMCC=1.000+0.000\t  Acc:0.933+0.042\tAcc (HSIC):0.583+0.000\tPrec (HSIC):0.583+0.000\tRec (HSIC):0.583+0.000\tSHD:0.033333+0.011111\t[5 items]\n"
     ]
    }
   ],
   "source": [
    "stats_monti=corrected_jacobian_stats(df_monti, true_unmix_jacobians_monti, est_unmix_jacobians_monti, permute_indices_monti, hsic_adj_mont, ica_permute_monti, selector_col=\"n_mixing_layer\")"
   ],
   "metadata": {
    "collapsed": false
   }
  },
  {
   "cell_type": "markdown",
   "source": [
    "## Learning permutations"
   ],
   "metadata": {
    "collapsed": false
   }
  },
  {
   "cell_type": "markdown",
   "source": [
    "### 3D SEM"
   ],
   "metadata": {
    "collapsed": false
   }
  },
  {
   "cell_type": "code",
   "execution_count": 12,
   "outputs": [
    {
     "name": "stdout",
     "output_type": "stream",
     "text": [
      "True 0.0 0.0\n",
      "True 0.0 0.0\n",
      "True 0.0 0.0\n",
      "True 0.0 0.0\n",
      "True 0.0 9.473903425812318e-15\n",
      "True 0.0 0.0\n",
      "True 0.0 9.473903425812318e-15\n",
      "True 0.0 9.473903425812318e-15\n",
      "True 0.0 9.473903425812318e-15\n",
      "True 0.0 9.473903425812318e-15\n",
      "True 0.0 0.0\n",
      "True 0.0 0.0\n",
      "True 0.0 0.0\n",
      "True 0.0 0.0\n",
      "True 0.0 0.0\n",
      "True 0.0 9.473903425812318e-15\n",
      "True 0.0 9.473903425812318e-15\n",
      "True 0.0 9.473903425812318e-15\n",
      "True 0.0 9.473903425812318e-15\n",
      "True 0.0 9.473903425812318e-15\n",
      "True 0.0 9.473903425812318e-15\n",
      "True 0.0 9.473903425812318e-15\n",
      "True 0.0 9.473903425812318e-15\n",
      "True 0.0 9.473903425812318e-15\n",
      "True 0.0 9.473903425812318e-15\n",
      "True 0.0 9.473903425812318e-15\n",
      "True 0.0 9.473903425812318e-15\n",
      "True 0.0 9.473903425812318e-15\n",
      "True 0.0 9.473903425812318e-15\n",
      "True 0.0 9.473903425812318e-15\n",
      "----------------------------------\n",
      "dim=3 (nonlin_sem=True)\tMCC=1.000+0.000\tAcc(order):1.000\t  Acc:1.000\tSHD:0.000000\t[30 items]\n",
      "True 0.0 0.0\n",
      "True 0.0 0.0\n",
      "True 0.0 0.0\n",
      "True 0.0 0.0\n",
      "True 0.0 9.473903425812318e-15\n",
      "True 0.0 0.0\n",
      "True 0.0 9.473903425812318e-15\n",
      "True 0.0 9.473903425812318e-15\n",
      "True 0.0 9.473903425812318e-15\n",
      "True 0.0 9.473903425812318e-15\n",
      "True 0.0 0.0\n",
      "True 0.0 9.473903425812318e-15\n",
      "True 0.0 0.0\n",
      "True 0.0 9.473903425812318e-15\n",
      "True 0.0 9.473903425812318e-15\n",
      "True 0.0 9.473903425812318e-15\n",
      "True 0.0 9.473903425812318e-15\n",
      "True 0.0 9.473903425812318e-15\n",
      "True 0.0 9.473903425812318e-15\n",
      "True 0.0 9.473903425812318e-15\n",
      "True 0.0 9.473903425812318e-15\n",
      "True 0.0 9.473903425812318e-15\n",
      "True 0.0 9.473903425812318e-15\n",
      "True 0.0 9.473903425812318e-15\n",
      "True 0.0 9.473903425812318e-15\n",
      "True 0.0 9.473903425812318e-15\n",
      "True 0.0 9.473903425812318e-15\n",
      "----------------------------------\n",
      "dim=3 (nonlin_sem=False)\tMCC=1.000+0.000\tAcc(order):1.000\t  Acc:1.000\tSHD:0.000000\t[27 items]\n"
     ]
    }
   ],
   "source": [
    "learning_stats(df3d_permute, true_unmix_jacobians3d_permute, est_unmix_jacobians3d_permute, permute_indices3d_permute, dag_permute=True, rank_acc=True)"
   ],
   "metadata": {
    "collapsed": false
   }
  },
  {
   "cell_type": "markdown",
   "source": [
    "### 5D SEM"
   ],
   "metadata": {
    "collapsed": false
   }
  },
  {
   "cell_type": "code",
   "execution_count": 15,
   "outputs": [
    {
     "name": "stdout",
     "output_type": "stream",
     "text": [
      "-0.1 2.4513724383723456e-13 0.29999980330467224\n",
      "True 1.923439272438765e-12 8.782308105574621e-13\n",
      "True 1.923439272438765e-12 8.782308105574621e-13\n",
      "True 1.1723955140041653e-13 4.618527782440651e-14\n",
      "-0.1 5.542233135640874e-14 0.0\n",
      "-0.1 5.684341970784096e-15 2.2026824130936748e-14\n",
      "True 5.861977570020827e-13 3.6735059980898266e-13\n",
      "True 3.481659405224491e-13 3.490896590893633e-12\n",
      "tensor([0.9000]) 1.328714970081496e-13 3.0553335604805235e-14\n",
      "True 3.481659405224491e-13 3.490896590893633e-12\n",
      "-0.1 6.821210534347505e-14 0.2999999523162842\n",
      "-0.1 1.7053026335868762e-14 1.4210854715202004e-14\n",
      "-0.1 2.2737367883136385e-14 1.492139846740164e-14\n",
      "True 9.734435344388101e-14 1.1588952453928103e-12\n",
      "True 2.842170985392048e-15 2.771116567820437e-14\n",
      "True 1.9895196262469626e-14 1.2079226846734882e-14\n",
      "-0.1 4.372680169340004e-12 0.00024997867876663804\n",
      "-0.1 2.7000623620070628e-14 1.7763568394002505e-14\n",
      "True 1.1723955140041653e-13 2.913225148853775e-14\n",
      "tensor([0.5000]) 3.268496516733825e-14 9.450218521134604e-14\n",
      "-0.1 1.7053026335868762e-14 7.105427357601002e-15\n",
      "True 3.4603431773617965e-13 1.918465251026999e-14\n",
      "-0.1 0.019472822546958923 0.07631709426641464\n",
      "True 2.0889956160296402e-13 4.547473237814098e-14\n",
      "----------------------------------\n",
      "dim=5 (nonlin_sem=True)\tMCC=0.988+0.039\tAcc(order):0.957\t  Acc:0.994\tSHD:0.005714\t[14 items]\n",
      "True 1.923439272438765e-12 8.782308105574621e-13\n",
      "True 1.923439272438765e-12 8.782308105574621e-13\n",
      "True 4.646949600291272e-13 1.23634433311752e-13\n",
      "tensor([0.8000]) 5.4711789298275e-14 1.1013412404281553e-13\n",
      "True 8.412826099819803e-13 9.023893286254359e-14\n",
      "-0.1 1.7763568394002505e-14 0.11761929094791412\n",
      "True 1.3500311979441904e-13 1.4210854715202004e-14\n",
      "True 3.481659405224491e-13 3.490896590893633e-12\n",
      "-0.1 0.299999862909317 4.3343106203739754e-14\n",
      "True 7.389644180854499e-14 1.0729195581028056e-13\n",
      "True 4.675371418141894e-13 1.23634433311752e-13\n",
      "True 1.923439272438765e-12 9.386269973071792e-13\n",
      "True 1.923439272438765e-12 9.386269973071792e-13\n",
      "tensor([0.7000]) 0.049066781997680664 0.00024998284061439335\n",
      "-0.1 0.22438617050647736 0.0002499846159480512\n",
      "-0.1 3.1263881051070766e-14 0.0004999680677428842\n",
      "True 2.1316282072803006e-14 1.7976730672629448e-13\n",
      "True 5.542233135640874e-14 2.1316282072803006e-14\n",
      "-0.1 0.2999999523162842 0.0002499852271284908\n",
      "True 1.1723955140041653e-13 4.618527782440651e-14\n",
      "True 1.200817196329515e-13 1.6342482583669125e-14\n",
      "True 6.039613253960852e-14 2.842170943040401e-14\n",
      "True 2.401634663709573e-13 9.308109431881498e-14\n",
      "-0.1 0.2999998927116394 3.4248157695232484e-13\n",
      "True 2.97006858126711e-13 4.4053648261873496e-14\n",
      "----------------------------------\n",
      "dim=5 (nonlin_sem=False)\tMCC=0.989+0.039\tAcc(order):0.974\t  Acc:0.998\tSHD:0.002105\t[19 items]\n"
     ]
    }
   ],
   "source": [
    "learning_stats(df5d_permute, true_unmix_jacobians5d_permute, est_unmix_jacobians5d_permute, permute_indices5d_permute, 1e-3, dag_permute=True, rank_acc=True, num_steps=5000, binary=True, drop_smallest=True)"
   ],
   "metadata": {
    "collapsed": false
   }
  },
  {
   "cell_type": "markdown",
   "source": [
    "### 8D SEM"
   ],
   "metadata": {
    "collapsed": false
   }
  },
  {
   "cell_type": "code",
   "execution_count": 12,
   "outputs": [
    {
     "name": "stdout",
     "output_type": "stream",
     "text": [
      "-0.03571428571428571 0.12499991059303284 0.03792256861925125\n",
      "-0.03571428571428571 0.18765616416931152 0.12621863186359406\n",
      "-0.03571428571428571 0.0003645677352324128 0.1666666716337204\n",
      "True 8.104628079763643e-13 0.0001561171084176749\n",
      "-0.03571428571428571 0.026636358350515366 0.09108173102140427\n",
      "-0.03571428571428571 0.18770831823349 0.19223344326019287\n",
      "True 8.104628079763643e-13 0.0001561171084176749\n",
      "-0.03571428571428571 3.108624468950438e-14 0.05223969742655754\n",
      "-0.03571428571428571 0.00036454142536967993 0.18749988079071045\n",
      "tensor([0.6071]) 0.0003124602953903377 0.1874997466802597\n",
      "-0.03571428571428571 0.46543246507644653 0.06513770669698715\n",
      "-0.03571428571428571 0.2044908106327057 0.00015623107901774347\n",
      "True 8.104628079763643e-13 0.0001561171084176749\n",
      "-0.03571428571428571 3.064215547965432e-14 0.05483423173427582\n",
      "tensor([0.8571]) 0.02295905165374279 0.15001045167446136\n",
      "-0.03571428571428571 0.15163034200668335 0.0874999612569809\n",
      "-0.03571428571428571 3.108624468950438e-14 0.053187817335128784\n",
      "----------------------------------\n",
      "dim=8 (nonlin_sem=True)\tMCC=0.752+0.232\tAcc(order):0.893\t  Acc:0.950\tSHD:0.050000\t[5 items]\n",
      "-0.03571428571428571 1.8740564655672642e-13 0.06467969715595245\n",
      "tensor([0.5357]) 0.00015622511273249984 0.1874997913837433\n",
      "-0.03571428571428571 0.01735609769821167 0.04457554593682289\n",
      "-0.03571428571428571 4.3876013933186186e-13 0.041632406413555145\n",
      "-0.03571428571428571 1.8740564655672642e-13 0.06572381407022476\n",
      "True 1.085354028873553e-12 1.709965502527666e-10\n",
      "True 1.0889067425523535e-12 1.7100143523407496e-10\n",
      "-0.03571428571428571 0.09374985843896866 0.12499991059303284\n",
      "-0.03571428571428571 0.16536685824394226 0.09374997764825821\n",
      "-0.03571428571428571 0.18749994039535522 0.18749994039535522\n",
      "-0.03571428571428571 0.00036455621011555195 0.09089471399784088\n",
      "-0.03571428571428571 1.8740564655672642e-13 0.0661802589893341\n",
      "True 1.0893508317622036e-12 1.7099788252039616e-10\n",
      "tensor([0.7500]) 0.00015623070066794753 0.1874999701976776\n",
      "-0.03571428571428571 1.8740564655672642e-13 0.06351395696401596\n",
      "-0.03571428571428571 0.16666488349437714 0.0955178290605545\n",
      "True 1.0893508317622036e-12 1.709601349375589e-10\n",
      "-0.03571428571428571 0.12499994039535522 0.0002073897485388443\n",
      "-0.03571428571428571 3.40270034371315e-11 0.005360808223485947\n",
      "-0.03571428571428571 1.8740564655672642e-13 0.06384487450122833\n",
      "-0.03571428571428571 0.1266956329345703 0.00020824006060138345\n",
      "True 1.0889067425523535e-12 1.710107611074818e-10\n",
      "-0.03571428571428571 0.18749983608722687 0.16984954476356506\n",
      "True 7.203126983768016e-13 1.836308882730009e-12\n",
      "True 1.085354028873553e-12 1.709237196223512e-10\n",
      "----------------------------------\n",
      "dim=8 (nonlin_sem=False)\tMCC=0.837+0.252\tAcc(order):0.921\t  Acc:0.970\tSHD:0.029514\t[9 items]\n"
     ]
    }
   ],
   "source": [
    "learning_stats(df8d_permute, true_unmix_jacobians8d_permute, est_unmix_jacobians8d_permute, permute_indices8d_permute, 1e-3, dag_permute=True, rank_acc=True)"
   ],
   "metadata": {
    "collapsed": false
   }
  },
  {
   "cell_type": "markdown",
   "source": [
    "### 10D SEM"
   ],
   "metadata": {
    "collapsed": false
   }
  },
  {
   "cell_type": "code",
   "execution_count": 13,
   "outputs": [
    {
     "name": "stdout",
     "output_type": "stream",
     "text": [
      "tensor([0.5111]) 0.00024994794512167573 0.15012237429618835\n",
      "tensor([0.7556]) 0.00012498574506025761 0.13797122240066528\n",
      "-0.022222222222222223 0.25965654850006104 0.08333326876163483\n",
      "-0.022222222222222223 0.15012487769126892 0.18047288060188293\n",
      "-0.022222222222222223 0.15000002086162567 0.28809231519699097\n",
      "-0.022222222222222223 0.2833329439163208 0.08894892036914825\n",
      "tensor([0.3333]) 0.002837355714291334 0.12796826660633087\n",
      "-0.022222222222222223 0.18328258395195007 0.08333331346511841\n",
      "-0.022222222222222223 0.14999990165233612 0.00037499007885344326\n",
      "-0.022222222222222223 0.03971322253346443 0.06014808267354965\n",
      "-0.022222222222222223 0.23389370739459991 0.13333317637443542\n",
      "True 2.6801672860232717e-12 8.21279433349531e-10\n",
      "-0.022222222222222223 0.14999978244304657 0.0833333358168602\n",
      "-0.022222222222222223 0.2999998927116394 0.2689931094646454\n",
      "-0.022222222222222223 0.14999978244304657 0.07282878458499908\n",
      "-0.022222222222222223 0.15012478828430176 0.016985049471259117\n",
      "True 0.00037605868419632316 0.029976284131407738\n",
      "-0.022222222222222223 0.1249997615814209 0.2166665494441986\n",
      "-0.022222222222222223 0.00029165431624278426 0.09999968111515045\n",
      "-0.022222222222222223 0.1501249074935913 0.28819382190704346\n",
      "-0.022222222222222223 0.30000001192092896 0.15000000596046448\n",
      "-0.022222222222222223 0.6833321452140808 0.09411315619945526\n",
      "tensor([0.8444]) 3.2009949703891427e-13 0.13797006011009216\n",
      "-0.022222222222222223 0.1506752222776413 0.08532852679491043\n",
      "-0.022222222222222223 0.05079054832458496 0.4231378138065338\n",
      "tensor([0.4667]) 0.0001249580818694085 0.1346871554851532\n",
      "True 2.6862069426453195e-12 8.21243906212743e-10\n",
      "-0.022222222222222223 0.061502713710069656 0.06090604141354561\n",
      "-0.022222222222222223 0.2752190828323364 0.00024974244297482073\n",
      "----------------------------------\n",
      "dim=10 (nonlin_sem=True)\tMCC=0.794+0.255\tAcc(order):0.739\t  Acc:0.924\tSHD:0.076250\t[8 items]\n",
      "True 0.00012528375373221934 4.73221451174205e-13\n",
      "-0.022222222222222223 2.1316282072803006e-14 0.03093242272734642\n",
      "-0.022222222222222223 0.13450190424919128 0.08847304433584213\n",
      "-0.022222222222222223 0.14999935030937195 0.11351754516363144\n",
      "True 2.616573624436569e-12 8.21243906212743e-10\n",
      "-0.022222222222222223 0.1499999463558197 0.13798001408576965\n",
      "-0.022222222222222223 2.2382096854069514e-14 0.03061525896191597\n",
      "-0.022222222222222223 0.0008230546372942626 0.06999997794628143\n",
      "tensor([0.7111]) 0.006169321481138468 0.13797087967395782\n",
      "True 0.00012483024329412729 0.14999528229236603\n",
      "True 3.693045869113121e-12 0.13300850987434387\n",
      "-0.022222222222222223 1.8474110452136247e-14 0.03201509267091751\n",
      "-0.022222222222222223 0.12093380838632584 0.13797128200531006\n",
      "-0.022222222222222223 0.11668844521045685 0.1499992460012436\n",
      "True 2.000177801164682e-12 0.08618101477622986\n",
      "-0.022222222222222223 0.04835999011993408 0.0635053887963295\n",
      "-0.022222222222222223 4.4935777054888604e-07 0.1666664332151413\n",
      "-0.022222222222222223 1.6957101955233922e-12 0.13797016441822052\n",
      "-0.022222222222222223 0.10061689466238022 0.07130766659975052\n",
      "-0.022222222222222223 0.10643820464611053 0.1365956813097\n",
      "-0.022222222222222223 2.4513724722536635e-14 0.03014286793768406\n",
      "-0.022222222222222223 0.14999982714653015 0.14999595284461975\n",
      "-0.022222222222222223 0.06666650623083115 0.07007887214422226\n",
      "-0.022222222222222223 0.00024995155399665236 0.13796542584896088\n",
      "-0.022222222222222223 0.15012499690055847 0.29999950528144836\n",
      "-0.022222222222222223 0.09999997168779373 0.12615007162094116\n",
      "-0.022222222222222223 0.00012496518320403993 0.1233171820640564\n",
      "-0.022222222222222223 0.14999978244304657 0.14999595284461975\n",
      "tensor([0.6444]) 0.0003746903967112303 0.20004579424858093\n",
      "-0.022222222222222223 1.989519795653552e-14 0.1380317509174347\n",
      "----------------------------------\n",
      "dim=10 (nonlin_sem=False)\tMCC=0.852+0.251\tAcc(order):0.908\t  Acc:0.931\tSHD:0.068571\t[7 items]\n"
     ]
    }
   ],
   "source": [
    "learning_stats(df10d_permute, true_unmix_jacobians10d_permute, est_unmix_jacobians10d_permute, permute_indices10d_permute, 1e-3, dag_permute=True, rank_acc=True)"
   ],
   "metadata": {
    "collapsed": false
   }
  },
  {
   "cell_type": "markdown",
   "source": [
    "# Plots"
   ],
   "metadata": {
    "collapsed": false
   }
  },
  {
   "cell_type": "code",
   "execution_count": 318,
   "outputs": [],
   "source": [
    "TICK_PADDING = 2\n",
    "LABELPAD = 3\n",
    "DIMS = [3,5,8,10]\n",
    "COLORS = [\"tab:blue\",\"tab:orange\",\"tab:green\",\"tab:red\"]"
   ],
   "metadata": {
    "collapsed": false
   }
  },
  {
   "cell_type": "markdown",
   "source": [
    "## Corrected stats"
   ],
   "metadata": {
    "collapsed": false
   }
  },
  {
   "cell_type": "markdown",
   "source": [
    "### Nonlinear"
   ],
   "metadata": {
    "collapsed": false
   }
  },
  {
   "cell_type": "code",
   "execution_count": 319,
   "outputs": [],
   "source": [
    "\"\"\"NL\"\"\"\n",
    "selector = False\n",
    "\n",
    "metric = \"thresholds\"\n",
    "thresholds = torch.stack([stats3d_sparse[3][selector][metric], stats5d_sparse[5][selector][metric],stats8d_sparse[8][selector][metric],stats10d_sparse[10][selector][metric]])\n",
    "\n",
    "metric = \"precisions\"\n",
    "precisions_nl = torch.stack([stats3d_sparse[3][selector][metric], stats5d_sparse[5][selector][metric],stats8d_sparse[8][selector][metric],stats10d_sparse[10][selector][metric]])\n",
    "\n",
    "metric = \"recalls\"\n",
    "recalls_nl = torch.stack([stats3d_sparse[3][selector][metric], stats5d_sparse[5][selector][metric],stats8d_sparse[8][selector][metric],stats10d_sparse[10][selector][metric]])"
   ],
   "metadata": {
    "collapsed": false
   }
  },
  {
   "cell_type": "markdown",
   "source": [
    "### Linear"
   ],
   "metadata": {
    "collapsed": false
   }
  },
  {
   "cell_type": "code",
   "execution_count": 320,
   "outputs": [],
   "source": [
    "\"\"\"Linear\"\"\"\n",
    "selector = True\n",
    "\n",
    "# thresholds are the same\n",
    "\n",
    "metric = \"precisions\"\n",
    "precisions_lin = torch.stack([stats3d_sparse[3][selector][metric], stats5d_sparse[5][selector][metric],stats8d_sparse[8][selector][metric],stats10d_sparse[10][selector][metric]])\n",
    "\n",
    "metric = \"recalls\"\n",
    "recalls_lin = torch.stack([stats3d_sparse[3][selector][metric], stats5d_sparse[5][selector][metric],stats8d_sparse[8][selector][metric],stats10d_sparse[10][selector][metric]])"
   ],
   "metadata": {
    "collapsed": false
   }
  },
  {
   "cell_type": "markdown",
   "source": [
    "### Both"
   ],
   "metadata": {
    "collapsed": false
   }
  },
  {
   "cell_type": "code",
   "execution_count": 321,
   "outputs": [
    {
     "data": {
      "text/plain": "<Figure size 396x244.741 with 1 Axes>",
      "image/png": "[encoded data removed]"
     },
     "metadata": {
      "needs_background": "light"
     },
     "output_type": "display_data"
    }
   ],
   "source": [
    "fig = plt.figure(figsize=figsizes.neurips2022(nrows=1, ncols=1)['figure.figsize'])\n",
    "\n",
    "ax = fig.add_subplot(111)\n",
    "ax.grid(True, which=\"both\", ls=\"-.\")\n",
    "ax.set_axisbelow(True)\n",
    "#\n",
    "for rec_nl,prec_nl, c in zip(recalls_nl, precisions_nl, COLORS):\n",
    "    im = ax.plot(rec_nl, prec_nl, c=c)\n",
    "    # im = ax.scatter(rec_nl, prec_nl, c=c)\n",
    "for rec_lin,prec_lin, c in zip(recalls_lin,precisions_lin, COLORS):\n",
    "    im = ax.plot(rec_lin, prec_lin, c=c, ls=\"--\")\n",
    "    # im = ax.scatter(rec_lin, prec_lin, c=c,marker=\"^\")\n",
    "    # im = ax.plot(thresholds[0,:], prec_nl, c=c)\n",
    "\n",
    "ax.set_xlabel(\"Recall\", labelpad=LABELPAD)\n",
    "ax.set_ylabel(\"Precision\", labelpad=LABELPAD)\n",
    "plt.legend(DIMS)\n",
    "ax.tick_params(axis='both', which='major', pad=TICK_PADDING)\n",
    "\n",
    "\n",
    "plt.savefig(\"recalls_vs_precisions.svg\")"
   ],
   "metadata": {
    "collapsed": false
   }
  },
  {
   "cell_type": "markdown",
   "source": [],
   "metadata": {
    "collapsed": false
   }
  },
  {
   "cell_type": "markdown",
   "source": [
    "## Hinton diagram"
   ],
   "metadata": {
    "collapsed": false
   }
  },
  {
   "cell_type": "code",
   "execution_count": 96,
   "outputs": [],
   "source": [
    "from notebooks.analysis import perm2matrix, hinton"
   ],
   "metadata": {
    "collapsed": false
   }
  },
  {
   "cell_type": "markdown",
   "source": [],
   "metadata": {
    "collapsed": false
   }
  },
  {
   "cell_type": "code",
   "execution_count": 113,
   "outputs": [],
   "source": [
    "idx = -1\n",
    "j_est = torch.from_numpy(est_unmix_jacobians5d_sparse[idx].astype(np.float32))\n",
    "j_gt = torch.from_numpy(true_unmix_jacobians5d_sparse[idx].astype(np.float32))\n",
    "j_p= permute_indices5d_sparse[idx]\n",
    "j_ica = perm2matrix(ica_permute5d_sparse[idx])\n",
    "j_pm= perm2matrix(j_p)\n",
    "j_est_corr = j_ica@j_est@j_pm"
   ],
   "metadata": {
    "collapsed": false
   }
  },
  {
   "cell_type": "code",
   "execution_count": 103,
   "outputs": [
    {
     "data": {
      "text/plain": "tensor([[ 0.6245,  0.0000,  0.0000,  0.0000,  0.0000],\n        [-0.8148,  0.4783,  0.0000,  0.0000,  0.0000],\n        [ 0.0000, -0.7763,  0.8249,  0.0000,  0.0000],\n        [-0.2919,  0.0000, -0.4866,  0.6061,  0.0000],\n        [ 0.5192,  0.0000,  0.0000, -0.4156,  0.4538]], dtype=torch.float64)"
     },
     "execution_count": 103,
     "metadata": {},
     "output_type": "execute_result"
    }
   ],
   "source": [
    "j_gt[j_gt.abs()<1e-6]=0\n",
    "j_gt"
   ],
   "metadata": {
    "collapsed": false
   }
  },
  {
   "cell_type": "code",
   "execution_count": 115,
   "outputs": [
    {
     "data": {
      "text/plain": "tensor([[0.6502, 0.0046, 0.0046, 0.0045, 0.0064],\n        [0.8523, 0.5019, 0.0076, 0.0076, 0.0072],\n        [0.0123, 0.8139, 0.8680, 0.0097, 0.0082],\n        [0.3020, 0.0069, 0.5105, 0.6374, 0.0050],\n        [1.0000, 0.0082, 0.0091, 0.4306, 0.4713]])"
     },
     "execution_count": 115,
     "metadata": {},
     "output_type": "execute_result"
    }
   ],
   "source": [
    "j_est_corr"
   ],
   "metadata": {
    "collapsed": false
   }
  },
  {
   "cell_type": "code",
   "execution_count": 123,
   "outputs": [
    {
     "data": {
      "text/plain": "<Figure size 396x244.741 with 1 Axes>",
      "image/png": "[encoded data removed]"
     },
     "metadata": {},
     "output_type": "display_data"
    }
   ],
   "source": [
    "hinton(j_gt, filename=\"j_gt5d_sparse_hinton\")"
   ],
   "metadata": {
    "collapsed": false
   }
  },
  {
   "cell_type": "code",
   "execution_count": 122,
   "outputs": [
    {
     "data": {
      "text/plain": "<Figure size 396x244.741 with 1 Axes>",
      "image/png": "[encoded data removed]"
     },
     "metadata": {},
     "output_type": "display_data"
    }
   ],
   "source": [
    "hinton(j_est_corr, filename=\"j_est_corr_5d_sparse_hinton\")"
   ],
   "metadata": {
    "collapsed": false
   }
  }
 ],
 "metadata": {
  "kernelspec": {
   "display_name": "Python 3 (ipykernel)",
   "language": "python",
   "name": "python3"
  },
  "language_info": {
   "codemirror_mode": {
    "name": "ipython",
    "version": 3
   },
   "file_extension": ".py",
   "mimetype": "text/x-python",
   "name": "python",
   "nbconvert_exporter": "python",
   "pygments_lexer": "ipython3",
   "version": "3.9.6"
  }
 },
 "nbformat": 4,
 "nbformat_minor": 1
}
