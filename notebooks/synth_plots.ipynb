{
 "cells": [
  {
   "cell_type": "markdown",
   "source": [
    "# Imports"
   ],
   "metadata": {
    "collapsed": false
   }
  },
  {
   "cell_type": "code",
   "execution_count": 1,
   "metadata": {},
   "outputs": [],
   "source": [
    "# imports\n",
    "import numpy as np\n",
    "import torch\n",
    "from tueplots import bundles, figsizes\n",
    "import wandb\n",
    "import matplotlib.pyplot as plt\n",
    "\n",
    "import sys\n",
    "\n",
    "%load_ext autoreload\n",
    "%autoreload 2\n",
    "\n",
    "sys.path.insert(0, '.')"
   ]
  },
  {
   "cell_type": "code",
   "execution_count": 77,
   "outputs": [],
   "source": [
    "from analysis import sweep2df, learning_stats,corrected_jacobian_stats, RED, BLUE\n"
   ],
   "metadata": {
    "collapsed": false
   }
  },
  {
   "cell_type": "code",
   "execution_count": 3,
   "outputs": [
    {
     "name": "stderr",
     "output_type": "stream",
     "text": [
      "/Library/Developer/CommandLineTools/Library/Frameworks/Python3.framework/Versions/3.8/lib/python3.8/_collections_abc.py:834: MatplotlibDeprecationWarning: Support for setting the 'text.latex.preamble' or 'pgf.preamble' rcParam to a list of strings is deprecated since 3.3 and will be removed two minor releases later; set it to a single string instead.\n",
      "  self[key] = other[key]\n"
     ]
    }
   ],
   "source": [
    "plt.rcParams.update(bundles.neurips2022(usetex=True))\n",
    "plt.rcParams.update({\n",
    "    'text.latex.preamble': [r'\\usepackage{amsfonts}', # mathbb\n",
    "                            r'\\usepackage{amsmath}'] # boldsymbol\n",
    "})"
   ],
   "metadata": {
    "collapsed": false
   }
  },
  {
   "cell_type": "code",
   "execution_count": 4,
   "metadata": {},
   "outputs": [],
   "source": [
    "# Constants\n",
    "ENTITY = \"causal-representation-learning\"\n",
    "PROJECT = \"nl-causal-representations\"\n",
    "\n",
    "# W&B API\n",
    "api = wandb.Api(timeout=200)\n",
    "runs = api.runs(ENTITY + \"/\" + PROJECT)"
   ]
  },
  {
   "cell_type": "markdown",
   "source": [
    "# Data loading"
   ],
   "metadata": {
    "collapsed": false
   }
  },
  {
   "cell_type": "markdown",
   "source": [
    "## 3D SEM"
   ],
   "metadata": {
    "collapsed": false
   }
  },
  {
   "cell_type": "code",
   "execution_count": 5,
   "outputs": [
    {
     "name": "stdout",
     "output_type": "stream",
     "text": [
      "\t Loading sem_3d_munkres_sweep_9b8ibcef...\n"
     ]
    }
   ],
   "source": [
    "SWEEP_ID = \"9b8ibcef\"\n",
    "sweep = api.sweep(f\"{ENTITY}/{PROJECT}/{SWEEP_ID}\")\n",
    "filename = f\"sem_3d_munkres_sweep_{SWEEP_ID}\"\n",
    "df3d, (true_unmix_jacobians3d, est_unmix_jacobians3d, permute_indices3d, hsic_adj3d, ica_permute3d) = sweep2df(sweep.runs, filename, save=True, load=True)"
   ],
   "metadata": {
    "collapsed": false
   }
  },
  {
   "cell_type": "code",
   "execution_count": 6,
   "outputs": [
    {
     "name": "stdout",
     "output_type": "stream",
     "text": [
      "\t Loading sem_3d_permute_sweep_f6c2fdfr...\n"
     ]
    }
   ],
   "source": [
    "SWEEP_ID = \"f6c2fdfr\"\n",
    "sweep = api.sweep(f\"{ENTITY}/{PROJECT}/{SWEEP_ID}\")\n",
    "filename = f\"sem_3d_permute_sweep_{SWEEP_ID}\"\n",
    "df3d_permute, (true_unmix_jacobians3d_permute, est_unmix_jacobians3d_permute, permute_indices3d_permute, hsic_adj3d_permute, ica_permute3d_permute) = sweep2df(sweep.runs, filename, save=True, load=True)"
   ],
   "metadata": {
    "collapsed": false
   }
  },
  {
   "cell_type": "code",
   "execution_count": 7,
   "outputs": [
    {
     "name": "stdout",
     "output_type": "stream",
     "text": [
      "\t Loading sem_3d_sparse_sweep_e0swc99a...\n"
     ]
    }
   ],
   "source": [
    "SWEEP_ID = \"e0swc99a\"\n",
    "sweep = api.sweep(f\"{ENTITY}/{PROJECT}/{SWEEP_ID}\")\n",
    "filename = f\"sem_3d_sparse_sweep_{SWEEP_ID}\"\n",
    "df3d_sparse, (true_unmix_jacobians3d_sparse, est_unmix_jacobians3d_sparse, permute_indices3d_sparse, hsic_adj3d_sparse, ica_permute3d_sparse) = sweep2df(sweep.runs, filename, save=True, load=True)"
   ],
   "metadata": {
    "collapsed": false
   }
  },
  {
   "cell_type": "markdown",
   "source": [
    "## 5D SEM"
   ],
   "metadata": {
    "collapsed": false
   }
  },
  {
   "cell_type": "code",
   "execution_count": 8,
   "outputs": [
    {
     "name": "stdout",
     "output_type": "stream",
     "text": [
      "\t Loading sem_5d_munkres_sweep_tzigp5kf...\n"
     ]
    }
   ],
   "source": [
    "SWEEP_ID = \"tzigp5kf\"\n",
    "sweep = api.sweep(f\"{ENTITY}/{PROJECT}/{SWEEP_ID}\")\n",
    "filename = f\"sem_5d_munkres_sweep_{SWEEP_ID}\"\n",
    "df5d, (true_unmix_jacobians5d, est_unmix_jacobians5d, permute_indices5d, hsic_adj5d, ica_permute5d) = sweep2df(sweep.runs, filename, save=True, load=True)"
   ],
   "metadata": {
    "collapsed": false
   }
  },
  {
   "cell_type": "code",
   "execution_count": 9,
   "outputs": [
    {
     "name": "stdout",
     "output_type": "stream",
     "text": [
      "\t Loading sem_5d_permute_sweep_6cqs4k9t...\n"
     ]
    }
   ],
   "source": [
    "SWEEP_ID = \"6cqs4k9t\"\n",
    "sweep = api.sweep(f\"{ENTITY}/{PROJECT}/{SWEEP_ID}\")\n",
    "filename = f\"sem_5d_permute_sweep_{SWEEP_ID}\"\n",
    "df5d_permute, (true_unmix_jacobians5d_permute, est_unmix_jacobians5d_permute, permute_indices5d_permute, hsic_adj5d_permute, ica_permute5d_permute) = sweep2df(sweep.runs, filename, save=True, load=True)"
   ],
   "metadata": {
    "collapsed": false
   }
  },
  {
   "cell_type": "code",
   "execution_count": 10,
   "outputs": [
    {
     "name": "stdout",
     "output_type": "stream",
     "text": [
      "\t Loading sem_5d_sparse_sweep_l9wisrgk...\n"
     ]
    }
   ],
   "source": [
    "SWEEP_ID = \"l9wisrgk\"\n",
    "sweep = api.sweep(f\"{ENTITY}/{PROJECT}/{SWEEP_ID}\")\n",
    "filename = f\"sem_5d_sparse_sweep_{SWEEP_ID}\"\n",
    "df5d_sparse, (true_unmix_jacobians5d_sparse, est_unmix_jacobians5d_sparse, permute_indices5d_sparse,hsic_adj5d_sparse, ica_permute5d_sparse) = sweep2df(sweep.runs, filename, save=True, load=True)"
   ],
   "metadata": {
    "collapsed": false
   }
  },
  {
   "cell_type": "markdown",
   "source": [
    "## 8D SEM"
   ],
   "metadata": {
    "collapsed": false
   }
  },
  {
   "cell_type": "code",
   "execution_count": 11,
   "outputs": [
    {
     "name": "stdout",
     "output_type": "stream",
     "text": [
      "\t Loading sem_8d_munkres_sweep_v2du3d05...\n"
     ]
    }
   ],
   "source": [
    "SWEEP_ID = \"v2du3d05\"\n",
    "sweep = api.sweep(f\"{ENTITY}/{PROJECT}/{SWEEP_ID}\")\n",
    "filename = f\"sem_8d_munkres_sweep_{SWEEP_ID}\"\n",
    "df8d, (true_unmix_jacobians8d, est_unmix_jacobians8d, permute_indices8d, hsic_adj8d, ica_permute8d) = sweep2df(sweep.runs, filename, save=True, load=True)"
   ],
   "metadata": {
    "collapsed": false
   }
  },
  {
   "cell_type": "code",
   "execution_count": 12,
   "outputs": [
    {
     "name": "stdout",
     "output_type": "stream",
     "text": [
      "\t Loading sem_8d_permute_sweep_si6590ko...\n"
     ]
    }
   ],
   "source": [
    "SWEEP_ID = \"si6590ko\"\n",
    "sweep = api.sweep(f\"{ENTITY}/{PROJECT}/{SWEEP_ID}\")\n",
    "filename = f\"sem_8d_permute_sweep_{SWEEP_ID}\"\n",
    "df8d_permute, (true_unmix_jacobians8d_permute, est_unmix_jacobians8d_permute, permute_indices8d_permute, hsic_adj8d_permute, ica_permute8d_permute) = sweep2df(sweep.runs, filename, save=True, load=True)"
   ],
   "metadata": {
    "collapsed": false
   }
  },
  {
   "cell_type": "code",
   "execution_count": 13,
   "outputs": [
    {
     "name": "stdout",
     "output_type": "stream",
     "text": [
      "\t Loading sem_8d_sparse_sweep_7asi8ixl...\n"
     ]
    }
   ],
   "source": [
    "SWEEP_ID = \"7asi8ixl\"\n",
    "sweep = api.sweep(f\"{ENTITY}/{PROJECT}/{SWEEP_ID}\")\n",
    "filename = f\"sem_8d_sparse_sweep_{SWEEP_ID}\"\n",
    "df8d_sparse, (true_unmix_jacobians8d_sparse, est_unmix_jacobians8d_sparse, permute_indices8d_sparse,hsic_adj8d_sparse, ica_permute8d_sparse) = sweep2df(sweep.runs, filename, save=True, load=True)"
   ],
   "metadata": {
    "collapsed": false
   }
  },
  {
   "cell_type": "markdown",
   "source": [
    "## 10D SEM"
   ],
   "metadata": {
    "collapsed": false
   }
  },
  {
   "cell_type": "code",
   "execution_count": 14,
   "outputs": [
    {
     "name": "stdout",
     "output_type": "stream",
     "text": [
      "\t Loading sem_10d_munkres_sweep_hwapefxy...\n"
     ]
    }
   ],
   "source": [
    "SWEEP_ID = \"hwapefxy\"\n",
    "sweep = api.sweep(f\"{ENTITY}/{PROJECT}/{SWEEP_ID}\")\n",
    "filename = f\"sem_10d_munkres_sweep_{SWEEP_ID}\"\n",
    "df10d, (true_unmix_jacobians10d, est_unmix_jacobians10d, permute_indices10d, hsic_adj10d, ica_permute10d) = sweep2df(sweep.runs, filename, save=True, load=True)"
   ],
   "metadata": {
    "collapsed": false
   }
  },
  {
   "cell_type": "code",
   "execution_count": 15,
   "outputs": [
    {
     "name": "stdout",
     "output_type": "stream",
     "text": [
      "\t Loading sem_10d_sweep_ku9wl27d...\n"
     ]
    }
   ],
   "source": [
    "SWEEP_ID = \"ku9wl27d\"\n",
    "sweep = api.sweep(f\"{ENTITY}/{PROJECT}/{SWEEP_ID}\")\n",
    "filename = f\"sem_10d_sweep_{SWEEP_ID}\"\n",
    "df10d_permute, (true_unmix_jacobians10d_permute, est_unmix_jacobians10d_permute, permute_indices10d_permute, hsic_adj10d_permute, ica_permute10d_permute) = sweep2df(sweep.runs, filename, save=True, load=True)"
   ],
   "metadata": {
    "collapsed": false
   }
  },
  {
   "cell_type": "code",
   "execution_count": 16,
   "outputs": [
    {
     "name": "stdout",
     "output_type": "stream",
     "text": [
      "\t Loading sem_10d_sparse_sweep_jk11nvgk...\n"
     ]
    }
   ],
   "source": [
    "SWEEP_ID = \"jk11nvgk\"\n",
    "sweep = api.sweep(f\"{ENTITY}/{PROJECT}/{SWEEP_ID}\")\n",
    "filename = f\"sem_10d_sparse_sweep_{SWEEP_ID}\"\n",
    "df10d_sparse, (true_unmix_jacobians10d_sparse, est_unmix_jacobians10d_sparse, permute_indices10d_sparse,hsic_adj10d_sparse, ica_permute10d_sparse) = sweep2df(sweep.runs, filename, save=True, load=True)"
   ],
   "metadata": {
    "collapsed": false
   }
  },
  {
   "cell_type": "markdown",
   "source": [
    "## 15D SEM"
   ],
   "metadata": {
    "collapsed": false
   }
  },
  {
   "cell_type": "code",
   "execution_count": 17,
   "outputs": [
    {
     "name": "stdout",
     "output_type": "stream",
     "text": [
      "\t Loading sem_15d_sweep_w7517p57...\n"
     ]
    }
   ],
   "source": [
    "SWEEP_ID = \"w7517p57\"\n",
    "sweep = api.sweep(f\"{ENTITY}/{PROJECT}/{SWEEP_ID}\")\n",
    "filename = f\"sem_15d_sweep_{SWEEP_ID}\"\n",
    "df15d, (true_unmix_jacobians15d, est_unmix_jacobians15d, permute_indices15d, hsic_adj15d, ica_permute15d) = sweep2df(sweep.runs, filename, save=True, load=True)"
   ],
   "metadata": {
    "collapsed": false
   }
  },
  {
   "cell_type": "markdown",
   "source": [
    "## MLP from Monti et al."
   ],
   "metadata": {
    "collapsed": false
   }
  },
  {
   "cell_type": "code",
   "execution_count": 18,
   "outputs": [
    {
     "name": "stdout",
     "output_type": "stream",
     "text": [
      "\t Loading monti_munkres_sweep_8tis6u9i...\n"
     ]
    }
   ],
   "source": [
    "SWEEP_ID = \"8tis6u9i\"\n",
    "sweep = api.sweep(f\"{ENTITY}/{PROJECT}/{SWEEP_ID}\")\n",
    "filename = f\"monti_munkres_sweep_{SWEEP_ID}\"\n",
    "df_monti, (true_unmix_jacobians_monti, est_unmix_jacobians_monti, permute_indices_monti, hsic_adj_mont, ica_permute_monti) = sweep2df(sweep.runs, filename, save=True, load=True)"
   ],
   "metadata": {
    "collapsed": false
   }
  },
  {
   "cell_type": "code",
   "execution_count": 19,
   "outputs": [
    {
     "name": "stdout",
     "output_type": "stream",
     "text": [
      "\t Loading monti_sparse_sweep_9z269wur...\n"
     ]
    }
   ],
   "source": [
    "SWEEP_ID = \"9z269wur\"\n",
    "sweep = api.sweep(f\"{ENTITY}/{PROJECT}/{SWEEP_ID}\")\n",
    "filename = f\"monti_sparse_sweep_{SWEEP_ID}\"\n",
    "df_monti_sparse, (true_unmix_jacobians_monti_sparse, est_unmix_jacobians_monti_sparse, permute_indices_monti_sparse, hsic_adj_monti_sparse, ica_permute_monti_sparse) = sweep2df(sweep.runs, filename, save=True, load=True)"
   ],
   "metadata": {
    "collapsed": false
   }
  },
  {
   "cell_type": "markdown",
   "source": [
    "# Pre-processing\n"
   ],
   "metadata": {
    "collapsed": false
   }
  },
  {
   "cell_type": "markdown",
   "source": [
    "## Corrected stats"
   ],
   "metadata": {
    "collapsed": false
   }
  },
  {
   "cell_type": "markdown",
   "source": [
    "### 3D SEM"
   ],
   "metadata": {
    "collapsed": false
   }
  },
  {
   "cell_type": "code",
   "execution_count": 143,
   "outputs": [
    {
     "name": "stdout",
     "output_type": "stream",
     "text": [
      "----We need to figure out whether HSIC needs to be corrected--------\n",
      "----------------------------------\n",
      "dim=3 (nonlin_sem=True)\tMCC=0.969+0.098\t  Acc:0.956+0.133\tAcc (HSIC):0.944+0.056\tPrec (HSIC):0.944+0.056\tRec (HSIC):0.944+0.056\tSHD:0.044444+0.133333\t[10 items]\n",
      "----------------------------------\n",
      "dim=3 (nonlin_sem=False)\tMCC=1.000+0.000\t  Acc:1.000+0.000\tAcc (HSIC):0.956+0.054\tPrec (HSIC):0.956+0.054\tRec (HSIC):0.956+0.054\tSHD:0.000000+0.000000\t[10 items]\n"
     ]
    }
   ],
   "source": [
    "stats3d=corrected_jacobian_stats(df3d, true_unmix_jacobians3d, est_unmix_jacobians3d, permute_indices3d, hsic_adj3d, ica_permute3d)"
   ],
   "metadata": {
    "collapsed": false
   }
  },
  {
   "cell_type": "code",
   "execution_count": 144,
   "outputs": [
    {
     "name": "stdout",
     "output_type": "stream",
     "text": [
      "----We need to figure out whether HSIC needs to be corrected--------\n",
      "----------------------------------\n",
      "dim=3 (nonlin_sem=True)\tMCC=1.000+0.000\t  Acc:0.844+0.101\tAcc (HSIC):0.765+0.114\tPrec (HSIC):0.765+0.114\tRec (HSIC):0.765+0.114\tSHD:0.111111+0.000000\t[27 items]\n",
      "----------------------------------\n",
      "dim=3 (nonlin_sem=False)\tMCC=1.000+0.000\t  Acc:0.854+0.106\tAcc (HSIC):0.751+0.115\tPrec (HSIC):0.751+0.115\tRec (HSIC):0.751+0.115\tSHD:0.111111+0.000000\t[29 items]\n"
     ]
    }
   ],
   "source": [
    "stats3d_permute=corrected_jacobian_stats(df3d_permute, true_unmix_jacobians3d_permute, est_unmix_jacobians3d_permute, permute_indices3d_permute, hsic_adj3d_permute, ica_permute3d_permute)"
   ],
   "metadata": {
    "collapsed": false
   }
  },
  {
   "cell_type": "code",
   "execution_count": 145,
   "outputs": [
    {
     "name": "stdout",
     "output_type": "stream",
     "text": [
      "----We need to figure out whether HSIC needs to be corrected--------\n",
      "----------------------------------\n",
      "dim=3 (nonlin_sem=True)\tMCC=1.000+0.000\t  Acc:1.000+0.000\tAcc (HSIC):1.000+0.000\tPrec (HSIC):1.000+0.000\tRec (HSIC):1.000+0.000\tSHD:0.111111+0.000000\t[3 items]\n",
      "----------------------------------\n",
      "dim=3 (nonlin_sem=False)\tMCC=1.000+0.000\t  Acc:0.944+0.096\tAcc (HSIC):0.944+0.056\tPrec (HSIC):0.944+0.056\tRec (HSIC):0.944+0.056\tSHD:0.111111+0.000000\t[4 items]\n"
     ]
    }
   ],
   "source": [
    "stats3d_sparse=corrected_jacobian_stats(df3d_sparse, true_unmix_jacobians3d_sparse, est_unmix_jacobians3d_sparse, permute_indices3d_sparse, hsic_adj3d_sparse, ica_permute3d_sparse)"
   ],
   "metadata": {
    "collapsed": false
   }
  },
  {
   "cell_type": "markdown",
   "source": [
    "### 5D SEM"
   ],
   "metadata": {
    "collapsed": false
   }
  },
  {
   "cell_type": "code",
   "execution_count": 146,
   "outputs": [
    {
     "name": "stdout",
     "output_type": "stream",
     "text": [
      "----We need to figure out whether HSIC needs to be corrected--------\n",
      "----------------------------------\n",
      "dim=5 (nonlin_sem=True)\tMCC=0.960+0.079\t  Acc:0.884+0.160\tAcc (HSIC):0.947+0.050\tPrec (HSIC):0.947+0.050\tRec (HSIC):0.947+0.050\tSHD:0.115556+0.160493\t[9 items]\n",
      "----------------------------------\n",
      "dim=5 (nonlin_sem=False)\tMCC=0.969+0.066\t  Acc:0.928+0.131\tAcc (HSIC):0.928+0.064\tPrec (HSIC):0.928+0.064\tRec (HSIC):0.928+0.064\tSHD:0.072000+0.131210\t[10 items]\n"
     ]
    }
   ],
   "source": [
    "stats5d=corrected_jacobian_stats(df5d, true_unmix_jacobians5d, est_unmix_jacobians5d, permute_indices5d, hsic_adj5d, ica_permute5d)"
   ],
   "metadata": {
    "collapsed": false
   }
  },
  {
   "cell_type": "code",
   "execution_count": 147,
   "outputs": [
    {
     "name": "stdout",
     "output_type": "stream",
     "text": [
      "----We need to figure out whether HSIC needs to be corrected--------\n",
      "----------------------------------\n",
      "dim=5 (nonlin_sem=True)\tMCC=0.984+0.049\t  Acc:0.723+0.074\tAcc (HSIC):0.708+0.114\tPrec (HSIC):0.708+0.114\tRec (HSIC):0.708+0.114\tSHD:0.248000+0.024000\t[30 items]\n",
      "----------------------------------\n",
      "dim=5 (nonlin_sem=False)\tMCC=1.000+0.000\t  Acc:0.734+0.071\tAcc (HSIC):0.714+0.116\tPrec (HSIC):0.714+0.116\tRec (HSIC):0.714+0.116\tSHD:0.248571+0.024744\t[28 items]\n"
     ]
    }
   ],
   "source": [
    "stats5d_permute=corrected_jacobian_stats(df5d_permute, true_unmix_jacobians5d_permute, est_unmix_jacobians5d_permute, permute_indices5d_permute, hsic_adj5d_permute, ica_permute5d_permute)"
   ],
   "metadata": {
    "collapsed": false
   }
  },
  {
   "cell_type": "code",
   "execution_count": 148,
   "outputs": [
    {
     "name": "stdout",
     "output_type": "stream",
     "text": [
      "----We need to figure out whether HSIC needs to be corrected--------\n",
      "----------------------------------\n",
      "dim=5 (nonlin_sem=True)\tMCC=0.969+0.061\t  Acc:0.751+0.096\tAcc (HSIC):0.916+0.079\tPrec (HSIC):0.916+0.079\tRec (HSIC):0.916+0.079\tSHD:0.222222+0.080247\t[9 items]\n",
      "----------------------------------\n",
      "dim=5 (nonlin_sem=False)\tMCC=0.961+0.062\t  Acc:0.776+0.133\tAcc (HSIC):0.912+0.082\tPrec (HSIC):0.912+0.082\tRec (HSIC):0.912+0.082\tSHD:0.240000+0.150732\t[10 items]\n"
     ]
    }
   ],
   "source": [
    "stats5d_sparse=corrected_jacobian_stats(df5d_sparse, true_unmix_jacobians5d_sparse, est_unmix_jacobians5d_sparse, permute_indices5d_sparse, hsic_adj5d_sparse, ica_permute5d_sparse)"
   ],
   "metadata": {
    "collapsed": false
   }
  },
  {
   "cell_type": "markdown",
   "source": [
    "### 8D SEM"
   ],
   "metadata": {
    "collapsed": false
   }
  },
  {
   "cell_type": "code",
   "execution_count": 149,
   "outputs": [
    {
     "name": "stdout",
     "output_type": "stream",
     "text": [
      "----We need to figure out whether HSIC needs to be corrected--------\n",
      "----------------------------------\n",
      "dim=8 (nonlin_sem=True)\tMCC=0.980+0.030\t  Acc:0.858+0.204\tAcc (HSIC):0.943+0.023\tPrec (HSIC):0.943+0.023\tRec (HSIC):0.943+0.023\tSHD:0.142361+0.204183\t[9 items]\n",
      "----------------------------------\n",
      "dim=8 (nonlin_sem=False)\tMCC=1.000+0.000\t  Acc:1.000+0.000\tAcc (HSIC):0.931+0.028\tPrec (HSIC):0.931+0.028\tRec (HSIC):0.931+0.028\tSHD:0.000000+0.000000\t[10 items]\n"
     ]
    }
   ],
   "source": [
    "stats8d=corrected_jacobian_stats(df8d, true_unmix_jacobians8d, est_unmix_jacobians8d,permute_indices8d,hsic_adj8d, ica_permute8d)"
   ],
   "metadata": {
    "collapsed": false
   }
  },
  {
   "cell_type": "code",
   "execution_count": 150,
   "outputs": [
    {
     "name": "stdout",
     "output_type": "stream",
     "text": [
      "----We need to figure out whether HSIC needs to be corrected--------\n",
      "----------------------------------\n",
      "dim=8 (nonlin_sem=True)\tMCC=0.852+0.131\t  Acc:0.657+0.070\tAcc (HSIC):0.647+0.097\tPrec (HSIC):0.647+0.097\tRec (HSIC):0.647+0.097\tSHD:0.367996+0.044115\t[29 items]\n",
      "----------------------------------\n",
      "dim=8 (nonlin_sem=False)\tMCC=0.880+0.151\t  Acc:0.646+0.050\tAcc (HSIC):0.640+0.093\tPrec (HSIC):0.640+0.093\tRec (HSIC):0.640+0.093\tSHD:0.373958+0.060237\t[30 items]\n"
     ]
    }
   ],
   "source": [
    "stats8d_permute=corrected_jacobian_stats(df8d_permute, true_unmix_jacobians8d_permute, est_unmix_jacobians8d_permute,permute_indices8d_permute,hsic_adj8d_permute, ica_permute8d_permute)"
   ],
   "metadata": {
    "collapsed": false
   }
  },
  {
   "cell_type": "code",
   "execution_count": 151,
   "outputs": [
    {
     "name": "stdout",
     "output_type": "stream",
     "text": [
      "----We need to figure out whether HSIC needs to be corrected--------\n",
      "----------------------------------\n",
      "dim=8 (nonlin_sem=True)\tMCC=0.807+0.144\t  Acc:0.660+0.062\tAcc (HSIC):0.844+0.104\tPrec (HSIC):0.844+0.104\tRec (HSIC):0.844+0.104\tSHD:0.371528+0.084233\t[9 items]\n",
      "----------------------------------\n",
      "dim=8 (nonlin_sem=False)\tMCC=0.844+0.184\t  Acc:0.709+0.084\tAcc (HSIC):0.823+0.122\tPrec (HSIC):0.823+0.122\tRec (HSIC):0.823+0.122\tSHD:0.321875+0.108972\t[10 items]\n"
     ]
    }
   ],
   "source": [
    "stats8d_sparse=corrected_jacobian_stats(df8d_sparse, true_unmix_jacobians8d_sparse, est_unmix_jacobians8d_sparse,permute_indices8d_sparse,hsic_adj8d_sparse, ica_permute8d_sparse)"
   ],
   "metadata": {
    "collapsed": false
   }
  },
  {
   "cell_type": "markdown",
   "source": [
    "### 10D SEM"
   ],
   "metadata": {
    "collapsed": false
   }
  },
  {
   "cell_type": "code",
   "execution_count": 152,
   "outputs": [
    {
     "name": "stdout",
     "output_type": "stream",
     "text": [
      "----We need to figure out whether HSIC needs to be corrected--------\n",
      "----------------------------------\n",
      "dim=10 (nonlin_sem=True)\tMCC=0.958+0.023\t  Acc:0.591+0.221\tAcc (HSIC):0.921+0.019\tPrec (HSIC):0.921+0.019\tRec (HSIC):0.921+0.019\tSHD:0.408889+0.221131\t[9 items]\n",
      "----------------------------------\n",
      "dim=10 (nonlin_sem=False)\tMCC=0.965+0.030\t  Acc:0.832+0.176\tAcc (HSIC):0.926+0.020\tPrec (HSIC):0.926+0.020\tRec (HSIC):0.926+0.020\tSHD:0.168000+0.176000\t[10 items]\n"
     ]
    }
   ],
   "source": [
    "stats10d=corrected_jacobian_stats(df10d, true_unmix_jacobians10d, est_unmix_jacobians10d,permute_indices10d, hsic_adj10d, ica_permute10d)"
   ],
   "metadata": {
    "collapsed": false
   }
  },
  {
   "cell_type": "code",
   "execution_count": 153,
   "outputs": [
    {
     "name": "stdout",
     "output_type": "stream",
     "text": [
      "----We need to figure out whether HSIC needs to be corrected--------\n",
      "----------------------------------\n",
      "dim=10 (nonlin_sem=True)\tMCC=0.872+0.185\t  Acc:0.587+0.056\tAcc (HSIC):0.608+0.102\tPrec (HSIC):0.608+0.102\tRec (HSIC):0.608+0.102\tSHD:0.385333+0.054634\t[30 items]\n",
      "----------------------------------\n",
      "dim=10 (nonlin_sem=False)\tMCC=0.903+0.189\t  Acc:0.596+0.045\tAcc (HSIC):0.611+0.103\tPrec (HSIC):0.611+0.103\tRec (HSIC):0.611+0.103\tSHD:0.382667+0.046686\t[30 items]\n"
     ]
    }
   ],
   "source": [
    "stats10d_permute=corrected_jacobian_stats(df10d_permute, true_unmix_jacobians10d_permute, est_unmix_jacobians10d_permute,permute_indices10d_permute, hsic_adj10d_permute, ica_permute10d_permute)"
   ],
   "metadata": {
    "collapsed": false
   }
  },
  {
   "cell_type": "code",
   "execution_count": 154,
   "outputs": [
    {
     "name": "stdout",
     "output_type": "stream",
     "text": [
      "----We need to figure out whether HSIC needs to be corrected--------\n",
      "----------------------------------\n",
      "dim=10 (nonlin_sem=True)\tMCC=0.730+0.202\t  Acc:0.616+0.034\tAcc (HSIC):0.810+0.121\tPrec (HSIC):0.810+0.121\tRec (HSIC):0.810+0.121\tSHD:0.365556+0.078047\t[9 items]\n",
      "----------------------------------\n",
      "dim=10 (nonlin_sem=False)\tMCC=0.800+0.217\t  Acc:0.648+0.059\tAcc (HSIC):0.829+0.124\tPrec (HSIC):0.829+0.124\tRec (HSIC):0.829+0.124\tSHD:0.336000+0.055353\t[10 items]\n"
     ]
    }
   ],
   "source": [
    "stats10d_sparse=corrected_jacobian_stats(df10d_sparse, true_unmix_jacobians10d_sparse, est_unmix_jacobians10d_sparse,permute_indices10d_sparse, hsic_adj10d_sparse, ica_permute10d_sparse)"
   ],
   "metadata": {
    "collapsed": false
   }
  },
  {
   "cell_type": "markdown",
   "source": [
    "### 15D SEM"
   ],
   "metadata": {
    "collapsed": false
   }
  },
  {
   "cell_type": "code",
   "execution_count": 157,
   "outputs": [
    {
     "name": "stdout",
     "output_type": "stream",
     "text": [
      "----We need to figure out whether HSIC needs to be corrected--------\n",
      "----------------------------------\n",
      "dim=15 (nonlin_sem=True)\tMCC=0.788+0.055\t  Acc:0.637+0.041\tAcc (HSIC):0.916+0.018\tPrec (HSIC):0.916+0.018\tRec (HSIC):0.916+0.018\tSHD:0.362222+0.040307\t[10 items]\n",
      "----------------------------------\n",
      "dim=15 (nonlin_sem=False)\tMCC=0.797+0.032\t  Acc:0.629+0.045\tAcc (HSIC):0.918+0.016\tPrec (HSIC):0.918+0.016\tRec (HSIC):0.918+0.016\tSHD:0.371852+0.045614\t[9 items]\n"
     ]
    }
   ],
   "source": [
    "stats15d=corrected_jacobian_stats(df15d, true_unmix_jacobians15d, est_unmix_jacobians15d, permute_indices15d, hsic_adj15d, ica_permute15d)"
   ],
   "metadata": {
    "collapsed": false
   }
  },
  {
   "cell_type": "markdown",
   "source": [
    "### MLP from Monti et al."
   ],
   "metadata": {
    "collapsed": false
   }
  },
  {
   "cell_type": "code",
   "execution_count": 207,
   "outputs": [
    {
     "name": "stdout",
     "output_type": "stream",
     "text": [
      "----We need to figure out whether HSIC needs to be corrected--------\n",
      "tensor([[1., 0., 0., 0., 0., 0.],\n",
      "        [0., 1., 0., 0., 0., 0.],\n",
      "        [0., 0., 1., 0., 0., 0.],\n",
      "        [0., 0., 0., 1., 0., 0.],\n",
      "        [0., 0., 0., 0., 1., 0.],\n",
      "        [0., 1., 0., 0., 0., 1.]])\n",
      "tensor([[1., 0., 0., 0., 0., 0.],\n",
      "        [0., 1., 0., 0., 0., 0.],\n",
      "        [0., 0., 1., 0., 0., 0.],\n",
      "        [0., 0., 0., 1., 0., 0.],\n",
      "        [0., 0., 0., 0., 1., 0.],\n",
      "        [0., 0., 1., 0., 0., 1.]])\n",
      "tensor([[1., 0., 0., 0., 0., 0.],\n",
      "        [0., 1., 0., 0., 0., 0.],\n",
      "        [0., 0., 1., 0., 0., 0.],\n",
      "        [0., 1., 0., 1., 0., 0.],\n",
      "        [0., 1., 0., 0., 1., 0.],\n",
      "        [0., 0., 0., 0., 0., 1.]])\n",
      "tensor([[1., 0., 0., 0., 0., 0.],\n",
      "        [0., 1., 0., 0., 0., 0.],\n",
      "        [0., 0., 1., 0., 0., 0.],\n",
      "        [0., 0., 0., 1., 0., 0.],\n",
      "        [1., 1., 0., 0., 1., 0.],\n",
      "        [1., 1., 0., 0., 0., 1.]])\n",
      "tensor([[1., 0., 0., 0., 0., 0.],\n",
      "        [0., 1., 0., 0., 0., 0.],\n",
      "        [0., 0., 1., 0., 0., 0.],\n",
      "        [0., 0., 0., 1., 0., 0.],\n",
      "        [0., 0., 0., 0., 1., 0.],\n",
      "        [0., 0., 1., 0., 0., 1.]])\n",
      "----------------------------------\n",
      "dim=6 (n_mixing_layer=5)\tMCC=0.817+0.043\t  Acc:0.800+0.075\tAcc (HSIC):0.633+0.032\tPrec (HSIC):0.633+0.032\tRec (HSIC):0.633+0.032\tSHD:0.000000+0.000000\t[5 items]\n",
      "tensor([[1., 0., 0., 0., 0., 0.],\n",
      "        [0., 1., 0., 1., 0., 0.],\n",
      "        [0., 0., 1., 0., 0., 0.],\n",
      "        [0., 0., 0., 1., 0., 0.],\n",
      "        [0., 0., 1., 1., 1., 0.],\n",
      "        [0., 1., 0., 0., 0., 1.]])\n",
      "tensor([[1., 0., 0., 0., 0., 0.],\n",
      "        [0., 1., 0., 0., 0., 0.],\n",
      "        [0., 0., 1., 0., 0., 0.],\n",
      "        [0., 0., 0., 1., 0., 0.],\n",
      "        [0., 0., 0., 0., 1., 0.],\n",
      "        [0., 0., 0., 0., 0., 1.]])\n",
      "tensor([[1., 0., 0., 0., 0., 0.],\n",
      "        [0., 1., 0., 0., 0., 0.],\n",
      "        [0., 0., 1., 0., 0., 0.],\n",
      "        [0., 0., 0., 1., 0., 0.],\n",
      "        [0., 0., 0., 0., 1., 0.],\n",
      "        [0., 0., 0., 0., 0., 1.]])\n",
      "tensor([[1., 0., 0., 0., 0., 0.],\n",
      "        [0., 1., 0., 0., 0., 0.],\n",
      "        [0., 0., 1., 0., 0., 0.],\n",
      "        [0., 0., 0., 1., 0., 0.],\n",
      "        [0., 0., 1., 1., 1., 0.],\n",
      "        [0., 0., 1., 0., 0., 1.]])\n",
      "tensor([[1., 0., 0., 0., 0., 0.],\n",
      "        [0., 1., 0., 0., 0., 0.],\n",
      "        [0., 0., 1., 0., 0., 0.],\n",
      "        [0., 0., 0., 1., 0., 0.],\n",
      "        [0., 0., 0., 0., 1., 0.],\n",
      "        [0., 0., 0., 1., 0., 1.]])\n",
      "----------------------------------\n",
      "dim=6 (n_mixing_layer=4)\tMCC=0.987+0.007\t  Acc:0.978+0.044\tAcc (HSIC):0.617+0.032\tPrec (HSIC):0.617+0.032\tRec (HSIC):0.617+0.032\tSHD:0.050000+0.020787\t[5 items]\n",
      "tensor([[1., 0., 0., 0., 0., 0.],\n",
      "        [0., 1., 0., 0., 0., 0.],\n",
      "        [0., 0., 1., 0., 1., 0.],\n",
      "        [0., 0., 1., 1., 0., 0.],\n",
      "        [0., 0., 0., 0., 1., 0.],\n",
      "        [0., 0., 0., 1., 1., 1.]])\n",
      "tensor([[1., 0., 0., 0., 0., 0.],\n",
      "        [0., 1., 0., 0., 0., 0.],\n",
      "        [0., 0., 1., 0., 0., 0.],\n",
      "        [0., 0., 0., 1., 0., 0.],\n",
      "        [0., 0., 0., 0., 1., 0.],\n",
      "        [0., 0., 0., 0., 0., 1.]])\n",
      "tensor([[1., 0., 0., 0., 0., 0.],\n",
      "        [0., 1., 0., 0., 0., 0.],\n",
      "        [0., 0., 1., 0., 0., 1.],\n",
      "        [0., 0., 1., 1., 0., 0.],\n",
      "        [0., 0., 0., 1., 1., 0.],\n",
      "        [0., 0., 0., 0., 0., 1.]])\n",
      "tensor([[1., 0., 0., 0., 0., 0.],\n",
      "        [0., 1., 0., 0., 0., 0.],\n",
      "        [0., 0., 1., 0., 0., 0.],\n",
      "        [1., 0., 0., 1., 0., 0.],\n",
      "        [0., 0., 0., 0., 1., 0.],\n",
      "        [0., 0., 0., 1., 1., 1.]])\n",
      "tensor([[1., 0., 0., 0., 0., 0.],\n",
      "        [0., 1., 0., 0., 0., 0.],\n",
      "        [0., 0., 1., 0., 0., 0.],\n",
      "        [0., 0., 0., 1., 1., 0.],\n",
      "        [0., 1., 0., 0., 1., 0.],\n",
      "        [0., 1., 0., 0., 0., 1.]])\n",
      "----------------------------------\n",
      "dim=6 (n_mixing_layer=3)\tMCC=0.998+0.002\t  Acc:1.000+0.000\tAcc (HSIC):0.622+0.028\tPrec (HSIC):0.622+0.028\tRec (HSIC):0.622+0.028\tSHD:0.000000+0.000000\t[5 items]\n",
      "tensor([[1., 0., 0., 0., 1., 0.],\n",
      "        [0., 1., 0., 0., 0., 0.],\n",
      "        [0., 0., 1., 0., 0., 0.],\n",
      "        [0., 0., 0., 1., 0., 0.],\n",
      "        [0., 0., 0., 0., 1., 0.],\n",
      "        [0., 0., 0., 0., 0., 1.]])\n",
      "tensor([[1., 0., 0., 0., 0., 0.],\n",
      "        [0., 1., 0., 0., 0., 0.],\n",
      "        [0., 0., 1., 0., 0., 0.],\n",
      "        [0., 0., 0., 1., 0., 0.],\n",
      "        [0., 0., 0., 0., 1., 0.],\n",
      "        [0., 0., 0., 0., 1., 1.]])\n",
      "tensor([[1., 0., 0., 0., 0., 0.],\n",
      "        [0., 1., 0., 0., 0., 1.],\n",
      "        [0., 0., 1., 0., 0., 0.],\n",
      "        [0., 0., 0., 1., 0., 0.],\n",
      "        [0., 0., 0., 0., 1., 0.],\n",
      "        [0., 0., 0., 0., 1., 1.]])\n",
      "tensor([[1., 0., 0., 0., 0., 0.],\n",
      "        [1., 1., 0., 0., 0., 0.],\n",
      "        [1., 1., 1., 0., 0., 0.],\n",
      "        [0., 0., 0., 1., 0., 0.],\n",
      "        [0., 0., 1., 0., 1., 0.],\n",
      "        [0., 0., 1., 0., 0., 1.]])\n",
      "tensor([[1., 0., 0., 0., 0., 0.],\n",
      "        [0., 1., 0., 0., 0., 0.],\n",
      "        [0., 0., 1., 0., 0., 0.],\n",
      "        [0., 1., 0., 1., 0., 0.],\n",
      "        [0., 0., 0., 1., 1., 0.],\n",
      "        [0., 0., 0., 0., 0., 1.]])\n",
      "----------------------------------\n",
      "dim=6 (n_mixing_layer=2)\tMCC=1.000+0.000\t  Acc:1.000+0.000\tAcc (HSIC):0.622+0.057\tPrec (HSIC):0.622+0.057\tRec (HSIC):0.622+0.057\tSHD:0.000000+0.000000\t[5 items]\n",
      "tensor([[1., 0., 0., 0., 0., 0.],\n",
      "        [0., 1., 0., 0., 0., 0.],\n",
      "        [0., 0., 1., 0., 0., 0.],\n",
      "        [0., 0., 0., 1., 0., 0.],\n",
      "        [0., 0., 0., 0., 1., 0.],\n",
      "        [0., 0., 0., 0., 0., 1.]])\n",
      "tensor([[1., 0., 0., 0., 0., 0.],\n",
      "        [0., 1., 0., 0., 0., 0.],\n",
      "        [0., 0., 1., 0., 0., 0.],\n",
      "        [0., 0., 0., 1., 0., 0.],\n",
      "        [0., 0., 0., 0., 1., 0.],\n",
      "        [0., 0., 0., 0., 1., 1.]])\n",
      "tensor([[1., 0., 0., 0., 0., 0.],\n",
      "        [0., 1., 0., 0., 0., 0.],\n",
      "        [0., 0., 1., 0., 0., 0.],\n",
      "        [0., 0., 0., 1., 0., 0.],\n",
      "        [0., 0., 0., 0., 1., 0.],\n",
      "        [0., 0., 0., 0., 1., 1.]])\n",
      "tensor([[1., 0., 0., 0., 0., 0.],\n",
      "        [0., 1., 0., 0., 0., 0.],\n",
      "        [0., 0., 1., 0., 0., 0.],\n",
      "        [0., 0., 0., 1., 0., 0.],\n",
      "        [0., 0., 0., 0., 1., 0.],\n",
      "        [0., 0., 0., 0., 0., 1.]])\n",
      "tensor([[1., 0., 0., 0., 0., 0.],\n",
      "        [0., 1., 0., 0., 0., 0.],\n",
      "        [0., 0., 1., 0., 0., 0.],\n",
      "        [0., 0., 0., 1., 0., 0.],\n",
      "        [0., 0., 0., 0., 1., 0.],\n",
      "        [0., 0., 0., 0., 0., 1.]])\n",
      "----------------------------------\n",
      "dim=6 (n_mixing_layer=1)\tMCC=1.000+0.000\t  Acc:0.956+0.054\tAcc (HSIC):0.594+0.014\tPrec (HSIC):0.594+0.014\tRec (HSIC):0.594+0.014\tSHD:0.033333+0.044444\t[5 items]\n"
     ]
    }
   ],
   "source": [
    "stats_monti=corrected_jacobian_stats(df_monti, true_unmix_jacobians_monti, est_unmix_jacobians_monti, permute_indices_monti, hsic_adj_mont, ica_permute_monti, selector_col=\"n_mixing_layer\")"
   ],
   "metadata": {
    "collapsed": false
   }
  },
  {
   "cell_type": "markdown",
   "source": [
    "## Learning permutations"
   ],
   "metadata": {
    "collapsed": false
   }
  },
  {
   "cell_type": "markdown",
   "source": [
    "### 3D SEM"
   ],
   "metadata": {
    "collapsed": false
   }
  },
  {
   "cell_type": "code",
   "execution_count": 24,
   "outputs": [
    {
     "name": "stdout",
     "output_type": "stream",
     "text": [
      "----------------------------------\n",
      "dim=3 (nonlin_sem=True)\tMCC=1.000+0.000\tAcc(order):0.704\t  Acc:0.872\tSHD:0.222222\t[27 items]\n"
     ]
    },
    {
     "ename": "KeyboardInterrupt",
     "evalue": "",
     "output_type": "error",
     "traceback": [
      "\u001B[0;31m---------------------------------------------------------------------------\u001B[0m",
      "\u001B[0;31mKeyboardInterrupt\u001B[0m                         Traceback (most recent call last)",
      "Input \u001B[0;32mIn [24]\u001B[0m, in \u001B[0;36m<cell line: 1>\u001B[0;34m()\u001B[0m\n\u001B[0;32m----> 1\u001B[0m \u001B[43mlearning_stats\u001B[49m\u001B[43m(\u001B[49m\u001B[43mdf3d_permute\u001B[49m\u001B[43m,\u001B[49m\u001B[43m \u001B[49m\u001B[43mtrue_unmix_jacobians3d_permute\u001B[49m\u001B[43m,\u001B[49m\u001B[43m \u001B[49m\u001B[43mest_unmix_jacobians3d_permute\u001B[49m\u001B[43m,\u001B[49m\u001B[43m \u001B[49m\u001B[43mpermute_indices3d_permute\u001B[49m\u001B[43m,\u001B[49m\u001B[43m \u001B[49m\u001B[43mdag_permute\u001B[49m\u001B[38;5;241;43m=\u001B[39;49m\u001B[38;5;28;43;01mTrue\u001B[39;49;00m\u001B[43m)\u001B[49m\n",
      "File \u001B[0;32m~/Documents/GitHub/nl-causal-representations/notebooks/analysis.py:281\u001B[0m, in \u001B[0;36mlearning_stats\u001B[0;34m(df, true_unmix_jacobians, est_unmix_jacobians, permute_indices, hamming_threshold, selector_col, weight_threshold, dag_permute, num_steps)\u001B[0m\n\u001B[1;32m    274\u001B[0m \u001B[38;5;28;01mfor\u001B[39;00m (selector_item, j_gt, j_est, permute) \u001B[38;5;129;01min\u001B[39;00m \u001B[38;5;28mzip\u001B[39m(\n\u001B[1;32m    275\u001B[0m     df[selector_col],\n\u001B[1;32m    276\u001B[0m     true_unmix_jacobians,\n\u001B[1;32m    277\u001B[0m     est_unmix_jacobians,\n\u001B[1;32m    278\u001B[0m     permute_indices,\n\u001B[1;32m    279\u001B[0m ):\n\u001B[1;32m    280\u001B[0m     \u001B[38;5;28;01mif\u001B[39;00m j_gt\u001B[38;5;241m.\u001B[39mshape[\u001B[38;5;241m0\u001B[39m] \u001B[38;5;241m==\u001B[39m dim \u001B[38;5;129;01mand\u001B[39;00m selector_item \u001B[38;5;241m==\u001B[39m selector:\n\u001B[0;32m--> 281\u001B[0m         s, h, a \u001B[38;5;241m=\u001B[39m \u001B[43mlearn_permutation\u001B[49m\u001B[43m(\u001B[49m\n\u001B[1;32m    282\u001B[0m \u001B[43m            \u001B[49m\u001B[43mj_gt\u001B[49m\u001B[43m,\u001B[49m\n\u001B[1;32m    283\u001B[0m \u001B[43m            \u001B[49m\u001B[43mj_est\u001B[49m\u001B[43m,\u001B[49m\n\u001B[1;32m    284\u001B[0m \u001B[43m            \u001B[49m\u001B[43mpermute\u001B[49m\u001B[43m,\u001B[49m\n\u001B[1;32m    285\u001B[0m \u001B[43m            \u001B[49m\u001B[43mtriu_weigth\u001B[49m\u001B[38;5;241;43m=\u001B[39;49m\u001B[38;5;241;43m20.0\u001B[39;49m\u001B[43m,\u001B[49m\n\u001B[1;32m    286\u001B[0m \u001B[43m            \u001B[49m\u001B[43mtril_weight\u001B[49m\u001B[38;5;241;43m=\u001B[39;49m\u001B[38;5;241;43m10.0\u001B[39;49m\u001B[43m,\u001B[49m\n\u001B[1;32m    287\u001B[0m \u001B[43m            \u001B[49m\u001B[43mdiag_weight\u001B[49m\u001B[38;5;241;43m=\u001B[39;49m\u001B[38;5;241;43m6.0\u001B[39;49m\u001B[43m,\u001B[49m\n\u001B[1;32m    288\u001B[0m \u001B[43m            \u001B[49m\u001B[43mnum_steps\u001B[49m\u001B[38;5;241;43m=\u001B[39;49m\u001B[43mnum_steps\u001B[49m\u001B[43m,\u001B[49m\n\u001B[1;32m    289\u001B[0m \u001B[43m            \u001B[49m\u001B[43mlr\u001B[49m\u001B[38;5;241;43m=\u001B[39;49m\u001B[38;5;241;43m1e-4\u001B[39;49m\u001B[43m,\u001B[49m\n\u001B[1;32m    290\u001B[0m \u001B[43m            \u001B[49m\u001B[43mverbose\u001B[49m\u001B[38;5;241;43m=\u001B[39;49m\u001B[38;5;28;43;01mFalse\u001B[39;49;00m\u001B[43m,\u001B[49m\n\u001B[1;32m    291\u001B[0m \u001B[43m            \u001B[49m\u001B[43mdrop_smallest\u001B[49m\u001B[38;5;241;43m=\u001B[39;49m\u001B[38;5;28;43;01mTrue\u001B[39;49;00m\u001B[43m,\u001B[49m\n\u001B[1;32m    292\u001B[0m \u001B[43m            \u001B[49m\u001B[43mthreshold\u001B[49m\u001B[38;5;241;43m=\u001B[39;49m\u001B[43mweight_threshold\u001B[49m\u001B[43m,\u001B[49m\n\u001B[1;32m    293\u001B[0m \u001B[43m            \u001B[49m\u001B[43mbinary\u001B[49m\u001B[38;5;241;43m=\u001B[39;49m\u001B[38;5;28;43;01mTrue\u001B[39;49;00m\u001B[43m,\u001B[49m\n\u001B[1;32m    294\u001B[0m \u001B[43m            \u001B[49m\u001B[43mhamming_threshold\u001B[49m\u001B[38;5;241;43m=\u001B[39;49m\u001B[43mhamming_threshold\u001B[49m\u001B[43m,\u001B[49m\n\u001B[1;32m    295\u001B[0m \u001B[43m            \u001B[49m\u001B[43mdag_permute\u001B[49m\u001B[38;5;241;43m=\u001B[39;49m\u001B[43mdag_permute\u001B[49m\u001B[43m,\u001B[49m\n\u001B[1;32m    296\u001B[0m \u001B[43m        \u001B[49m\u001B[43m)\u001B[49m\n\u001B[1;32m    298\u001B[0m         success\u001B[38;5;241m.\u001B[39mappend(s)\n\u001B[1;32m    299\u001B[0m         hamming\u001B[38;5;241m.\u001B[39mappend(h)\n",
      "File \u001B[0;32m~/Documents/GitHub/nl-causal-representations/care_nl_ica/models/sinkhorn.py:172\u001B[0m, in \u001B[0;36mlearn_permutation\u001B[0;34m(true_jac, est_jac, permute_indices, num_steps, tril_weight, triu_weigth, diag_weight, lr, verbose, drop_smallest, threshold, binary, hamming_threshold, dag_permute, eps, row_normalize)\u001B[0m\n\u001B[1;32m    169\u001B[0m loss \u001B[38;5;241m=\u001B[39m loss_l \u001B[38;5;241m+\u001B[39m loss_u \u001B[38;5;241m+\u001B[39m loss_diag\n\u001B[1;32m    170\u001B[0m \u001B[38;5;66;03m# print(f\"{loss=}\")\u001B[39;00m\n\u001B[0;32m--> 172\u001B[0m \u001B[43mloss\u001B[49m\u001B[38;5;241;43m.\u001B[39;49m\u001B[43mbackward\u001B[49m\u001B[43m(\u001B[49m\u001B[43m)\u001B[49m\n\u001B[1;32m    174\u001B[0m \u001B[38;5;28;01mif\u001B[39;00m i \u001B[38;5;241m%\u001B[39m \u001B[38;5;241m250\u001B[39m \u001B[38;5;241m==\u001B[39m \u001B[38;5;241m0\u001B[39m \u001B[38;5;129;01mand\u001B[39;00m dag_permute \u001B[38;5;129;01mis\u001B[39;00m \u001B[38;5;28;01mTrue\u001B[39;00m:\n\u001B[1;32m    175\u001B[0m     correct_order \u001B[38;5;241m=\u001B[39m torch\u001B[38;5;241m.\u001B[39mall(\n\u001B[1;32m    176\u001B[0m         s_dag\u001B[38;5;241m.\u001B[39mdoubly_stochastic_matrix\u001B[38;5;241m.\u001B[39mmax(\u001B[38;5;241m1\u001B[39m)[\u001B[38;5;241m1\u001B[39m]\n\u001B[1;32m    177\u001B[0m         \u001B[38;5;241m==\u001B[39m torch\u001B[38;5;241m.\u001B[39mtensor(permute_indices)\n\u001B[1;32m    178\u001B[0m     )\u001B[38;5;241m.\u001B[39mitem()\n",
      "File \u001B[0;32m~/Documents/GitHub/nl-causal-representations/venv/lib/python3.8/site-packages/torch/_tensor.py:363\u001B[0m, in \u001B[0;36mTensor.backward\u001B[0;34m(self, gradient, retain_graph, create_graph, inputs)\u001B[0m\n\u001B[1;32m    354\u001B[0m \u001B[38;5;28;01mif\u001B[39;00m has_torch_function_unary(\u001B[38;5;28mself\u001B[39m):\n\u001B[1;32m    355\u001B[0m     \u001B[38;5;28;01mreturn\u001B[39;00m handle_torch_function(\n\u001B[1;32m    356\u001B[0m         Tensor\u001B[38;5;241m.\u001B[39mbackward,\n\u001B[1;32m    357\u001B[0m         (\u001B[38;5;28mself\u001B[39m,),\n\u001B[0;32m   (...)\u001B[0m\n\u001B[1;32m    361\u001B[0m         create_graph\u001B[38;5;241m=\u001B[39mcreate_graph,\n\u001B[1;32m    362\u001B[0m         inputs\u001B[38;5;241m=\u001B[39minputs)\n\u001B[0;32m--> 363\u001B[0m \u001B[43mtorch\u001B[49m\u001B[38;5;241;43m.\u001B[39;49m\u001B[43mautograd\u001B[49m\u001B[38;5;241;43m.\u001B[39;49m\u001B[43mbackward\u001B[49m\u001B[43m(\u001B[49m\u001B[38;5;28;43mself\u001B[39;49m\u001B[43m,\u001B[49m\u001B[43m \u001B[49m\u001B[43mgradient\u001B[49m\u001B[43m,\u001B[49m\u001B[43m \u001B[49m\u001B[43mretain_graph\u001B[49m\u001B[43m,\u001B[49m\u001B[43m \u001B[49m\u001B[43mcreate_graph\u001B[49m\u001B[43m,\u001B[49m\u001B[43m \u001B[49m\u001B[43minputs\u001B[49m\u001B[38;5;241;43m=\u001B[39;49m\u001B[43minputs\u001B[49m\u001B[43m)\u001B[49m\n",
      "File \u001B[0;32m~/Documents/GitHub/nl-causal-representations/venv/lib/python3.8/site-packages/torch/autograd/__init__.py:173\u001B[0m, in \u001B[0;36mbackward\u001B[0;34m(tensors, grad_tensors, retain_graph, create_graph, grad_variables, inputs)\u001B[0m\n\u001B[1;32m    168\u001B[0m     retain_graph \u001B[38;5;241m=\u001B[39m create_graph\n\u001B[1;32m    170\u001B[0m \u001B[38;5;66;03m# The reason we repeat same the comment below is that\u001B[39;00m\n\u001B[1;32m    171\u001B[0m \u001B[38;5;66;03m# some Python versions print out the first line of a multi-line function\u001B[39;00m\n\u001B[1;32m    172\u001B[0m \u001B[38;5;66;03m# calls in the traceback and some print out the last line\u001B[39;00m\n\u001B[0;32m--> 173\u001B[0m \u001B[43mVariable\u001B[49m\u001B[38;5;241;43m.\u001B[39;49m\u001B[43m_execution_engine\u001B[49m\u001B[38;5;241;43m.\u001B[39;49m\u001B[43mrun_backward\u001B[49m\u001B[43m(\u001B[49m\u001B[43m  \u001B[49m\u001B[38;5;66;43;03m# Calls into the C++ engine to run the backward pass\u001B[39;49;00m\n\u001B[1;32m    174\u001B[0m \u001B[43m    \u001B[49m\u001B[43mtensors\u001B[49m\u001B[43m,\u001B[49m\u001B[43m \u001B[49m\u001B[43mgrad_tensors_\u001B[49m\u001B[43m,\u001B[49m\u001B[43m \u001B[49m\u001B[43mretain_graph\u001B[49m\u001B[43m,\u001B[49m\u001B[43m \u001B[49m\u001B[43mcreate_graph\u001B[49m\u001B[43m,\u001B[49m\u001B[43m \u001B[49m\u001B[43minputs\u001B[49m\u001B[43m,\u001B[49m\n\u001B[1;32m    175\u001B[0m \u001B[43m    \u001B[49m\u001B[43mallow_unreachable\u001B[49m\u001B[38;5;241;43m=\u001B[39;49m\u001B[38;5;28;43;01mTrue\u001B[39;49;00m\u001B[43m,\u001B[49m\u001B[43m \u001B[49m\u001B[43maccumulate_grad\u001B[49m\u001B[38;5;241;43m=\u001B[39;49m\u001B[38;5;28;43;01mTrue\u001B[39;49;00m\u001B[43m)\u001B[49m\n",
      "\u001B[0;31mKeyboardInterrupt\u001B[0m: "
     ]
    }
   ],
   "source": [
    "learning_stats(df3d_permute, true_unmix_jacobians3d_permute, est_unmix_jacobians3d_permute, permute_indices3d_permute, dag_permute=True)"
   ],
   "metadata": {
    "collapsed": false
   }
  },
  {
   "cell_type": "markdown",
   "source": [
    "### 5D SEM"
   ],
   "metadata": {
    "collapsed": false
   }
  },
  {
   "cell_type": "code",
   "execution_count": 58,
   "outputs": [
    {
     "name": "stdout",
     "output_type": "stream",
     "text": [
      "----------------------------------\n",
      "dim=5 (nonlin_sem=True)\tMCC=0.960+0.079\tAcc(order):0.000\t  Acc:0.933\tSHD:0.066667\t[9 items]\n",
      "----------------------------------\n",
      "dim=5 (nonlin_sem=False)\tMCC=0.969+0.066\tAcc(order):0.000\t  Acc:0.928\tSHD:0.072000\t[10 items]\n"
     ]
    }
   ],
   "source": [
    "learning_stats(df5d, true_unmix_jacobians5d, est_unmix_jacobians5d, permute_indices5d, 1e-3, dag_permute=False)"
   ],
   "metadata": {
    "collapsed": false
   }
  },
  {
   "cell_type": "markdown",
   "source": [
    "### 8D SEM"
   ],
   "metadata": {
    "collapsed": false
   }
  },
  {
   "cell_type": "code",
   "execution_count": 59,
   "outputs": [
    {
     "name": "stdout",
     "output_type": "stream",
     "text": [
      "----------------------------------\n",
      "dim=8 (nonlin_sem=True)\tMCC=0.980+0.030\tAcc(order):0.000\t  Acc:0.892\tSHD:0.107639\t[9 items]\n",
      "----------------------------------\n",
      "dim=8 (nonlin_sem=False)\tMCC=1.000+0.000\tAcc(order):0.000\t  Acc:1.000\tSHD:0.000000\t[10 items]\n"
     ]
    }
   ],
   "source": [
    "learning_stats(df8d, true_unmix_jacobians8d, est_unmix_jacobians8d, permute_indices8d, 1e-3, dag_permute=False)"
   ],
   "metadata": {
    "collapsed": false
   }
  },
  {
   "cell_type": "markdown",
   "source": [
    "### 10D SEM"
   ],
   "metadata": {
    "collapsed": false
   }
  },
  {
   "cell_type": "code",
   "execution_count": 60,
   "outputs": [
    {
     "name": "stdout",
     "output_type": "stream",
     "text": [
      "----------------------------------\n",
      "dim=10 (nonlin_sem=True)\tMCC=0.958+0.023\tAcc(order):0.000\t  Acc:0.759\tSHD:0.241111\t[9 items]\n",
      "----------------------------------\n",
      "dim=10 (nonlin_sem=False)\tMCC=0.965+0.030\tAcc(order):0.000\t  Acc:0.909\tSHD:0.091000\t[10 items]\n"
     ]
    }
   ],
   "source": [
    "learning_stats(df10d, true_unmix_jacobians10d, est_unmix_jacobians10d, permute_indices10d, 1e-3, dag_permute=False)"
   ],
   "metadata": {
    "collapsed": false
   }
  },
  {
   "cell_type": "markdown",
   "source": [
    "### MLP from Monti et al."
   ],
   "metadata": {
    "collapsed": false
   }
  },
  {
   "cell_type": "code",
   "execution_count": 61,
   "outputs": [
    {
     "name": "stdout",
     "output_type": "stream",
     "text": [
      "----------------------------------\n",
      "dim=6 (n_mixing_layer=5)\tMCC=0.817+0.043\tAcc(order):0.000\t  Acc:0.872\tSHD:0.611111\t[5 items]\n",
      "----------------------------------\n",
      "dim=6 (n_mixing_layer=4)\tMCC=0.987+0.007\tAcc(order):0.000\t  Acc:0.978\tSHD:0.522222\t[5 items]\n",
      "----------------------------------\n",
      "dim=6 (n_mixing_layer=3)\tMCC=0.998+0.002\tAcc(order):0.000\t  Acc:1.000\tSHD:0.166667\t[5 items]\n",
      "----------------------------------\n",
      "dim=6 (n_mixing_layer=2)\tMCC=1.000+0.000\tAcc(order):0.000\t  Acc:1.000\tSHD:0.000000\t[5 items]\n",
      "----------------------------------\n",
      "dim=6 (n_mixing_layer=1)\tMCC=1.000+0.000\tAcc(order):0.000\t  Acc:0.956\tSHD:0.038889\t[5 items]\n"
     ]
    }
   ],
   "source": [
    "learning_stats(df_monti, true_unmix_jacobians_monti, est_unmix_jacobians_monti, permute_indices_monti, selector_col=\"n_mixing_layer\", weight_threshold=None, hamming_threshold=1e-3, dag_permute=False)"
   ],
   "metadata": {
    "collapsed": false
   }
  },
  {
   "cell_type": "markdown",
   "source": [
    "# Plots"
   ],
   "metadata": {
    "collapsed": false
   }
  },
  {
   "cell_type": "code",
   "execution_count": 85,
   "outputs": [],
   "source": [
    "TICK_PADDING = 2\n",
    "LABELPAD = 3\n",
    "DIMS = [3,5,8,10]\n",
    "COLORS = [\"tab:blue\",\"tab:orange\",\"tab:green\",\"tab:red\"]"
   ],
   "metadata": {
    "collapsed": false
   }
  },
  {
   "cell_type": "markdown",
   "source": [
    "## Corrected stats"
   ],
   "metadata": {
    "collapsed": false
   }
  },
  {
   "cell_type": "markdown",
   "source": [
    "### Nonlinear"
   ],
   "metadata": {
    "collapsed": false
   }
  },
  {
   "cell_type": "code",
   "execution_count": 74,
   "outputs": [],
   "source": [
    "\"\"\"NL\"\"\"\n",
    "selector = False\n",
    "\n",
    "metric = \"thresholds\"\n",
    "thresholds = torch.stack([stats3d_sparse[3][selector][metric], stats5d_sparse[5][selector][metric],stats8d_sparse[8][selector][metric],stats10d_sparse[10][selector][metric]])\n",
    "\n",
    "metric = \"precisions\"\n",
    "precisions_nl = torch.stack([stats3d_sparse[3][selector][metric], stats5d_sparse[5][selector][metric],stats8d_sparse[8][selector][metric],stats10d_sparse[10][selector][metric]])\n",
    "\n",
    "metric = \"recalls\"\n",
    "recalls_nl = torch.stack([stats3d_sparse[3][selector][metric], stats5d_sparse[5][selector][metric],stats8d_sparse[8][selector][metric],stats10d_sparse[10][selector][metric]])"
   ],
   "metadata": {
    "collapsed": false
   }
  },
  {
   "cell_type": "markdown",
   "source": [
    "### Linear"
   ],
   "metadata": {
    "collapsed": false
   }
  },
  {
   "cell_type": "code",
   "execution_count": 75,
   "outputs": [],
   "source": [
    "\"\"\"Linear\"\"\"\n",
    "selector = True\n",
    "\n",
    "# thresholds are the same\n",
    "\n",
    "metric = \"precisions\"\n",
    "precisions_lin = torch.stack([stats3d_sparse[3][selector][metric], stats5d_sparse[5][selector][metric],stats8d_sparse[8][selector][metric],stats10d_sparse[10][selector][metric]])\n",
    "\n",
    "metric = \"recalls\"\n",
    "recalls_lin = torch.stack([stats3d_sparse[3][selector][metric], stats5d_sparse[5][selector][metric],stats8d_sparse[8][selector][metric],stats10d_sparse[10][selector][metric]])"
   ],
   "metadata": {
    "collapsed": false
   }
  },
  {
   "cell_type": "markdown",
   "source": [
    "### Both"
   ],
   "metadata": {
    "collapsed": false
   }
  },
  {
   "cell_type": "code",
   "execution_count": 84,
   "outputs": [
    {
     "data": {
      "text/plain": "<Figure size 396x244.741 with 1 Axes>",
      "image/png": "[encoded data removed]"
     },
     "metadata": {
      "needs_background": "light"
     },
     "output_type": "display_data"
    }
   ],
   "source": [
    "fig = plt.figure(figsize=figsizes.neurips2022(nrows=1, ncols=1)['figure.figsize'])\n",
    "\n",
    "ax = fig.add_subplot(111)\n",
    "ax.grid(True, which=\"both\", ls=\"-.\")\n",
    "ax.set_axisbelow(True)\n",
    "#\n",
    "for rec_nl,prec_nl, c in zip(recalls_nl, precisions_nl, COLORS):\n",
    "    im = ax.plot(rec_nl, prec_nl, c=c)\n",
    "    # im = ax.scatter(rec_nl, prec_nl, c=c)\n",
    "for rec_lin,prec_lin, c in zip(recalls_lin,precisions_lin, COLORS):\n",
    "    im = ax.plot(rec_lin, prec_lin, c=c, ls=\"--\")\n",
    "    # im = ax.scatter(rec_lin, prec_lin, c=c,marker=\"^\")\n",
    "    # im = ax.plot(thresholds[0,:], prec_nl, c=c)\n",
    "\n",
    "ax.set_xlabel(\"Recalls\", labelpad=LABELPAD)\n",
    "ax.set_ylabel(\"Precision\", labelpad=LABELPAD)\n",
    "plt.legend(DIMS)\n",
    "ax.tick_params(axis='both', which='major', pad=TICK_PADDING)\n",
    "\n",
    "\n",
    "plt.savefig(\"recalls_vs_precisions.svg\")"
   ],
   "metadata": {
    "collapsed": false
   }
  },
  {
   "cell_type": "markdown",
   "source": [
    "### Monti"
   ],
   "metadata": {
    "collapsed": false
   }
  },
  {
   "cell_type": "code",
   "execution_count": 94,
   "outputs": [
    {
     "data": {
      "text/plain": "<Figure size 396x244.741 with 1 Axes>",
      "image/png": "[encoded data removed]"
     },
     "metadata": {
      "needs_background": "light"
     },
     "output_type": "display_data"
    }
   ],
   "source": [
    "fig = plt.figure(figsize=figsizes.neurips2022(nrows=1, ncols=1)['figure.figsize'])\n",
    "\n",
    "ax = fig.add_subplot(111)\n",
    "ax.grid(True, which=\"both\", ls=\"-.\")\n",
    "ax.set_axisbelow(True)\n",
    "#\n",
    "for rec,prec, c in zip(recalls_monti, precisions_monti, COLORS):\n",
    "    im = ax.plot(rec, prec, c=c)\n",
    "    # im = ax.scatter(rec_nl, prec_nl, c=c)\n",
    "\n",
    "ax.set_xlabel(\"Recalls\", labelpad=LABELPAD)\n",
    "ax.set_ylabel(\"Precision\", labelpad=LABELPAD)\n",
    "plt.legend(DIMS)\n",
    "ax.tick_params(axis='both', which='major', pad=TICK_PADDING)\n",
    "\n",
    "\n",
    "plt.savefig(\"monti_recalls_vs_precisions.svg\")"
   ],
   "metadata": {
    "collapsed": false
   }
  },
  {
   "cell_type": "markdown",
   "source": [],
   "metadata": {
    "collapsed": false
   }
  },
  {
   "cell_type": "markdown",
   "source": [
    "## Hinton diagram"
   ],
   "metadata": {
    "collapsed": false
   }
  },
  {
   "cell_type": "code",
   "execution_count": 121,
   "outputs": [],
   "source": [
    "# Source: https://matplotlib.org/3.1.1/gallery/specialty_plots/hinton_demo.html\n",
    "\n",
    "def hinton(matrix, max_weight=None, ax=None, filename=None):\n",
    "    \"\"\"Draw Hinton diagram for visualizing a weight matrix.\"\"\"\n",
    "    ax = ax if ax is not None else plt.gca()\n",
    "\n",
    "    if not max_weight:\n",
    "        max_weight = 2 ** np.ceil(np.log(np.abs(matrix).max()) / np.log(2))\n",
    "\n",
    "\n",
    "    ax.patch.set_facecolor('gray')\n",
    "    ax.set_aspect('equal', 'box')\n",
    "    ax.xaxis.set_major_locator(plt.NullLocator())\n",
    "    ax.yaxis.set_major_locator(plt.NullLocator())\n",
    "\n",
    "    for (x, y), w in np.ndenumerate(matrix):\n",
    "        color = BLUE if w > 0 else RED\n",
    "        size = np.sqrt(np.abs(w) / max_weight)\n",
    "        rect = plt.Rectangle([x - size / 2, y - size / 2], size, size,\n",
    "                             facecolor=color, edgecolor=color)\n",
    "        ax.add_patch(rect)\n",
    "\n",
    "    ax.autoscale_view()\n",
    "    if filename is not None:\n",
    "        plt.savefig(f\"{filename}.svg\")"
   ],
   "metadata": {
    "collapsed": false
   }
  },
  {
   "cell_type": "code",
   "execution_count": 96,
   "outputs": [],
   "source": [
    "from notebooks.analysis import perm2matrix"
   ],
   "metadata": {
    "collapsed": false
   }
  },
  {
   "cell_type": "markdown",
   "source": [],
   "metadata": {
    "collapsed": false
   }
  },
  {
   "cell_type": "code",
   "execution_count": 113,
   "outputs": [],
   "source": [
    "idx = -1\n",
    "j_est = torch.from_numpy(est_unmix_jacobians5d_sparse[idx].astype(np.float32))\n",
    "j_gt = torch.from_numpy(true_unmix_jacobians5d_sparse[idx].astype(np.float32))\n",
    "j_p= permute_indices5d_sparse[idx]\n",
    "j_ica = perm2matrix(ica_permute5d_sparse[idx])\n",
    "j_pm= perm2matrix(j_p)\n",
    "j_est_corr = j_ica@j_est@j_pm"
   ],
   "metadata": {
    "collapsed": false
   }
  },
  {
   "cell_type": "code",
   "execution_count": 103,
   "outputs": [
    {
     "data": {
      "text/plain": "tensor([[ 0.6245,  0.0000,  0.0000,  0.0000,  0.0000],\n        [-0.8148,  0.4783,  0.0000,  0.0000,  0.0000],\n        [ 0.0000, -0.7763,  0.8249,  0.0000,  0.0000],\n        [-0.2919,  0.0000, -0.4866,  0.6061,  0.0000],\n        [ 0.5192,  0.0000,  0.0000, -0.4156,  0.4538]], dtype=torch.float64)"
     },
     "execution_count": 103,
     "metadata": {},
     "output_type": "execute_result"
    }
   ],
   "source": [
    "j_gt[j_gt.abs()<1e-6]=0\n",
    "j_gt"
   ],
   "metadata": {
    "collapsed": false
   }
  },
  {
   "cell_type": "code",
   "execution_count": 115,
   "outputs": [
    {
     "data": {
      "text/plain": "tensor([[0.6502, 0.0046, 0.0046, 0.0045, 0.0064],\n        [0.8523, 0.5019, 0.0076, 0.0076, 0.0072],\n        [0.0123, 0.8139, 0.8680, 0.0097, 0.0082],\n        [0.3020, 0.0069, 0.5105, 0.6374, 0.0050],\n        [1.0000, 0.0082, 0.0091, 0.4306, 0.4713]])"
     },
     "execution_count": 115,
     "metadata": {},
     "output_type": "execute_result"
    }
   ],
   "source": [
    "j_est_corr"
   ],
   "metadata": {
    "collapsed": false
   }
  },
  {
   "cell_type": "code",
   "execution_count": 123,
   "outputs": [
    {
     "data": {
      "text/plain": "<Figure size 396x244.741 with 1 Axes>",
      "image/png": "[encoded data removed]"
     },
     "metadata": {},
     "output_type": "display_data"
    }
   ],
   "source": [
    "hinton(j_gt, filename=\"j_gt5d_sparse_hinton\")"
   ],
   "metadata": {
    "collapsed": false
   }
  },
  {
   "cell_type": "code",
   "execution_count": 122,
   "outputs": [
    {
     "data": {
      "text/plain": "<Figure size 396x244.741 with 1 Axes>",
      "image/png": "[encoded data removed]"
     },
     "metadata": {},
     "output_type": "display_data"
    }
   ],
   "source": [
    "hinton(j_est_corr, filename=\"j_est_corr_5d_sparse_hinton\")"
   ],
   "metadata": {
    "collapsed": false
   }
  }
 ],
 "metadata": {
  "kernelspec": {
   "display_name": "Python 3 (ipykernel)",
   "language": "python",
   "name": "python3"
  },
  "language_info": {
   "codemirror_mode": {
    "name": "ipython",
    "version": 3
   },
   "file_extension": ".py",
   "mimetype": "text/x-python",
   "name": "python",
   "nbconvert_exporter": "python",
   "pygments_lexer": "ipython3",
   "version": "3.9.6"
  }
 },
 "nbformat": 4,
 "nbformat_minor": 1
}
