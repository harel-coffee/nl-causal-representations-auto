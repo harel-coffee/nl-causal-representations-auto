{
 "cells": [
  {
   "cell_type": "markdown",
   "source": [
    "# Imports"
   ],
   "metadata": {
    "collapsed": false
   }
  },
  {
   "cell_type": "code",
   "execution_count": 1,
   "metadata": {},
   "outputs": [],
   "source": [
    "# imports\n",
    "import numpy as np\n",
    "import torch\n",
    "from tueplots import bundles, figsizes\n",
    "import wandb\n",
    "import matplotlib.pyplot as plt\n",
    "\n",
    "import sys\n",
    "\n",
    "%load_ext autoreload\n",
    "%autoreload 2\n",
    "\n",
    "sys.path.insert(0, '.')"
   ]
  },
  {
   "cell_type": "code",
   "execution_count": 2,
   "outputs": [],
   "source": [
    "from analysis import sweep2df, learning_stats,corrected_jacobian_stats,correct_ica_scale_permutation, RED, BLUE\n"
   ],
   "metadata": {
    "collapsed": false
   }
  },
  {
   "cell_type": "code",
   "execution_count": 3,
   "outputs": [
    {
     "name": "stderr",
     "output_type": "stream",
     "text": [
      "/Library/Developer/CommandLineTools/Library/Frameworks/Python3.framework/Versions/3.8/lib/python3.8/_collections_abc.py:834: MatplotlibDeprecationWarning: Support for setting the 'text.latex.preamble' or 'pgf.preamble' rcParam to a list of strings is deprecated since 3.3 and will be removed two minor releases later; set it to a single string instead.\n",
      "  self[key] = other[key]\n"
     ]
    }
   ],
   "source": [
    "plt.rcParams.update(bundles.neurips2022(usetex=True))\n",
    "plt.rcParams.update({\n",
    "    'text.latex.preamble': [r'\\usepackage{amsfonts}', # mathbb\n",
    "                            r'\\usepackage{amsmath}'] # boldsymbol\n",
    "})"
   ],
   "metadata": {
    "collapsed": false
   }
  },
  {
   "cell_type": "code",
   "execution_count": 32,
   "metadata": {},
   "outputs": [],
   "source": [
    "# Constants\n",
    "ENTITY = \"causal-representation-learning\"\n",
    "PROJECT = \"nl-causal-representations\"\n",
    "\n",
    "# W&B API\n",
    "api = wandb.Api(timeout=200)\n",
    "runs = api.runs(ENTITY + \"/\" + PROJECT)"
   ]
  },
  {
   "cell_type": "markdown",
   "source": [
    "# Data loading"
   ],
   "metadata": {
    "collapsed": false
   }
  },
  {
   "cell_type": "code",
   "execution_count": 5,
   "metadata": {},
   "outputs": [
    {
     "ename": "CommError",
     "evalue": "Could not find sweep <Sweep causal-representation-learning/nl-causal-representations/gz1yqsuk>",
     "output_type": "error",
     "traceback": [
      "\u001B[0;31m---------------------------------------------------------------------------\u001B[0m",
      "\u001B[0;31mValueError\u001B[0m                                Traceback (most recent call last)",
      "File \u001B[0;32m~/Documents/GitHub/nl-causal-representations/venv/lib/python3.8/site-packages/wandb/apis/normalize.py:22\u001B[0m, in \u001B[0;36mnormalize_exceptions.<locals>.wrapper\u001B[0;34m(*args, **kwargs)\u001B[0m\n\u001B[1;32m     21\u001B[0m \u001B[38;5;28;01mtry\u001B[39;00m:\n\u001B[0;32m---> 22\u001B[0m     \u001B[38;5;28;01mreturn\u001B[39;00m \u001B[43mfunc\u001B[49m\u001B[43m(\u001B[49m\u001B[38;5;241;43m*\u001B[39;49m\u001B[43margs\u001B[49m\u001B[43m,\u001B[49m\u001B[43m \u001B[49m\u001B[38;5;241;43m*\u001B[39;49m\u001B[38;5;241;43m*\u001B[39;49m\u001B[43mkwargs\u001B[49m\u001B[43m)\u001B[49m\n\u001B[1;32m     23\u001B[0m \u001B[38;5;28;01mexcept\u001B[39;00m requests\u001B[38;5;241m.\u001B[39mHTTPError \u001B[38;5;28;01mas\u001B[39;00m err:\n",
      "File \u001B[0;32m~/Documents/GitHub/nl-causal-representations/venv/lib/python3.8/site-packages/wandb/apis/public.py:740\u001B[0m, in \u001B[0;36mApi.sweep\u001B[0;34m(self, path)\u001B[0m\n\u001B[1;32m    739\u001B[0m \u001B[38;5;28;01mif\u001B[39;00m \u001B[38;5;129;01mnot\u001B[39;00m \u001B[38;5;28mself\u001B[39m\u001B[38;5;241m.\u001B[39m_sweeps\u001B[38;5;241m.\u001B[39mget(path):\n\u001B[0;32m--> 740\u001B[0m     \u001B[38;5;28mself\u001B[39m\u001B[38;5;241m.\u001B[39m_sweeps[path] \u001B[38;5;241m=\u001B[39m \u001B[43mSweep\u001B[49m\u001B[43m(\u001B[49m\u001B[38;5;28;43mself\u001B[39;49m\u001B[38;5;241;43m.\u001B[39;49m\u001B[43mclient\u001B[49m\u001B[43m,\u001B[49m\u001B[43m \u001B[49m\u001B[43mentity\u001B[49m\u001B[43m,\u001B[49m\u001B[43m \u001B[49m\u001B[43mproject\u001B[49m\u001B[43m,\u001B[49m\u001B[43m \u001B[49m\u001B[43msweep_id\u001B[49m\u001B[43m)\u001B[49m\n\u001B[1;32m    741\u001B[0m \u001B[38;5;28;01mreturn\u001B[39;00m \u001B[38;5;28mself\u001B[39m\u001B[38;5;241m.\u001B[39m_sweeps[path]\n",
      "File \u001B[0;32m~/Documents/GitHub/nl-causal-representations/venv/lib/python3.8/site-packages/wandb/apis/public.py:2151\u001B[0m, in \u001B[0;36mSweep.__init__\u001B[0;34m(self, client, entity, project, sweep_id, attrs)\u001B[0m\n\u001B[1;32m   2149\u001B[0m \u001B[38;5;28mself\u001B[39m\u001B[38;5;241m.\u001B[39mruns \u001B[38;5;241m=\u001B[39m []\n\u001B[0;32m-> 2151\u001B[0m \u001B[38;5;28;43mself\u001B[39;49m\u001B[38;5;241;43m.\u001B[39;49m\u001B[43mload\u001B[49m\u001B[43m(\u001B[49m\u001B[43mforce\u001B[49m\u001B[38;5;241;43m=\u001B[39;49m\u001B[38;5;129;43;01mnot\u001B[39;49;00m\u001B[43m \u001B[49m\u001B[43mattrs\u001B[49m\u001B[43m)\u001B[49m\n",
      "File \u001B[0;32m~/Documents/GitHub/nl-causal-representations/venv/lib/python3.8/site-packages/wandb/apis/public.py:2170\u001B[0m, in \u001B[0;36mSweep.load\u001B[0;34m(self, force)\u001B[0m\n\u001B[1;32m   2169\u001B[0m \u001B[38;5;28;01mif\u001B[39;00m sweep \u001B[38;5;129;01mis\u001B[39;00m \u001B[38;5;28;01mNone\u001B[39;00m:\n\u001B[0;32m-> 2170\u001B[0m     \u001B[38;5;28;01mraise\u001B[39;00m \u001B[38;5;167;01mValueError\u001B[39;00m(\u001B[38;5;124m\"\u001B[39m\u001B[38;5;124mCould not find sweep \u001B[39m\u001B[38;5;132;01m%s\u001B[39;00m\u001B[38;5;124m\"\u001B[39m \u001B[38;5;241m%\u001B[39m \u001B[38;5;28mself\u001B[39m)\n\u001B[1;32m   2171\u001B[0m \u001B[38;5;28mself\u001B[39m\u001B[38;5;241m.\u001B[39m_attrs \u001B[38;5;241m=\u001B[39m sweep\u001B[38;5;241m.\u001B[39m_attrs\n",
      "\u001B[0;31mValueError\u001B[0m: Could not find sweep <Sweep causal-representation-learning/nl-causal-representations/gz1yqsuk>",
      "\nDuring handling of the above exception, another exception occurred:\n",
      "\u001B[0;31mCommError\u001B[0m                                 Traceback (most recent call last)",
      "Input \u001B[0;32mIn [5]\u001B[0m, in \u001B[0;36m<cell line: 2>\u001B[0;34m()\u001B[0m\n\u001B[1;32m      1\u001B[0m SWEEP_ID \u001B[38;5;241m=\u001B[39m \u001B[38;5;124m\"\u001B[39m\u001B[38;5;124mgz1yqsuk\u001B[39m\u001B[38;5;124m\"\u001B[39m\n\u001B[0;32m----> 2\u001B[0m sweep \u001B[38;5;241m=\u001B[39m \u001B[43mapi\u001B[49m\u001B[38;5;241;43m.\u001B[39;49m\u001B[43msweep\u001B[49m\u001B[43m(\u001B[49m\u001B[38;5;124;43mf\u001B[39;49m\u001B[38;5;124;43m\"\u001B[39;49m\u001B[38;5;132;43;01m{\u001B[39;49;00m\u001B[43mENTITY\u001B[49m\u001B[38;5;132;43;01m}\u001B[39;49;00m\u001B[38;5;124;43m/\u001B[39;49m\u001B[38;5;132;43;01m{\u001B[39;49;00m\u001B[43mPROJECT\u001B[49m\u001B[38;5;132;43;01m}\u001B[39;49;00m\u001B[38;5;124;43m/\u001B[39;49m\u001B[38;5;132;43;01m{\u001B[39;49;00m\u001B[43mSWEEP_ID\u001B[49m\u001B[38;5;132;43;01m}\u001B[39;49;00m\u001B[38;5;124;43m\"\u001B[39;49m\u001B[43m)\u001B[49m\n\u001B[1;32m      3\u001B[0m filename \u001B[38;5;241m=\u001B[39m \u001B[38;5;124mf\u001B[39m\u001B[38;5;124m\"\u001B[39m\u001B[38;5;124msem_sweep_\u001B[39m\u001B[38;5;132;01m{\u001B[39;00mSWEEP_ID\u001B[38;5;132;01m}\u001B[39;00m\u001B[38;5;124m\"\u001B[39m\n\u001B[1;32m      4\u001B[0m \u001B[38;5;28mprint\u001B[39m(\u001B[38;5;124mf\u001B[39m\u001B[38;5;124m\"\u001B[39m\u001B[38;5;124mLoading sweep with \u001B[39m\u001B[38;5;132;01m{\u001B[39;00mSWEEP_ID\u001B[38;5;132;01m=}\u001B[39;00m\u001B[38;5;124m\"\u001B[39m)\n",
      "File \u001B[0;32m~/Documents/GitHub/nl-causal-representations/venv/lib/python3.8/site-packages/wandb/apis/normalize.py:58\u001B[0m, in \u001B[0;36mnormalize_exceptions.<locals>.wrapper\u001B[0;34m(*args, **kwargs)\u001B[0m\n\u001B[1;32m     56\u001B[0m     \u001B[38;5;28;01mraise\u001B[39;00m\n\u001B[1;32m     57\u001B[0m \u001B[38;5;28;01melse\u001B[39;00m:\n\u001B[0;32m---> 58\u001B[0m     \u001B[38;5;28;01mraise\u001B[39;00m CommError(message, err)\u001B[38;5;241m.\u001B[39mwith_traceback(sys\u001B[38;5;241m.\u001B[39mexc_info()[\u001B[38;5;241m2\u001B[39m])\n",
      "File \u001B[0;32m~/Documents/GitHub/nl-causal-representations/venv/lib/python3.8/site-packages/wandb/apis/normalize.py:22\u001B[0m, in \u001B[0;36mnormalize_exceptions.<locals>.wrapper\u001B[0;34m(*args, **kwargs)\u001B[0m\n\u001B[1;32m     20\u001B[0m message \u001B[38;5;241m=\u001B[39m \u001B[38;5;124m\"\u001B[39m\u001B[38;5;124mWhoa, you found a bug.\u001B[39m\u001B[38;5;124m\"\u001B[39m\n\u001B[1;32m     21\u001B[0m \u001B[38;5;28;01mtry\u001B[39;00m:\n\u001B[0;32m---> 22\u001B[0m     \u001B[38;5;28;01mreturn\u001B[39;00m \u001B[43mfunc\u001B[49m\u001B[43m(\u001B[49m\u001B[38;5;241;43m*\u001B[39;49m\u001B[43margs\u001B[49m\u001B[43m,\u001B[49m\u001B[43m \u001B[49m\u001B[38;5;241;43m*\u001B[39;49m\u001B[38;5;241;43m*\u001B[39;49m\u001B[43mkwargs\u001B[49m\u001B[43m)\u001B[49m\n\u001B[1;32m     23\u001B[0m \u001B[38;5;28;01mexcept\u001B[39;00m requests\u001B[38;5;241m.\u001B[39mHTTPError \u001B[38;5;28;01mas\u001B[39;00m err:\n\u001B[1;32m     24\u001B[0m     \u001B[38;5;28;01mraise\u001B[39;00m CommError(err\u001B[38;5;241m.\u001B[39mresponse, err)\n",
      "File \u001B[0;32m~/Documents/GitHub/nl-causal-representations/venv/lib/python3.8/site-packages/wandb/apis/public.py:740\u001B[0m, in \u001B[0;36mApi.sweep\u001B[0;34m(self, path)\u001B[0m\n\u001B[1;32m    738\u001B[0m entity, project, sweep_id \u001B[38;5;241m=\u001B[39m \u001B[38;5;28mself\u001B[39m\u001B[38;5;241m.\u001B[39m_parse_path(path)\n\u001B[1;32m    739\u001B[0m \u001B[38;5;28;01mif\u001B[39;00m \u001B[38;5;129;01mnot\u001B[39;00m \u001B[38;5;28mself\u001B[39m\u001B[38;5;241m.\u001B[39m_sweeps\u001B[38;5;241m.\u001B[39mget(path):\n\u001B[0;32m--> 740\u001B[0m     \u001B[38;5;28mself\u001B[39m\u001B[38;5;241m.\u001B[39m_sweeps[path] \u001B[38;5;241m=\u001B[39m \u001B[43mSweep\u001B[49m\u001B[43m(\u001B[49m\u001B[38;5;28;43mself\u001B[39;49m\u001B[38;5;241;43m.\u001B[39;49m\u001B[43mclient\u001B[49m\u001B[43m,\u001B[49m\u001B[43m \u001B[49m\u001B[43mentity\u001B[49m\u001B[43m,\u001B[49m\u001B[43m \u001B[49m\u001B[43mproject\u001B[49m\u001B[43m,\u001B[49m\u001B[43m \u001B[49m\u001B[43msweep_id\u001B[49m\u001B[43m)\u001B[49m\n\u001B[1;32m    741\u001B[0m \u001B[38;5;28;01mreturn\u001B[39;00m \u001B[38;5;28mself\u001B[39m\u001B[38;5;241m.\u001B[39m_sweeps[path]\n",
      "File \u001B[0;32m~/Documents/GitHub/nl-causal-representations/venv/lib/python3.8/site-packages/wandb/apis/public.py:2151\u001B[0m, in \u001B[0;36mSweep.__init__\u001B[0;34m(self, client, entity, project, sweep_id, attrs)\u001B[0m\n\u001B[1;32m   2148\u001B[0m \u001B[38;5;28mself\u001B[39m\u001B[38;5;241m.\u001B[39mid \u001B[38;5;241m=\u001B[39m sweep_id\n\u001B[1;32m   2149\u001B[0m \u001B[38;5;28mself\u001B[39m\u001B[38;5;241m.\u001B[39mruns \u001B[38;5;241m=\u001B[39m []\n\u001B[0;32m-> 2151\u001B[0m \u001B[38;5;28;43mself\u001B[39;49m\u001B[38;5;241;43m.\u001B[39;49m\u001B[43mload\u001B[49m\u001B[43m(\u001B[49m\u001B[43mforce\u001B[49m\u001B[38;5;241;43m=\u001B[39;49m\u001B[38;5;129;43;01mnot\u001B[39;49;00m\u001B[43m \u001B[49m\u001B[43mattrs\u001B[49m\u001B[43m)\u001B[49m\n",
      "File \u001B[0;32m~/Documents/GitHub/nl-causal-representations/venv/lib/python3.8/site-packages/wandb/apis/public.py:2170\u001B[0m, in \u001B[0;36mSweep.load\u001B[0;34m(self, force)\u001B[0m\n\u001B[1;32m   2168\u001B[0m sweep \u001B[38;5;241m=\u001B[39m \u001B[38;5;28mself\u001B[39m\u001B[38;5;241m.\u001B[39mget(\u001B[38;5;28mself\u001B[39m\u001B[38;5;241m.\u001B[39mclient, \u001B[38;5;28mself\u001B[39m\u001B[38;5;241m.\u001B[39mentity, \u001B[38;5;28mself\u001B[39m\u001B[38;5;241m.\u001B[39mproject, \u001B[38;5;28mself\u001B[39m\u001B[38;5;241m.\u001B[39mid)\n\u001B[1;32m   2169\u001B[0m \u001B[38;5;28;01mif\u001B[39;00m sweep \u001B[38;5;129;01mis\u001B[39;00m \u001B[38;5;28;01mNone\u001B[39;00m:\n\u001B[0;32m-> 2170\u001B[0m     \u001B[38;5;28;01mraise\u001B[39;00m \u001B[38;5;167;01mValueError\u001B[39;00m(\u001B[38;5;124m\"\u001B[39m\u001B[38;5;124mCould not find sweep \u001B[39m\u001B[38;5;132;01m%s\u001B[39;00m\u001B[38;5;124m\"\u001B[39m \u001B[38;5;241m%\u001B[39m \u001B[38;5;28mself\u001B[39m)\n\u001B[1;32m   2171\u001B[0m \u001B[38;5;28mself\u001B[39m\u001B[38;5;241m.\u001B[39m_attrs \u001B[38;5;241m=\u001B[39m sweep\u001B[38;5;241m.\u001B[39m_attrs\n\u001B[1;32m   2172\u001B[0m \u001B[38;5;28mself\u001B[39m\u001B[38;5;241m.\u001B[39mruns \u001B[38;5;241m=\u001B[39m sweep\u001B[38;5;241m.\u001B[39mruns\n",
      "\u001B[0;31mCommError\u001B[0m: Could not find sweep <Sweep causal-representation-learning/nl-causal-representations/gz1yqsuk>"
     ]
    }
   ],
   "source": [
    "SWEEP_ID = \"gz1yqsuk\"\n",
    "sweep = api.sweep(f\"{ENTITY}/{PROJECT}/{SWEEP_ID}\")\n",
    "filename = f\"sem_sweep_{SWEEP_ID}\"\n",
    "print(f\"Loading sweep with {SWEEP_ID=}\")\n",
    "df1, (true_unmix_jacobians1, est_unmix_jacobians1, permute_indices1) = sweep2df(sweep.runs, filename, save=True, load=True)\n",
    "\n",
    "SWEEP_ID = \"5gzpzb23\"\n",
    "sweep = api.sweep(f\"{ENTITY}/{PROJECT}/{SWEEP_ID}\")\n",
    "filename = f\"sem_sweep_{SWEEP_ID}\"\n",
    "print(f\"Loading sweep with {SWEEP_ID=}\")\n",
    "df2, (true_unmix_jacobians2, est_unmix_jacobians2, permute_indices2) = sweep2df(sweep.runs, filename, save=True, load=True)\n",
    "\n",
    "df = df1.append(df2)\n",
    "true_unmix_jacobians = true_unmix_jacobians1 +true_unmix_jacobians2\n",
    "est_unmix_jacobians = est_unmix_jacobians1+est_unmix_jacobians2\n",
    "permute_indices = permute_indices1+permute_indices2"
   ]
  },
  {
   "cell_type": "markdown",
   "source": [
    "## 3D SEM"
   ],
   "metadata": {
    "collapsed": false
   }
  },
  {
   "cell_type": "code",
   "execution_count": 12,
   "outputs": [],
   "source": [
    "\n",
    "SWEEP_ID = \"vfv1je0d\" #\"nz4r5d8a\"\n",
    "sweep = api.sweep(f\"{ENTITY}/{PROJECT}/{SWEEP_ID}\")\n",
    "filename = f\"sem_3d_sweep_{SWEEP_ID}\"\n",
    "df3d, (true_unmix_jacobians3d, est_unmix_jacobians3d, permute_indices3d,hsic_adj_monti_variant) = sweep2df(sweep.runs, filename, save=True, load=True)"
   ],
   "metadata": {
    "collapsed": false
   }
  },
  {
   "cell_type": "code",
   "execution_count": null,
   "outputs": [],
   "source": [
    "SWEEP_ID = \"tpkxr1kj\"\n",
    "sweep = api.sweep(f\"{ENTITY}/{PROJECT}/{SWEEP_ID}\")\n",
    "filename = f\"sem_3d_sparse_sweep_{SWEEP_ID}\"\n",
    "df3d_sparse, (true_unmix_jacobians3d_sparse, est_unmix_jacobians3d_sparse, permute_indices3d_sparse,hsic_adj_monti_variant) = sweep2df(sweep.runs, filename, save=True, load=True)"
   ],
   "metadata": {
    "collapsed": false
   }
  },
  {
   "cell_type": "markdown",
   "source": [
    "## 5D SEM"
   ],
   "metadata": {
    "collapsed": false
   }
  },
  {
   "cell_type": "code",
   "execution_count": 6,
   "outputs": [
    {
     "name": "stdout",
     "output_type": "stream",
     "text": [
      "\t Loading sem_5d_sweep_h6y1gkvo...\n"
     ]
    }
   ],
   "source": [
    "SWEEP_ID = \"h6y1gkvo\"#\"f5nxtdxz\" #\"h6y1gkvo\"#\"3ldi48id\"\n",
    "sweep = api.sweep(f\"{ENTITY}/{PROJECT}/{SWEEP_ID}\")\n",
    "filename = f\"sem_5d_sweep_{SWEEP_ID}\"\n",
    "df5d, (true_unmix_jacobians5d, est_unmix_jacobians5d, permute_indices5d,hsic_adj5d) = sweep2df(sweep.runs, filename, save=True, load=True)"
   ],
   "metadata": {
    "collapsed": false
   }
  },
  {
   "cell_type": "code",
   "execution_count": 32,
   "outputs": [
    {
     "name": "stdout",
     "output_type": "stream",
     "text": [
      "Encountered a faulty run with ID royal-sweep-55\n"
     ]
    }
   ],
   "source": [
    "SWEEP_ID = \"k755kpao\"#\"f5nxtdxz\" #\"h6y1gkvo\"#\"3ldi48id\"\n",
    "sweep = api.sweep(f\"{ENTITY}/{PROJECT}/{SWEEP_ID}\")\n",
    "filename = f\"sem_5d_sweep_hsic_{SWEEP_ID}\"\n",
    "df5d_hsic, (true_unmix_jacobians5d_hsic, est_unmix_jacobians5d_hsic, permute_indices5d_hsic,hsic_adj5d_hsic) = sweep2df(sweep.runs, filename, save=True, load=False)"
   ],
   "metadata": {
    "collapsed": false
   }
  },
  {
   "cell_type": "code",
   "execution_count": 41,
   "outputs": [
    {
     "name": "stdout",
     "output_type": "stream",
     "text": [
      "Encountered a faulty run with ID hardy-sweep-37\n",
      "Encountered a faulty run with ID blooming-sweep-18\n",
      "Encountered a faulty run with ID sweet-sweep-11\n",
      "Encountered a faulty run with ID stilted-sweep-8\n"
     ]
    }
   ],
   "source": [
    "SWEEP_ID = \"r1amhr93\"#\"f5nxtdxz\" #\"h6y1gkvo\"#\"3ldi48id\"\n",
    "sweep = api.sweep(f\"{ENTITY}/{PROJECT}/{SWEEP_ID}\")\n",
    "filename = f\"sem_5d_sweep_no_roll_{SWEEP_ID}\"\n",
    "df5d_no_roll, (true_unmix_jacobians5d_no_roll, est_unmix_jacobians5d_no_roll, permute_indices5d_no_roll,hsic_adj5d_no_roll) = sweep2df(sweep.runs, filename, save=True, load=False)"
   ],
   "metadata": {
    "collapsed": false
   }
  },
  {
   "cell_type": "code",
   "execution_count": 7,
   "outputs": [
    {
     "name": "stdout",
     "output_type": "stream",
     "text": [
      "Encountered a faulty run with ID glorious-sweep-6\n"
     ]
    }
   ],
   "source": [
    "SWEEP_ID = \"jazli1vc\"\n",
    "sweep = api.sweep(f\"{ENTITY}/{PROJECT}/{SWEEP_ID}\")\n",
    "filename = f\"sem_5d_sparse_sweep_{SWEEP_ID}\"\n",
    "df5d_sparse, (true_unmix_jacobians5d_sparse, est_unmix_jacobians5d_sparse, permute_indices5d_sparse,hsic_adj5d_sparse) = sweep2df(sweep.runs, filename, save=True, load=True)"
   ],
   "metadata": {
    "collapsed": false
   }
  },
  {
   "cell_type": "code",
   "execution_count": 6,
   "outputs": [],
   "source": [
    "SWEEP_ID = \"bf49qn7q\"\n",
    "sweep = api.sweep(f\"{ENTITY}/{PROJECT}/{SWEEP_ID}\")\n",
    "filename = f\"sem_5d_randn_sweep_{SWEEP_ID}\"\n",
    "df5d_randn, (true_unmix_jacobians5d_randn, est_unmix_jacobians5d_randn, permute_indices5d_randn,hsic_adj5d_randn) = sweep2df(sweep.runs, filename, save=True, load=True)"
   ],
   "metadata": {
    "collapsed": false
   }
  },
  {
   "cell_type": "code",
   "execution_count": 9,
   "outputs": [],
   "source": [
    "SWEEP_ID = \"ykqym3a0\"\n",
    "sweep = api.sweep(f\"{ENTITY}/{PROJECT}/{SWEEP_ID}\")\n",
    "filename = f\"sem_5d_no_permute_no_offset_sweep_{SWEEP_ID}\"\n",
    "df5d_no_permute_no_offset, (true_unmix_jacobians5d_no_permute_no_offset, est_unmix_jacobians5d_no_permute_no_offset, permute_indices5d_no_permute_no_offset,hsic_adj5d_no_permute_no_offset) = sweep2df(sweep.runs, filename, save=True, load=True)"
   ],
   "metadata": {
    "collapsed": false
   }
  },
  {
   "cell_type": "code",
   "execution_count": 7,
   "outputs": [
    {
     "name": "stdout",
     "output_type": "stream",
     "text": [
      "\t Loading sem_5d_no_permute_sweep_q573owry...\n"
     ]
    }
   ],
   "source": [
    "SWEEP_ID = \"q573owry\"\n",
    "sweep = api.sweep(f\"{ENTITY}/{PROJECT}/{SWEEP_ID}\")\n",
    "filename = f\"sem_5d_no_permute_sweep_{SWEEP_ID}\"\n",
    "df5d_no_permute, (true_unmix_jacobians5d_no_permute, est_unmix_jacobians5d_no_permute, permute_indices5d_no_permute,hsic_adj5d_no_permute) = sweep2df(sweep.runs, filename, save=True, load=True)"
   ],
   "metadata": {
    "collapsed": false
   }
  },
  {
   "cell_type": "code",
   "execution_count": 39,
   "outputs": [],
   "source": [
    "SWEEP_ID = \"teiu5gdj\"\n",
    "sweep = api.sweep(f\"{ENTITY}/{PROJECT}/{SWEEP_ID}\")\n",
    "filename = f\"sem_5d_munkres_sweep_{SWEEP_ID}\"\n",
    "df5d_munkres, (true_unmix_jacobians5d_munkres, est_unmix_jacobians5d_munkres, permute_indices5d_munkres,hsic_adj5d_munkres, ica_permute_munkres) = sweep2df(sweep.runs, filename, save=True, load=False)"
   ],
   "metadata": {
    "collapsed": false
   }
  },
  {
   "cell_type": "code",
   "execution_count": 34,
   "outputs": [
    {
     "data": {
      "text/plain": "                  name  dim  permute  variant  n_mixing_layer  use_sem  \\\n0     skilled-sweep-60    5    False      119               1     True   \n1    fragrant-sweep-59    5    False      119               1     True   \n2      winter-sweep-58    5    False      119               1     True   \n3     earnest-sweep-57    5    False      119               1     True   \n4     stellar-sweep-56    5    False      119               1     True   \n5    ethereal-sweep-55    5    False       97               1     True   \n6        firm-sweep-54    5    False       97               1     True   \n7     dutiful-sweep-53    5    False       97               1     True   \n8      devout-sweep-48    5    False       75               1     True   \n9    volcanic-sweep-47    5    False       75               1     True   \n10      hardy-sweep-46    5    False       75               1     True   \n11      whole-sweep-45    5    False       31               1     True   \n12      sunny-sweep-44    5    False       31               1     True   \n13     hearty-sweep-43    5    False       31               1     True   \n14    glowing-sweep-42    5    False       31               1     True   \n15    hopeful-sweep-39    5    False        5               1     True   \n16       avid-sweep-40    5    False        5               1     True   \n17    glowing-sweep-41    5    False       31               1     True   \n18      clean-sweep-37    5    False        5               1     True   \n19      major-sweep-38    5    False        5               1     True   \n20     toasty-sweep-36    5    False        5               1     True   \n21      daily-sweep-34    5    False        0               1     True   \n22    earnest-sweep-35    5    False        0               1     True   \n23    dashing-sweep-32    5    False        0               1     True   \n24   blooming-sweep-28    5    False      119               1     True   \n25   fearless-sweep-30    5    False      119               1     True   \n26    classic-sweep-31    5    False        0               1     True   \n27       neat-sweep-27    5    False      119               1     True   \n28       avid-sweep-29    5    False      119               1     True   \n29   ethereal-sweep-33    5    False        0               1     True   \n30  legendary-sweep-21    5    False       97               1     True   \n31    valiant-sweep-24    5    False       97               1     True   \n32  efficient-sweep-19    5    False       75               1     True   \n33       trim-sweep-26    5    False      119               1     True   \n34     dulcet-sweep-22    5    False       97               1     True   \n35       neat-sweep-20    5    False       75               1     True   \n36     likely-sweep-25    5    False       97               1     True   \n37      denim-sweep-23    5    False       97               1     True   \n38      tough-sweep-16    5    False       75               1     True   \n39   glorious-sweep-17    5    False       75               1     True   \n40  different-sweep-18    5    False       75               1     True   \n41     expert-sweep-13    5    False       31               1     True   \n42    eternal-sweep-12    5    False       31               1     True   \n43      lucky-sweep-15    5    False       31               1     True   \n44     genial-sweep-14    5    False       31               1     True   \n45      gentle-sweep-9    5    False        5               1     True   \n46        warm-sweep-7    5    False        5               1     True   \n47       laced-sweep-8    5    False        5               1     True   \n48        ruby-sweep-6    5    False        5               1     True   \n49   celestial-sweep-5    5    False        0               1     True   \n50      spring-sweep-4    5    False        0               1     True   \n51       royal-sweep-2    5    False        0               1     True   \n52     flowing-sweep-1    5    False        0               1     True   \n\n    nonlin_sem  force_chain  force_uniform       mcc  val_loss  \n0         True        False          False  0.999370  1.985157  \n1         True        False          False  0.999358  1.893308  \n2         True        False          False  0.999405  1.948391  \n3         True        False          False  0.999753  1.926710  \n4         True        False          False  0.999728  1.909443  \n5         True        False          False  0.999370  1.985157  \n6         True        False          False  0.999358  1.893308  \n7         True        False          False  0.999405  1.948391  \n8         True        False          False  0.999405  1.948391  \n9         True        False          False  0.999753  1.926710  \n10        True        False          False  0.999728  1.909443  \n11        True        False          False  0.999370  1.985157  \n12        True        False          False  0.999358  1.893308  \n13        True        False          False  0.999405  1.948391  \n14        True        False          False  0.999753  1.926710  \n15        True        False          False  0.999358  1.893308  \n16        True        False          False  0.999370  1.985157  \n17        True        False          False  0.999728  1.909443  \n18        True        False          False  0.999753  1.926710  \n19        True        False          False  0.999405  1.948391  \n20        True        False          False  0.999728  1.909443  \n21        True        False          False  0.999358  1.893308  \n22        True        False          False  0.999370  1.985157  \n23        True        False          False  0.999753  1.926710  \n24       False        False          False  0.999952  1.933466  \n25       False        False          False  0.999538  1.968914  \n26        True        False          False  0.999728  1.909443  \n27       False        False          False  0.999886  1.918326  \n28       False        False          False  0.999746  1.881631  \n29        True        False          False  0.999405  1.948391  \n30       False        False          False  0.999831  1.903371  \n31       False        False          False  0.999746  1.881631  \n32       False        False          False  0.999746  1.881631  \n33       False        False          False  0.999831  1.903371  \n34       False        False          False  0.999886  1.918326  \n35       False        False          False  0.999538  1.968914  \n36       False        False          False  0.999538  1.968914  \n37       False        False          False  0.999952  1.933466  \n38       False        False          False  0.999831  1.903371  \n39       False        False          False  0.999886  1.918326  \n40       False        False          False  0.999952  1.933466  \n41       False        False          False  0.999952  1.933466  \n42       False        False          False  0.999886  1.918326  \n43       False        False          False  0.999538  1.968914  \n44       False        False          False  0.999746  1.881631  \n45       False        False          False  0.999746  1.881631  \n46       False        False          False  0.999886  1.918326  \n47       False        False          False  0.999952  1.933466  \n48       False        False          False  0.999831  1.903371  \n49       False        False          False  0.999538  1.968914  \n50       False        False          False  0.999746  1.881631  \n51       False        False          False  0.999886  1.918326  \n52       False        False          False  0.999831  1.903371  ",
      "text/html": "<div>\n<style scoped>\n    .dataframe tbody tr th:only-of-type {\n        vertical-align: middle;\n    }\n\n    .dataframe tbody tr th {\n        vertical-align: top;\n    }\n\n    .dataframe thead th {\n        text-align: right;\n    }\n</style>\n<table border=\"1\" class=\"dataframe\">\n  <thead>\n    <tr style=\"text-align: right;\">\n      <th></th>\n      <th>name</th>\n      <th>dim</th>\n      <th>permute</th>\n      <th>variant</th>\n      <th>n_mixing_layer</th>\n      <th>use_sem</th>\n      <th>nonlin_sem</th>\n      <th>force_chain</th>\n      <th>force_uniform</th>\n      <th>mcc</th>\n      <th>val_loss</th>\n    </tr>\n  </thead>\n  <tbody>\n    <tr>\n      <th>0</th>\n      <td>skilled-sweep-60</td>\n      <td>5</td>\n      <td>False</td>\n      <td>119</td>\n      <td>1</td>\n      <td>True</td>\n      <td>True</td>\n      <td>False</td>\n      <td>False</td>\n      <td>0.999370</td>\n      <td>1.985157</td>\n    </tr>\n    <tr>\n      <th>1</th>\n      <td>fragrant-sweep-59</td>\n      <td>5</td>\n      <td>False</td>\n      <td>119</td>\n      <td>1</td>\n      <td>True</td>\n      <td>True</td>\n      <td>False</td>\n      <td>False</td>\n      <td>0.999358</td>\n      <td>1.893308</td>\n    </tr>\n    <tr>\n      <th>2</th>\n      <td>winter-sweep-58</td>\n      <td>5</td>\n      <td>False</td>\n      <td>119</td>\n      <td>1</td>\n      <td>True</td>\n      <td>True</td>\n      <td>False</td>\n      <td>False</td>\n      <td>0.999405</td>\n      <td>1.948391</td>\n    </tr>\n    <tr>\n      <th>3</th>\n      <td>earnest-sweep-57</td>\n      <td>5</td>\n      <td>False</td>\n      <td>119</td>\n      <td>1</td>\n      <td>True</td>\n      <td>True</td>\n      <td>False</td>\n      <td>False</td>\n      <td>0.999753</td>\n      <td>1.926710</td>\n    </tr>\n    <tr>\n      <th>4</th>\n      <td>stellar-sweep-56</td>\n      <td>5</td>\n      <td>False</td>\n      <td>119</td>\n      <td>1</td>\n      <td>True</td>\n      <td>True</td>\n      <td>False</td>\n      <td>False</td>\n      <td>0.999728</td>\n      <td>1.909443</td>\n    </tr>\n    <tr>\n      <th>5</th>\n      <td>ethereal-sweep-55</td>\n      <td>5</td>\n      <td>False</td>\n      <td>97</td>\n      <td>1</td>\n      <td>True</td>\n      <td>True</td>\n      <td>False</td>\n      <td>False</td>\n      <td>0.999370</td>\n      <td>1.985157</td>\n    </tr>\n    <tr>\n      <th>6</th>\n      <td>firm-sweep-54</td>\n      <td>5</td>\n      <td>False</td>\n      <td>97</td>\n      <td>1</td>\n      <td>True</td>\n      <td>True</td>\n      <td>False</td>\n      <td>False</td>\n      <td>0.999358</td>\n      <td>1.893308</td>\n    </tr>\n    <tr>\n      <th>7</th>\n      <td>dutiful-sweep-53</td>\n      <td>5</td>\n      <td>False</td>\n      <td>97</td>\n      <td>1</td>\n      <td>True</td>\n      <td>True</td>\n      <td>False</td>\n      <td>False</td>\n      <td>0.999405</td>\n      <td>1.948391</td>\n    </tr>\n    <tr>\n      <th>8</th>\n      <td>devout-sweep-48</td>\n      <td>5</td>\n      <td>False</td>\n      <td>75</td>\n      <td>1</td>\n      <td>True</td>\n      <td>True</td>\n      <td>False</td>\n      <td>False</td>\n      <td>0.999405</td>\n      <td>1.948391</td>\n    </tr>\n    <tr>\n      <th>9</th>\n      <td>volcanic-sweep-47</td>\n      <td>5</td>\n      <td>False</td>\n      <td>75</td>\n      <td>1</td>\n      <td>True</td>\n      <td>True</td>\n      <td>False</td>\n      <td>False</td>\n      <td>0.999753</td>\n      <td>1.926710</td>\n    </tr>\n    <tr>\n      <th>10</th>\n      <td>hardy-sweep-46</td>\n      <td>5</td>\n      <td>False</td>\n      <td>75</td>\n      <td>1</td>\n      <td>True</td>\n      <td>True</td>\n      <td>False</td>\n      <td>False</td>\n      <td>0.999728</td>\n      <td>1.909443</td>\n    </tr>\n    <tr>\n      <th>11</th>\n      <td>whole-sweep-45</td>\n      <td>5</td>\n      <td>False</td>\n      <td>31</td>\n      <td>1</td>\n      <td>True</td>\n      <td>True</td>\n      <td>False</td>\n      <td>False</td>\n      <td>0.999370</td>\n      <td>1.985157</td>\n    </tr>\n    <tr>\n      <th>12</th>\n      <td>sunny-sweep-44</td>\n      <td>5</td>\n      <td>False</td>\n      <td>31</td>\n      <td>1</td>\n      <td>True</td>\n      <td>True</td>\n      <td>False</td>\n      <td>False</td>\n      <td>0.999358</td>\n      <td>1.893308</td>\n    </tr>\n    <tr>\n      <th>13</th>\n      <td>hearty-sweep-43</td>\n      <td>5</td>\n      <td>False</td>\n      <td>31</td>\n      <td>1</td>\n      <td>True</td>\n      <td>True</td>\n      <td>False</td>\n      <td>False</td>\n      <td>0.999405</td>\n      <td>1.948391</td>\n    </tr>\n    <tr>\n      <th>14</th>\n      <td>glowing-sweep-42</td>\n      <td>5</td>\n      <td>False</td>\n      <td>31</td>\n      <td>1</td>\n      <td>True</td>\n      <td>True</td>\n      <td>False</td>\n      <td>False</td>\n      <td>0.999753</td>\n      <td>1.926710</td>\n    </tr>\n    <tr>\n      <th>15</th>\n      <td>hopeful-sweep-39</td>\n      <td>5</td>\n      <td>False</td>\n      <td>5</td>\n      <td>1</td>\n      <td>True</td>\n      <td>True</td>\n      <td>False</td>\n      <td>False</td>\n      <td>0.999358</td>\n      <td>1.893308</td>\n    </tr>\n    <tr>\n      <th>16</th>\n      <td>avid-sweep-40</td>\n      <td>5</td>\n      <td>False</td>\n      <td>5</td>\n      <td>1</td>\n      <td>True</td>\n      <td>True</td>\n      <td>False</td>\n      <td>False</td>\n      <td>0.999370</td>\n      <td>1.985157</td>\n    </tr>\n    <tr>\n      <th>17</th>\n      <td>glowing-sweep-41</td>\n      <td>5</td>\n      <td>False</td>\n      <td>31</td>\n      <td>1</td>\n      <td>True</td>\n      <td>True</td>\n      <td>False</td>\n      <td>False</td>\n      <td>0.999728</td>\n      <td>1.909443</td>\n    </tr>\n    <tr>\n      <th>18</th>\n      <td>clean-sweep-37</td>\n      <td>5</td>\n      <td>False</td>\n      <td>5</td>\n      <td>1</td>\n      <td>True</td>\n      <td>True</td>\n      <td>False</td>\n      <td>False</td>\n      <td>0.999753</td>\n      <td>1.926710</td>\n    </tr>\n    <tr>\n      <th>19</th>\n      <td>major-sweep-38</td>\n      <td>5</td>\n      <td>False</td>\n      <td>5</td>\n      <td>1</td>\n      <td>True</td>\n      <td>True</td>\n      <td>False</td>\n      <td>False</td>\n      <td>0.999405</td>\n      <td>1.948391</td>\n    </tr>\n    <tr>\n      <th>20</th>\n      <td>toasty-sweep-36</td>\n      <td>5</td>\n      <td>False</td>\n      <td>5</td>\n      <td>1</td>\n      <td>True</td>\n      <td>True</td>\n      <td>False</td>\n      <td>False</td>\n      <td>0.999728</td>\n      <td>1.909443</td>\n    </tr>\n    <tr>\n      <th>21</th>\n      <td>daily-sweep-34</td>\n      <td>5</td>\n      <td>False</td>\n      <td>0</td>\n      <td>1</td>\n      <td>True</td>\n      <td>True</td>\n      <td>False</td>\n      <td>False</td>\n      <td>0.999358</td>\n      <td>1.893308</td>\n    </tr>\n    <tr>\n      <th>22</th>\n      <td>earnest-sweep-35</td>\n      <td>5</td>\n      <td>False</td>\n      <td>0</td>\n      <td>1</td>\n      <td>True</td>\n      <td>True</td>\n      <td>False</td>\n      <td>False</td>\n      <td>0.999370</td>\n      <td>1.985157</td>\n    </tr>\n    <tr>\n      <th>23</th>\n      <td>dashing-sweep-32</td>\n      <td>5</td>\n      <td>False</td>\n      <td>0</td>\n      <td>1</td>\n      <td>True</td>\n      <td>True</td>\n      <td>False</td>\n      <td>False</td>\n      <td>0.999753</td>\n      <td>1.926710</td>\n    </tr>\n    <tr>\n      <th>24</th>\n      <td>blooming-sweep-28</td>\n      <td>5</td>\n      <td>False</td>\n      <td>119</td>\n      <td>1</td>\n      <td>True</td>\n      <td>False</td>\n      <td>False</td>\n      <td>False</td>\n      <td>0.999952</td>\n      <td>1.933466</td>\n    </tr>\n    <tr>\n      <th>25</th>\n      <td>fearless-sweep-30</td>\n      <td>5</td>\n      <td>False</td>\n      <td>119</td>\n      <td>1</td>\n      <td>True</td>\n      <td>False</td>\n      <td>False</td>\n      <td>False</td>\n      <td>0.999538</td>\n      <td>1.968914</td>\n    </tr>\n    <tr>\n      <th>26</th>\n      <td>classic-sweep-31</td>\n      <td>5</td>\n      <td>False</td>\n      <td>0</td>\n      <td>1</td>\n      <td>True</td>\n      <td>True</td>\n      <td>False</td>\n      <td>False</td>\n      <td>0.999728</td>\n      <td>1.909443</td>\n    </tr>\n    <tr>\n      <th>27</th>\n      <td>neat-sweep-27</td>\n      <td>5</td>\n      <td>False</td>\n      <td>119</td>\n      <td>1</td>\n      <td>True</td>\n      <td>False</td>\n      <td>False</td>\n      <td>False</td>\n      <td>0.999886</td>\n      <td>1.918326</td>\n    </tr>\n    <tr>\n      <th>28</th>\n      <td>avid-sweep-29</td>\n      <td>5</td>\n      <td>False</td>\n      <td>119</td>\n      <td>1</td>\n      <td>True</td>\n      <td>False</td>\n      <td>False</td>\n      <td>False</td>\n      <td>0.999746</td>\n      <td>1.881631</td>\n    </tr>\n    <tr>\n      <th>29</th>\n      <td>ethereal-sweep-33</td>\n      <td>5</td>\n      <td>False</td>\n      <td>0</td>\n      <td>1</td>\n      <td>True</td>\n      <td>True</td>\n      <td>False</td>\n      <td>False</td>\n      <td>0.999405</td>\n      <td>1.948391</td>\n    </tr>\n    <tr>\n      <th>30</th>\n      <td>legendary-sweep-21</td>\n      <td>5</td>\n      <td>False</td>\n      <td>97</td>\n      <td>1</td>\n      <td>True</td>\n      <td>False</td>\n      <td>False</td>\n      <td>False</td>\n      <td>0.999831</td>\n      <td>1.903371</td>\n    </tr>\n    <tr>\n      <th>31</th>\n      <td>valiant-sweep-24</td>\n      <td>5</td>\n      <td>False</td>\n      <td>97</td>\n      <td>1</td>\n      <td>True</td>\n      <td>False</td>\n      <td>False</td>\n      <td>False</td>\n      <td>0.999746</td>\n      <td>1.881631</td>\n    </tr>\n    <tr>\n      <th>32</th>\n      <td>efficient-sweep-19</td>\n      <td>5</td>\n      <td>False</td>\n      <td>75</td>\n      <td>1</td>\n      <td>True</td>\n      <td>False</td>\n      <td>False</td>\n      <td>False</td>\n      <td>0.999746</td>\n      <td>1.881631</td>\n    </tr>\n    <tr>\n      <th>33</th>\n      <td>trim-sweep-26</td>\n      <td>5</td>\n      <td>False</td>\n      <td>119</td>\n      <td>1</td>\n      <td>True</td>\n      <td>False</td>\n      <td>False</td>\n      <td>False</td>\n      <td>0.999831</td>\n      <td>1.903371</td>\n    </tr>\n    <tr>\n      <th>34</th>\n      <td>dulcet-sweep-22</td>\n      <td>5</td>\n      <td>False</td>\n      <td>97</td>\n      <td>1</td>\n      <td>True</td>\n      <td>False</td>\n      <td>False</td>\n      <td>False</td>\n      <td>0.999886</td>\n      <td>1.918326</td>\n    </tr>\n    <tr>\n      <th>35</th>\n      <td>neat-sweep-20</td>\n      <td>5</td>\n      <td>False</td>\n      <td>75</td>\n      <td>1</td>\n      <td>True</td>\n      <td>False</td>\n      <td>False</td>\n      <td>False</td>\n      <td>0.999538</td>\n      <td>1.968914</td>\n    </tr>\n    <tr>\n      <th>36</th>\n      <td>likely-sweep-25</td>\n      <td>5</td>\n      <td>False</td>\n      <td>97</td>\n      <td>1</td>\n      <td>True</td>\n      <td>False</td>\n      <td>False</td>\n      <td>False</td>\n      <td>0.999538</td>\n      <td>1.968914</td>\n    </tr>\n    <tr>\n      <th>37</th>\n      <td>denim-sweep-23</td>\n      <td>5</td>\n      <td>False</td>\n      <td>97</td>\n      <td>1</td>\n      <td>True</td>\n      <td>False</td>\n      <td>False</td>\n      <td>False</td>\n      <td>0.999952</td>\n      <td>1.933466</td>\n    </tr>\n    <tr>\n      <th>38</th>\n      <td>tough-sweep-16</td>\n      <td>5</td>\n      <td>False</td>\n      <td>75</td>\n      <td>1</td>\n      <td>True</td>\n      <td>False</td>\n      <td>False</td>\n      <td>False</td>\n      <td>0.999831</td>\n      <td>1.903371</td>\n    </tr>\n    <tr>\n      <th>39</th>\n      <td>glorious-sweep-17</td>\n      <td>5</td>\n      <td>False</td>\n      <td>75</td>\n      <td>1</td>\n      <td>True</td>\n      <td>False</td>\n      <td>False</td>\n      <td>False</td>\n      <td>0.999886</td>\n      <td>1.918326</td>\n    </tr>\n    <tr>\n      <th>40</th>\n      <td>different-sweep-18</td>\n      <td>5</td>\n      <td>False</td>\n      <td>75</td>\n      <td>1</td>\n      <td>True</td>\n      <td>False</td>\n      <td>False</td>\n      <td>False</td>\n      <td>0.999952</td>\n      <td>1.933466</td>\n    </tr>\n    <tr>\n      <th>41</th>\n      <td>expert-sweep-13</td>\n      <td>5</td>\n      <td>False</td>\n      <td>31</td>\n      <td>1</td>\n      <td>True</td>\n      <td>False</td>\n      <td>False</td>\n      <td>False</td>\n      <td>0.999952</td>\n      <td>1.933466</td>\n    </tr>\n    <tr>\n      <th>42</th>\n      <td>eternal-sweep-12</td>\n      <td>5</td>\n      <td>False</td>\n      <td>31</td>\n      <td>1</td>\n      <td>True</td>\n      <td>False</td>\n      <td>False</td>\n      <td>False</td>\n      <td>0.999886</td>\n      <td>1.918326</td>\n    </tr>\n    <tr>\n      <th>43</th>\n      <td>lucky-sweep-15</td>\n      <td>5</td>\n      <td>False</td>\n      <td>31</td>\n      <td>1</td>\n      <td>True</td>\n      <td>False</td>\n      <td>False</td>\n      <td>False</td>\n      <td>0.999538</td>\n      <td>1.968914</td>\n    </tr>\n    <tr>\n      <th>44</th>\n      <td>genial-sweep-14</td>\n      <td>5</td>\n      <td>False</td>\n      <td>31</td>\n      <td>1</td>\n      <td>True</td>\n      <td>False</td>\n      <td>False</td>\n      <td>False</td>\n      <td>0.999746</td>\n      <td>1.881631</td>\n    </tr>\n    <tr>\n      <th>45</th>\n      <td>gentle-sweep-9</td>\n      <td>5</td>\n      <td>False</td>\n      <td>5</td>\n      <td>1</td>\n      <td>True</td>\n      <td>False</td>\n      <td>False</td>\n      <td>False</td>\n      <td>0.999746</td>\n      <td>1.881631</td>\n    </tr>\n    <tr>\n      <th>46</th>\n      <td>warm-sweep-7</td>\n      <td>5</td>\n      <td>False</td>\n      <td>5</td>\n      <td>1</td>\n      <td>True</td>\n      <td>False</td>\n      <td>False</td>\n      <td>False</td>\n      <td>0.999886</td>\n      <td>1.918326</td>\n    </tr>\n    <tr>\n      <th>47</th>\n      <td>laced-sweep-8</td>\n      <td>5</td>\n      <td>False</td>\n      <td>5</td>\n      <td>1</td>\n      <td>True</td>\n      <td>False</td>\n      <td>False</td>\n      <td>False</td>\n      <td>0.999952</td>\n      <td>1.933466</td>\n    </tr>\n    <tr>\n      <th>48</th>\n      <td>ruby-sweep-6</td>\n      <td>5</td>\n      <td>False</td>\n      <td>5</td>\n      <td>1</td>\n      <td>True</td>\n      <td>False</td>\n      <td>False</td>\n      <td>False</td>\n      <td>0.999831</td>\n      <td>1.903371</td>\n    </tr>\n    <tr>\n      <th>49</th>\n      <td>celestial-sweep-5</td>\n      <td>5</td>\n      <td>False</td>\n      <td>0</td>\n      <td>1</td>\n      <td>True</td>\n      <td>False</td>\n      <td>False</td>\n      <td>False</td>\n      <td>0.999538</td>\n      <td>1.968914</td>\n    </tr>\n    <tr>\n      <th>50</th>\n      <td>spring-sweep-4</td>\n      <td>5</td>\n      <td>False</td>\n      <td>0</td>\n      <td>1</td>\n      <td>True</td>\n      <td>False</td>\n      <td>False</td>\n      <td>False</td>\n      <td>0.999746</td>\n      <td>1.881631</td>\n    </tr>\n    <tr>\n      <th>51</th>\n      <td>royal-sweep-2</td>\n      <td>5</td>\n      <td>False</td>\n      <td>0</td>\n      <td>1</td>\n      <td>True</td>\n      <td>False</td>\n      <td>False</td>\n      <td>False</td>\n      <td>0.999886</td>\n      <td>1.918326</td>\n    </tr>\n    <tr>\n      <th>52</th>\n      <td>flowing-sweep-1</td>\n      <td>5</td>\n      <td>False</td>\n      <td>0</td>\n      <td>1</td>\n      <td>True</td>\n      <td>False</td>\n      <td>False</td>\n      <td>False</td>\n      <td>0.999831</td>\n      <td>1.903371</td>\n    </tr>\n  </tbody>\n</table>\n</div>"
     },
     "execution_count": 34,
     "metadata": {},
     "output_type": "execute_result"
    }
   ],
   "source": [
    "df5d_munkres"
   ],
   "metadata": {
    "collapsed": false
   }
  },
  {
   "cell_type": "markdown",
   "source": [
    "## 8D SEM"
   ],
   "metadata": {
    "collapsed": false
   }
  },
  {
   "cell_type": "code",
   "execution_count": 14,
   "outputs": [
    {
     "name": "stdout",
     "output_type": "stream",
     "text": [
      "Encountered a faulty run with ID apricot-sweep-49\n"
     ]
    }
   ],
   "source": [
    "SWEEP_ID = \"7sscc3w1\"\n",
    "sweep = api.sweep(f\"{ENTITY}/{PROJECT}/{SWEEP_ID}\")\n",
    "filename = f\"sem_8d_sweep_{SWEEP_ID}\"\n",
    "df8d, (true_unmix_jacobians8d, est_unmix_jacobians8d, permute_indices8d,hsic_adj8d) = sweep2df(sweep.runs, filename, save=True, load=True)"
   ],
   "metadata": {
    "collapsed": false
   }
  },
  {
   "cell_type": "code",
   "execution_count": null,
   "outputs": [],
   "source": [
    "SWEEP_ID = \"633i812f\"\n",
    "sweep = api.sweep(f\"{ENTITY}/{PROJECT}/{SWEEP_ID}\")\n",
    "filename = f\"sem_8d_sparse_sweep_{SWEEP_ID}\"\n",
    "df8d_sparse, (true_unmix_jacobians8d_sparse, est_unmix_jacobians8d_sparse, permute_indices8d_sparse,hsic_adj8d_sparse) = sweep2df(sweep.runs, filename, save=True, load=True)"
   ],
   "metadata": {
    "collapsed": false,
    "pycharm": {
     "is_executing": true
    }
   }
  },
  {
   "cell_type": "markdown",
   "source": [
    "## 10D SEM"
   ],
   "metadata": {
    "collapsed": false
   }
  },
  {
   "cell_type": "code",
   "execution_count": 15,
   "outputs": [],
   "source": [
    "SWEEP_ID = \"7lsb5ud3\"\n",
    "sweep = api.sweep(f\"{ENTITY}/{PROJECT}/{SWEEP_ID}\")\n",
    "filename = f\"sem_10d_sweep_{SWEEP_ID}\"\n",
    "df10d, (true_unmix_jacobians10d, est_unmix_jacobians10d, permute_indices10d,hsic_adj10d) = sweep2df(sweep.runs, filename, save=True, load=True)"
   ],
   "metadata": {
    "collapsed": false
   }
  },
  {
   "cell_type": "code",
   "execution_count": null,
   "outputs": [],
   "source": [
    "SWEEP_ID = \"mdaej8aj\"\n",
    "sweep = api.sweep(f\"{ENTITY}/{PROJECT}/{SWEEP_ID}\")\n",
    "filename = f\"sem_10d_sparse_sweep_{SWEEP_ID}\"\n",
    "df10d_sparse, (true_unmix_jacobians10d_sparse, est_unmix_jacobians10d_sparse, permute_indices10d_sparse,hsic_adj10d_sparse) = sweep2df(sweep.runs, filename, save=True, load=True)"
   ],
   "metadata": {
    "collapsed": false,
    "pycharm": {
     "is_executing": true
    }
   }
  },
  {
   "cell_type": "markdown",
   "source": [
    "## MLP from Monti et al."
   ],
   "metadata": {
    "collapsed": false
   }
  },
  {
   "cell_type": "code",
   "execution_count": 16,
   "outputs": [],
   "source": [
    "SWEEP_ID = \"77huh2ue\"#\"q99ne3vj\" #\"fhaza97x\"\n",
    "sweep = api.sweep(f\"{ENTITY}/{PROJECT}/{SWEEP_ID}\")\n",
    "filename = f\"monti_sweep_{SWEEP_ID}\"\n",
    "df_monti, (true_unmix_jacobians_monti, est_unmix_jacobians_monti, permute_indices_monti,hsic_adj_monti) = sweep2df(sweep.runs, filename, save=True, load=True)"
   ],
   "metadata": {
    "collapsed": false
   }
  },
  {
   "cell_type": "markdown",
   "source": [
    "## Monti variants"
   ],
   "metadata": {
    "collapsed": false
   }
  },
  {
   "cell_type": "code",
   "execution_count": null,
   "outputs": [],
   "source": [
    "SWEEP_ID = \"okewq6t1\"#\"70zssxmx\"\n",
    "sweep = api.sweep(f\"{ENTITY}/{PROJECT}/{SWEEP_ID}\")\n",
    "filename = f\"monti_sparse_sweep_{SWEEP_ID}\"\n",
    "df_monti_variant, (true_unmix_jacobians_monti_variant, est_unmix_jacobians_monti_variant, permute_indices_monti_variant, hsic_adj_monti_variant) = sweep2df(sweep.runs, filename, save=True, load=True)"
   ],
   "metadata": {
    "collapsed": false,
    "pycharm": {
     "is_executing": true
    }
   }
  },
  {
   "cell_type": "markdown",
   "source": [
    "# Pre-processing\n"
   ],
   "metadata": {
    "collapsed": false
   }
  },
  {
   "cell_type": "markdown",
   "source": [
    "## Corrected stats"
   ],
   "metadata": {
    "collapsed": false
   }
  },
  {
   "cell_type": "markdown",
   "source": [
    "### 3D SEM"
   ],
   "metadata": {
    "collapsed": false
   }
  },
  {
   "cell_type": "code",
   "execution_count": 313,
   "outputs": [
    {
     "name": "stdout",
     "output_type": "stream",
     "text": [
      "----------------------------------\n",
      "dim=3 (nonlin_sem=False)\tMCC=1.000+0.000\t  Acc:1.000+0.000\tSHD:0.000000+0.000000\t[27 items]\n",
      "----------------------------------\n",
      "dim=3 (nonlin_sem=True)\tMCC=1.000+0.000\t  Acc:1.000+0.000\tSHD:0.000000+0.000000\t[13 items]\n"
     ]
    }
   ],
   "source": [
    "stats3d=corrected_jacobian_stats(df3d, true_unmix_jacobians3d, est_unmix_jacobians3d, permute_indices3d)"
   ],
   "metadata": {
    "collapsed": false
   }
  },
  {
   "cell_type": "markdown",
   "source": [
    "### 5D SEM"
   ],
   "metadata": {
    "collapsed": false
   }
  },
  {
   "cell_type": "code",
   "execution_count": 38,
   "outputs": [
    {
     "name": "stdout",
     "output_type": "stream",
     "text": [
      "----------------------------------\n",
      "dim=5 (nonlin_sem=True)\tMCC=0.955+0.079\t  Acc:0.960+0.097\tAcc (HSIC):-1.000+0.000\tSHD:0.040000+0.096549\t[23 items]\n",
      "----------------------------------\n",
      "dim=5 (nonlin_sem=False)\tMCC=0.998+0.000\t  Acc:0.903+0.163\tAcc (HSIC):-1.000+0.000\tSHD:0.097143+0.162631\t[7 items]\n"
     ]
    }
   ],
   "source": [
    "stats5d=corrected_jacobian_stats(df5d, true_unmix_jacobians5d, est_unmix_jacobians5d, permute_indices5d, hsic_adj5d)"
   ],
   "metadata": {
    "collapsed": false
   }
  },
  {
   "cell_type": "code",
   "execution_count": 44,
   "outputs": [
    {
     "name": "stdout",
     "output_type": "stream",
     "text": [
      "----------------------------------\n",
      "dim=5 (nonlin_sem=True)\tMCC=0.960+0.080\t  Acc:0.578+0.103\tAcc (HSIC):0.489+0.108\tSHD:0.422222+0.103471\t[9 items]\n",
      "----------------------------------\n",
      "dim=5 (nonlin_sem=False)\tMCC=1.000+0.000\t  Acc:0.662+0.080\tAcc (HSIC):0.464+0.113\tSHD:0.342222+0.080247\t[18 items]\n"
     ]
    }
   ],
   "source": [
    "stats5d_no_roll=corrected_jacobian_stats(df5d_no_roll, true_unmix_jacobians5d_no_roll, est_unmix_jacobians5d_no_roll, permute_indices5d_no_roll, hsic_adj5d_no_roll)"
   ],
   "metadata": {
    "collapsed": false
   }
  },
  {
   "cell_type": "code",
   "execution_count": 37,
   "outputs": [
    {
     "name": "stdout",
     "output_type": "stream",
     "text": [
      "----------------------------------\n",
      "dim=5 (nonlin_sem=True)\tMCC=0.955+0.079\t  Acc:0.642+0.108\tAcc (HSIC):0.485+0.115\tSHD:0.358261+0.108414\t[23 items]\n",
      "----------------------------------\n",
      "dim=5 (nonlin_sem=False)\tMCC=0.998+0.000\t  Acc:0.634+0.112\tAcc (HSIC):0.457+0.088\tSHD:0.371429+0.118494\t[7 items]\n"
     ]
    }
   ],
   "source": [
    "stats5d_hsic=corrected_jacobian_stats(df5d_hsic, true_unmix_jacobians5d_hsic, est_unmix_jacobians5d_hsic, permute_indices5d_hsic, hsic_adj5d_hsic)"
   ],
   "metadata": {
    "collapsed": false
   }
  },
  {
   "cell_type": "code",
   "execution_count": 26,
   "outputs": [
    {
     "name": "stdout",
     "output_type": "stream",
     "text": [
      "tensor([[-1.6150e-02,  1.0388e+00, -6.3819e-03,  5.4024e-03, -7.6072e-03],\n",
      "        [ 7.5144e-03, -1.3542e+00, -1.1121e-03, -1.8380e-03,  6.7913e-01],\n",
      "        [-3.4677e-03,  9.9133e-01,  7.1144e-01, -2.3316e-03, -1.0256e+00],\n",
      "        [ 7.5269e-03, -1.9330e+00, -2.0251e+00,  7.4243e-01,  1.4940e+00],\n",
      "        [ 8.2459e-01,  2.1102e+00,  2.9823e+00, -2.2928e+00, -1.7808e+00]])\n",
      "tensor([[-0.0124,  1.0453, -0.0110, -0.0050, -0.0043],\n",
      "        [ 0.0084, -1.8440,  0.6971,  0.0035,  0.0053],\n",
      "        [-0.0049,  1.3617, -1.3264,  0.8524, -0.0097],\n",
      "        [ 0.0182, -2.5399,  1.2342, -1.6641,  0.8078],\n",
      "        [ 0.7508,  3.0704, -0.8249,  1.1697, -1.2891]])\n",
      "tensor([[ 0.0059, -0.0047, -0.0209, -0.0092,  1.0191],\n",
      "        [ 0.7049,  0.0026,  0.0342,  0.0166, -2.3081],\n",
      "        [-1.1020,  0.9976, -0.0290, -0.0191,  1.3993],\n",
      "        [ 1.0986, -1.8499,  0.0235,  0.7205, -1.3906],\n",
      "        [-1.6275,  1.1697,  0.7547, -0.9567,  2.0903]])\n",
      "tensor([[-8.3430e-03,  1.0947e+00, -2.0931e-02, -4.9643e-03, -1.2319e-02],\n",
      "        [ 7.8804e-03, -2.1111e+00,  3.1051e-02, -2.2772e-03,  7.1701e-01],\n",
      "        [-9.0576e-03,  2.2447e-01, -5.0792e-03,  7.1656e-01, -7.1292e-01],\n",
      "        [ 7.0755e-01, -2.1288e-01, -1.1305e-03, -1.3924e+00,  6.8203e-01],\n",
      "        [-1.1302e+00, -3.0779e-01,  7.1618e-01,  1.1324e+00, -5.5829e-01]])\n",
      "tensor([[ 1.0604e+00, -1.2213e-02,  3.3128e-03,  8.3423e-04, -2.0316e-02],\n",
      "        [-1.9435e+00,  1.4732e-02,  6.9116e-01, -2.6734e-03,  2.3566e-02],\n",
      "        [ 1.9951e+00, -1.6346e-02, -1.8520e+00,  2.4897e-03,  8.0491e-01],\n",
      "        [-3.0502e+00,  2.2413e-02,  1.5405e+00,  7.2421e-01, -1.2184e+00],\n",
      "        [ 2.7638e+00,  7.0378e-01, -1.2655e+00, -1.2880e+00,  1.0022e+00]])\n",
      "tensor([[ 1.0419e+00, -5.9004e-03, -9.4707e-03, -2.8395e-03, -9.2738e-03],\n",
      "        [-1.3657e+00,  8.6473e-03,  1.6086e-03, -6.1343e-03,  6.8781e-01],\n",
      "        [ 1.0108e+00, -1.0009e-02, -2.7085e-03,  7.4252e-01, -1.0243e+00],\n",
      "        [-1.9684e+00,  7.6112e-01,  5.4209e-03, -2.1079e+00,  1.4747e+00],\n",
      "        [ 2.1435e+00, -2.3244e+00,  8.3401e-01,  3.1174e+00, -1.7413e+00]])\n",
      "tensor([[ 1.0944e+00, -1.3813e-02, -2.1112e-02, -1.0379e-02, -7.0064e-03],\n",
      "        [-1.9630e+00,  1.0251e-02,  7.5033e-01,  1.2524e-02,  8.1460e-03],\n",
      "        [ 1.4651e+00, -1.3387e-02, -1.3984e+00,  8.6263e-01, -1.4859e-03],\n",
      "        [-2.6644e+00,  3.2917e-02,  1.2949e+00, -1.6782e+00,  7.9741e-01],\n",
      "        [ 3.2020e+00,  7.4719e-01, -8.6273e-01,  1.1692e+00, -1.2980e+00]])\n",
      "tensor([[ 0.0026, -0.0144, -0.0110,  1.0336, -0.0048],\n",
      "        [ 0.7482,  0.0135,  0.0146, -2.3919,  0.0042],\n",
      "        [-1.1517, -0.0083,  1.0090,  1.4869, -0.0092],\n",
      "        [ 1.1269,  0.0103, -1.8609, -1.4496,  0.7045],\n",
      "        [-1.6703,  0.7580,  1.1646,  2.1664, -0.9223]])\n",
      "tensor([[-1.8649e+02,  6.2027e-01, -8.9290e+01,  1.3533e+02,  1.0983e+02],\n",
      "        [ 2.0549e+02,  1.1352e+00,  9.8373e+01, -1.4912e+02, -1.2306e+02],\n",
      "        [ 4.1581e+02, -2.9790e+00,  2.0162e+02, -3.0742e+02, -2.3507e+02],\n",
      "        [-6.7851e+02,  3.6732e+00, -3.3075e+02,  5.0466e+02,  3.8372e+02],\n",
      "        [ 6.2388e+02, -4.5137e+00,  3.0458e+02, -4.6258e+02, -3.5357e+02]])\n",
      "tensor([[-1.1958e-02, -9.8264e-04, -5.1464e-04, -9.8379e-03,  1.0464e+00],\n",
      "        [ 1.3988e-02,  6.7496e-01, -3.4373e-03,  5.9688e-03, -1.9130e+00],\n",
      "        [-1.3582e-02, -1.7786e+00,  7.1366e-03,  8.0159e-01,  1.9471e+00],\n",
      "        [ 1.8810e-02,  1.4867e+00,  7.1299e-01, -1.2204e+00, -2.9883e+00],\n",
      "        [ 7.1918e-01, -1.2437e+00, -1.2813e+00,  1.0207e+00,  2.7139e+00]])\n",
      "tensor([[-2.6924e-03,  1.0361e+00, -1.3400e-02, -1.0657e-02, -3.7921e-03],\n",
      "        [-4.7972e-03, -1.3282e+00,  6.8484e-01,  5.1482e-03,  8.4114e-04],\n",
      "        [ 7.5417e-01,  9.6493e-01, -1.0381e+00, -6.8749e-03, -9.3335e-04],\n",
      "        [-2.1467e+00, -1.8971e+00,  1.5281e+00,  1.1063e-02,  7.4754e-01],\n",
      "        [ 3.1493e+00,  2.0190e+00, -1.8123e+00,  8.4027e-01, -2.2803e+00]])\n",
      "tensor([[ 1.0922, -0.0067, -0.0212, -0.0070, -0.0108],\n",
      "        [-1.9412,  0.0065,  0.7240,  0.0115,  0.0091],\n",
      "        [ 1.4422,  0.8542, -1.3570, -0.0118, -0.0081],\n",
      "        [-2.6643, -1.6736,  1.2750,  0.8028,  0.0198],\n",
      "        [ 3.2318,  1.1850, -0.8791, -1.2726,  0.7267]])\n",
      "tensor([[-1.9019e-03,  1.0322e+00, -1.4128e-02,  9.1034e-04, -2.4784e-03],\n",
      "        [-2.0941e-03, -2.3305e+00,  1.9567e-02,  7.1847e-01, -4.0811e-04],\n",
      "        [ 1.0165e+00,  1.3947e+00, -2.2468e-02, -1.1028e+00, -6.8556e-03],\n",
      "        [-1.8599e+00, -1.3708e+00,  1.9241e-02,  1.0905e+00,  7.0963e-01],\n",
      "        [ 1.1770e+00,  2.0749e+00,  7.5426e-01, -1.6266e+00, -9.4842e-01]])\n",
      "tensor([[ 1.0603e+00, -1.1264e-02, -4.8849e-03, -2.3840e-03, -1.4657e-02],\n",
      "        [-2.0448e+00,  1.2676e-02,  7.6872e-03, -6.6100e-03,  7.0723e-01],\n",
      "        [ 2.3522e-01, -1.1051e-03,  6.9850e-01,  4.1049e-03, -7.0796e-01],\n",
      "        [-2.3419e-01,  1.1275e-03, -1.3782e+00,  6.8894e-01,  6.9122e-01],\n",
      "        [-2.9703e-01,  6.8953e-01,  1.1237e+00, -1.1256e+00, -5.5982e-01]])\n",
      "tensor([[ 1.0852e+00, -6.4007e-03,  1.4284e-03, -2.2567e-02, -1.8433e-02],\n",
      "        [-1.9785e+00,  6.8069e-03,  7.0028e-01,  1.8850e-02,  2.0565e-02],\n",
      "        [ 1.9748e+00, -1.1508e-02, -1.8438e+00,  8.4469e-01, -1.8258e-02],\n",
      "        [-3.0446e+00,  7.6262e-01,  1.5340e+00, -1.2769e+00,  3.1428e-02],\n",
      "        [ 2.7653e+00, -1.3301e+00, -1.2761e+00,  1.0617e+00,  7.0007e-01]])\n",
      "tensor([[-1.0866e-02, -5.2174e-03, -9.5423e-03, -3.3223e-04,  1.0482e+00],\n",
      "        [ 7.0482e-01, -2.2900e-03,  3.3716e-03, -3.7976e-04, -1.3524e+00],\n",
      "        [-1.0648e+00,  7.5080e-01, -7.3340e-03, -2.5761e-03,  9.9150e-01],\n",
      "        [ 1.5439e+00, -2.1210e+00,  1.4491e-02,  7.3554e-01, -1.9359e+00],\n",
      "        [-1.8207e+00,  3.1096e+00,  8.0928e-01, -2.2604e+00,  2.0817e+00]])\n",
      "tensor([[-6.0585e-04, -1.3929e-02, -4.2370e-03,  1.0563e+00, -1.2298e-02],\n",
      "        [-6.8362e-03,  1.5567e-02,  5.8387e-03, -1.8806e+00,  7.2793e-01],\n",
      "        [ 8.7109e-01, -1.2266e-02, -1.1576e-02,  1.4092e+00, -1.3846e+00],\n",
      "        [-1.6880e+00,  2.6615e-02,  8.0012e-01, -2.5905e+00,  1.2827e+00],\n",
      "        [ 1.1948e+00,  7.0714e-01, -1.2700e+00,  3.1282e+00, -8.6143e-01]])\n",
      "tensor([[-4.4796e-03,  1.0276e+00, -2.9929e-03,  3.2057e-03, -1.2302e-02],\n",
      "        [-5.7650e-04, -2.3350e+00,  3.1041e-03,  7.0891e-01,  1.2959e-02],\n",
      "        [ 9.9125e-01,  1.4260e+00, -8.2674e-03, -1.1021e+00, -1.2060e-02],\n",
      "        [-1.8137e+00, -1.4272e+00,  7.0847e-01,  1.1021e+00, -5.1320e-03],\n",
      "        [ 1.1481e+00,  2.1370e+00, -9.5008e-01, -1.6306e+00,  7.8909e-01]])\n",
      "tensor([[-1.0600e-02, -1.4672e-02, -6.8058e-03,  1.0573e+00, -5.6961e-03],\n",
      "        [ 1.0764e-02,  7.0559e-01,  1.0288e-02, -2.0346e+00, -1.3962e-03],\n",
      "        [-4.9129e-03, -7.0037e-01,  7.0623e-01,  2.2853e-01, -1.9771e-03],\n",
      "        [ 6.2569e-03,  6.8352e-01, -1.3846e+00, -2.2706e-01,  6.8383e-01],\n",
      "        [ 7.1454e-01, -5.5818e-01,  1.1284e+00, -3.0421e-01, -1.1139e+00]])\n",
      "tensor([[-1.5461e-03, -1.8932e-02, -8.2368e-03,  1.0612e+00, -1.3190e-02],\n",
      "        [ 1.7242e-03,  1.5450e-02,  7.2912e-01, -1.9467e+00,  1.0809e-02],\n",
      "        [-1.2320e-03,  8.1688e-01, -1.8895e+00,  1.9847e+00, -9.5509e-03],\n",
      "        [ 7.3353e-01, -1.2291e+00,  1.5538e+00, -3.0228e+00,  1.2261e-02],\n",
      "        [-1.3065e+00,  1.0186e+00, -1.2790e+00,  2.7448e+00,  7.2813e-01]])\n",
      "tensor([[-2.4782e-03, -8.4230e-03,  1.0481e+00, -1.5123e-02, -4.4991e-03],\n",
      "        [-1.3174e-02,  7.2197e-01, -1.3621e+00,  6.6364e-03,  7.5547e-03],\n",
      "        [ 7.5805e-01, -1.0949e+00,  1.0054e+00, -7.4067e-03, -8.6812e-03],\n",
      "        [-2.1451e+00,  1.5985e+00, -1.9833e+00,  1.4499e-02,  7.7177e-01],\n",
      "        [ 3.1657e+00, -1.8988e+00,  2.1689e+00,  8.3101e-01, -2.3472e+00]])\n",
      "tensor([[ 1.0618e+00, -2.6871e-03, -7.3420e-03, -6.7565e-03, -1.6883e-02],\n",
      "        [-1.8744e+00,  4.6780e-03,  6.8606e-03,  6.9404e-01,  1.6320e-02],\n",
      "        [ 1.4033e+00, -7.3662e-03,  8.7148e-01, -1.3501e+00, -1.6240e-02],\n",
      "        [-2.6105e+00,  7.9343e-01, -1.6990e+00,  1.2650e+00,  3.9953e-02],\n",
      "        [ 3.1425e+00, -1.2716e+00,  1.2013e+00, -8.4468e-01,  7.4387e-01]])\n",
      "tensor([[-5.1154e-03,  4.1664e-04,  1.0358e+00, -1.0761e-02, -1.0689e-02],\n",
      "        [ 8.3134e-03,  7.2477e-01, -2.3522e+00,  1.3080e-02,  1.2966e-02],\n",
      "        [-1.4320e-02, -1.1347e+00,  1.4540e+00,  9.8293e-01, -1.1186e-02],\n",
      "        [ 6.9981e-01,  1.1337e+00, -1.4425e+00, -1.8195e+00,  9.5270e-03],\n",
      "        [-9.2388e-01, -1.6502e+00,  2.1213e+00,  1.1500e+00,  7.4851e-01]])\n",
      "tensor([[-9.8929e-03, -4.3628e-03, -1.0502e-02,  1.0685e+00, -1.3083e-02],\n",
      "        [ 1.5637e-02,  3.4535e-03,  6.9247e-01, -2.0666e+00,  1.3466e-02],\n",
      "        [ 7.1260e-01, -4.3363e-03, -6.9940e-01,  2.4483e-01, -1.4326e-03],\n",
      "        [-1.3824e+00,  6.8888e-01,  6.8005e-01, -2.6082e-01, -4.3007e-03],\n",
      "        [ 1.1171e+00, -1.1136e+00, -5.6115e-01, -2.5431e-01,  7.1503e-01]])\n",
      "tensor([[-1.8577e-03, -2.0249e-02,  1.0760e+00, -2.6616e-02, -8.3613e-04],\n",
      "        [ 5.3942e-05,  1.9646e-02, -1.9701e+00,  3.2837e-02,  7.1332e-01],\n",
      "        [ 2.1819e-03, -2.2577e-02,  1.9726e+00,  7.9887e-01, -1.8605e+00],\n",
      "        [ 7.3212e-01,  4.9687e-02, -3.0175e+00, -1.2079e+00,  1.5294e+00],\n",
      "        [-1.2952e+00,  7.0278e-01,  2.7371e+00,  9.8816e-01, -1.2607e+00]])\n",
      "tensor([[ 2.8300e-03, -1.1544e-02, -1.9782e-02,  1.0522e+00, -1.3642e-02],\n",
      "        [ 3.4628e-04, -5.9950e-03,  7.3651e-01, -1.3852e+00,  3.2836e-03],\n",
      "        [-3.8360e-03,  7.6720e-01, -1.1141e+00,  1.0319e+00, -5.5187e-03],\n",
      "        [ 7.4734e-01, -2.1598e+00,  1.6439e+00, -2.0025e+00,  1.5418e-02],\n",
      "        [-2.3097e+00,  3.1903e+00, -1.9842e+00,  2.1831e+00,  8.3181e-01]])\n",
      "tensor([[-1.4525e-02, -5.7917e-03,  1.0498e+00, -1.2016e-02, -3.5285e-03],\n",
      "        [ 2.1884e-02,  7.4470e-01, -2.4019e+00,  1.6554e-02,  7.7361e-04],\n",
      "        [-1.7249e-02, -1.1486e+00,  1.5045e+00,  9.7276e-01, -3.2793e-03],\n",
      "        [ 1.6019e-02,  1.1464e+00, -1.4935e+00, -1.7917e+00,  6.6773e-01],\n",
      "        [ 7.3882e-01, -1.6673e+00,  2.1964e+00,  1.1222e+00, -8.8694e-01]])\n",
      "tensor([[ 1.0788e+00, -1.4508e-02, -4.0245e-03, -1.6005e-02, -7.5868e-03],\n",
      "        [-2.0825e+00,  7.0154e-01,  3.2024e-03,  2.1686e-02,  7.4184e-03],\n",
      "        [ 2.3759e-01, -7.0217e-01, -3.6960e-03, -5.9692e-03,  7.1050e-01],\n",
      "        [-2.2957e-01,  6.7562e-01,  7.0835e-01, -1.2031e-03, -1.3842e+00],\n",
      "        [-3.1599e-01, -5.4078e-01, -1.1611e+00,  7.1748e-01,  1.1332e+00]])\n",
      "tensor([[-1.4913e-02,  1.0728e+00, -1.6666e-03, -2.2524e-03, -1.2303e-02],\n",
      "        [ 7.0789e-01, -1.9080e+00, -9.2906e-04,  1.1226e-03,  1.0759e-02],\n",
      "        [-1.3285e+00,  1.4080e+00,  8.6221e-01,  1.2437e-03, -9.7085e-03],\n",
      "        [ 1.2287e+00, -2.6002e+00, -1.6893e+00,  7.8203e-01,  2.2560e-02],\n",
      "        [-8.4073e-01,  3.1674e+00,  1.2097e+00, -1.2597e+00,  7.4075e-01]])\n",
      "tensor([[-5.7640e-03,  1.0615e+00, -1.0108e-02, -1.2578e-02, -3.6727e-03],\n",
      "        [ 8.8367e-03, -1.9302e+00,  2.3679e-03,  9.6456e-03,  7.0352e-01],\n",
      "        [-1.8484e-02,  1.9249e+00,  8.2627e-01, -2.3655e-03, -1.8381e+00],\n",
      "        [ 7.6281e-01, -2.9837e+00, -1.2535e+00,  1.0067e-02,  1.5415e+00],\n",
      "        [-1.3272e+00,  2.7226e+00,  1.0409e+00,  7.1227e-01, -1.2872e+00]])\n",
      "----------------------------------\n",
      "dim=5 (nonlin_sem=True)\tMCC=0.992+0.036\t  Acc:0.688+0.127\tAcc (HSIC):0.536+0.095\tSHD:0.357333+0.119078\t[30 items]\n",
      "tensor([[ 1.0344e+00,  2.8736e-03, -5.6444e-03, -4.1718e-03, -1.3202e-02],\n",
      "        [-1.6460e+00, -1.2333e-02,  1.0620e+00,  6.0081e-03,  8.2973e-03],\n",
      "        [ 1.2430e+00,  1.0455e+00, -1.5748e+00, -5.6428e-03, -6.0756e-03],\n",
      "        [-2.3763e+00, -2.9588e+00,  2.2425e+00,  1.0407e+00,  2.0677e-02],\n",
      "        [ 2.9491e+00,  4.2546e+00, -2.6188e+00, -2.9708e+00,  1.0045e+00]])\n",
      "tensor([[-1.4316e-03,  1.0683e+00, -1.4578e-02, -8.9685e-03, -2.1534e-03],\n",
      "        [-5.2359e-03, -2.3075e+00,  1.0637e+00,  1.0799e-02, -8.6033e-04],\n",
      "        [ 1.0095e-02,  1.9919e+00, -1.8182e+00, -1.1295e-02,  1.0314e+00],\n",
      "        [ 1.0060e+00, -3.3671e+00,  1.6654e+00,  2.7847e-02, -2.0870e+00],\n",
      "        [-1.6366e+00,  3.9899e+00, -1.2070e+00,  9.9029e-01,  1.4795e+00]])\n",
      "tensor([[-8.9112e-03, -2.9417e-03, -8.2248e-04,  1.0081e+00, -1.7371e-03],\n",
      "        [ 1.4667e-02,  4.3508e-03,  1.0489e+00, -2.7368e+00,  1.8739e-03],\n",
      "        [-1.3770e-02, -6.1219e-03, -1.3904e+00,  1.8098e+00,  1.0552e+00],\n",
      "        [ 1.2068e-02,  1.0759e+00,  1.3398e+00, -1.7374e+00, -2.2615e+00],\n",
      "        [ 1.0110e+00, -1.3601e+00, -2.1301e+00,  2.7815e+00,  1.4158e+00]])\n",
      "tensor([[-1.4579e-02, -1.4861e-03, -1.1223e-02,  1.0519e+00, -2.7357e-03],\n",
      "        [ 2.0294e-02, -1.5693e-03,  1.0311e-02, -2.3457e+00,  1.0421e+00],\n",
      "        [-2.2077e-02,  2.6705e-03,  1.0357e+00,  2.8070e+00, -2.5005e+00],\n",
      "        [ 3.4830e-02,  1.0583e+00, -1.6804e+00, -3.9435e+00,  2.0469e+00],\n",
      "        [ 1.0234e+00, -1.8622e+00,  1.4750e+00,  3.4719e+00, -1.8053e+00]])\n",
      "tensor([[-5.5588e-03,  1.0452e+00, -2.5696e-03, -5.0099e-03, -1.3161e-02],\n",
      "        [ 1.0713e+00, -1.6552e+00, -2.6241e-04,  2.5892e-03,  4.2884e-03],\n",
      "        [-1.5945e+00,  1.2438e+00, -7.1056e-03,  1.0918e+00, -5.8661e-03],\n",
      "        [ 2.2864e+00, -2.4131e+00,  1.1041e+00, -3.1226e+00,  2.1349e-02],\n",
      "        [-2.6841e+00,  3.0437e+00, -3.1360e+00,  4.5153e+00,  1.0158e+00]])\n",
      "tensor([[-3.3463e-03,  1.0341e+00, -4.4998e-03, -1.0411e-02, -1.1953e-02],\n",
      "        [ 3.6234e-03, -2.4328e+00,  1.0395e+00,  2.1594e-02,  1.6332e-02],\n",
      "        [ 1.0218e+00,  2.8011e-01, -1.0707e+00, -4.3440e-03,  1.5211e-03],\n",
      "        [-2.0099e+00, -2.5075e-01,  1.0418e+00,  1.0373e+00, -7.6460e-03],\n",
      "        [ 1.6265e+00, -3.5557e-01, -8.4469e-01, -1.6704e+00,  1.0492e+00]])\n",
      "tensor([[-3.9156e-03, -1.0809e-02, -3.0375e-03,  1.0551e+00, -1.2276e-02],\n",
      "        [ 1.7825e-03,  1.0537e+00,  5.4070e-03, -2.2694e+00,  1.7635e-02],\n",
      "        [-1.4222e-03, -1.8198e+00,  1.0438e+00,  1.9579e+00, -1.8409e-02],\n",
      "        [ 1.0396e+00,  1.6723e+00, -2.1231e+00, -3.3344e+00,  3.6786e-02],\n",
      "        [-1.6947e+00, -1.1885e+00,  1.5087e+00,  3.9588e+00,  9.7428e-01]])\n",
      "tensor([[ 1.0188e+00, -9.4127e-03, -1.4937e-03, -4.1673e-03,  4.2856e-05],\n",
      "        [-2.7762e+00,  1.8144e-02,  5.0247e-04,  1.8049e-03,  1.0590e+00],\n",
      "        [ 1.8498e+00, -1.6509e-02,  1.0524e+00,  3.4729e-03, -1.4159e+00],\n",
      "        [-1.7731e+00,  2.1387e-02, -2.2584e+00,  1.0352e+00,  1.3689e+00],\n",
      "        [ 2.8247e+00,  9.9699e-01,  1.4241e+00, -1.3083e+00, -2.1604e+00]])\n",
      "tensor([[-1.3057e-02,  1.0468e+00, -1.2813e-02, -4.0108e-03, -5.8238e-03],\n",
      "        [ 1.6620e-02, -2.3256e+00,  1.3691e-02,  3.1862e-03,  1.0579e+00],\n",
      "        [ 1.0124e+00,  2.7635e+00, -1.5010e-02, -2.1477e-03, -2.5195e+00],\n",
      "        [-1.6412e+00, -3.8827e+00,  3.0986e-02,  1.0479e+00,  2.0484e+00],\n",
      "        [ 1.4389e+00,  3.4227e+00,  1.0277e+00, -1.8391e+00, -1.8039e+00]])\n",
      "tensor([[ 1.0256e+00, -3.7473e-03, -1.5064e-02, -9.4591e-03, -2.4350e-03],\n",
      "        [-1.6296e+00,  2.9538e-03,  9.3220e-03,  1.0828e+00, -5.6283e-03],\n",
      "        [ 1.2231e+00, -3.3941e-03, -9.7052e-03, -1.6066e+00,  1.0551e+00],\n",
      "        [-2.3328e+00,  1.0504e+00,  3.1439e-02,  2.2953e+00, -2.9958e+00],\n",
      "        [ 2.8808e+00, -2.9955e+00,  1.0112e+00, -2.6775e+00,  4.3169e+00]])\n",
      "tensor([[ 1.0514e+00,  2.5168e-04, -1.0815e-02, -9.1407e-03, -2.0230e-03],\n",
      "        [-2.2613e+00, -4.6801e-03,  1.5134e-02,  1.0410e+00,  1.4337e-03],\n",
      "        [ 1.9367e+00, -1.5790e-03, -2.2107e-02, -1.8012e+00,  1.0540e+00],\n",
      "        [-3.2853e+00,  1.0376e+00,  4.4605e-02,  1.6540e+00, -2.1324e+00],\n",
      "        [ 3.9134e+00, -1.6845e+00,  9.6740e-01, -1.1817e+00,  1.5164e+00]])\n",
      "tensor([[-1.1556e-02, -2.5699e-03,  1.0237e+00, -4.5226e-03, -4.2941e-03],\n",
      "        [ 1.0779e-02,  1.0749e+00, -2.8065e+00,  7.5208e-03,  7.5020e-03],\n",
      "        [-7.4936e-03, -1.4220e+00,  1.8702e+00, -8.9749e-03,  1.0520e+00],\n",
      "        [ 7.9054e-03,  1.3668e+00, -1.7896e+00,  1.0730e+00, -2.2581e+00],\n",
      "        [ 1.0279e+00, -2.1713e+00,  2.8676e+00, -1.3582e+00,  1.4146e+00]])\n",
      "tensor([[-9.5163e-03, -4.5154e-03, -1.0100e-02,  1.0403e+00, -5.1066e-03],\n",
      "        [ 1.2112e-02,  7.8722e-03,  1.0635e+00, -2.4465e+00,  8.2075e-03],\n",
      "        [-1.1872e-03,  1.0245e+00, -1.0864e+00,  2.8815e-01, -3.3067e-03],\n",
      "        [-2.7010e-03, -2.0246e+00,  1.0586e+00, -2.6481e-01,  1.0448e+00],\n",
      "        [ 1.0460e+00,  1.6404e+00, -8.5695e-01, -3.4814e-01, -1.6830e+00]])\n",
      "tensor([[-1.2105e-02, -3.7526e-03, -5.4426e-03,  1.0537e+00, -1.2091e-02],\n",
      "        [ 9.9921e-03,  1.0478e+00,  9.4423e-03, -2.3366e+00,  9.0634e-03],\n",
      "        [-4.0169e-03, -2.5042e+00, -1.3184e-02,  2.7747e+00,  1.0509e+00],\n",
      "        [ 2.0247e-02,  2.0371e+00,  1.0489e+00, -3.9186e+00, -1.6920e+00],\n",
      "        [ 1.0206e+00, -1.7857e+00, -1.8275e+00,  3.4497e+00,  1.4809e+00]])\n",
      "tensor([[-8.2650e-03, -2.6841e-03,  1.0771e+00, -1.7545e-02, -4.2741e-03],\n",
      "        [ 5.6766e-03,  3.2976e-03, -2.3239e+00,  1.0582e+00,  7.4177e-03],\n",
      "        [-7.8319e-03,  1.0544e+00,  2.0044e+00, -1.8127e+00, -1.2022e-02],\n",
      "        [ 2.7357e-02, -2.1430e+00, -3.4025e+00,  1.6778e+00,  1.0318e+00],\n",
      "        [ 9.7373e-01,  1.5287e+00,  4.0498e+00, -1.2121e+00, -1.6694e+00]])\n",
      "tensor([[-3.4640e-04, -3.3603e-03,  1.0350e+00, -1.9094e-02, -4.7960e-03],\n",
      "        [-1.1422e-02,  5.1241e-03, -1.6423e+00,  1.5881e-02,  1.0565e+00],\n",
      "        [ 1.0952e+00, -1.2655e-02,  1.2308e+00, -1.7112e-02, -1.5776e+00],\n",
      "        [-3.1179e+00,  1.1119e+00, -2.3702e+00,  4.3235e-02,  2.2674e+00],\n",
      "        [ 4.5012e+00, -3.1371e+00,  2.9540e+00,  9.9536e-01, -2.6585e+00]])\n",
      "tensor([[-9.7334e-03, -7.1568e-03, -4.5105e-03,  1.0219e+00, -1.8735e-03],\n",
      "        [ 1.1950e-02,  9.9753e-03,  1.0822e+00, -2.8062e+00, -2.1938e-03],\n",
      "        [-8.1246e-03, -2.4527e-03, -1.4326e+00,  1.8748e+00,  1.0643e+00],\n",
      "        [ 5.7599e-03,  1.0338e+00,  1.3975e+00, -1.8238e+00, -2.2741e+00],\n",
      "        [ 1.0354e+00, -1.3132e+00, -2.2119e+00,  2.9153e+00,  1.4379e+00]])\n",
      "tensor([[-2.7364e-03,  1.0556e+00, -1.4087e-02, -1.4387e-02, -4.2470e-03],\n",
      "        [-7.4208e-05, -2.3460e+00,  2.0089e-02,  2.0494e-02,  1.0494e+00],\n",
      "        [ 5.3289e-03,  2.7934e+00,  1.0166e+00, -2.5393e-02, -2.5093e+00],\n",
      "        [ 1.0454e+00, -3.9324e+00, -1.6590e+00,  3.5674e-02,  2.0441e+00],\n",
      "        [-1.8361e+00,  3.4563e+00,  1.4590e+00,  1.0207e+00, -1.7896e+00]])\n",
      "tensor([[-2.8416e-03, -4.1909e-03, -5.5960e-03, -1.3866e-02,  1.0262e+00],\n",
      "        [ 5.8774e-04,  1.0694e+00,  4.4140e-03,  4.8197e-03, -1.6275e+00],\n",
      "        [-4.6262e-03, -1.5870e+00,  1.0659e+00, -7.1394e-03,  1.2228e+00],\n",
      "        [ 1.0794e+00,  2.2543e+00, -3.0458e+00,  2.4917e-02, -2.3486e+00],\n",
      "        [-3.0757e+00, -2.6180e+00,  4.4023e+00,  1.0052e+00,  2.9180e+00]])\n",
      "tensor([[-7.2175e-03,  1.0483e+00, -4.5754e-03, -1.1769e-02, -8.4518e-03],\n",
      "        [ 1.3736e-02, -2.4731e+00,  1.0544e+00,  2.3651e-02,  8.5206e-03],\n",
      "        [-8.9410e-03,  2.9797e-01, -1.0777e+00,  1.0425e+00, -1.6975e-03],\n",
      "        [ 1.0484e+00, -2.8056e-01,  1.0372e+00, -2.0591e+00, -3.1352e-05],\n",
      "        [-1.6836e+00, -3.2790e-01, -8.4504e-01,  1.6785e+00,  1.0388e+00]])\n",
      "tensor([[-1.3688e-02, -1.2440e-02,  3.7014e-05,  9.6780e-04,  1.0648e+00],\n",
      "        [ 1.5544e-02,  1.0608e+00, -7.0775e-04, -1.0133e-02, -2.2987e+00],\n",
      "        [-9.4581e-03, -1.8257e+00,  1.0374e+00,  1.0806e-02,  1.9963e+00],\n",
      "        [ 2.9169e-02,  1.6747e+00, -2.1024e+00,  1.0200e+00, -3.3833e+00],\n",
      "        [ 9.7360e-01, -1.1926e+00,  1.4912e+00, -1.6701e+00,  4.0014e+00]])\n",
      "tensor([[ 1.0196e+00, -7.6998e-03, -4.5955e-04, -3.0009e-03, -2.2095e-03],\n",
      "        [-2.7766e+00,  8.5818e-03,  1.0385e+00,  3.4226e-03,  6.6113e-04],\n",
      "        [ 1.8456e+00, -6.0934e-03, -1.3811e+00,  1.0404e+00, -1.6463e-04],\n",
      "        [-1.7565e+00,  6.0847e-03,  1.3243e+00, -2.2285e+00,  1.0437e+00],\n",
      "        [ 2.8186e+00,  1.0266e+00, -2.1064e+00,  1.3976e+00, -1.3131e+00]])\n",
      "tensor([[-9.1431e-03, -1.0354e-02,  1.0421e+00, -8.2313e-03, -7.2818e-03],\n",
      "        [ 1.6262e-02,  1.0612e+00, -2.4602e+00,  9.0701e-03,  1.2440e-02],\n",
      "        [-2.8515e-03, -1.0840e+00,  2.9437e-01,  4.3905e-04,  1.0234e+00],\n",
      "        [ 1.0347e+00,  1.0479e+00, -2.7300e-01, -3.3522e-03, -2.0127e+00],\n",
      "        [-1.6692e+00, -8.4031e-01, -3.2650e-01,  1.0328e+00,  1.6340e+00]])\n",
      "tensor([[-4.1580e-03, -1.6247e-03,  1.0551e+00, -1.3996e-02, -8.4745e-03],\n",
      "        [ 7.6745e-03, -2.3582e-03, -1.6723e+00,  8.5486e-03,  1.0591e+00],\n",
      "        [ 1.0568e+00, -1.6035e-03,  1.2594e+00, -1.3479e-02, -1.5788e+00],\n",
      "        [-3.0234e+00,  1.0584e+00, -2.4181e+00,  4.1222e-02,  2.2640e+00],\n",
      "        [ 4.3659e+00, -3.0267e+00,  3.0068e+00,  9.7552e-01, -2.6427e+00]])\n",
      "tensor([[-9.9599e-03, -3.5203e-04,  1.0143e+00, -1.8691e-03, -2.8471e-03],\n",
      "        [ 1.8068e-02,  1.0474e+00, -2.7633e+00,  3.6597e-05,  4.2701e-03],\n",
      "        [-1.4924e-02, -1.3923e+00,  1.8322e+00,  1.0601e+00, -4.3868e-03],\n",
      "        [ 1.3572e-02,  1.3392e+00, -1.7533e+00, -2.2672e+00,  1.0463e+00],\n",
      "        [ 1.0082e+00, -2.1207e+00,  2.8033e+00,  1.4217e+00, -1.3256e+00]])\n",
      "tensor([[-1.9719e-02, -1.4728e-02,  1.0763e+00, -5.3897e-03,  2.1903e-03],\n",
      "        [ 3.1750e-02,  1.0566e+00, -2.3123e+00,  4.2867e-03, -9.4011e-03],\n",
      "        [-2.9197e-02, -1.8097e+00,  1.9874e+00, -6.9379e-03,  1.0454e+00],\n",
      "        [ 5.7860e-02,  1.6590e+00, -3.3783e+00,  1.0564e+00, -2.1123e+00],\n",
      "        [ 9.7223e-01, -1.1904e+00,  3.9957e+00, -1.7067e+00,  1.5013e+00]])\n",
      "tensor([[-6.8869e-03, -5.1302e-03,  1.0434e+00, -8.4128e-03, -9.9969e-03],\n",
      "        [ 8.2688e-03,  1.0382e+00, -2.4663e+00,  1.3087e-02,  2.0350e-02],\n",
      "        [ 1.0536e-03, -1.0661e+00,  2.9468e-01, -2.1179e-03,  1.0233e+00],\n",
      "        [ 1.0340e+00,  1.0265e+00, -2.6115e-01, -2.5584e-03, -2.0169e+00],\n",
      "        [-1.6681e+00, -8.3633e-01, -3.3558e-01,  1.0405e+00,  1.6480e+00]])\n",
      "tensor([[-0.0049, -0.0070,  1.0593, -0.0123, -0.0106],\n",
      "        [ 0.0066,  1.0482, -2.3614,  0.0138,  0.0123],\n",
      "        [-0.0081, -2.5024,  2.8201,  1.0344, -0.0131],\n",
      "        [ 1.0568,  2.0505, -3.9605, -1.6796,  0.0247],\n",
      "        [-1.8440, -1.8061,  3.4859,  1.4755,  1.0079]])\n",
      "----------------------------------\n",
      "dim=5 (nonlin_sem=False)\tMCC=0.998+0.000\t  Acc:0.720+0.067\tAcc (HSIC):0.561+0.082\tSHD:0.328571+0.076612\t[28 items]\n"
     ]
    }
   ],
   "source": [
    "stats5d_sparse=corrected_jacobian_stats(df5d_sparse, true_unmix_jacobians5d_sparse, est_unmix_jacobians5d_sparse, permute_indices5d_sparse, hsic_adj5d_sparse)"
   ],
   "metadata": {
    "collapsed": false
   }
  },
  {
   "cell_type": "code",
   "execution_count": 27,
   "outputs": [
    {
     "name": "stdout",
     "output_type": "stream",
     "text": [
      "tensor([[ 0.0000,  0.0000,  0.0000,  0.0000,  0.0000],\n",
      "        [ 0.0000,  0.0000,  7.3332,  0.0000,  0.0000],\n",
      "        [ 0.0000,  0.0000,  0.0000,  0.0000,  0.0000],\n",
      "        [ 0.0000,  0.0000,  0.0000,  0.0000,  0.0000],\n",
      "        [10.3841, 16.0787, 12.6405,  0.0000, 18.4245]])\n",
      "tensor([[0.0000, 0.0000, 0.0000, 0.0000, 0.0000],\n",
      "        [0.0000, 2.1461, 0.0000, 0.0000, 0.0000],\n",
      "        [0.0000, 0.0000, 0.0000, 0.0000, 0.0000],\n",
      "        [0.0000, 0.0000, 0.0000, 0.0000, 0.0000],\n",
      "        [4.9448, 1.4256, 2.1705, 0.0000, 1.9148]])\n",
      "tensor([[  0.0000,   0.0000,   0.0000,   0.0000,   0.0000],\n",
      "        [  0.0000,   0.0000,   0.0000,   0.0000,   0.0000],\n",
      "        [ 35.0842,   0.0000,   0.0000,   0.0000,   0.0000],\n",
      "        [  0.0000,   0.0000,   0.0000,   0.0000,   0.0000],\n",
      "        [119.8243,  12.9464,   0.0000,  39.5377,  22.1392]])\n",
      "tensor([[ 0.0000,  0.0000,  0.0000,  0.0000,  0.0000],\n",
      "        [ 0.0000,  0.0000,  0.0000,  0.0000,  0.0000],\n",
      "        [ 0.0000,  0.0000,  0.0000,  0.0000,  0.0000],\n",
      "        [ 0.0000,  0.0000,  0.0000, 14.3976, 13.8510],\n",
      "        [ 4.2332,  0.0000,  0.0000, 20.6926, 18.7097]])\n",
      "tensor([[0.0000, 0.0000, 0.0000, 0.0000, 0.0000],\n",
      "        [0.0000, 0.0000, 2.1085, 0.0000, 0.0000],\n",
      "        [0.0000, 0.0000, 0.0000, 0.0000, 0.0000],\n",
      "        [0.0000, 0.0000, 0.0000, 0.0000, 0.0000],\n",
      "        [1.8714, 0.0000, 1.4190, 2.1436, 4.8481]])\n",
      "tensor([[  0.0000,   0.0000,   0.0000,   0.0000,   0.0000],\n",
      "        [  0.0000,   0.0000,   0.0000,  57.5149,   0.0000],\n",
      "        [  0.0000,   0.0000,   0.0000,  57.4359,   0.0000],\n",
      "        [  0.0000,   0.0000,   0.0000,   0.0000,   0.0000],\n",
      "        [  0.0000,   0.0000,  58.0724, 145.8327,  44.2602]])\n",
      "tensor([[ 0.0000,  0.0000,  0.0000,  0.0000,  0.0000],\n",
      "        [ 0.0000,  0.0000,  0.0000,  0.0000,  0.0000],\n",
      "        [ 1.9360,  0.0000,  0.0000,  0.0000,  0.0000],\n",
      "        [ 7.5419,  0.0000,  5.2370,  0.0000,  0.0000],\n",
      "        [11.9514,  0.0000,  7.4750,  0.0000,  0.0000]])\n",
      "tensor([[   0.0000,    0.0000,    0.0000,    0.0000,    0.0000],\n",
      "        [   0.0000,    0.0000,    0.0000,    0.0000,    0.0000],\n",
      "        [   0.0000,    0.0000,    0.0000,    0.0000,    0.0000],\n",
      "        [   0.0000,    0.0000,    0.0000, 1491.1311, 1517.0205],\n",
      "        [   0.0000, 1578.5038,    0.0000, 2619.1912, 3146.6665]])\n",
      "tensor([[0.0000, 0.0000, 0.0000, 0.0000, 0.0000],\n",
      "        [2.1334, 0.0000, 0.0000, 0.0000, 0.0000],\n",
      "        [0.0000, 0.0000, 0.0000, 0.0000, 0.0000],\n",
      "        [0.0000, 0.0000, 0.0000, 0.0000, 0.0000],\n",
      "        [1.3899, 1.8816, 4.8481, 2.1539, 0.0000]])\n",
      "tensor([[  0.0000,   0.0000,   0.0000,   0.0000,   0.0000],\n",
      "        [  0.0000,   0.0000,   0.0000,  37.0318,   0.0000],\n",
      "        [  0.0000,   0.0000,   0.0000,  38.7117,   0.0000],\n",
      "        [  0.0000,   0.0000,   0.0000,  77.8143,   0.0000],\n",
      "        [  0.0000,   0.0000,  96.1839, 358.2913,   0.0000]])\n",
      "tensor([[0.0000, 0.0000, 0.0000, 0.0000, 0.0000],\n",
      "        [0.0000, 0.0000, 0.0000, 0.0000, 2.7429],\n",
      "        [0.0000, 0.0000, 0.0000, 0.0000, 1.7311],\n",
      "        [0.0000, 0.0000, 0.0000, 0.0000, 0.0000],\n",
      "        [2.9487, 0.0000, 1.7947, 0.0000, 3.8443]])\n",
      "tensor([[ 0.0000,  0.0000,  0.0000,  0.0000,  0.0000],\n",
      "        [ 0.0000,  0.0000,  0.0000,  0.0000,  0.0000],\n",
      "        [ 2.0320,  0.0000,  0.0000,  0.0000,  0.0000],\n",
      "        [ 8.1157,  0.0000,  0.0000,  5.5717,  0.0000],\n",
      "        [12.9625,  0.0000,  0.0000,  8.0798,  0.0000]])\n",
      "tensor([[  0.0000,   0.0000,   0.0000,   0.0000,   0.0000],\n",
      "        [  0.0000,   0.0000, 265.5702,   0.0000, 255.2435],\n",
      "        [187.2509,   0.0000, 268.2458,   0.0000, 258.9845],\n",
      "        [  0.0000,   0.0000,   0.0000,   0.0000,   0.0000],\n",
      "        [  0.0000,   0.0000,   0.0000,   0.0000,   0.0000]])\n",
      "tensor([[  0.0000,   0.0000,   0.0000,   0.0000,   0.0000],\n",
      "        [  0.0000,   0.0000,   0.0000,   0.0000,   0.0000],\n",
      "        [ 63.3698,   0.0000,   0.0000,   0.0000,   0.0000],\n",
      "        [ 55.5149,   0.0000,   0.0000,   0.0000,   0.0000],\n",
      "        [464.6792,  61.4886,   0.0000,  78.8188,   0.0000]])\n",
      "tensor([[  0.0000,   0.0000,   0.0000,   0.0000,   0.0000],\n",
      "        [408.8173,   0.0000,   0.0000, 381.9157,   0.0000],\n",
      "        [  0.0000,   0.0000,   0.0000,   0.0000,   0.0000],\n",
      "        [  0.0000,   0.0000,   0.0000,   0.0000,   0.0000],\n",
      "        [549.8645, 334.3097,   0.0000, 489.0787,   0.0000]])\n",
      "tensor([[ 0.0000,  0.0000,  0.0000,  0.0000,  0.0000],\n",
      "        [ 0.0000,  0.0000,  0.0000,  0.0000,  0.0000],\n",
      "        [ 0.0000,  2.0466,  0.0000,  0.0000,  0.0000],\n",
      "        [ 0.0000,  8.0094,  0.0000,  5.5461,  0.0000],\n",
      "        [ 0.0000, 12.8213,  0.0000,  8.0895,  0.0000]])\n",
      "tensor([[0.0000, 0.0000, 0.0000, 0.0000, 0.0000],\n",
      "        [0.0000, 2.1195, 0.0000, 0.0000, 0.0000],\n",
      "        [0.0000, 0.0000, 0.0000, 0.0000, 0.0000],\n",
      "        [0.0000, 0.0000, 0.0000, 0.0000, 0.0000],\n",
      "        [2.1610, 1.4191, 1.9213, 0.0000, 4.9128]])\n",
      "tensor([[0.0000, 0.0000, 0.0000, 0.0000, 0.0000],\n",
      "        [0.0000, 0.0000, 0.0000, 2.7799, 0.0000],\n",
      "        [0.0000, 0.0000, 0.0000, 1.7560, 0.0000],\n",
      "        [0.0000, 0.0000, 0.0000, 0.0000, 0.0000],\n",
      "        [0.0000, 0.0000, 2.8971, 3.8967, 1.7685]])\n",
      "tensor([[ 0.0000,  0.0000,  0.0000,  0.0000,  0.0000],\n",
      "        [ 0.0000,  0.0000,  0.0000,  0.0000,  0.0000],\n",
      "        [ 0.0000,  0.0000,  0.0000,  0.0000,  0.0000],\n",
      "        [13.9482,  0.0000,  0.0000, 14.5028,  0.0000],\n",
      "        [16.6284,  0.0000,  3.4921, 19.4341,  0.0000]])\n",
      "tensor([[ 0.0000,  0.0000,  0.0000,  0.0000,  0.0000],\n",
      "        [ 0.0000,  0.0000,  0.0000,  0.0000,  0.0000],\n",
      "        [ 0.0000,  0.0000, 15.2284,  0.0000,  0.0000],\n",
      "        [ 0.0000,  0.0000,  0.0000,  0.0000,  0.0000],\n",
      "        [10.1866, 27.7392, 44.5866,  0.0000, 10.1113]])\n",
      "----------------------------------\n",
      "dim=5 (nonlin_sem=True)\tMCC=0.882+0.146\t  Acc:0.640+0.098\tAcc (HSIC):0.506+0.114\tSHD:0.358000+0.100777\t[20 items]\n",
      "tensor([[ 0.0000,  0.0000,  0.0000,  0.0000,  0.0000],\n",
      "        [ 0.0000,  0.0000,  0.0000,  0.0000,  0.0000],\n",
      "        [ 0.0000,  0.0000,  2.4133,  0.0000,  0.0000],\n",
      "        [ 0.0000,  0.0000, 10.9686,  8.0505,  0.0000],\n",
      "        [ 0.0000,  0.0000, 16.8636, 11.4618,  0.0000]])\n",
      "tensor([[0.0000, 0.0000, 0.0000, 0.0000, 0.0000],\n",
      "        [0.0000, 0.0000, 2.5342, 0.0000, 0.0000],\n",
      "        [0.0000, 0.0000, 0.0000, 0.0000, 0.0000],\n",
      "        [0.0000, 0.0000, 0.0000, 0.0000, 1.1199],\n",
      "        [6.8792, 3.1945, 0.0000, 0.0000, 2.7533]])\n",
      "tensor([[0.0000, 0.0000, 0.0000, 0.0000, 0.0000],\n",
      "        [0.0000, 0.0000, 0.0000, 0.0000, 0.0000],\n",
      "        [0.0000, 0.0000, 1.6420, 0.0000, 0.0000],\n",
      "        [0.0000, 0.0000, 0.0000, 1.9373, 0.0000],\n",
      "        [0.0000, 2.3269, 0.0000, 6.5770, 5.8089]])\n",
      "tensor([[ 0.0000,  0.0000,  0.0000,  0.0000,  0.0000],\n",
      "        [ 0.0000,  6.8959,  0.0000,  0.0000,  0.0000],\n",
      "        [ 0.0000,  9.7237,  0.0000,  0.0000,  0.0000],\n",
      "        [ 0.0000,  6.8894,  0.0000,  0.0000,  0.0000],\n",
      "        [ 0.0000, 20.6222,  0.0000, 11.7587,  0.0000]])\n",
      "tensor([[0.0000, 0.0000, 0.0000, 0.0000, 0.0000],\n",
      "        [0.0000, 2.7547, 0.0000, 0.0000, 0.0000],\n",
      "        [0.0000, 1.8428, 0.0000, 0.0000, 0.0000],\n",
      "        [0.0000, 0.0000, 0.0000, 0.0000, 0.0000],\n",
      "        [0.0000, 4.1406, 0.0000, 2.4431, 4.0172]])\n",
      "tensor([[0.0000, 0.0000, 0.0000, 0.0000, 0.0000],\n",
      "        [0.0000, 0.0000, 0.0000, 0.0000, 0.0000],\n",
      "        [0.0000, 0.0000, 0.0000, 0.0000, 1.5750],\n",
      "        [1.9362, 0.0000, 0.0000, 0.0000, 0.0000],\n",
      "        [6.5889, 5.8603, 0.0000, 2.3098, 0.0000]])\n",
      "tensor([[ 0.0000,  0.0000,  0.0000,  0.0000,  0.0000],\n",
      "        [ 0.0000,  0.0000,  0.0000,  0.0000,  0.0000],\n",
      "        [ 0.0000,  0.0000,  0.0000,  2.4426,  0.0000],\n",
      "        [ 0.0000,  0.0000,  8.0018, 10.9461,  0.0000],\n",
      "        [ 0.0000,  0.0000, 11.3690, 16.8096,  0.0000]])\n",
      "tensor([[0.0000, 0.0000, 0.0000, 0.0000, 0.0000],\n",
      "        [0.0000, 2.5360, 0.0000, 0.0000, 0.0000],\n",
      "        [0.0000, 0.0000, 0.0000, 0.0000, 0.0000],\n",
      "        [0.0000, 0.0000, 0.0000, 1.1245, 0.0000],\n",
      "        [6.8987, 0.0000, 3.1539, 2.7711, 0.0000]])\n",
      "tensor([[ 0.0000,  0.0000,  0.0000,  0.0000,  0.0000],\n",
      "        [ 0.0000,  6.9530,  0.0000,  0.0000,  0.0000],\n",
      "        [ 0.0000,  9.9315,  0.0000,  0.0000,  0.0000],\n",
      "        [ 0.0000,  6.9532,  0.0000,  0.0000,  0.0000],\n",
      "        [ 0.0000, 21.3423,  0.0000, 11.9743,  0.0000]])\n",
      "tensor([[0.0000, 0.0000, 0.0000, 0.0000, 0.0000],\n",
      "        [0.0000, 0.0000, 2.7681, 0.0000, 0.0000],\n",
      "        [0.0000, 0.0000, 1.8431, 0.0000, 0.0000],\n",
      "        [0.0000, 0.0000, 0.0000, 0.0000, 0.0000],\n",
      "        [0.0000, 2.4707, 4.1533, 0.0000, 4.0170]])\n",
      "tensor([[ 0.0000,  0.0000,  0.0000,  0.0000,  0.0000],\n",
      "        [ 0.0000,  0.0000,  0.0000,  0.0000,  0.0000],\n",
      "        [ 2.3542,  0.0000,  0.0000,  0.0000,  0.0000],\n",
      "        [10.5554,  0.0000,  0.0000,  7.7935,  0.0000],\n",
      "        [16.2426,  0.0000,  0.0000, 11.0741,  0.0000]])\n",
      "tensor([[0.0000, 0.0000, 0.0000, 0.0000, 0.0000],\n",
      "        [0.0000, 0.0000, 0.0000, 0.0000, 0.0000],\n",
      "        [0.0000, 1.5757, 0.0000, 0.0000, 0.0000],\n",
      "        [0.0000, 0.0000, 0.0000, 0.0000, 1.9479],\n",
      "        [2.3098, 0.0000, 0.0000, 5.7403, 6.5839]])\n",
      "tensor([[0.0000, 0.0000, 0.0000, 0.0000, 0.0000],\n",
      "        [0.0000, 0.0000, 0.0000, 2.5240, 0.0000],\n",
      "        [0.0000, 0.0000, 0.0000, 0.0000, 0.0000],\n",
      "        [0.0000, 1.1266, 0.0000, 0.0000, 0.0000],\n",
      "        [0.0000, 2.7667, 6.8720, 0.0000, 3.1914]])\n",
      "tensor([[ 0.0000,  0.0000,  0.0000,  0.0000,  0.0000],\n",
      "        [ 0.0000,  0.0000,  0.0000,  6.8903,  0.0000],\n",
      "        [ 0.0000,  0.0000,  0.0000,  9.7183,  0.0000],\n",
      "        [ 0.0000,  0.0000,  0.0000,  6.8750,  0.0000],\n",
      "        [ 0.0000,  0.0000,  0.0000, 20.6366, 11.8209]])\n",
      "tensor([[0.0000, 0.0000, 0.0000, 0.0000, 0.0000],\n",
      "        [2.7044, 0.0000, 0.0000, 0.0000, 0.0000],\n",
      "        [1.7982, 0.0000, 0.0000, 0.0000, 0.0000],\n",
      "        [0.0000, 0.0000, 0.0000, 0.0000, 0.0000],\n",
      "        [4.0622, 3.9276, 0.0000, 0.0000, 2.4536]])\n",
      "tensor([[ 0.0000,  0.0000,  0.0000,  0.0000,  0.0000],\n",
      "        [ 0.0000,  0.0000,  0.0000,  0.0000,  0.0000],\n",
      "        [ 0.0000,  0.0000,  0.0000,  0.0000,  2.4516],\n",
      "        [ 0.0000,  0.0000,  8.0232,  0.0000, 11.0522],\n",
      "        [ 0.0000,  0.0000, 11.4361,  0.0000, 16.9989]])\n",
      "tensor([[ 0.0000,  0.0000,  0.0000,  0.0000,  0.0000],\n",
      "        [ 0.0000,  0.0000,  0.0000,  0.0000,  0.0000],\n",
      "        [ 0.0000,  0.0000,  0.0000,  0.0000,  0.0000],\n",
      "        [ 0.0000,  0.0000,  0.0000,  0.0000,  0.0000],\n",
      "        [ 9.1398,  5.9479, 13.8202,  6.6134,  4.7420]])\n",
      "tensor([[0.0000, 0.0000, 0.0000, 0.0000, 0.0000],\n",
      "        [0.0000, 0.0000, 2.5070, 0.0000, 0.0000],\n",
      "        [0.0000, 0.0000, 0.0000, 0.0000, 0.0000],\n",
      "        [0.0000, 0.0000, 0.0000, 0.0000, 1.1472],\n",
      "        [3.1606, 0.0000, 0.0000, 6.8807, 2.8243]])\n",
      "tensor([[0.0000, 0.0000, 0.0000, 0.0000, 0.0000],\n",
      "        [0.0000, 0.0000, 0.0000, 0.0000, 0.0000],\n",
      "        [0.0000, 0.0000, 0.0000, 1.5900, 0.0000],\n",
      "        [0.0000, 0.0000, 1.9402, 0.0000, 0.0000],\n",
      "        [5.8250, 0.0000, 6.5768, 0.0000, 2.3012]])\n",
      "tensor([[ 0.0000,  0.0000,  0.0000,  0.0000,  0.0000],\n",
      "        [ 0.0000,  7.0111,  0.0000,  0.0000,  0.0000],\n",
      "        [ 0.0000,  9.8124,  0.0000,  0.0000,  0.0000],\n",
      "        [ 0.0000,  7.0076,  0.0000,  0.0000,  0.0000],\n",
      "        [11.8812, 20.6507,  0.0000,  0.0000,  0.0000]])\n",
      "tensor([[ 0.0000,  0.0000,  0.0000,  0.0000,  0.0000],\n",
      "        [ 0.0000,  0.0000,  0.0000,  0.0000,  0.0000],\n",
      "        [ 2.6398,  0.0000,  0.0000,  0.0000,  0.0000],\n",
      "        [12.1647,  9.0259,  0.0000,  0.0000,  0.0000],\n",
      "        [18.8499, 13.1109,  0.0000,  0.0000,  0.0000]])\n",
      "tensor([[0.0000, 0.0000, 0.0000, 0.0000, 0.0000],\n",
      "        [0.0000, 0.0000, 2.7630, 0.0000, 0.0000],\n",
      "        [0.0000, 0.0000, 1.8341, 0.0000, 0.0000],\n",
      "        [0.0000, 0.0000, 0.0000, 0.0000, 0.0000],\n",
      "        [0.0000, 2.4960, 4.1449, 3.9776, 0.0000]])\n",
      "tensor([[0.0000, 0.0000, 0.0000, 0.0000, 0.0000],\n",
      "        [0.0000, 0.0000, 0.0000, 0.0000, 2.5253],\n",
      "        [0.0000, 0.0000, 0.0000, 0.0000, 0.0000],\n",
      "        [0.0000, 1.1347, 0.0000, 0.0000, 0.0000],\n",
      "        [0.0000, 2.7657, 3.1710, 6.8303, 0.0000]])\n",
      "tensor([[ 0.0000,  0.0000,  0.0000,  0.0000,  0.0000],\n",
      "        [ 0.0000,  6.9056,  0.0000,  0.0000,  0.0000],\n",
      "        [ 0.0000,  9.7338,  0.0000,  0.0000,  0.0000],\n",
      "        [ 0.0000,  6.9296,  0.0000,  0.0000,  0.0000],\n",
      "        [ 0.0000, 20.5359,  0.0000, 11.8281,  0.0000]])\n",
      "tensor([[0.0000, 0.0000, 0.0000, 0.0000, 0.0000],\n",
      "        [2.7399, 0.0000, 0.0000, 0.0000, 0.0000],\n",
      "        [1.8243, 0.0000, 0.0000, 0.0000, 0.0000],\n",
      "        [0.0000, 0.0000, 0.0000, 0.0000, 0.0000],\n",
      "        [4.0811, 0.0000, 0.0000, 3.8840, 2.4278]])\n",
      "tensor([[0.0000, 0.0000, 0.0000, 0.0000, 0.0000],\n",
      "        [0.0000, 0.0000, 0.0000, 0.0000, 0.0000],\n",
      "        [0.0000, 0.0000, 0.0000, 0.0000, 1.5989],\n",
      "        [0.0000, 0.0000, 1.9515, 0.0000, 0.0000],\n",
      "        [5.8410, 0.0000, 6.6085, 2.3216, 0.0000]])\n",
      "tensor([[0.0000, 0.0000, 0.0000, 0.0000, 0.0000],\n",
      "        [0.0000, 0.0000, 0.0000, 0.0000, 2.5505],\n",
      "        [0.0000, 0.0000, 0.0000, 0.0000, 0.0000],\n",
      "        [1.1350, 0.0000, 0.0000, 0.0000, 0.0000],\n",
      "        [2.8144, 0.0000, 3.2396, 6.9393, 0.0000]])\n",
      "----------------------------------\n",
      "dim=5 (nonlin_sem=False)\tMCC=0.996+0.019\t  Acc:0.677+0.077\tAcc (HSIC):0.529+0.094\tSHD:0.317037+0.084275\t[27 items]\n"
     ]
    }
   ],
   "source": [
    "stats5d_randn=corrected_jacobian_stats(df5d_randn, true_unmix_jacobians5d_randn, est_unmix_jacobians5d_randn, permute_indices5d_randn, hsic_adj5d_randn)"
   ],
   "metadata": {
    "collapsed": false
   }
  },
  {
   "cell_type": "code",
   "execution_count": 12,
   "outputs": [
    {
     "data": {
      "text/plain": "array([[ 0.90046108,  0.        ,  0.        ,  0.        ,  0.        ],\n       [-0.49639767,  1.10939717,  0.        ,  0.        ,  0.        ],\n       [ 0.00736155, -0.50366729,  0.25405136,  0.        ,  0.        ],\n       [-0.96547085,  0.13718466, -0.82483733,  0.17242301,  0.        ],\n       [ 0.2002313 , -0.06562915,  0.9296245 , -1.49195325,  1.1082288 ]])"
     },
     "execution_count": 12,
     "metadata": {},
     "output_type": "execute_result"
    }
   ],
   "source": [
    "true_unmix_jacobians5d_no_permute_no_offset[0]"
   ],
   "metadata": {
    "collapsed": false
   }
  },
  {
   "cell_type": "code",
   "execution_count": 13,
   "outputs": [
    {
     "data": {
      "text/plain": "array([[0.92944515, 0.18750766, 0.99588954, 0.19738452, 0.02725293],\n       [0.48084217, 1.4649508 , 0.02908477, 0.01914302, 0.02554465],\n       [0.17243227, 0.08448999, 1.04442883, 1.65298533, 1.26816452],\n       [0.87093127, 0.01965384, 0.01913513, 0.01147873, 0.02052983],\n       [0.01045545, 0.6745137 , 0.3311784 , 0.01094254, 0.01608927]])"
     },
     "execution_count": 13,
     "metadata": {},
     "output_type": "execute_result"
    }
   ],
   "source": [
    "est_unmix_jacobians5d_no_permute_no_offset[0]"
   ],
   "metadata": {
    "collapsed": false
   }
  },
  {
   "cell_type": "code",
   "execution_count": 17,
   "outputs": [
    {
     "data": {
      "text/plain": "[4, 0, 1, 3, 2]"
     },
     "execution_count": 17,
     "metadata": {},
     "output_type": "execute_result"
    }
   ],
   "source": [
    "permute_indices5d_no_permute_no_offset[5]"
   ],
   "metadata": {
    "collapsed": false
   }
  },
  {
   "cell_type": "code",
   "execution_count": 23,
   "outputs": [
    {
     "data": {
      "text/plain": "[array([[0, 1, 1, 0, 1],\n        [1, 0, 1, 1, 1],\n        [1, 1, 1, 1, 0],\n        [0, 1, 1, 0, 1],\n        [1, 1, 0, 1, 1]]),\n array([[0, 0, 0, 0, 1],\n        [1, 0, 1, 1, 1],\n        [1, 1, 0, 1, 1],\n        [0, 1, 1, 1, 1],\n        [1, 1, 1, 1, 0]]),\n array([[0, 1, 1, 1, 1],\n        [1, 1, 1, 0, 0],\n        [1, 1, 0, 1, 1],\n        [1, 0, 1, 1, 1],\n        [1, 1, 1, 1, 0]]),\n array([[1, 1, 0, 1, 0],\n        [0, 1, 0, 1, 1],\n        [1, 0, 1, 1, 1],\n        [1, 1, 1, 1, 0],\n        [1, 1, 1, 0, 1]]),\n array([[0, 0, 0, 0, 1],\n        [1, 0, 1, 1, 1],\n        [1, 1, 0, 1, 1],\n        [0, 1, 1, 1, 1],\n        [1, 1, 1, 1, 0]]),\n array([[0, 1, 1, 0, 1],\n        [1, 0, 1, 1, 1],\n        [1, 1, 1, 1, 0],\n        [0, 1, 1, 0, 1],\n        [1, 1, 0, 1, 1]]),\n array([[0, 1, 1, 0, 1],\n        [0, 1, 1, 0, 1],\n        [1, 1, 1, 1, 0],\n        [1, 0, 1, 1, 1],\n        [1, 1, 0, 1, 1]]),\n array([[1, 1, 0, 1, 0],\n        [0, 1, 0, 1, 1],\n        [1, 0, 1, 1, 1],\n        [1, 1, 1, 1, 0],\n        [1, 1, 1, 0, 1]]),\n array([[0, 1, 1, 1, 1],\n        [1, 1, 1, 0, 0],\n        [1, 1, 0, 1, 1],\n        [1, 0, 1, 1, 1],\n        [1, 1, 1, 1, 0]]),\n array([[0, 1, 1, 0, 1],\n        [0, 1, 1, 0, 1],\n        [1, 1, 1, 1, 0],\n        [1, 0, 1, 1, 1],\n        [1, 1, 0, 1, 1]]),\n array([[0, 0, 0, 0, 1],\n        [1, 0, 1, 1, 1],\n        [1, 1, 0, 1, 1],\n        [0, 1, 1, 1, 1],\n        [1, 1, 1, 1, 0]]),\n array([[0, 1, 1, 0, 1],\n        [1, 0, 1, 1, 1],\n        [1, 1, 1, 1, 0],\n        [0, 1, 1, 0, 1],\n        [1, 1, 0, 1, 1]]),\n array([[0, 1, 1, 1, 1],\n        [1, 1, 1, 0, 0],\n        [1, 1, 0, 1, 1],\n        [1, 0, 1, 1, 1],\n        [1, 1, 1, 1, 0]]),\n array([[1, 1, 0, 1, 0],\n        [0, 1, 0, 1, 1],\n        [1, 0, 1, 1, 1],\n        [1, 1, 1, 1, 0],\n        [1, 1, 1, 0, 1]]),\n array([[0, 1, 1, 0, 1],\n        [1, 0, 1, 1, 1],\n        [1, 1, 1, 1, 0],\n        [0, 1, 1, 0, 1],\n        [1, 1, 0, 1, 1]]),\n array([[0, 1, 1, 0, 1],\n        [0, 1, 1, 0, 1],\n        [1, 1, 1, 1, 0],\n        [1, 0, 1, 1, 1],\n        [1, 1, 0, 1, 1]]),\n array([[1, 1, 0, 1, 0],\n        [0, 1, 0, 1, 1],\n        [1, 0, 1, 1, 1],\n        [1, 1, 1, 1, 0],\n        [1, 1, 1, 0, 1]]),\n array([[0, 0, 0, 0, 1],\n        [1, 0, 1, 1, 1],\n        [1, 1, 0, 1, 1],\n        [0, 1, 1, 1, 1],\n        [1, 1, 1, 1, 0]]),\n array([[0, 1, 1, 1, 1],\n        [1, 1, 1, 0, 0],\n        [1, 1, 0, 1, 1],\n        [1, 0, 1, 1, 1],\n        [1, 1, 1, 1, 0]]),\n array([[0, 0, 0, 0, 1],\n        [1, 0, 1, 1, 1],\n        [1, 1, 0, 1, 1],\n        [0, 1, 1, 1, 1],\n        [1, 1, 1, 1, 0]]),\n array([[0, 1, 1, 0, 1],\n        [0, 1, 1, 0, 1],\n        [1, 1, 1, 1, 0],\n        [1, 0, 1, 1, 1],\n        [1, 1, 0, 1, 1]]),\n array([[0, 1, 1, 0, 1],\n        [1, 0, 1, 1, 1],\n        [1, 1, 1, 1, 0],\n        [0, 1, 1, 0, 1],\n        [1, 1, 0, 1, 1]]),\n array([[0, 1, 1, 0, 1],\n        [0, 1, 1, 0, 1],\n        [1, 1, 1, 1, 0],\n        [1, 0, 1, 1, 1],\n        [1, 1, 0, 1, 1]]),\n array([[0, 1, 1, 0, 1],\n        [1, 0, 1, 1, 1],\n        [1, 1, 1, 1, 0],\n        [0, 1, 1, 0, 1],\n        [1, 1, 0, 1, 1]]),\n array([[0, 1, 1, 1, 1],\n        [1, 1, 1, 0, 0],\n        [1, 1, 0, 1, 1],\n        [1, 0, 1, 1, 1],\n        [1, 1, 1, 1, 0]]),\n array([[0, 0, 0, 0, 1],\n        [1, 0, 1, 1, 1],\n        [1, 1, 0, 1, 1],\n        [0, 1, 1, 1, 1],\n        [1, 1, 1, 1, 0]]),\n array([[0, 1, 1, 1, 1],\n        [1, 1, 1, 0, 0],\n        [1, 1, 0, 1, 1],\n        [1, 0, 1, 1, 1],\n        [1, 1, 1, 1, 0]]),\n array([[1, 1, 1, 0, 1],\n        [0, 1, 1, 1, 1],\n        [1, 1, 1, 1, 0],\n        [1, 1, 0, 1, 1],\n        [1, 0, 1, 1, 1]]),\n array([[0, 1, 1, 1, 0],\n        [1, 0, 1, 1, 1],\n        [1, 1, 1, 0, 1],\n        [1, 1, 0, 1, 1],\n        [1, 1, 1, 1, 0]]),\n array([[1, 1, 0, 1, 1],\n        [1, 0, 1, 1, 1],\n        [1, 1, 1, 1, 0],\n        [1, 1, 1, 0, 1],\n        [0, 0, 1, 1, 1]]),\n array([[0, 1, 1, 1, 1],\n        [1, 1, 1, 1, 0],\n        [1, 0, 1, 1, 0],\n        [1, 1, 1, 0, 1],\n        [1, 1, 0, 1, 1]]),\n array([[1, 1, 1, 0, 1],\n        [0, 1, 1, 1, 1],\n        [1, 1, 1, 1, 0],\n        [1, 1, 0, 1, 1],\n        [1, 0, 1, 1, 1]]),\n array([[0, 1, 1, 1, 0],\n        [1, 0, 1, 1, 1],\n        [1, 1, 1, 0, 1],\n        [1, 1, 0, 1, 1],\n        [1, 1, 1, 1, 0]]),\n array([[1, 1, 0, 1, 1],\n        [1, 0, 1, 1, 1],\n        [1, 1, 1, 1, 0],\n        [1, 1, 1, 0, 1],\n        [0, 0, 1, 1, 1]]),\n array([[1, 0, 1, 0, 1],\n        [1, 0, 1, 0, 1],\n        [1, 1, 0, 1, 1],\n        [1, 1, 0, 1, 0],\n        [0, 1, 1, 1, 1]]),\n array([[1, 1, 1, 0, 1],\n        [0, 1, 1, 1, 1],\n        [1, 1, 1, 1, 0],\n        [1, 1, 0, 1, 1],\n        [1, 0, 1, 1, 1]]),\n array([[0, 1, 1, 1, 1],\n        [1, 1, 1, 1, 0],\n        [1, 0, 1, 1, 0],\n        [1, 1, 1, 0, 1],\n        [1, 1, 0, 1, 1]]),\n array([[0, 1, 1, 1, 0],\n        [1, 0, 1, 1, 1],\n        [1, 1, 1, 0, 1],\n        [1, 1, 0, 1, 1],\n        [1, 1, 1, 1, 0]]),\n array([[1, 0, 1, 0, 1],\n        [1, 0, 1, 0, 1],\n        [1, 1, 0, 1, 1],\n        [1, 1, 0, 1, 0],\n        [0, 1, 1, 1, 1]]),\n array([[1, 1, 0, 1, 1],\n        [1, 0, 1, 1, 1],\n        [1, 1, 1, 1, 0],\n        [1, 1, 1, 0, 1],\n        [0, 0, 1, 1, 1]]),\n array([[0, 1, 1, 1, 1],\n        [1, 1, 1, 1, 0],\n        [1, 0, 1, 1, 0],\n        [1, 1, 1, 0, 1],\n        [1, 1, 0, 1, 1]]),\n array([[1, 1, 1, 0, 1],\n        [0, 1, 1, 1, 1],\n        [1, 1, 1, 1, 0],\n        [1, 1, 0, 1, 1],\n        [1, 0, 1, 1, 1]]),\n array([[1, 1, 0, 1, 1],\n        [1, 0, 1, 1, 1],\n        [1, 1, 1, 1, 0],\n        [1, 1, 1, 0, 1],\n        [0, 0, 1, 1, 1]]),\n array([[0, 1, 1, 1, 0],\n        [1, 0, 1, 1, 1],\n        [1, 1, 1, 0, 1],\n        [1, 1, 0, 1, 1],\n        [1, 1, 1, 1, 0]]),\n array([[1, 1, 1, 0, 1],\n        [0, 1, 1, 1, 1],\n        [1, 1, 1, 1, 0],\n        [1, 1, 0, 1, 1],\n        [1, 0, 1, 1, 1]]),\n array([[0, 1, 1, 1, 1],\n        [1, 1, 1, 1, 0],\n        [1, 0, 1, 1, 0],\n        [1, 1, 1, 0, 1],\n        [1, 1, 0, 1, 1]]),\n array([[1, 0, 1, 0, 1],\n        [1, 0, 1, 0, 1],\n        [1, 1, 0, 1, 1],\n        [1, 1, 0, 1, 0],\n        [0, 1, 1, 1, 1]]),\n array([[0, 1, 1, 1, 0],\n        [1, 0, 1, 1, 1],\n        [1, 1, 1, 0, 1],\n        [1, 1, 0, 1, 1],\n        [1, 1, 1, 1, 0]]),\n array([[1, 1, 0, 1, 1],\n        [1, 0, 1, 1, 1],\n        [1, 1, 1, 1, 0],\n        [1, 1, 1, 0, 1],\n        [0, 0, 1, 1, 1]]),\n array([[0, 1, 1, 1, 1],\n        [1, 1, 1, 1, 0],\n        [1, 0, 1, 1, 0],\n        [1, 1, 1, 0, 1],\n        [1, 1, 0, 1, 1]]),\n array([[1, 1, 1, 0, 1],\n        [0, 1, 1, 1, 1],\n        [1, 1, 1, 1, 0],\n        [1, 1, 0, 1, 1],\n        [1, 0, 1, 1, 1]]),\n array([[0, 1, 1, 1, 0],\n        [1, 0, 1, 1, 1],\n        [1, 1, 1, 0, 1],\n        [1, 1, 0, 1, 1],\n        [1, 1, 1, 1, 0]]),\n array([[1, 1, 0, 1, 1],\n        [1, 0, 1, 1, 1],\n        [1, 1, 1, 1, 0],\n        [1, 1, 1, 0, 1],\n        [0, 0, 1, 1, 1]]),\n array([[1, 0, 1, 0, 1],\n        [1, 0, 1, 0, 1],\n        [1, 1, 0, 1, 1],\n        [1, 1, 0, 1, 0],\n        [0, 1, 1, 1, 1]])]"
     },
     "execution_count": 23,
     "metadata": {},
     "output_type": "execute_result"
    }
   ],
   "source": [
    "hsic_adj5d_no_permute_no_offset"
   ],
   "metadata": {
    "collapsed": false
   }
  },
  {
   "cell_type": "code",
   "execution_count": 26,
   "outputs": [
    {
     "name": "stdout",
     "output_type": "stream",
     "text": [
      "tensor([[ 0.0000,  0.0000,  0.0000,  0.0000,  0.0000],\n",
      "        [ 0.0000,  0.0000,  0.0000,  0.0000,  0.0000],\n",
      "        [ 0.0000,  0.0000,  0.0000,  0.0000,  0.0000],\n",
      "        [ 0.0000,  0.0000,  0.0000,  0.0000,  4.7183],\n",
      "        [14.6007, 19.3061,  0.0000, 25.8133, 45.0661]])\n",
      "tensor([[0.0000, 0.0000, 0.0000, 0.9946, 0.0000],\n",
      "        [0.0000, 0.0000, 0.0000, 2.3961, 0.0000],\n",
      "        [0.0000, 1.0201, 0.0000, 0.0000, 0.0000],\n",
      "        [0.9018, 0.0000, 1.7595, 0.0000, 0.0000],\n",
      "        [0.0000, 0.0000, 0.0000, 0.0000, 0.0000]])\n",
      "tensor([[1.0391, 0.0000, 0.0000, 0.0000, 0.0000],\n",
      "        [2.5171, 0.0000, 0.0000, 0.0000, 0.0000],\n",
      "        [2.0308, 0.0000, 0.0000, 0.0000, 0.0000],\n",
      "        [1.9339, 0.0000, 1.2901, 0.0000, 0.0000],\n",
      "        [0.0000, 0.0000, 0.0000, 0.0000, 0.0000]])\n",
      "tensor([[0.0000, 0.0000, 0.0000, 0.0000, 0.0000],\n",
      "        [0.0000, 0.0000, 6.0273, 0.0000, 0.0000],\n",
      "        [0.0000, 0.0000, 0.0000, 0.0000, 0.0000],\n",
      "        [0.0000, 1.6870, 3.1353, 0.0000, 0.0000],\n",
      "        [2.0424, 0.0000, 6.4410, 0.0000, 0.0000]])\n",
      "tensor([[0.0000, 0.0000, 0.0000, 0.9946, 0.0000],\n",
      "        [0.0000, 0.0000, 0.0000, 2.3961, 0.0000],\n",
      "        [0.0000, 1.0201, 0.0000, 0.0000, 0.0000],\n",
      "        [0.9018, 0.0000, 1.7595, 0.0000, 0.0000],\n",
      "        [0.0000, 0.0000, 0.0000, 0.0000, 0.0000]])\n",
      "tensor([[ 0.0000,  0.0000,  0.0000,  0.0000,  0.0000],\n",
      "        [ 0.0000,  0.0000,  0.0000,  0.0000,  0.0000],\n",
      "        [ 0.0000,  0.0000,  0.0000,  0.0000,  0.0000],\n",
      "        [ 0.0000,  0.0000,  0.0000,  0.0000,  4.7183],\n",
      "        [14.6007, 19.3061,  0.0000, 25.8133, 45.0661]])\n",
      "tensor([[0.0000, 0.0000, 0.0000, 0.0000, 0.0000],\n",
      "        [2.2096, 0.0000, 0.0000, 0.0000, 0.0000],\n",
      "        [3.1223, 0.0000, 0.0000, 2.2909, 0.0000],\n",
      "        [2.2209, 0.0000, 0.0000, 1.3416, 0.0000],\n",
      "        [0.0000, 0.0000, 0.0000, 0.0000, 0.0000]])\n",
      "tensor([[0.0000, 0.0000, 0.0000, 0.0000, 0.0000],\n",
      "        [0.0000, 0.0000, 6.0273, 0.0000, 0.0000],\n",
      "        [0.0000, 0.0000, 0.0000, 0.0000, 0.0000],\n",
      "        [0.0000, 1.6870, 3.1353, 0.0000, 0.0000],\n",
      "        [2.0424, 0.0000, 6.4410, 0.0000, 0.0000]])\n",
      "tensor([[1.0391, 0.0000, 0.0000, 0.0000, 0.0000],\n",
      "        [2.5171, 0.0000, 0.0000, 0.0000, 0.0000],\n",
      "        [2.0308, 0.0000, 0.0000, 0.0000, 0.0000],\n",
      "        [1.9339, 0.0000, 1.2901, 0.0000, 0.0000],\n",
      "        [0.0000, 0.0000, 0.0000, 0.0000, 0.0000]])\n",
      "tensor([[0.0000, 0.0000, 0.0000, 0.0000, 0.0000],\n",
      "        [2.2096, 0.0000, 0.0000, 0.0000, 0.0000],\n",
      "        [3.1223, 0.0000, 0.0000, 2.2909, 0.0000],\n",
      "        [2.2209, 0.0000, 0.0000, 1.3416, 0.0000],\n",
      "        [0.0000, 0.0000, 0.0000, 0.0000, 0.0000]])\n",
      "tensor([[0.0000, 0.0000, 0.0000, 0.9946, 0.0000],\n",
      "        [0.0000, 0.0000, 0.0000, 2.3961, 0.0000],\n",
      "        [0.0000, 1.0201, 0.0000, 0.0000, 0.0000],\n",
      "        [0.9018, 0.0000, 1.7595, 0.0000, 0.0000],\n",
      "        [0.0000, 0.0000, 0.0000, 0.0000, 0.0000]])\n",
      "tensor([[ 0.0000,  0.0000,  0.0000,  0.0000,  0.0000],\n",
      "        [ 0.0000,  0.0000,  0.0000,  0.0000,  0.0000],\n",
      "        [ 0.0000,  0.0000,  0.0000,  0.0000,  0.0000],\n",
      "        [ 0.0000,  0.0000,  0.0000,  0.0000,  4.7183],\n",
      "        [14.6007, 19.3061,  0.0000, 25.8133, 45.0661]])\n",
      "tensor([[1.0391, 0.0000, 0.0000, 0.0000, 0.0000],\n",
      "        [2.5171, 0.0000, 0.0000, 0.0000, 0.0000],\n",
      "        [2.0308, 0.0000, 0.0000, 0.0000, 0.0000],\n",
      "        [1.9339, 0.0000, 1.2901, 0.0000, 0.0000],\n",
      "        [0.0000, 0.0000, 0.0000, 0.0000, 0.0000]])\n",
      "tensor([[0.0000, 0.0000, 0.0000, 0.0000, 0.0000],\n",
      "        [0.0000, 0.0000, 6.0273, 0.0000, 0.0000],\n",
      "        [0.0000, 0.0000, 0.0000, 0.0000, 0.0000],\n",
      "        [0.0000, 1.6870, 3.1353, 0.0000, 0.0000],\n",
      "        [2.0424, 0.0000, 6.4410, 0.0000, 0.0000]])\n",
      "tensor([[ 0.0000,  0.0000,  0.0000,  0.0000,  0.0000],\n",
      "        [ 0.0000,  0.0000,  0.0000,  0.0000,  0.0000],\n",
      "        [ 0.0000,  0.0000,  0.0000,  0.0000,  0.0000],\n",
      "        [ 0.0000,  0.0000,  0.0000,  0.0000,  4.7183],\n",
      "        [14.6007, 19.3061,  0.0000, 25.8133, 45.0661]])\n",
      "tensor([[0.0000, 0.0000, 0.0000, 0.0000, 0.0000],\n",
      "        [2.2096, 0.0000, 0.0000, 0.0000, 0.0000],\n",
      "        [3.1223, 0.0000, 0.0000, 2.2909, 0.0000],\n",
      "        [2.2209, 0.0000, 0.0000, 1.3416, 0.0000],\n",
      "        [0.0000, 0.0000, 0.0000, 0.0000, 0.0000]])\n",
      "tensor([[0.0000, 0.0000, 0.0000, 0.0000, 0.0000],\n",
      "        [0.0000, 0.0000, 6.0273, 0.0000, 0.0000],\n",
      "        [0.0000, 0.0000, 0.0000, 0.0000, 0.0000],\n",
      "        [0.0000, 1.6870, 3.1353, 0.0000, 0.0000],\n",
      "        [2.0424, 0.0000, 6.4410, 0.0000, 0.0000]])\n",
      "tensor([[0.0000, 0.0000, 0.0000, 0.9946, 0.0000],\n",
      "        [0.0000, 0.0000, 0.0000, 2.3961, 0.0000],\n",
      "        [0.0000, 1.0201, 0.0000, 0.0000, 0.0000],\n",
      "        [0.9018, 0.0000, 1.7595, 0.0000, 0.0000],\n",
      "        [0.0000, 0.0000, 0.0000, 0.0000, 0.0000]])\n",
      "tensor([[1.0391, 0.0000, 0.0000, 0.0000, 0.0000],\n",
      "        [2.5171, 0.0000, 0.0000, 0.0000, 0.0000],\n",
      "        [2.0308, 0.0000, 0.0000, 0.0000, 0.0000],\n",
      "        [1.9339, 0.0000, 1.2901, 0.0000, 0.0000],\n",
      "        [0.0000, 0.0000, 0.0000, 0.0000, 0.0000]])\n",
      "tensor([[0.0000, 0.0000, 0.0000, 0.9946, 0.0000],\n",
      "        [0.0000, 0.0000, 0.0000, 2.3961, 0.0000],\n",
      "        [0.0000, 1.0201, 0.0000, 0.0000, 0.0000],\n",
      "        [0.9018, 0.0000, 1.7595, 0.0000, 0.0000],\n",
      "        [0.0000, 0.0000, 0.0000, 0.0000, 0.0000]])\n",
      "tensor([[0.0000, 0.0000, 0.0000, 0.0000, 0.0000],\n",
      "        [2.2096, 0.0000, 0.0000, 0.0000, 0.0000],\n",
      "        [3.1223, 0.0000, 0.0000, 2.2909, 0.0000],\n",
      "        [2.2209, 0.0000, 0.0000, 1.3416, 0.0000],\n",
      "        [0.0000, 0.0000, 0.0000, 0.0000, 0.0000]])\n",
      "tensor([[ 0.0000,  0.0000,  0.0000,  0.0000,  0.0000],\n",
      "        [ 0.0000,  0.0000,  0.0000,  0.0000,  0.0000],\n",
      "        [ 0.0000,  0.0000,  0.0000,  0.0000,  0.0000],\n",
      "        [ 0.0000,  0.0000,  0.0000,  0.0000,  4.7183],\n",
      "        [14.6007, 19.3061,  0.0000, 25.8133, 45.0661]])\n",
      "tensor([[0.0000, 0.0000, 0.0000, 0.0000, 0.0000],\n",
      "        [2.2096, 0.0000, 0.0000, 0.0000, 0.0000],\n",
      "        [3.1223, 0.0000, 0.0000, 2.2909, 0.0000],\n",
      "        [2.2209, 0.0000, 0.0000, 1.3416, 0.0000],\n",
      "        [0.0000, 0.0000, 0.0000, 0.0000, 0.0000]])\n",
      "tensor([[ 0.0000,  0.0000,  0.0000,  0.0000,  0.0000],\n",
      "        [ 0.0000,  0.0000,  0.0000,  0.0000,  0.0000],\n",
      "        [ 0.0000,  0.0000,  0.0000,  0.0000,  0.0000],\n",
      "        [ 0.0000,  0.0000,  0.0000,  0.0000,  4.7183],\n",
      "        [14.6007, 19.3061,  0.0000, 25.8133, 45.0661]])\n",
      "tensor([[1.0391, 0.0000, 0.0000, 0.0000, 0.0000],\n",
      "        [2.5171, 0.0000, 0.0000, 0.0000, 0.0000],\n",
      "        [2.0308, 0.0000, 0.0000, 0.0000, 0.0000],\n",
      "        [1.9339, 0.0000, 1.2901, 0.0000, 0.0000],\n",
      "        [0.0000, 0.0000, 0.0000, 0.0000, 0.0000]])\n",
      "tensor([[0.0000, 0.0000, 0.0000, 0.9946, 0.0000],\n",
      "        [0.0000, 0.0000, 0.0000, 2.3961, 0.0000],\n",
      "        [0.0000, 1.0201, 0.0000, 0.0000, 0.0000],\n",
      "        [0.9018, 0.0000, 1.7595, 0.0000, 0.0000],\n",
      "        [0.0000, 0.0000, 0.0000, 0.0000, 0.0000]])\n",
      "tensor([[1.0391, 0.0000, 0.0000, 0.0000, 0.0000],\n",
      "        [2.5171, 0.0000, 0.0000, 0.0000, 0.0000],\n",
      "        [2.0308, 0.0000, 0.0000, 0.0000, 0.0000],\n",
      "        [1.9339, 0.0000, 1.2901, 0.0000, 0.0000],\n",
      "        [0.0000, 0.0000, 0.0000, 0.0000, 0.0000]])\n",
      "----------------------------------\n",
      "dim=5 (nonlin_sem=True)\tMCC=1.000+0.000\t  Acc:0.588+0.104\tAcc (HSIC):0.363+0.131\tSHD:0.411852+0.104316\t[27 items]\n",
      "tensor([[0.0000, 0.0000, 0.0000, 0.0000, 0.0000],\n",
      "        [1.0413, 0.0000, 0.0000, 2.8891, 0.0000],\n",
      "        [1.4522, 0.0000, 0.0000, 0.0000, 0.0000],\n",
      "        [1.1094, 0.0000, 0.0000, 0.0000, 2.1591],\n",
      "        [0.0000, 0.0000, 0.0000, 0.0000, 0.0000]])\n",
      "tensor([[0.0000, 0.0000, 0.0000, 0.0000, 0.0000],\n",
      "        [6.8389, 0.0000, 0.0000, 0.0000, 0.0000],\n",
      "        [0.0000, 0.0000, 0.0000, 0.0000, 0.0000],\n",
      "        [3.7598, 0.0000, 0.0000, 2.4256, 0.0000],\n",
      "        [7.7075, 2.3897, 0.0000, 0.0000, 0.0000]])\n",
      "tensor([[0.0000, 0.0000, 1.0439, 0.0000, 0.0000],\n",
      "        [0.0000, 0.0000, 3.0566, 0.0000, 0.0000],\n",
      "        [0.0000, 0.0000, 2.4843, 0.0000, 0.0000],\n",
      "        [0.0000, 0.0000, 2.4100, 0.0000, 1.9899],\n",
      "        [0.0000, 0.0000, 0.0000, 0.0000, 0.0000]])\n",
      "tensor([[ 0.0000,  0.0000,  0.0000,  0.0000,  0.0000],\n",
      "        [ 0.0000,  0.0000,  0.0000,  0.0000,  0.0000],\n",
      "        [ 0.0000,  0.0000,  0.0000,  0.0000,  0.0000],\n",
      "        [ 0.0000,  7.0894,  0.0000,  0.0000,  0.0000],\n",
      "        [35.4751, 63.7638,  0.0000, 19.8315, 27.5356]])\n",
      "tensor([[0.0000, 0.0000, 0.0000, 0.0000, 0.0000],\n",
      "        [1.0413, 0.0000, 0.0000, 2.8891, 0.0000],\n",
      "        [1.4522, 0.0000, 0.0000, 0.0000, 0.0000],\n",
      "        [1.1094, 0.0000, 0.0000, 0.0000, 2.1591],\n",
      "        [0.0000, 0.0000, 0.0000, 0.0000, 0.0000]])\n",
      "tensor([[0.0000, 0.0000, 0.0000, 0.0000, 0.0000],\n",
      "        [6.8389, 0.0000, 0.0000, 0.0000, 0.0000],\n",
      "        [0.0000, 0.0000, 0.0000, 0.0000, 0.0000],\n",
      "        [3.7598, 0.0000, 0.0000, 2.4256, 0.0000],\n",
      "        [7.7075, 2.3897, 0.0000, 0.0000, 0.0000]])\n",
      "tensor([[0.0000, 0.0000, 1.0439, 0.0000, 0.0000],\n",
      "        [0.0000, 0.0000, 3.0566, 0.0000, 0.0000],\n",
      "        [0.0000, 0.0000, 2.4843, 0.0000, 0.0000],\n",
      "        [0.0000, 0.0000, 2.4100, 0.0000, 1.9899],\n",
      "        [0.0000, 0.0000, 0.0000, 0.0000, 0.0000]])\n",
      "tensor([[0.0000, 0.0000, 0.0000, 0.0000, 0.0000],\n",
      "        [0.0000, 2.6974, 0.0000, 0.0000, 0.0000],\n",
      "        [0.0000, 4.4122, 0.0000, 3.3751, 0.0000],\n",
      "        [0.0000, 3.0851, 0.0000, 1.9877, 0.0000],\n",
      "        [0.0000, 0.0000, 0.0000, 0.0000, 0.0000]])\n",
      "tensor([[0.0000, 0.0000, 0.0000, 0.0000, 0.0000],\n",
      "        [1.0413, 0.0000, 0.0000, 2.8891, 0.0000],\n",
      "        [1.4522, 0.0000, 0.0000, 0.0000, 0.0000],\n",
      "        [1.1094, 0.0000, 0.0000, 0.0000, 2.1591],\n",
      "        [0.0000, 0.0000, 0.0000, 0.0000, 0.0000]])\n",
      "tensor([[ 0.0000,  0.0000,  0.0000,  0.0000,  0.0000],\n",
      "        [ 0.0000,  0.0000,  0.0000,  0.0000,  0.0000],\n",
      "        [ 0.0000,  0.0000,  0.0000,  0.0000,  0.0000],\n",
      "        [ 0.0000,  7.0894,  0.0000,  0.0000,  0.0000],\n",
      "        [35.4751, 63.7638,  0.0000, 19.8315, 27.5356]])\n",
      "tensor([[0.0000, 0.0000, 0.0000, 0.0000, 0.0000],\n",
      "        [6.8389, 0.0000, 0.0000, 0.0000, 0.0000],\n",
      "        [0.0000, 0.0000, 0.0000, 0.0000, 0.0000],\n",
      "        [3.7598, 0.0000, 0.0000, 2.4256, 0.0000],\n",
      "        [7.7075, 2.3897, 0.0000, 0.0000, 0.0000]])\n",
      "tensor([[0.0000, 0.0000, 0.0000, 0.0000, 0.0000],\n",
      "        [0.0000, 2.6974, 0.0000, 0.0000, 0.0000],\n",
      "        [0.0000, 4.4122, 0.0000, 3.3751, 0.0000],\n",
      "        [0.0000, 3.0851, 0.0000, 1.9877, 0.0000],\n",
      "        [0.0000, 0.0000, 0.0000, 0.0000, 0.0000]])\n",
      "tensor([[0.0000, 0.0000, 1.0439, 0.0000, 0.0000],\n",
      "        [0.0000, 0.0000, 3.0566, 0.0000, 0.0000],\n",
      "        [0.0000, 0.0000, 2.4843, 0.0000, 0.0000],\n",
      "        [0.0000, 0.0000, 2.4100, 0.0000, 1.9899],\n",
      "        [0.0000, 0.0000, 0.0000, 0.0000, 0.0000]])\n",
      "tensor([[ 0.0000,  0.0000,  0.0000,  0.0000,  0.0000],\n",
      "        [ 0.0000,  0.0000,  0.0000,  0.0000,  0.0000],\n",
      "        [ 0.0000,  0.0000,  0.0000,  0.0000,  0.0000],\n",
      "        [ 0.0000,  7.0894,  0.0000,  0.0000,  0.0000],\n",
      "        [35.4751, 63.7638,  0.0000, 19.8315, 27.5356]])\n",
      "tensor([[0.0000, 0.0000, 0.0000, 0.0000, 0.0000],\n",
      "        [1.0413, 0.0000, 0.0000, 2.8891, 0.0000],\n",
      "        [1.4522, 0.0000, 0.0000, 0.0000, 0.0000],\n",
      "        [1.1094, 0.0000, 0.0000, 0.0000, 2.1591],\n",
      "        [0.0000, 0.0000, 0.0000, 0.0000, 0.0000]])\n",
      "tensor([[0.0000, 0.0000, 1.0439, 0.0000, 0.0000],\n",
      "        [0.0000, 0.0000, 3.0566, 0.0000, 0.0000],\n",
      "        [0.0000, 0.0000, 2.4843, 0.0000, 0.0000],\n",
      "        [0.0000, 0.0000, 2.4100, 0.0000, 1.9899],\n",
      "        [0.0000, 0.0000, 0.0000, 0.0000, 0.0000]])\n",
      "tensor([[0.0000, 0.0000, 0.0000, 0.0000, 0.0000],\n",
      "        [6.8389, 0.0000, 0.0000, 0.0000, 0.0000],\n",
      "        [0.0000, 0.0000, 0.0000, 0.0000, 0.0000],\n",
      "        [3.7598, 0.0000, 0.0000, 2.4256, 0.0000],\n",
      "        [7.7075, 2.3897, 0.0000, 0.0000, 0.0000]])\n",
      "tensor([[0.0000, 0.0000, 0.0000, 0.0000, 0.0000],\n",
      "        [1.0413, 0.0000, 0.0000, 2.8891, 0.0000],\n",
      "        [1.4522, 0.0000, 0.0000, 0.0000, 0.0000],\n",
      "        [1.1094, 0.0000, 0.0000, 0.0000, 2.1591],\n",
      "        [0.0000, 0.0000, 0.0000, 0.0000, 0.0000]])\n",
      "tensor([[ 0.0000,  0.0000,  0.0000,  0.0000,  0.0000],\n",
      "        [ 0.0000,  0.0000,  0.0000,  0.0000,  0.0000],\n",
      "        [ 0.0000,  0.0000,  0.0000,  0.0000,  0.0000],\n",
      "        [ 0.0000,  7.0894,  0.0000,  0.0000,  0.0000],\n",
      "        [35.4751, 63.7638,  0.0000, 19.8315, 27.5356]])\n",
      "tensor([[0.0000, 0.0000, 0.0000, 0.0000, 0.0000],\n",
      "        [0.0000, 2.6974, 0.0000, 0.0000, 0.0000],\n",
      "        [0.0000, 4.4122, 0.0000, 3.3751, 0.0000],\n",
      "        [0.0000, 3.0851, 0.0000, 1.9877, 0.0000],\n",
      "        [0.0000, 0.0000, 0.0000, 0.0000, 0.0000]])\n",
      "tensor([[0.0000, 0.0000, 0.0000, 0.0000, 0.0000],\n",
      "        [6.8389, 0.0000, 0.0000, 0.0000, 0.0000],\n",
      "        [0.0000, 0.0000, 0.0000, 0.0000, 0.0000],\n",
      "        [3.7598, 0.0000, 0.0000, 2.4256, 0.0000],\n",
      "        [7.7075, 2.3897, 0.0000, 0.0000, 0.0000]])\n",
      "tensor([[0.0000, 0.0000, 1.0439, 0.0000, 0.0000],\n",
      "        [0.0000, 0.0000, 3.0566, 0.0000, 0.0000],\n",
      "        [0.0000, 0.0000, 2.4843, 0.0000, 0.0000],\n",
      "        [0.0000, 0.0000, 2.4100, 0.0000, 1.9899],\n",
      "        [0.0000, 0.0000, 0.0000, 0.0000, 0.0000]])\n",
      "tensor([[ 0.0000,  0.0000,  0.0000,  0.0000,  0.0000],\n",
      "        [ 0.0000,  0.0000,  0.0000,  0.0000,  0.0000],\n",
      "        [ 0.0000,  0.0000,  0.0000,  0.0000,  0.0000],\n",
      "        [ 0.0000,  7.0894,  0.0000,  0.0000,  0.0000],\n",
      "        [35.4751, 63.7638,  0.0000, 19.8315, 27.5356]])\n",
      "tensor([[0.0000, 0.0000, 0.0000, 0.0000, 0.0000],\n",
      "        [1.0413, 0.0000, 0.0000, 2.8891, 0.0000],\n",
      "        [1.4522, 0.0000, 0.0000, 0.0000, 0.0000],\n",
      "        [1.1094, 0.0000, 0.0000, 0.0000, 2.1591],\n",
      "        [0.0000, 0.0000, 0.0000, 0.0000, 0.0000]])\n",
      "tensor([[0.0000, 0.0000, 0.0000, 0.0000, 0.0000],\n",
      "        [6.8389, 0.0000, 0.0000, 0.0000, 0.0000],\n",
      "        [0.0000, 0.0000, 0.0000, 0.0000, 0.0000],\n",
      "        [3.7598, 0.0000, 0.0000, 2.4256, 0.0000],\n",
      "        [7.7075, 2.3897, 0.0000, 0.0000, 0.0000]])\n",
      "tensor([[0.0000, 0.0000, 1.0439, 0.0000, 0.0000],\n",
      "        [0.0000, 0.0000, 3.0566, 0.0000, 0.0000],\n",
      "        [0.0000, 0.0000, 2.4843, 0.0000, 0.0000],\n",
      "        [0.0000, 0.0000, 2.4100, 0.0000, 1.9899],\n",
      "        [0.0000, 0.0000, 0.0000, 0.0000, 0.0000]])\n",
      "tensor([[0.0000, 0.0000, 0.0000, 0.0000, 0.0000],\n",
      "        [0.0000, 2.6974, 0.0000, 0.0000, 0.0000],\n",
      "        [0.0000, 4.4122, 0.0000, 3.3751, 0.0000],\n",
      "        [0.0000, 3.0851, 0.0000, 1.9877, 0.0000],\n",
      "        [0.0000, 0.0000, 0.0000, 0.0000, 0.0000]])\n",
      "----------------------------------\n",
      "dim=5 (nonlin_sem=False)\tMCC=1.000+0.000\t  Acc:0.557+0.132\tAcc (HSIC):0.471+0.059\tSHD:0.442963+0.131960\t[27 items]\n"
     ]
    }
   ],
   "source": [
    "stats5d_no_permute_no_offset=corrected_jacobian_stats(df5d_no_permute_no_offset, true_unmix_jacobians5d_no_permute_no_offset, est_unmix_jacobians5d_no_permute_no_offset, permute_indices5d_no_permute_no_offset, hsic_adj5d_no_permute_no_offset)"
   ],
   "metadata": {
    "collapsed": false
   }
  },
  {
   "cell_type": "code",
   "execution_count": 36,
   "outputs": [
    {
     "data": {
      "text/plain": "array([[1.01885954, 0.04516292, 0.05609206, 0.03260317, 0.01039065],\n       [1.91972046, 1.4780555 , 0.1201621 , 0.07790668, 0.02764897],\n       [2.69437363, 3.04919486, 4.09303839, 1.43339502, 0.02985053],\n       [3.41861756, 3.37302013, 5.57452515, 3.87169296, 1.35904027],\n       [1.47842595, 2.20323508, 1.57161277, 0.08231635, 0.02881431]])"
     },
     "execution_count": 36,
     "metadata": {},
     "output_type": "execute_result"
    }
   ],
   "source": [
    "est_unmix_jacobians5d_no_permute[0]@np.linalg.inv(true_unmix_jacobians5d_no_permute[0])"
   ],
   "metadata": {
    "collapsed": false
   }
  },
  {
   "cell_type": "code",
   "execution_count": 11,
   "outputs": [
    {
     "data": {
      "text/plain": "    Unnamed: 0                    name  dim  permute  variant  n_mixing_layer  \\\n0            0          amber-sweep-60    5    False      119               1   \n1            1           fast-sweep-59    5    False      119               1   \n2            2         fluent-sweep-58    5    False      119               1   \n3            3  misunderstood-sweep-57    5    False      119               1   \n4            4         silver-sweep-55    5    False       97               1   \n5            5          vague-sweep-56    5    False      119               1   \n6            6         gentle-sweep-52    5    False       97               1   \n7            7        restful-sweep-51    5    False       97               1   \n8            8          whole-sweep-48    5    False       75               1   \n9            9           true-sweep-47    5    False       75               1   \n10          10          crisp-sweep-45    5    False       31               1   \n11          11      celestial-sweep-44    5    False       31               1   \n12          12          prime-sweep-43    5    False       31               1   \n13          13          leafy-sweep-40    5    False        5               1   \n14          14         likely-sweep-41    5    False       31               1   \n15          15           rich-sweep-42    5    False       31               1   \n16          16          fresh-sweep-39    5    False        5               1   \n17          17          vital-sweep-38    5    False        5               1   \n18          18         dulcet-sweep-36    5    False        5               1   \n19          19          lilac-sweep-37    5    False        5               1   \n20          20          vital-sweep-35    5    False        0               1   \n21          21         pretty-sweep-33    5    False        0               1   \n22          22           neat-sweep-34    5    False        0               1   \n23          23        vibrant-sweep-32    5    False        0               1   \n24          24         toasty-sweep-25    5    False       97               1   \n25          25          vivid-sweep-24    5    False       97               1   \n26          26         peachy-sweep-22    5    False       97               1   \n27          27          leafy-sweep-21    5    False       97               1   \n28          28          balmy-sweep-20    5    False       75               1   \n29          29      different-sweep-19    5    False       75               1   \n30          30          brisk-sweep-18    5    False       75               1   \n31          31         elated-sweep-16    5    False       75               1   \n32          32          lunar-sweep-17    5    False       75               1   \n33          33            dry-sweep-14    5    False       31               1   \n34          34          peach-sweep-15    5    False       31               1   \n35          35          pious-sweep-12    5    False       31               1   \n36          36           zesty-sweep-7    5    False        5               1   \n37          37         revived-sweep-5    5    False        0               1   \n38          38            easy-sweep-4    5    False        0               1   \n39          39       treasured-sweep-3    5    False        0               1   \n40          40         scarlet-sweep-1    5    False        0               1   \n\n    use_sem  nonlin_sem  force_chain  force_uniform       mcc  val_loss  \n0      True        True        False          False  0.999565  1.978659  \n1      True        True        False          False  0.817408  2.935467  \n2      True        True        False          False  0.999788  1.938203  \n3      True        True        False          False  0.819892  2.966868  \n4      True        True        False          False  0.999565  1.978659  \n5      True        True        False          False  0.999772  1.908259  \n6      True        True        False          False  0.819892  2.966868  \n7      True        True        False          False  0.999772  1.908259  \n8      True        True        False          False  0.999788  1.938203  \n9      True        True        False          False  0.819892  2.966868  \n10     True        True        False          False  0.999565  1.978659  \n11     True        True        False          False  0.817408  2.935467  \n12     True        True        False          False  0.999788  1.938203  \n13     True        True        False          False  0.999565  1.978659  \n14     True        True        False          False  0.999772  1.908259  \n15     True        True        False          False  0.819892  2.966868  \n16     True        True        False          False  0.817408  2.935467  \n17     True        True        False          False  0.999788  1.938203  \n18     True        True        False          False  0.999772  1.908259  \n19     True        True        False          False  0.819892  2.966868  \n20     True        True        False          False  0.999565  1.978659  \n21     True        True        False          False  0.999788  1.938203  \n22     True        True        False          False  0.817408  2.935467  \n23     True        True        False          False  0.819892  2.966868  \n24     True       False        False          False  0.999928  1.961014  \n25     True       False        False          False  0.999902  1.880423  \n26     True       False        False          False  0.999898  1.917553  \n27     True       False        False          False  0.999888  1.902992  \n28     True       False        False          False  0.999928  1.961014  \n29     True       False        False          False  0.999902  1.880423  \n30     True       False        False          False  0.999900  1.931670  \n31     True       False        False          False  0.999888  1.902992  \n32     True       False        False          False  0.999898  1.917553  \n33     True       False        False          False  0.999902  1.880423  \n34     True       False        False          False  0.999928  1.961014  \n35     True       False        False          False  0.999898  1.917553  \n36     True       False        False          False  0.999898  1.917553  \n37     True       False        False          False  0.999928  1.961014  \n38     True       False        False          False  0.999902  1.880423  \n39     True       False        False          False  0.999900  1.931670  \n40     True       False        False          False  0.999888  1.902992  ",
      "text/html": "<div>\n<style scoped>\n    .dataframe tbody tr th:only-of-type {\n        vertical-align: middle;\n    }\n\n    .dataframe tbody tr th {\n        vertical-align: top;\n    }\n\n    .dataframe thead th {\n        text-align: right;\n    }\n</style>\n<table border=\"1\" class=\"dataframe\">\n  <thead>\n    <tr style=\"text-align: right;\">\n      <th></th>\n      <th>Unnamed: 0</th>\n      <th>name</th>\n      <th>dim</th>\n      <th>permute</th>\n      <th>variant</th>\n      <th>n_mixing_layer</th>\n      <th>use_sem</th>\n      <th>nonlin_sem</th>\n      <th>force_chain</th>\n      <th>force_uniform</th>\n      <th>mcc</th>\n      <th>val_loss</th>\n    </tr>\n  </thead>\n  <tbody>\n    <tr>\n      <th>0</th>\n      <td>0</td>\n      <td>amber-sweep-60</td>\n      <td>5</td>\n      <td>False</td>\n      <td>119</td>\n      <td>1</td>\n      <td>True</td>\n      <td>True</td>\n      <td>False</td>\n      <td>False</td>\n      <td>0.999565</td>\n      <td>1.978659</td>\n    </tr>\n    <tr>\n      <th>1</th>\n      <td>1</td>\n      <td>fast-sweep-59</td>\n      <td>5</td>\n      <td>False</td>\n      <td>119</td>\n      <td>1</td>\n      <td>True</td>\n      <td>True</td>\n      <td>False</td>\n      <td>False</td>\n      <td>0.817408</td>\n      <td>2.935467</td>\n    </tr>\n    <tr>\n      <th>2</th>\n      <td>2</td>\n      <td>fluent-sweep-58</td>\n      <td>5</td>\n      <td>False</td>\n      <td>119</td>\n      <td>1</td>\n      <td>True</td>\n      <td>True</td>\n      <td>False</td>\n      <td>False</td>\n      <td>0.999788</td>\n      <td>1.938203</td>\n    </tr>\n    <tr>\n      <th>3</th>\n      <td>3</td>\n      <td>misunderstood-sweep-57</td>\n      <td>5</td>\n      <td>False</td>\n      <td>119</td>\n      <td>1</td>\n      <td>True</td>\n      <td>True</td>\n      <td>False</td>\n      <td>False</td>\n      <td>0.819892</td>\n      <td>2.966868</td>\n    </tr>\n    <tr>\n      <th>4</th>\n      <td>4</td>\n      <td>silver-sweep-55</td>\n      <td>5</td>\n      <td>False</td>\n      <td>97</td>\n      <td>1</td>\n      <td>True</td>\n      <td>True</td>\n      <td>False</td>\n      <td>False</td>\n      <td>0.999565</td>\n      <td>1.978659</td>\n    </tr>\n    <tr>\n      <th>5</th>\n      <td>5</td>\n      <td>vague-sweep-56</td>\n      <td>5</td>\n      <td>False</td>\n      <td>119</td>\n      <td>1</td>\n      <td>True</td>\n      <td>True</td>\n      <td>False</td>\n      <td>False</td>\n      <td>0.999772</td>\n      <td>1.908259</td>\n    </tr>\n    <tr>\n      <th>6</th>\n      <td>6</td>\n      <td>gentle-sweep-52</td>\n      <td>5</td>\n      <td>False</td>\n      <td>97</td>\n      <td>1</td>\n      <td>True</td>\n      <td>True</td>\n      <td>False</td>\n      <td>False</td>\n      <td>0.819892</td>\n      <td>2.966868</td>\n    </tr>\n    <tr>\n      <th>7</th>\n      <td>7</td>\n      <td>restful-sweep-51</td>\n      <td>5</td>\n      <td>False</td>\n      <td>97</td>\n      <td>1</td>\n      <td>True</td>\n      <td>True</td>\n      <td>False</td>\n      <td>False</td>\n      <td>0.999772</td>\n      <td>1.908259</td>\n    </tr>\n    <tr>\n      <th>8</th>\n      <td>8</td>\n      <td>whole-sweep-48</td>\n      <td>5</td>\n      <td>False</td>\n      <td>75</td>\n      <td>1</td>\n      <td>True</td>\n      <td>True</td>\n      <td>False</td>\n      <td>False</td>\n      <td>0.999788</td>\n      <td>1.938203</td>\n    </tr>\n    <tr>\n      <th>9</th>\n      <td>9</td>\n      <td>true-sweep-47</td>\n      <td>5</td>\n      <td>False</td>\n      <td>75</td>\n      <td>1</td>\n      <td>True</td>\n      <td>True</td>\n      <td>False</td>\n      <td>False</td>\n      <td>0.819892</td>\n      <td>2.966868</td>\n    </tr>\n    <tr>\n      <th>10</th>\n      <td>10</td>\n      <td>crisp-sweep-45</td>\n      <td>5</td>\n      <td>False</td>\n      <td>31</td>\n      <td>1</td>\n      <td>True</td>\n      <td>True</td>\n      <td>False</td>\n      <td>False</td>\n      <td>0.999565</td>\n      <td>1.978659</td>\n    </tr>\n    <tr>\n      <th>11</th>\n      <td>11</td>\n      <td>celestial-sweep-44</td>\n      <td>5</td>\n      <td>False</td>\n      <td>31</td>\n      <td>1</td>\n      <td>True</td>\n      <td>True</td>\n      <td>False</td>\n      <td>False</td>\n      <td>0.817408</td>\n      <td>2.935467</td>\n    </tr>\n    <tr>\n      <th>12</th>\n      <td>12</td>\n      <td>prime-sweep-43</td>\n      <td>5</td>\n      <td>False</td>\n      <td>31</td>\n      <td>1</td>\n      <td>True</td>\n      <td>True</td>\n      <td>False</td>\n      <td>False</td>\n      <td>0.999788</td>\n      <td>1.938203</td>\n    </tr>\n    <tr>\n      <th>13</th>\n      <td>13</td>\n      <td>leafy-sweep-40</td>\n      <td>5</td>\n      <td>False</td>\n      <td>5</td>\n      <td>1</td>\n      <td>True</td>\n      <td>True</td>\n      <td>False</td>\n      <td>False</td>\n      <td>0.999565</td>\n      <td>1.978659</td>\n    </tr>\n    <tr>\n      <th>14</th>\n      <td>14</td>\n      <td>likely-sweep-41</td>\n      <td>5</td>\n      <td>False</td>\n      <td>31</td>\n      <td>1</td>\n      <td>True</td>\n      <td>True</td>\n      <td>False</td>\n      <td>False</td>\n      <td>0.999772</td>\n      <td>1.908259</td>\n    </tr>\n    <tr>\n      <th>15</th>\n      <td>15</td>\n      <td>rich-sweep-42</td>\n      <td>5</td>\n      <td>False</td>\n      <td>31</td>\n      <td>1</td>\n      <td>True</td>\n      <td>True</td>\n      <td>False</td>\n      <td>False</td>\n      <td>0.819892</td>\n      <td>2.966868</td>\n    </tr>\n    <tr>\n      <th>16</th>\n      <td>16</td>\n      <td>fresh-sweep-39</td>\n      <td>5</td>\n      <td>False</td>\n      <td>5</td>\n      <td>1</td>\n      <td>True</td>\n      <td>True</td>\n      <td>False</td>\n      <td>False</td>\n      <td>0.817408</td>\n      <td>2.935467</td>\n    </tr>\n    <tr>\n      <th>17</th>\n      <td>17</td>\n      <td>vital-sweep-38</td>\n      <td>5</td>\n      <td>False</td>\n      <td>5</td>\n      <td>1</td>\n      <td>True</td>\n      <td>True</td>\n      <td>False</td>\n      <td>False</td>\n      <td>0.999788</td>\n      <td>1.938203</td>\n    </tr>\n    <tr>\n      <th>18</th>\n      <td>18</td>\n      <td>dulcet-sweep-36</td>\n      <td>5</td>\n      <td>False</td>\n      <td>5</td>\n      <td>1</td>\n      <td>True</td>\n      <td>True</td>\n      <td>False</td>\n      <td>False</td>\n      <td>0.999772</td>\n      <td>1.908259</td>\n    </tr>\n    <tr>\n      <th>19</th>\n      <td>19</td>\n      <td>lilac-sweep-37</td>\n      <td>5</td>\n      <td>False</td>\n      <td>5</td>\n      <td>1</td>\n      <td>True</td>\n      <td>True</td>\n      <td>False</td>\n      <td>False</td>\n      <td>0.819892</td>\n      <td>2.966868</td>\n    </tr>\n    <tr>\n      <th>20</th>\n      <td>20</td>\n      <td>vital-sweep-35</td>\n      <td>5</td>\n      <td>False</td>\n      <td>0</td>\n      <td>1</td>\n      <td>True</td>\n      <td>True</td>\n      <td>False</td>\n      <td>False</td>\n      <td>0.999565</td>\n      <td>1.978659</td>\n    </tr>\n    <tr>\n      <th>21</th>\n      <td>21</td>\n      <td>pretty-sweep-33</td>\n      <td>5</td>\n      <td>False</td>\n      <td>0</td>\n      <td>1</td>\n      <td>True</td>\n      <td>True</td>\n      <td>False</td>\n      <td>False</td>\n      <td>0.999788</td>\n      <td>1.938203</td>\n    </tr>\n    <tr>\n      <th>22</th>\n      <td>22</td>\n      <td>neat-sweep-34</td>\n      <td>5</td>\n      <td>False</td>\n      <td>0</td>\n      <td>1</td>\n      <td>True</td>\n      <td>True</td>\n      <td>False</td>\n      <td>False</td>\n      <td>0.817408</td>\n      <td>2.935467</td>\n    </tr>\n    <tr>\n      <th>23</th>\n      <td>23</td>\n      <td>vibrant-sweep-32</td>\n      <td>5</td>\n      <td>False</td>\n      <td>0</td>\n      <td>1</td>\n      <td>True</td>\n      <td>True</td>\n      <td>False</td>\n      <td>False</td>\n      <td>0.819892</td>\n      <td>2.966868</td>\n    </tr>\n    <tr>\n      <th>24</th>\n      <td>24</td>\n      <td>toasty-sweep-25</td>\n      <td>5</td>\n      <td>False</td>\n      <td>97</td>\n      <td>1</td>\n      <td>True</td>\n      <td>False</td>\n      <td>False</td>\n      <td>False</td>\n      <td>0.999928</td>\n      <td>1.961014</td>\n    </tr>\n    <tr>\n      <th>25</th>\n      <td>25</td>\n      <td>vivid-sweep-24</td>\n      <td>5</td>\n      <td>False</td>\n      <td>97</td>\n      <td>1</td>\n      <td>True</td>\n      <td>False</td>\n      <td>False</td>\n      <td>False</td>\n      <td>0.999902</td>\n      <td>1.880423</td>\n    </tr>\n    <tr>\n      <th>26</th>\n      <td>26</td>\n      <td>peachy-sweep-22</td>\n      <td>5</td>\n      <td>False</td>\n      <td>97</td>\n      <td>1</td>\n      <td>True</td>\n      <td>False</td>\n      <td>False</td>\n      <td>False</td>\n      <td>0.999898</td>\n      <td>1.917553</td>\n    </tr>\n    <tr>\n      <th>27</th>\n      <td>27</td>\n      <td>leafy-sweep-21</td>\n      <td>5</td>\n      <td>False</td>\n      <td>97</td>\n      <td>1</td>\n      <td>True</td>\n      <td>False</td>\n      <td>False</td>\n      <td>False</td>\n      <td>0.999888</td>\n      <td>1.902992</td>\n    </tr>\n    <tr>\n      <th>28</th>\n      <td>28</td>\n      <td>balmy-sweep-20</td>\n      <td>5</td>\n      <td>False</td>\n      <td>75</td>\n      <td>1</td>\n      <td>True</td>\n      <td>False</td>\n      <td>False</td>\n      <td>False</td>\n      <td>0.999928</td>\n      <td>1.961014</td>\n    </tr>\n    <tr>\n      <th>29</th>\n      <td>29</td>\n      <td>different-sweep-19</td>\n      <td>5</td>\n      <td>False</td>\n      <td>75</td>\n      <td>1</td>\n      <td>True</td>\n      <td>False</td>\n      <td>False</td>\n      <td>False</td>\n      <td>0.999902</td>\n      <td>1.880423</td>\n    </tr>\n    <tr>\n      <th>30</th>\n      <td>30</td>\n      <td>brisk-sweep-18</td>\n      <td>5</td>\n      <td>False</td>\n      <td>75</td>\n      <td>1</td>\n      <td>True</td>\n      <td>False</td>\n      <td>False</td>\n      <td>False</td>\n      <td>0.999900</td>\n      <td>1.931670</td>\n    </tr>\n    <tr>\n      <th>31</th>\n      <td>31</td>\n      <td>elated-sweep-16</td>\n      <td>5</td>\n      <td>False</td>\n      <td>75</td>\n      <td>1</td>\n      <td>True</td>\n      <td>False</td>\n      <td>False</td>\n      <td>False</td>\n      <td>0.999888</td>\n      <td>1.902992</td>\n    </tr>\n    <tr>\n      <th>32</th>\n      <td>32</td>\n      <td>lunar-sweep-17</td>\n      <td>5</td>\n      <td>False</td>\n      <td>75</td>\n      <td>1</td>\n      <td>True</td>\n      <td>False</td>\n      <td>False</td>\n      <td>False</td>\n      <td>0.999898</td>\n      <td>1.917553</td>\n    </tr>\n    <tr>\n      <th>33</th>\n      <td>33</td>\n      <td>dry-sweep-14</td>\n      <td>5</td>\n      <td>False</td>\n      <td>31</td>\n      <td>1</td>\n      <td>True</td>\n      <td>False</td>\n      <td>False</td>\n      <td>False</td>\n      <td>0.999902</td>\n      <td>1.880423</td>\n    </tr>\n    <tr>\n      <th>34</th>\n      <td>34</td>\n      <td>peach-sweep-15</td>\n      <td>5</td>\n      <td>False</td>\n      <td>31</td>\n      <td>1</td>\n      <td>True</td>\n      <td>False</td>\n      <td>False</td>\n      <td>False</td>\n      <td>0.999928</td>\n      <td>1.961014</td>\n    </tr>\n    <tr>\n      <th>35</th>\n      <td>35</td>\n      <td>pious-sweep-12</td>\n      <td>5</td>\n      <td>False</td>\n      <td>31</td>\n      <td>1</td>\n      <td>True</td>\n      <td>False</td>\n      <td>False</td>\n      <td>False</td>\n      <td>0.999898</td>\n      <td>1.917553</td>\n    </tr>\n    <tr>\n      <th>36</th>\n      <td>36</td>\n      <td>zesty-sweep-7</td>\n      <td>5</td>\n      <td>False</td>\n      <td>5</td>\n      <td>1</td>\n      <td>True</td>\n      <td>False</td>\n      <td>False</td>\n      <td>False</td>\n      <td>0.999898</td>\n      <td>1.917553</td>\n    </tr>\n    <tr>\n      <th>37</th>\n      <td>37</td>\n      <td>revived-sweep-5</td>\n      <td>5</td>\n      <td>False</td>\n      <td>0</td>\n      <td>1</td>\n      <td>True</td>\n      <td>False</td>\n      <td>False</td>\n      <td>False</td>\n      <td>0.999928</td>\n      <td>1.961014</td>\n    </tr>\n    <tr>\n      <th>38</th>\n      <td>38</td>\n      <td>easy-sweep-4</td>\n      <td>5</td>\n      <td>False</td>\n      <td>0</td>\n      <td>1</td>\n      <td>True</td>\n      <td>False</td>\n      <td>False</td>\n      <td>False</td>\n      <td>0.999902</td>\n      <td>1.880423</td>\n    </tr>\n    <tr>\n      <th>39</th>\n      <td>39</td>\n      <td>treasured-sweep-3</td>\n      <td>5</td>\n      <td>False</td>\n      <td>0</td>\n      <td>1</td>\n      <td>True</td>\n      <td>False</td>\n      <td>False</td>\n      <td>False</td>\n      <td>0.999900</td>\n      <td>1.931670</td>\n    </tr>\n    <tr>\n      <th>40</th>\n      <td>40</td>\n      <td>scarlet-sweep-1</td>\n      <td>5</td>\n      <td>False</td>\n      <td>0</td>\n      <td>1</td>\n      <td>True</td>\n      <td>False</td>\n      <td>False</td>\n      <td>False</td>\n      <td>0.999888</td>\n      <td>1.902992</td>\n    </tr>\n  </tbody>\n</table>\n</div>"
     },
     "execution_count": 11,
     "metadata": {},
     "output_type": "execute_result"
    }
   ],
   "source": [
    "df5d_no_permute"
   ],
   "metadata": {
    "collapsed": false
   }
  },
  {
   "cell_type": "code",
   "execution_count": 18,
   "outputs": [
    {
     "data": {
      "text/plain": "array([[1.0008599 , 0.0246559 , 0.0150806 , 0.01416076, 0.01266486],\n       [3.28382951, 1.49344551, 0.04197032, 0.02143745, 0.01256341],\n       [2.78666864, 2.00157743, 1.54767399, 0.01780973, 0.01010029],\n       [3.16051924, 2.30656203, 3.19007171, 1.48915682, 0.01808184],\n       [4.27299863, 3.23531106, 2.04438678, 1.86514341, 1.44005091]])"
     },
     "execution_count": 18,
     "metadata": {},
     "output_type": "execute_result"
    }
   ],
   "source": [
    "est_unmix_jacobians5d_no_permute[2][[2,1,4,0,3],:]@np.linalg.inv(true_unmix_jacobians5d_no_permute[2])"
   ],
   "metadata": {
    "collapsed": false
   }
  },
  {
   "cell_type": "code",
   "execution_count": 13,
   "outputs": [
    {
     "data": {
      "text/plain": "array([[1.46017098, 3.58086824, 3.88010502, 4.57466412, 0.04051852],\n       [1.52536011, 4.68604755, 0.06646711, 0.04168577, 0.02815259],\n       [1.15067768, 0.03456333, 0.0203314 , 0.01895902, 0.02837994],\n       [1.24213862, 5.13223171, 2.44426537, 2.94517016, 3.22692466],\n       [1.2944994 , 3.1044004 , 3.73412204, 0.0352938 , 0.02263314]])"
     },
     "execution_count": 13,
     "metadata": {},
     "output_type": "execute_result"
    }
   ],
   "source": [
    "est_unmix_jacobians5d_no_permute[2]"
   ],
   "metadata": {
    "collapsed": false
   }
  },
  {
   "cell_type": "code",
   "execution_count": 31,
   "outputs": [
    {
     "name": "stdout",
     "output_type": "stream",
     "text": [
      "tensor([[0.0000, 0.0000, 0.0000, 0.0000, 0.0000],\n",
      "        [0.0000, 0.0000, 0.0000, 0.0000, 0.0000],\n",
      "        [0.0000, 0.0000, 0.0000, 0.0000, 1.7937],\n",
      "        [0.0000, 0.0000, 0.0000, 0.0000, 2.0454],\n",
      "        [2.6571, 1.9230, 0.0000, 0.0000, 1.9350]])\n",
      "tensor([[ 0.0000,  0.0000,  0.0000,  0.0000,  0.0000],\n",
      "        [ 0.0000,  0.0000,  0.0000,  0.0000,  0.0000],\n",
      "        [ 0.0000,  0.0000, 10.3061,  8.9104,  0.0000],\n",
      "        [12.0787,  0.0000, 13.2101, 12.5092,  0.0000],\n",
      "        [ 0.0000,  0.0000,  0.0000,  0.0000,  0.0000]])\n",
      "tensor([[0.0000, 0.0000, 0.0000, 0.0000, 0.0000],\n",
      "        [0.0000, 0.0000, 0.0000, 0.0000, 0.0000],\n",
      "        [0.0000, 0.0000, 0.0000, 0.0000, 1.1523],\n",
      "        [0.0000, 1.2487, 0.0000, 0.0000, 1.1921],\n",
      "        [0.0000, 0.0000, 2.5398, 0.0000, 1.1964]])\n",
      "tensor([[ 0.0000,  0.0000,  0.0000,  0.0000,  0.0000],\n",
      "        [ 0.0000,  0.0000,  0.0000,  0.0000,  0.0000],\n",
      "        [16.3064, 19.2716,  0.0000,  0.0000, 20.4384],\n",
      "        [ 0.0000, 17.9508,  0.0000,  0.0000, 19.1925],\n",
      "        [ 0.0000,  0.0000,  0.0000,  0.0000,  0.0000]])\n",
      "tensor([[0.0000, 0.0000, 0.0000, 0.0000, 0.0000],\n",
      "        [0.0000, 1.2412, 0.0000, 0.0000, 0.0000],\n",
      "        [0.0000, 0.0000, 0.0000, 0.0000, 0.0000],\n",
      "        [0.0000, 0.0000, 1.6949, 0.0000, 0.0000],\n",
      "        [2.2711, 0.0000, 2.0757, 0.0000, 1.2685]])\n",
      "tensor([[0.0000, 0.0000, 0.0000, 0.0000, 0.0000],\n",
      "        [0.0000, 0.0000, 0.0000, 0.0000, 0.0000],\n",
      "        [1.2551, 0.0000, 0.0000, 0.0000, 1.0521],\n",
      "        [0.0000, 1.1851, 1.4673, 0.0000, 0.0000],\n",
      "        [0.0000, 2.7938, 0.0000, 0.0000, 0.0000]])\n",
      "tensor([[ 0.0000,  0.0000,  0.0000,  0.0000,  0.0000],\n",
      "        [ 0.0000, 25.3436,  0.0000,  0.0000, 25.1742],\n",
      "        [ 0.0000,  0.0000,  0.0000,  0.0000,  0.0000],\n",
      "        [ 0.0000,  0.0000,  0.0000,  0.0000,  0.0000],\n",
      "        [40.6329, 48.0814,  0.0000,  0.0000, 43.5468]])\n",
      "tensor([[0.0000, 0.0000, 0.0000, 0.0000, 0.0000],\n",
      "        [0.0000, 0.0000, 1.3006, 0.0000, 0.0000],\n",
      "        [0.9766, 0.0000, 1.2524, 0.0000, 0.0000],\n",
      "        [0.0000, 0.0000, 0.0000, 0.0000, 1.0991],\n",
      "        [0.0000, 1.6518, 0.0000, 0.0000, 0.0000]])\n",
      "tensor([[0.0000, 0.0000, 0.0000, 0.0000, 0.0000],\n",
      "        [0.0000, 0.0000, 0.0000, 0.9978, 0.0000],\n",
      "        [0.0000, 0.0000, 0.0000, 0.0000, 0.0000],\n",
      "        [0.0000, 0.0000, 3.4355, 0.0000, 0.0000],\n",
      "        [1.1432, 0.0000, 2.5966, 1.0037, 0.0000]])\n",
      "tensor([[ 0.0000,  0.0000,  0.0000,  0.0000,  0.0000],\n",
      "        [ 0.0000,  0.0000,  0.0000,  0.0000,  0.0000],\n",
      "        [ 0.0000,  0.0000,  0.0000,  0.0000,  0.0000],\n",
      "        [35.6365, 42.0086,  0.0000,  0.0000, 39.6135],\n",
      "        [ 0.0000, 32.0132,  0.0000,  0.0000, 27.5986]])\n",
      "tensor([[0.0000, 0.0000, 0.0000, 0.0000, 0.0000],\n",
      "        [1.4039, 0.0000, 0.0000, 0.0000, 0.0000],\n",
      "        [1.3843, 0.0000, 0.0000, 0.0000, 0.0000],\n",
      "        [1.7005, 0.0000, 0.0000, 0.0000, 0.0000],\n",
      "        [2.4500, 0.0000, 2.1648, 0.0000, 0.0000]])\n",
      "tensor([[ 0.0000,  0.0000,  0.0000,  0.0000,  0.0000],\n",
      "        [10.2190,  0.0000,  8.8558, 10.3563,  0.0000],\n",
      "        [ 0.0000,  6.4431,  0.0000,  0.0000,  0.0000],\n",
      "        [ 0.0000,  5.7069,  0.0000,  0.0000,  0.0000],\n",
      "        [ 0.0000,  0.0000,  0.0000,  0.0000,  0.0000]])\n",
      "tensor([[0.0000, 0.0000, 0.0000, 0.0000, 0.0000],\n",
      "        [0.0000, 0.0000, 2.9020, 0.0000, 0.0000],\n",
      "        [0.0000, 0.0000, 2.6069, 0.0000, 0.0000],\n",
      "        [0.0000, 1.0380, 3.1138, 0.0000, 0.0000],\n",
      "        [0.0000, 0.0000, 3.6983, 0.0000, 0.0000]])\n",
      "tensor([[0.0000, 0.0000, 0.0000, 0.0000, 0.0000],\n",
      "        [0.0000, 0.0000, 0.0000, 0.0000, 0.0000],\n",
      "        [0.0000, 0.0000, 0.0000, 0.0000, 0.0000],\n",
      "        [2.3138, 0.0000, 0.0000, 0.0000, 0.0000],\n",
      "        [2.1871, 1.8166, 2.0771, 0.0000, 2.9827]])\n",
      "tensor([[0.0000, 0.0000, 0.0000, 0.0000, 0.0000],\n",
      "        [0.0000, 1.2771, 0.0000, 0.0000, 0.0000],\n",
      "        [0.0000, 2.3977, 0.0000, 0.0000, 0.0000],\n",
      "        [0.0000, 1.5528, 0.0000, 0.0000, 0.0000],\n",
      "        [0.0000, 1.1989, 0.0000, 0.0000, 1.2663]])\n",
      "tensor([[ 0.0000,  0.0000,  0.0000,  0.0000,  0.0000],\n",
      "        [40.0000, 48.1408,  0.0000,  0.0000, 44.9957],\n",
      "        [ 0.0000,  0.0000,  0.0000,  0.0000,  0.0000],\n",
      "        [ 0.0000,  0.0000,  0.0000,  0.0000,  0.0000],\n",
      "        [23.2097, 27.3428,  0.0000,  0.0000,  0.0000]])\n",
      "tensor([[ 0.0000,  0.0000,  0.0000,  0.0000,  0.0000],\n",
      "        [ 0.0000,  5.0469,  0.0000,  0.0000,  0.0000],\n",
      "        [ 0.0000,  0.0000,  0.0000,  0.0000,  0.0000],\n",
      "        [ 0.0000,  0.0000,  0.0000,  0.0000,  0.0000],\n",
      "        [14.1252,  5.6569, 14.5833, 14.6970,  0.0000]])\n",
      "tensor([[0.0000, 0.0000, 0.0000, 0.0000, 0.0000],\n",
      "        [0.0000, 0.0000, 2.2969, 0.0000, 0.0000],\n",
      "        [0.0000, 0.0000, 1.6881, 0.0000, 0.0000],\n",
      "        [0.0000, 0.0000, 1.6588, 0.0000, 0.0000],\n",
      "        [0.0000, 1.3939, 1.7282, 0.0000, 0.0000]])\n",
      "tensor([[0.0000, 0.0000, 0.0000, 0.0000, 0.0000],\n",
      "        [0.0000, 1.8496, 0.0000, 0.0000, 0.0000],\n",
      "        [0.0000, 1.5427, 0.0000, 0.0000, 0.0000],\n",
      "        [0.0000, 1.5439, 0.0000, 0.0000, 0.0000],\n",
      "        [0.0000, 1.4088, 1.4537, 0.0000, 0.0000]])\n",
      "tensor([[ 0.0000,  0.0000,  0.0000,  0.0000,  0.0000],\n",
      "        [16.7575, 20.3918,  0.0000,  0.0000, 18.5307],\n",
      "        [ 0.0000,  0.0000,  0.0000,  0.0000,  0.0000],\n",
      "        [ 0.0000,  0.0000,  0.0000,  0.0000,  0.0000],\n",
      "        [ 0.0000, 18.6269,  0.0000,  0.0000, 20.6456]])\n",
      "tensor([[0.0000, 0.0000, 0.0000, 0.0000, 0.0000],\n",
      "        [0.0000, 0.0000, 0.0000, 0.0000, 0.0000],\n",
      "        [0.0000, 0.0000, 0.0000, 0.0000, 0.0000],\n",
      "        [1.9294, 0.0000, 0.0000, 0.0000, 2.0306],\n",
      "        [2.2041, 0.0000, 2.1194, 0.0000, 2.9556]])\n",
      "tensor([[0.0000, 0.0000, 0.0000, 0.0000, 0.0000],\n",
      "        [0.0000, 0.0000, 2.2969, 0.0000, 0.0000],\n",
      "        [0.0000, 0.0000, 1.1158, 0.0000, 0.0000],\n",
      "        [0.0000, 0.0000, 0.0000, 0.0000, 1.4235],\n",
      "        [0.0000, 1.4030, 1.8687, 0.0000, 0.0000]])\n",
      "tensor([[ 0.0000,  0.0000,  0.0000,  0.0000,  0.0000],\n",
      "        [ 0.0000,  0.0000,  0.0000,  0.0000,  0.0000],\n",
      "        [12.8487,  0.0000, 11.6415, 12.7606,  0.0000],\n",
      "        [11.4267,  0.0000, 11.8243,  0.0000,  0.0000],\n",
      "        [ 0.0000,  0.0000,  0.0000,  0.0000,  0.0000]])\n",
      "tensor([[ 0.0000, 15.9824,  0.0000,  0.0000,  0.0000],\n",
      "        [16.7576, 20.3919,  0.0000,  0.0000, 18.5308],\n",
      "        [ 0.0000,  0.0000,  0.0000,  0.0000,  0.0000],\n",
      "        [ 0.0000,  0.0000,  0.0000,  0.0000, 17.9266],\n",
      "        [ 0.0000,  0.0000,  0.0000,  0.0000,  0.0000]])\n",
      "----------------------------------\n",
      "dim=5 (nonlin_sem=True)\tMCC=0.924+0.091\t  Acc:0.647+0.107\tAcc (HSIC):0.497+0.103\tSHD:0.353333+0.107497\t[24 items]\n",
      "tensor([[0.0000, 0.0000, 0.0000, 0.0000, 0.0000],\n",
      "        [0.0000, 0.0000, 0.0000, 0.0000, 1.9980],\n",
      "        [0.0000, 0.0000, 0.0000, 0.0000, 0.0000],\n",
      "        [0.0000, 0.0000, 2.3262, 0.0000, 0.0000],\n",
      "        [1.7549, 2.0923, 2.8445, 0.0000, 0.0000]])\n",
      "tensor([[0.0000, 0.0000, 0.0000, 0.0000, 0.0000],\n",
      "        [0.0000, 1.8263, 0.0000, 0.0000, 0.0000],\n",
      "        [0.0000, 1.5647, 0.0000, 0.0000, 0.0000],\n",
      "        [0.0000, 1.8429, 0.0000, 0.0000, 1.7056],\n",
      "        [0.0000, 1.4399, 0.0000, 0.0000, 0.0000]])\n",
      "tensor([[0.0000, 0.0000, 0.0000, 0.0000, 0.0000],\n",
      "        [0.0000, 1.3316, 0.0000, 1.6855, 0.0000],\n",
      "        [0.0000, 0.0000, 0.0000, 0.0000, 0.0000],\n",
      "        [0.0000, 0.0000, 1.6253, 0.0000, 0.0000],\n",
      "        [0.0000, 0.0000, 1.3099, 0.0000, 1.2546]])\n",
      "tensor([[0.0000, 0.0000, 0.0000, 0.0000, 0.0000],\n",
      "        [2.2274, 1.8748, 0.0000, 0.0000, 0.0000],\n",
      "        [1.9005, 1.7836, 0.0000, 0.0000, 0.0000],\n",
      "        [0.0000, 0.0000, 0.0000, 0.0000, 1.9350],\n",
      "        [0.0000, 0.0000, 0.0000, 0.0000, 0.0000]])\n",
      "tensor([[0.0000, 0.0000, 0.0000, 0.0000, 0.0000],\n",
      "        [0.0000, 0.0000, 1.3893, 0.0000, 0.0000],\n",
      "        [0.0000, 0.0000, 0.0000, 0.0000, 0.0000],\n",
      "        [0.0000, 1.6841, 0.0000, 0.0000, 0.0000],\n",
      "        [1.5289, 2.8495, 2.7105, 0.0000, 0.0000]])\n",
      "tensor([[0.0000, 0.0000, 0.0000, 0.0000, 0.0000],\n",
      "        [1.0097, 0.0000, 0.0000, 0.0000, 0.0000],\n",
      "        [0.0000, 0.0000, 1.0966, 0.0000, 0.0000],\n",
      "        [0.0000, 0.0000, 1.1122, 1.8402, 0.0000],\n",
      "        [0.0000, 0.0000, 0.0000, 0.0000, 2.0446]])\n",
      "tensor([[0.0000, 0.0000, 0.0000, 0.0000, 0.0000],\n",
      "        [1.9305, 0.0000, 1.6018, 0.0000, 0.0000],\n",
      "        [0.0000, 0.0000, 0.0000, 0.0000, 0.0000],\n",
      "        [2.8691, 0.0000, 0.0000, 0.0000, 0.0000],\n",
      "        [2.4500, 1.6341, 0.0000, 0.0000, 0.0000]])\n",
      "tensor([[0.0000, 0.0000, 0.0000, 0.0000, 0.0000],\n",
      "        [1.3602, 0.0000, 0.0000, 0.0000, 0.0000],\n",
      "        [0.0000, 0.0000, 1.3227, 0.0000, 0.0000],\n",
      "        [0.0000, 1.3650, 0.0000, 0.0000, 0.0000],\n",
      "        [0.0000, 1.3710, 0.0000, 0.0000, 1.3749]])\n",
      "tensor([[0.0000, 0.0000, 0.0000, 0.0000, 0.0000],\n",
      "        [0.0000, 0.0000, 0.0000, 1.3216, 1.2823],\n",
      "        [0.0000, 0.0000, 0.0000, 0.0000, 0.0000],\n",
      "        [0.0000, 0.0000, 0.0000, 0.0000, 1.7035],\n",
      "        [0.0000, 0.0000, 1.8072, 0.0000, 1.6143]])\n",
      "tensor([[0.0000, 0.0000, 0.0000, 0.0000, 0.0000],\n",
      "        [0.0000, 0.0000, 0.0000, 1.7200, 0.0000],\n",
      "        [0.0000, 0.0000, 0.0000, 2.3247, 0.0000],\n",
      "        [0.0000, 0.0000, 0.9976, 2.0170, 0.0000],\n",
      "        [0.0000, 0.0000, 0.0000, 0.0000, 1.9115]])\n",
      "tensor([[1.6149, 0.0000, 0.0000, 0.0000, 0.0000],\n",
      "        [0.0000, 0.0000, 0.0000, 0.0000, 0.0000],\n",
      "        [0.0000, 0.0000, 0.0000, 0.0000, 0.0000],\n",
      "        [0.0000, 1.5895, 0.0000, 0.0000, 0.0000],\n",
      "        [2.2108, 3.0643, 3.0592, 0.0000, 0.0000]])\n",
      "tensor([[0.0000, 0.0000, 0.0000, 0.0000, 0.0000],\n",
      "        [0.0000, 0.0000, 0.0000, 0.0000, 1.8410],\n",
      "        [0.0000, 0.0000, 0.0000, 0.0000, 1.6243],\n",
      "        [0.0000, 0.0000, 0.0000, 0.0000, 1.6737],\n",
      "        [0.0000, 0.0000, 1.7816, 0.0000, 1.7963]])\n",
      "tensor([[0.0000, 0.0000, 0.0000, 0.0000, 0.0000],\n",
      "        [0.0000, 0.0000, 0.0000, 0.0000, 2.4017],\n",
      "        [0.0000, 0.0000, 0.0000, 0.0000, 0.0000],\n",
      "        [0.0000, 0.0000, 1.6282, 0.0000, 0.0000],\n",
      "        [0.0000, 2.1846, 1.3237, 1.5763, 0.0000]])\n",
      "tensor([[0.0000, 0.0000, 0.0000, 0.0000, 0.0000],\n",
      "        [0.0000, 0.0000, 0.0000, 0.0000, 0.0000],\n",
      "        [0.0000, 0.0000, 0.0000, 0.0000, 0.0000],\n",
      "        [2.9717, 0.0000, 0.0000, 0.0000, 0.0000],\n",
      "        [4.2660, 2.8285, 2.9516, 0.0000, 2.5468]])\n",
      "tensor([[0.0000, 0.0000, 0.0000, 0.0000, 0.0000],\n",
      "        [0.0000, 0.0000, 0.0000, 2.1959, 0.0000],\n",
      "        [0.0000, 1.7462, 0.0000, 0.0000, 0.0000],\n",
      "        [0.0000, 1.5875, 2.0400, 0.0000, 0.0000],\n",
      "        [0.0000, 0.0000, 0.0000, 0.0000, 1.6761]])\n",
      "tensor([[0.0000, 0.0000, 0.0000, 0.0000, 0.0000],\n",
      "        [2.8245, 0.0000, 0.0000, 0.0000, 0.0000],\n",
      "        [0.0000, 0.0000, 0.0000, 0.0000, 0.0000],\n",
      "        [0.0000, 0.0000, 0.0000, 0.0000, 2.2189],\n",
      "        [2.5391, 0.0000, 2.0566, 0.0000, 1.4037]])\n",
      "tensor([[0.0000, 0.0000, 0.0000, 0.0000, 0.0000],\n",
      "        [0.0000, 2.2798, 0.0000, 0.0000, 0.0000],\n",
      "        [2.4321, 2.7426, 0.0000, 0.0000, 0.0000],\n",
      "        [1.9766, 2.5853, 0.0000, 0.0000, 0.0000],\n",
      "        [0.0000, 0.0000, 0.0000, 0.0000, 0.0000]])\n",
      "----------------------------------\n",
      "dim=5 (nonlin_sem=False)\tMCC=1.000+0.000\t  Acc:0.668+0.084\tAcc (HSIC):0.468+0.119\tSHD:0.331765+0.089721\t[17 items]\n"
     ]
    }
   ],
   "source": [
    "stats5d_no_permute=corrected_jacobian_stats(df5d_no_permute, true_unmix_jacobians5d_no_permute, est_unmix_jacobians5d_no_permute, permute_indices5d_no_permute, hsic_adj5d_no_permute)"
   ],
   "metadata": {
    "collapsed": false
   }
  },
  {
   "cell_type": "code",
   "execution_count": 38,
   "outputs": [
    {
     "data": {
      "text/plain": "array([0, 1, 2, 3, 4])"
     },
     "execution_count": 38,
     "metadata": {},
     "output_type": "execute_result"
    }
   ],
   "source": [
    "np.arange(0,5)"
   ],
   "metadata": {
    "collapsed": false
   }
  },
  {
   "cell_type": "code",
   "execution_count": 36,
   "outputs": [
    {
     "name": "stdout",
     "output_type": "stream",
     "text": [
      "----------------------------------\n",
      "dim=5 (nonlin_sem=True)\tMCC=1.000+0.000\t  Acc:0.954+0.040\tAcc (HSIC):0.422+0.092\tSHD:0.046154+0.039524\t[26 items]\n",
      "----------------------------------\n",
      "dim=5 (nonlin_sem=False)\tMCC=1.000+0.000\t  Acc:0.982+0.033\tAcc (HSIC):0.529+0.083\tSHD:0.017778+0.033259\t[27 items]\n"
     ]
    }
   ],
   "source": [
    "stats5d_munkres=corrected_jacobian_stats(df5d_munkres, true_unmix_jacobians5d_munkres, est_unmix_jacobians5d_munkres, permute_indices5d_munkres, hsic_adj5d_munkres, ica_permute_munkres)"
   ],
   "metadata": {
    "collapsed": false
   }
  },
  {
   "cell_type": "markdown",
   "source": [
    "### 8D SEM"
   ],
   "metadata": {
    "collapsed": false
   }
  },
  {
   "cell_type": "code",
   "execution_count": 315,
   "outputs": [
    {
     "name": "stdout",
     "output_type": "stream",
     "text": [
      "----------------------------------\n",
      "dim=8 (nonlin_sem=True)\tMCC=0.987+0.025\t  Acc:0.932+0.134\tSHD:0.067888+0.134115\t[29 items]\n",
      "----------------------------------\n",
      "dim=8 (nonlin_sem=False)\tMCC=1.000+0.000\t  Acc:1.000+0.000\tSHD:0.000000+0.000000\t[30 items]\n"
     ]
    }
   ],
   "source": [
    "stats8d=corrected_jacobian_stats(df8d, true_unmix_jacobians8d, est_unmix_jacobians8d,permute_indices8d,)"
   ],
   "metadata": {
    "collapsed": false
   }
  },
  {
   "cell_type": "markdown",
   "source": [
    "### 10D SEM"
   ],
   "metadata": {
    "collapsed": false
   }
  },
  {
   "cell_type": "code",
   "execution_count": 316,
   "outputs": [
    {
     "name": "stdout",
     "output_type": "stream",
     "text": [
      "----------------------------------\n",
      "dim=10 (nonlin_sem=True)\tMCC=0.944+0.032\t  Acc:0.739+0.076\tSHD:0.260667+0.076111\t[30 items]\n",
      "----------------------------------\n",
      "dim=10 (nonlin_sem=False)\tMCC=0.985+0.027\t  Acc:0.909+0.180\tSHD:0.091000+0.179895\t[30 items]\n"
     ]
    }
   ],
   "source": [
    "stats10d=corrected_jacobian_stats(df10d, true_unmix_jacobians10d, est_unmix_jacobians10d,permute_indices10d)"
   ],
   "metadata": {
    "collapsed": false
   }
  },
  {
   "cell_type": "markdown",
   "source": [
    "### MLP from Monti et al."
   ],
   "metadata": {
    "collapsed": false
   }
  },
  {
   "cell_type": "code",
   "execution_count": 317,
   "outputs": [
    {
     "name": "stdout",
     "output_type": "stream",
     "text": [
      "----------------------------------\n",
      "dim=6 (n_mixing_layer=5)\tMCC=0.848+0.020\t  Acc:0.706+0.022\tSHD:0.294444+0.022222\t[5 items]\n",
      "----------------------------------\n",
      "dim=6 (n_mixing_layer=4)\tMCC=0.833+0.014\t  Acc:0.717+0.027\tSHD:0.283333+0.027217\t[5 items]\n",
      "----------------------------------\n",
      "dim=6 (n_mixing_layer=3)\tMCC=0.932+0.087\t  Acc:0.900+0.122\tSHD:0.100000+0.122474\t[5 items]\n",
      "----------------------------------\n",
      "dim=6 (n_mixing_layer=2)\tMCC=0.999+0.000\t  Acc:1.000+0.000\tSHD:0.005556+0.011111\t[5 items]\n",
      "----------------------------------\n",
      "dim=6 (n_mixing_layer=1)\tMCC=1.000+0.000\t  Acc:1.000+0.000\tSHD:0.000000+0.000000\t[5 items]\n"
     ]
    }
   ],
   "source": [
    "stats_monti=corrected_jacobian_stats(df_monti, true_unmix_jacobians_monti, est_unmix_jacobians_monti,permute_indices_monti,selector_col=\"n_mixing_layer\")"
   ],
   "metadata": {
    "collapsed": false
   }
  },
  {
   "cell_type": "markdown",
   "source": [
    "### Monti variants"
   ],
   "metadata": {
    "collapsed": false
   }
  },
  {
   "cell_type": "code",
   "execution_count": 23,
   "outputs": [],
   "source": [
    "selectors = [\"n_mixing_layer\", \"variant\"]\n",
    "unique = [df_monti_variant[s].unique().tolist() for s in selectors]"
   ],
   "metadata": {
    "collapsed": false
   }
  },
  {
   "cell_type": "code",
   "execution_count": 25,
   "outputs": [
    {
     "data": {
      "text/plain": "[[4, 3, 2, 1], [18754, 8965, 2758, 32767, 25314]]"
     },
     "execution_count": 25,
     "metadata": {},
     "output_type": "execute_result"
    }
   ],
   "source": [
    "unique"
   ],
   "metadata": {
    "collapsed": false
   }
  },
  {
   "cell_type": "code",
   "execution_count": 20,
   "outputs": [],
   "source": [
    "import itertools"
   ],
   "metadata": {
    "collapsed": false
   }
  },
  {
   "cell_type": "code",
   "execution_count": 26,
   "outputs": [
    {
     "data": {
      "text/plain": "[(4, 18754),\n (4, 8965),\n (4, 2758),\n (4, 32767),\n (4, 25314),\n (3, 18754),\n (3, 8965),\n (3, 2758),\n (3, 32767),\n (3, 25314),\n (2, 18754),\n (2, 8965),\n (2, 2758),\n (2, 32767),\n (2, 25314),\n (1, 18754),\n (1, 8965),\n (1, 2758),\n (1, 32767),\n (1, 25314)]"
     },
     "execution_count": 26,
     "metadata": {},
     "output_type": "execute_result"
    }
   ],
   "source": [
    "[e for e in itertools.product(*unique)]"
   ],
   "metadata": {
    "collapsed": false
   }
  },
  {
   "cell_type": "code",
   "execution_count": 47,
   "outputs": [
    {
     "name": "stdout",
     "output_type": "stream",
     "text": [
      "----------------------------------\n",
      "dim=6 (n_mixing_layer=5)\tMCC=0.857+0.025\t  Acc:0.728+0.027\tAcc (HSIC):0.461+0.065\tSHD:0.272222+0.027217\t[5 items]\n",
      "----------------------------------\n",
      "dim=6 (n_mixing_layer=4)\tMCC=0.857+0.023\t  Acc:0.717+0.067\tAcc (HSIC):0.456+0.048\tSHD:0.283333+0.066667\t[5 items]\n",
      "----------------------------------\n",
      "dim=6 (n_mixing_layer=3)\tMCC=0.916+0.072\t  Acc:0.656+0.089\tAcc (HSIC):0.489+0.116\tSHD:0.344444+0.088889\t[5 items]\n",
      "----------------------------------\n",
      "dim=6 (n_mixing_layer=2)\tMCC=0.996+0.000\t  Acc:0.689+0.087\tAcc (HSIC):0.483+0.062\tSHD:0.311111+0.086781\t[5 items]\n",
      "----------------------------------\n",
      "dim=6 (n_mixing_layer=1)\tMCC=0.996+0.000\t  Acc:0.706+0.103\tAcc (HSIC):0.417+0.030\tSHD:0.294444+0.100308\t[5 items]\n"
     ]
    }
   ],
   "source": [
    "stats_monti_variant=corrected_jacobian_stats(df_monti_variant, true_unmix_jacobians_monti_variant, est_unmix_jacobians_monti_variant,permute_indices_monti_variant, hsic_adj_monti_variant,selector_col=\"n_mixing_layer\")"
   ],
   "metadata": {
    "collapsed": false
   }
  },
  {
   "cell_type": "markdown",
   "source": [
    "## Learning permutations"
   ],
   "metadata": {
    "collapsed": false
   }
  },
  {
   "cell_type": "markdown",
   "source": [
    "### 3D SEM"
   ],
   "metadata": {
    "collapsed": false
   }
  },
  {
   "cell_type": "code",
   "execution_count": 305,
   "outputs": [
    {
     "name": "stdout",
     "output_type": "stream",
     "text": [
      "----------------------------------\n",
      "----------------------------------\n",
      "dim=3 (nonlin_sem=False)\tMCC=1.000+0.000\tAcc(order):1.000\t  Acc:1.000\tSHD:0.000000\t[27 items]\n",
      "----------------------------------\n",
      "----------------------------------\n",
      "----------------------------------\n",
      "----------------------------------\n",
      "dim=3 (nonlin_sem=True)\tMCC=1.000+0.000\tAcc(order):1.000\t  Acc:1.000\tSHD:0.000000\t[13 items]\n",
      "----------------------------------\n",
      "----------------------------------\n"
     ]
    }
   ],
   "source": [
    "learning_stats(df3d, true_unmix_jacobians3d, est_unmix_jacobians3d, permute_indices3d)"
   ],
   "metadata": {
    "collapsed": false
   }
  },
  {
   "cell_type": "markdown",
   "source": [
    "### 5D SEM"
   ],
   "metadata": {
    "collapsed": false
   }
  },
  {
   "cell_type": "code",
   "execution_count": 306,
   "outputs": [
    {
     "name": "stdout",
     "output_type": "stream",
     "text": [
      "----------------------------------\n",
      "----------------------------------\n",
      "dim=5 (nonlin_sem=True)\tMCC=0.971+0.065\tAcc(order):0.828\t  Acc:0.974\tSHD:0.026207\t[29 items]\n",
      "----------------------------------\n",
      "----------------------------------\n",
      "----------------------------------\n",
      "----------------------------------\n",
      "dim=5 (nonlin_sem=False)\tMCC=1.000+0.000\tAcc(order):0.966\t  Acc:0.999\tSHD:0.001379\t[29 items]\n",
      "----------------------------------\n",
      "----------------------------------\n"
     ]
    }
   ],
   "source": [
    "learning_stats(df5d, true_unmix_jacobians5d, est_unmix_jacobians5d, permute_indices5d, 1e-3)"
   ],
   "metadata": {
    "collapsed": false
   }
  },
  {
   "cell_type": "code",
   "execution_count": 22,
   "outputs": [],
   "source": [
    "for i in range(len(permute_indices5d_no_permute)):\n",
    "    permute_indices5d_no_permute[i] = np.array([0,1,2,3,4])"
   ],
   "metadata": {
    "collapsed": false
   }
  },
  {
   "cell_type": "code",
   "execution_count": 26,
   "outputs": [
    {
     "name": "stdout",
     "output_type": "stream",
     "text": [
      "----------------------------------\n",
      "dim=5 (nonlin_sem=True)\tMCC=0.924+0.091\tAcc(order):0.000\t  Acc:0.867\tSHD:0.133333\t[24 items]\n",
      "----------------------------------\n",
      "dim=5 (nonlin_sem=False)\tMCC=1.000+0.000\tAcc(order):0.000\t  Acc:1.000\tSHD:0.000000\t[17 items]\n"
     ]
    }
   ],
   "source": [
    "learning_stats(df5d_no_permute, true_unmix_jacobians5d_no_permute, est_unmix_jacobians5d_no_permute, permute_indices5d_no_permute\n",
    "               , 1e-3, dag_permute=False)"
   ],
   "metadata": {
    "collapsed": false
   }
  },
  {
   "cell_type": "code",
   "execution_count": null,
   "outputs": [],
   "source": [
    "learning_stats(df5d_no_roll, true_unmix_jacobians5d_no_roll, est_unmix_jacobians5d_no_roll, permute_indices5d_no_roll\n",
    "               , 1e-3, dag_permute=False)"
   ],
   "metadata": {
    "collapsed": false
   }
  },
  {
   "cell_type": "markdown",
   "source": [
    "### 8D SEM"
   ],
   "metadata": {
    "collapsed": false
   }
  },
  {
   "cell_type": "code",
   "execution_count": 307,
   "outputs": [
    {
     "name": "stdout",
     "output_type": "stream",
     "text": [
      "----------------------------------\n",
      "dim=8 (nonlin_sem=True)\tMCC=0.987+0.025\tAcc(order):0.793\t  Acc:0.968\tSHD:0.031789\t[29 items]\n",
      "----------------------------------\n",
      "dim=8 (nonlin_sem=False)\tMCC=1.000+0.000\tAcc(order):1.000\t  Acc:1.000\tSHD:0.000000\t[30 items]\n"
     ]
    }
   ],
   "source": [
    "learning_stats(df8d, true_unmix_jacobians8d, est_unmix_jacobians8d, permute_indices8d, 1e-3)"
   ],
   "metadata": {
    "collapsed": false
   }
  },
  {
   "cell_type": "markdown",
   "source": [
    "### 10D SEM"
   ],
   "metadata": {
    "collapsed": false
   }
  },
  {
   "cell_type": "code",
   "execution_count": 308,
   "outputs": [
    {
     "name": "stdout",
     "output_type": "stream",
     "text": [
      "----------------------------------\n",
      "dim=10 (nonlin_sem=True)\tMCC=0.944+0.032\tAcc(order):0.067\t  Acc:0.839\tSHD:0.161333\t[30 items]\n",
      "----------------------------------\n",
      "dim=10 (nonlin_sem=False)\tMCC=0.985+0.027\tAcc(order):0.767\t  Acc:0.969\tSHD:0.030667\t[30 items]\n"
     ]
    }
   ],
   "source": [
    "learning_stats(df10d, true_unmix_jacobians10d, est_unmix_jacobians10d, permute_indices10d, 1e-3)"
   ],
   "metadata": {
    "collapsed": false
   }
  },
  {
   "cell_type": "markdown",
   "source": [
    "### MLP from Monti et al."
   ],
   "metadata": {
    "collapsed": false
   }
  },
  {
   "cell_type": "code",
   "execution_count": 309,
   "outputs": [
    {
     "name": "stdout",
     "output_type": "stream",
     "text": [
      "----------------------------------\n",
      "dim=6 (n_mixing_layer=5)\tMCC=0.848+0.020\tAcc(order):0.000\t  Acc:0.839\tSHD:0.161111\t[5 items]\n",
      "----------------------------------\n",
      "dim=6 (n_mixing_layer=4)\tMCC=0.833+0.014\tAcc(order):0.000\t  Acc:0.817\tSHD:0.183333\t[5 items]\n",
      "----------------------------------\n",
      "dim=6 (n_mixing_layer=3)\tMCC=0.932+0.087\tAcc(order):0.000\t  Acc:0.900\tSHD:0.100000\t[5 items]\n",
      "----------------------------------\n",
      "dim=6 (n_mixing_layer=2)\tMCC=0.999+0.000\tAcc(order):0.000\t  Acc:1.000\tSHD:0.005556\t[5 items]\n",
      "----------------------------------\n",
      "dim=6 (n_mixing_layer=1)\tMCC=1.000+0.000\tAcc(order):0.000\t  Acc:1.000\tSHD:0.000000\t[5 items]\n"
     ]
    }
   ],
   "source": [
    "learning_stats(df_monti, true_unmix_jacobians_monti, est_unmix_jacobians_monti, permute_indices_monti, selector_col=\"n_mixing_layer\", weight_threshold=None, hamming_threshold=1e-3, dag_permute=False)"
   ],
   "metadata": {
    "collapsed": false
   }
  },
  {
   "cell_type": "markdown",
   "source": [
    "# Plots"
   ],
   "metadata": {
    "collapsed": false
   }
  },
  {
   "cell_type": "markdown",
   "source": [
    "## Corrected stats"
   ],
   "metadata": {
    "collapsed": false
   }
  },
  {
   "cell_type": "markdown",
   "source": [
    "### Nonlinear"
   ],
   "metadata": {
    "collapsed": false
   }
  },
  {
   "cell_type": "code",
   "execution_count": 301,
   "outputs": [],
   "source": [
    "\"\"\"NL\"\"\"\n",
    "selector = False\n",
    "\n",
    "metric = \"thresholds\"\n",
    "thresholds = torch.stack([stats3d[3][selector][metric], stats5d[5][selector][metric],stats8d[8][selector][metric],stats10d[10][selector][metric]])\n",
    "\n",
    "metric = \"precisions\"\n",
    "precisions_nl = torch.stack([stats3d[3][selector][metric], stats5d[5][selector][metric],stats8d[8][selector][metric],stats10d[10][selector][metric]])\n",
    "\n",
    "metric = \"recalls\"\n",
    "recalls_nl = torch.stack([stats3d[3][selector][metric], stats5d[5][selector][metric],stats8d[8][selector][metric],stats10d[10][selector][metric]])"
   ],
   "metadata": {
    "collapsed": false
   }
  },
  {
   "cell_type": "code",
   "execution_count": 302,
   "outputs": [
    {
     "data": {
      "text/plain": "[<matplotlib.lines.Line2D at 0x15ee6d3a0>,\n <matplotlib.lines.Line2D at 0x15ee73940>,\n <matplotlib.lines.Line2D at 0x15ee738b0>,\n <matplotlib.lines.Line2D at 0x15ee73d60>]"
     },
     "execution_count": 302,
     "metadata": {},
     "output_type": "execute_result"
    },
    {
     "data": {
      "text/plain": "<Figure size 396x244.741 with 1 Axes>",
      "image/png": "[encoded data removed]"
     },
     "metadata": {
      "needs_background": "light"
     },
     "output_type": "display_data"
    }
   ],
   "source": [
    "plt.plot(thresholds.T, recalls_nl.T)"
   ],
   "metadata": {
    "collapsed": false
   }
  },
  {
   "cell_type": "markdown",
   "source": [
    "### Linear"
   ],
   "metadata": {
    "collapsed": false
   }
  },
  {
   "cell_type": "code",
   "execution_count": 303,
   "outputs": [],
   "source": [
    "\"\"\"Linear\"\"\"\n",
    "selector = True\n",
    "\n",
    "# thresholds are the same\n",
    "\n",
    "metric = \"precisions\"\n",
    "precisions_lin = torch.stack([stats3d[3][selector][metric], stats5d[5][selector][metric],stats8d[8][selector][metric],stats10d[10][selector][metric]])\n",
    "\n",
    "metric = \"recalls\"\n",
    "recalls_lin = torch.stack([stats3d[3][selector][metric], stats5d[5][selector][metric],stats8d[8][selector][metric],stats10d[10][selector][metric]])"
   ],
   "metadata": {
    "collapsed": false
   }
  },
  {
   "cell_type": "code",
   "execution_count": 124,
   "outputs": [
    {
     "data": {
      "text/plain": "[<matplotlib.lines.Line2D at 0x16d24dee0>,\n <matplotlib.lines.Line2D at 0x16d24de50>,\n <matplotlib.lines.Line2D at 0x16d24dfa0>,\n <matplotlib.lines.Line2D at 0x16d25b220>]"
     },
     "execution_count": 124,
     "metadata": {},
     "output_type": "execute_result"
    },
    {
     "data": {
      "text/plain": "<Figure size 396x244.741 with 1 Axes>",
      "image/png": "[encoded data removed]"
     },
     "metadata": {
      "needs_background": "light"
     },
     "output_type": "display_data"
    }
   ],
   "source": [
    "plt.plot(thresholds.T, recalls_lin.T)"
   ],
   "metadata": {
    "collapsed": false
   }
  },
  {
   "cell_type": "markdown",
   "source": [
    "### Both"
   ],
   "metadata": {
    "collapsed": false
   }
  },
  {
   "cell_type": "code",
   "execution_count": 311,
   "outputs": [
    {
     "data": {
      "text/plain": "<Figure size 396x244.741 with 1 Axes>",
      "image/png": "[encoded data removed]"
     },
     "metadata": {
      "needs_background": "light"
     },
     "output_type": "display_data"
    }
   ],
   "source": [
    "TICK_PADDING = 2\n",
    "LABELPAD = 3\n",
    "DIMS = [3,5,8,10]\n",
    "COLORS = [\"tab:blue\",\"tab:orange\",\"tab:green\",\"tab:red\"]\n",
    "\n",
    "\n",
    "fig = plt.figure(figsize=figsizes.neurips2022(nrows=1, ncols=1)['figure.figsize'])\n",
    "\n",
    "ax = fig.add_subplot(111)\n",
    "ax.grid(True, which=\"both\", ls=\"-.\")\n",
    "ax.set_axisbelow(True)\n",
    "\n",
    "for rec_nl, c in zip(recalls_nl, COLORS):\n",
    "    im = ax.plot(thresholds[0,:], rec_nl, c=c)\n",
    "for rec_lin, c in zip(recalls_lin, COLORS):\n",
    "    im = ax.plot(thresholds[0,:], rec_lin, c=c, ls=\"--\")\n",
    "# ax.plot(np.linspace(.85, 6), -np.linspace(.85, 6), c=\"black\", label='$y=x^{-2}$')\n",
    "ax.set_ylabel(\"Recalls\", labelpad=LABELPAD)\n",
    "ax.set_xlabel(\"Thresholds\", labelpad=LABELPAD)\n",
    "plt.legend(DIMS)\n",
    "ax.tick_params(axis='both', which='major', pad=TICK_PADDING)\n",
    "\n",
    "# ax = fig.add_subplot(122)\n",
    "# ax.grid(True, which=\"both\", ls=\"-.\")\n",
    "# ax.set_axisbelow(True)\n",
    "\n",
    "# im = ax.plot(thresholds.T, recalls_lin.T, ls=\"--\", c=COLORS)\n",
    "# ax.plot(np.linspace(.85, 6), -np.linspace(.85, 6), c=\"black\", label='$y=x^{-2}$')\n",
    "# ax.set_ylabel(\"Recalls (Lin)\", labelpad=LABELPAD)\n",
    "ax.set_xlabel(\"Thresholds\", labelpad=LABELPAD)\n",
    "plt.legend(DIMS)\n",
    "ax.tick_params(axis='both', which='major', pad=TICK_PADDING)\n",
    "\n",
    "plt.savefig(\"recalls.svg\")"
   ],
   "metadata": {
    "collapsed": false
   }
  },
  {
   "cell_type": "markdown",
   "source": [
    "## Hinton diagram"
   ],
   "metadata": {
    "collapsed": false
   }
  },
  {
   "cell_type": "code",
   "execution_count": null,
   "outputs": [],
   "source": [
    "# Source: https://matplotlib.org/3.1.1/gallery/specialty_plots/hinton_demo.html\n",
    "\n",
    "def hinton(matrix, max_weight=None, ax=None):\n",
    "    \"\"\"Draw Hinton diagram for visualizing a weight matrix.\"\"\"\n",
    "    ax = ax if ax is not None else plt.gca()\n",
    "\n",
    "    if not max_weight:\n",
    "        max_weight = 2 ** np.ceil(np.log(np.abs(matrix).max()) / np.log(2))\n",
    "\n",
    "\n",
    "    ax.patch.set_facecolor('gray')\n",
    "    ax.set_aspect('equal', 'box')\n",
    "    ax.xaxis.set_major_locator(plt.NullLocator())\n",
    "    ax.yaxis.set_major_locator(plt.NullLocator())\n",
    "\n",
    "    for (x, y), w in np.ndenumerate(matrix):\n",
    "        color = BLUE if w > 0 else RED\n",
    "        size = np.sqrt(np.abs(w) / max_weight)\n",
    "        rect = plt.Rectangle([x - size / 2, y - size / 2], size, size,\n",
    "                             facecolor=color, edgecolor=color)\n",
    "        ax.add_patch(rect)\n",
    "\n",
    "    ax.autoscale_view()"
   ],
   "metadata": {
    "collapsed": false
   }
  },
  {
   "cell_type": "code",
   "execution_count": 260,
   "outputs": [],
   "source": [
    "from notebooks.analysis import perm2matrix"
   ],
   "metadata": {
    "collapsed": false
   }
  },
  {
   "cell_type": "markdown",
   "source": [],
   "metadata": {
    "collapsed": false
   }
  },
  {
   "cell_type": "code",
   "execution_count": 249,
   "outputs": [],
   "source": [
    "idx = -1\n",
    "j_est = est_unmix_jacobians3d[idx]\n",
    "j_gt = true_unmix_jacobians3d[idx]\n",
    "j_p= permute_indices3d[idx]\n",
    "j_pm= perm2matrix(j_p)\n",
    "# j_gt_p = j_pm.numpy() @ j_gt\n",
    "j_est_corr = correct_ica_scale_permutation(torch.from_numpy(j_est.astype(np.float32)),j_pm,torch.from_numpy(j_gt.astype(np.float32))).numpy()"
   ],
   "metadata": {
    "collapsed": false
   }
  },
  {
   "cell_type": "code",
   "execution_count": 250,
   "outputs": [
    {
     "data": {
      "text/plain": "array([[ 1.5320351 , -0.01130555, -0.00469695],\n       [ 1.5820673 ,  1.8025558 , -0.01033536],\n       [ 1.96809   ,  1.4212089 ,  1.5321796 ]], dtype=float32)"
     },
     "execution_count": 250,
     "metadata": {},
     "output_type": "execute_result"
    }
   ],
   "source": [
    "j_est_corr"
   ],
   "metadata": {
    "collapsed": false
   }
  },
  {
   "cell_type": "code",
   "execution_count": 318,
   "outputs": [
    {
     "data": {
      "text/plain": "[array([[ 0.00252052,  0.        ,  0.        ,  0.        ,  0.        ,\n          0.        ],\n        [-0.01277678,  0.00205859,  0.        ,  0.        ,  0.        ,\n          0.        ],\n        [ 0.03138999, -0.01081219,  0.0021257 ,  0.        ,  0.        ,\n          0.        ],\n        [-0.07721966,  0.03315201, -0.01093221,  0.00156558,  0.        ,\n          0.        ],\n        [ 0.14143941, -0.06895113,  0.02950584, -0.00946515,  0.00222511,\n          0.        ],\n        [-0.20769876,  0.10927062, -0.05303581,  0.02336621, -0.00951978,\n          0.0020853 ]]),\n array([[ 0.00163575,  0.        ,  0.        ,  0.        ,  0.        ,\n          0.        ],\n        [-0.00963337,  0.00209877,  0.        ,  0.        ,  0.        ,\n          0.        ],\n        [ 0.02328577, -0.00941281,  0.00175942,  0.        ,  0.        ,\n          0.        ],\n        [-0.04222301,  0.02079622, -0.00729232,  0.00161148,  0.        ,\n          0.        ],\n        [ 0.06250732, -0.03641587,  0.02138271, -0.00952214,  0.00187267,\n          0.        ],\n        [-0.06666381,  0.04598705, -0.03661353,  0.02003768, -0.00807455,\n          0.00153581]]),\n array([[ 0.00227593,  0.        ,  0.        ,  0.        ,  0.        ,\n          0.        ],\n        [-0.01149929,  0.00190383,  0.        ,  0.        ,  0.        ,\n          0.        ],\n        [ 0.02729015, -0.00949088,  0.0018295 ,  0.        ,  0.        ,\n          0.        ],\n        [-0.05900376,  0.02565254, -0.00934843,  0.00177942,  0.        ,\n          0.        ],\n        [ 0.12370641, -0.05554504,  0.02377013, -0.0086922 ,  0.00149833,\n          0.        ],\n        [-0.19902939,  0.094928  , -0.0474802 ,  0.02860563, -0.00940733,\n          0.0026371 ]]),\n array([[ 0.00281313,  0.        ,  0.        ,  0.        ,  0.        ,\n          0.        ],\n        [-0.01026158,  0.00169307,  0.        ,  0.        ,  0.        ,\n          0.        ],\n        [ 0.01927074, -0.00944822,  0.00197611,  0.        ,  0.        ,\n          0.        ],\n        [-0.01795707,  0.0244201 , -0.0110508 ,  0.00207841,  0.        ,\n          0.        ],\n        [ 0.02110207, -0.04435609,  0.02481933, -0.0094498 ,  0.00226469,\n          0.        ],\n        [-0.00431415,  0.03737515, -0.02956408,  0.02243288, -0.01110686,\n          0.00211053]]),\n array([[ 0.00200162,  0.        ,  0.        ,  0.        ,  0.        ,\n          0.        ],\n        [-0.01235034,  0.0026303 ,  0.        ,  0.        ,  0.        ,\n          0.        ],\n        [ 0.03734965, -0.01365477,  0.00243561,  0.        ,  0.        ,\n          0.        ],\n        [-0.05564582,  0.02971814, -0.01135107,  0.00199348,  0.        ,\n          0.        ],\n        [ 0.0171087 , -0.02862528,  0.02216466, -0.00924047,  0.00216919,\n          0.        ],\n        [-0.04791294,  0.08699273, -0.06696821,  0.03292398, -0.01361552,\n          0.00236833]]),\n array([[ 0.00833504,  0.        ,  0.        ,  0.        ,  0.        ,\n          0.        ],\n        [-0.03443881,  0.00756009,  0.        ,  0.        ,  0.        ,\n          0.        ],\n        [ 0.06277008, -0.03206837,  0.00653414,  0.        ,  0.        ,\n          0.        ],\n        [-0.12411579,  0.08246294, -0.02773642,  0.0059375 ,  0.        ,\n          0.        ],\n        [ 0.18140589, -0.13926993,  0.05522074, -0.0277339 ,  0.00864482,\n          0.        ],\n        [-0.22608414,  0.17682981, -0.07544553,  0.05369294, -0.02888571,\n          0.00720267]]),\n array([[ 0.00707036,  0.        ,  0.        ,  0.        ,  0.        ,\n          0.        ],\n        [-0.03404444,  0.00979507,  0.        ,  0.        ,  0.        ,\n          0.        ],\n        [ 0.08980781, -0.04265706,  0.00906709,  0.        ,  0.        ,\n          0.        ],\n        [-0.11731745,  0.07248828, -0.03577004,  0.00672501,  0.        ,\n          0.        ],\n        [ 0.00304279, -0.02386477,  0.05244465, -0.02329448,  0.00700981,\n          0.        ],\n        [-0.00254357,  0.05537167, -0.14217061,  0.06161968, -0.03593755,\n          0.00946399]]),\n array([[ 0.00924068,  0.        ,  0.        ,  0.        ,  0.        ,\n          0.        ],\n        [-0.02709067,  0.00548481,  0.        ,  0.        ,  0.        ,\n          0.        ],\n        [ 0.03363167, -0.0231747 ,  0.0063979 ,  0.        ,  0.        ,\n          0.        ],\n        [-0.00412571,  0.04489026, -0.02935557,  0.00797133,  0.        ,\n          0.        ],\n        [-0.01289875, -0.08374567,  0.0594819 , -0.02941119,  0.00795381,\n          0.        ],\n        [ 0.02333721,  0.08918788, -0.06723985,  0.0596799 , -0.03069975,\n          0.00662184]]),\n array([[ 0.00748108,  0.        ,  0.        ,  0.        ,  0.        ,\n          0.        ],\n        [-0.03115167,  0.0070204 ,  0.        ,  0.        ,  0.        ,\n          0.        ],\n        [ 0.05656741, -0.02823376,  0.0066844 ,  0.        ,  0.        ,\n          0.        ],\n        [-0.09776612,  0.06003106, -0.02787328,  0.00580069,  0.        ,\n          0.        ],\n        [ 0.18615039, -0.11135805,  0.06210623, -0.02279494,  0.00595264,\n          0.        ],\n        [-0.24261591,  0.14921926, -0.10982556,  0.05846339, -0.02839366,\n          0.00899258]]),\n array([[ 0.00584436,  0.        ,  0.        ,  0.        ,  0.        ,\n          0.        ],\n        [-0.02629712,  0.00691215,  0.        ,  0.        ,  0.        ,\n          0.        ],\n        [ 0.04677168, -0.02543658,  0.00684103,  0.        ,  0.        ,\n          0.        ],\n        [-0.07038066,  0.05071851, -0.02334778,  0.00616234,  0.        ,\n          0.        ],\n        [ 0.08858143, -0.08356199,  0.05355816, -0.03050969,  0.00693781,\n          0.        ],\n        [-0.08683456,  0.101427  , -0.08011011,  0.05624661, -0.02473909,\n          0.00613303]]),\n array([[ 0.02543239,  0.        ,  0.        ,  0.        ,  0.        ,\n          0.        ],\n        [-0.0820701 ,  0.0264983 ,  0.        ,  0.        ,  0.        ,\n          0.        ],\n        [ 0.11589089, -0.08740737,  0.02365853,  0.        ,  0.        ,\n          0.        ],\n        [-0.2028759 ,  0.20187595, -0.08183219,  0.02373963,  0.        ,\n          0.        ],\n        [ 0.26198187, -0.33346146,  0.13925122, -0.07944313,  0.0318104 ,\n          0.        ],\n        [-0.34599978,  0.41951728, -0.16543655,  0.10961136, -0.08416677,\n          0.02177743]]),\n array([[ 0.02957703,  0.        ,  0.        ,  0.        ,  0.        ,\n          0.        ],\n        [-0.09676855,  0.02758928,  0.        ,  0.        ,  0.        ,\n          0.        ],\n        [ 0.14029546, -0.08530274,  0.02567307,  0.        ,  0.        ,\n          0.        ],\n        [-0.23299378,  0.14964411, -0.08396046,  0.02132439,  0.        ,\n          0.        ],\n        [ 0.45704287, -0.28061521,  0.17130563, -0.06526227,  0.02085436,\n          0.        ],\n        [-0.62744129,  0.40765554, -0.30125841,  0.12650646, -0.06458309,\n          0.02919345]]),\n array([[ 0.02263952,  0.        ,  0.        ,  0.        ,  0.        ,\n          0.        ],\n        [-0.07932462,  0.02533367,  0.        ,  0.        ,  0.        ,\n          0.        ],\n        [ 0.12235021, -0.06741812,  0.02426537,  0.        ,  0.        ,\n          0.        ],\n        [-0.16601254,  0.09780324, -0.06423473,  0.02146207,  0.        ,\n          0.        ],\n        [ 0.14287813, -0.10420185,  0.09797966, -0.08060839,  0.0265194 ,\n          0.        ],\n        [-0.07310712,  0.06950489, -0.11455806,  0.124638  , -0.07049136,\n          0.02301562]]),\n array([[ 0.02705465,  0.        ,  0.        ,  0.        ,  0.        ,\n          0.        ],\n        [-0.09573051,  0.0309639 ,  0.        ,  0.        ,  0.        ,\n          0.        ],\n        [ 0.19322772, -0.10515141,  0.03079673,  0.        ,  0.        ,\n          0.        ],\n        [-0.16874701,  0.13227752, -0.0990052 ,  0.02506599,  0.        ,\n          0.        ],\n        [-0.13608985,  0.02607914,  0.10023154, -0.06072994,  0.02224275,\n          0.        ],\n        [ 0.30043229, -0.07323629, -0.24719757,  0.13247241, -0.07764129,\n          0.03194093]]),\n array([[ 0.07856568,  0.        ,  0.        ,  0.        ,  0.        ,\n          0.        ],\n        [-0.18121503,  0.09488077,  0.        ,  0.        ,  0.        ,\n          0.        ],\n        [ 0.17426592, -0.17232238,  0.07476456,  0.        ,  0.        ,\n          0.        ],\n        [-0.21296628,  0.15405987, -0.1332617 ,  0.07134139,  0.        ,\n          0.        ],\n        [ 0.10892496, -0.06652822,  0.14990495, -0.17216158,  0.09810945,\n          0.        ],\n        [ 0.09367435, -0.03191015, -0.14761382,  0.15969554, -0.1801274 ,\n          0.08636627]]),\n array([[ 0.08484331,  0.        ,  0.        ,  0.        ,  0.        ,\n          0.        ],\n        [-0.17001216,  0.08837681,  0.        ,  0.        ,  0.        ,\n          0.        ],\n        [ 0.12597428, -0.19886836,  0.07860257,  0.        ,  0.        ,\n          0.        ],\n        [-0.16869196,  0.35282308, -0.18278402,  0.09204967,  0.        ,\n          0.        ],\n        [ 0.15315908, -0.56682122,  0.28237587, -0.1920971 ,  0.09724702,\n          0.        ],\n        [-0.28483906,  0.82883817, -0.45016405,  0.20407595, -0.18801183,\n          0.07451917]]),\n array([[ 0.02983629,  0.        ,  0.        ,  0.        ,  0.        ,\n          0.        ],\n        [-0.0675417 ,  0.02123429,  0.        ,  0.        ,  0.        ,\n          0.        ],\n        [ 0.04874641, -0.06479313,  0.02122832,  0.        ,  0.        ,\n          0.        ],\n        [ 0.03801394,  0.05941892, -0.07343248,  0.02798531,  0.        ,\n          0.        ],\n        [-0.11945598, -0.09247112,  0.14028418, -0.07682312,  0.02798779,\n          0.        ],\n        [ 0.16566941,  0.10961507, -0.16469368,  0.10749947, -0.08486775,\n          0.0218579 ]]),\n array([[ 0.08827247,  0.        ,  0.        ,  0.        ,  0.        ,\n          0.        ],\n        [-0.18970199,  0.09339228,  0.        ,  0.        ,  0.        ,\n          0.        ],\n        [ 0.21396761, -0.22163668,  0.10693795,  0.        ,  0.        ,\n          0.        ],\n        [ 0.05667894,  0.19165054, -0.24861151,  0.09997889,  0.        ,\n          0.        ],\n        [-0.45661694,  0.14785975,  0.11745799, -0.17498118,  0.08012726,\n          0.        ],\n        [ 0.83033204, -0.3630257 , -0.23592588,  0.29364523, -0.18236855,\n          0.09654572]]),\n array([[ 0.08880074,  0.        ,  0.        ,  0.        ,  0.        ,\n          0.        ],\n        [-0.18289609,  0.08804581,  0.        ,  0.        ,  0.        ,\n          0.        ],\n        [ 0.088415  , -0.18250127,  0.08998424,  0.        ,  0.        ,\n          0.        ],\n        [-0.11570582,  0.24971499, -0.20974651,  0.080593  ,  0.        ,\n          0.        ],\n        [ 0.34480801, -0.49756637,  0.34171063, -0.17309089,  0.08000936,\n          0.        ],\n        [-0.50209653,  0.72569889, -0.55440807,  0.25031045, -0.1569659 ,\n          0.09033018]]),\n array([[ 0.28396425,  0.        ,  0.        ,  0.        ,  0.        ,\n          0.        ],\n        [-0.26348501,  0.26931694,  0.        ,  0.        ,  0.        ,\n          0.        ],\n        [ 0.0337297 , -0.30576998,  0.30513459,  0.        ,  0.        ,\n          0.        ],\n        [-0.04158295,  0.3769621 , -0.37617874,  0.32214934,  0.        ,\n          0.        ],\n        [-0.00836741, -0.64866048,  0.40043983, -0.34292588,  0.29854646,\n          0.        ],\n        [-0.27955624,  1.03915668, -0.76778442,  0.37395796, -0.32556254,\n          0.28925845]]),\n array([[ 0.08967361,  0.        ,  0.        ,  0.        ,  0.        ,\n          0.        ],\n        [-0.13168333,  0.06616329,  0.        ,  0.        ,  0.        ,\n          0.        ],\n        [-0.00081067, -0.13129888,  0.07917333,  0.        ,  0.        ,\n          0.        ],\n        [ 0.15797737,  0.04488138, -0.16862755,  0.09966344,  0.        ,\n          0.        ],\n        [-0.34617382, -0.01099098,  0.23428953, -0.18660539,  0.08484297,\n          0.        ],\n        [ 0.35715222, -0.02111639, -0.20996019,  0.19009839, -0.18272679,\n          0.08208846]]),\n array([[ 0.26000309,  0.        ,  0.        ,  0.        ,  0.        ,\n          0.        ],\n        [-0.2377709 ,  0.29790828,  0.        ,  0.        ,  0.        ,\n          0.        ],\n        [ 0.1949223 , -0.24422234,  0.27083454,  0.        ,  0.        ,\n          0.        ],\n        [-0.38029727,  0.21177892, -0.23485586,  0.26956213,  0.        ,\n          0.        ],\n        [ 0.10906468, -0.23427176,  0.25979966, -0.29819208,  0.31958669,\n          0.        ],\n        [ 0.1545136 , -0.11064406, -0.22075096,  0.25337291, -0.27155182,\n          0.27584118]]),\n array([[ 0.3181558 ,  0.        ,  0.        ,  0.        ,  0.        ,\n          0.        ],\n        [-0.35266355,  0.3060579 ,  0.        ,  0.        ,  0.        ,\n          0.        ],\n        [ 0.01513198, -0.28870741,  0.28964752,  0.        ,  0.        ,\n          0.        ],\n        [-0.01848584,  0.35269669, -0.35384521,  0.30598122,  0.        ,\n          0.        ],\n        [ 0.12434436, -0.77659595,  0.40985736, -0.35441673,  0.30780783,\n          0.        ],\n        [-0.10345834,  0.77681553, -0.78665018,  0.35639775, -0.30952835,\n          0.32543388]]),\n array([[ 0.29593691,  0.        ,  0.        ,  0.        ,  0.        ,\n          0.        ],\n        [-0.29759651,  0.30350304,  0.        ,  0.        ,  0.        ,\n          0.        ],\n        [ 0.31119037, -0.31736669,  0.33011174,  0.        ,  0.        ,\n          0.        ],\n        [-0.03831794,  0.03907846, -0.39802134,  0.33311692,  0.        ,\n          0.        ],\n        [-0.29941049,  0.30535302,  0.00545266, -0.30114013,  0.27766705,\n          0.        ],\n        [ 0.33369884, -0.66094315, -0.00609914,  0.33684525, -0.31058905,\n          0.33134657]]),\n array([[ 0.29633665,  0.        ,  0.        ,  0.        ,  0.        ,\n          0.        ],\n        [-0.23439755,  0.25865349,  0.        ,  0.        ,  0.        ,\n          0.        ],\n        [-0.12028594, -0.261134  ,  0.31428501,  0.        ,  0.        ,\n          0.        ],\n        [ 0.06016894,  0.02926896, -0.36157143,  0.31852266,  0.        ,\n          0.        ],\n        [-0.05885951, -0.02863199,  0.35370269, -0.31159082,  0.2783643 ,\n          0.        ],\n        [ 0.01013886, -0.00570155, -0.24633732, -0.00581743, -0.28985694,\n          0.26257762]])]"
     },
     "execution_count": 318,
     "metadata": {},
     "output_type": "execute_result"
    }
   ],
   "source": [
    "true_unmix_jacobians_monti"
   ],
   "metadata": {
    "collapsed": false
   }
  }
 ],
 "metadata": {
  "kernelspec": {
   "display_name": "Python 3 (ipykernel)",
   "language": "python",
   "name": "python3"
  },
  "language_info": {
   "codemirror_mode": {
    "name": "ipython",
    "version": 3
   },
   "file_extension": ".py",
   "mimetype": "text/x-python",
   "name": "python",
   "nbconvert_exporter": "python",
   "pygments_lexer": "ipython3",
   "version": "3.9.6"
  }
 },
 "nbformat": 4,
 "nbformat_minor": 1
}
